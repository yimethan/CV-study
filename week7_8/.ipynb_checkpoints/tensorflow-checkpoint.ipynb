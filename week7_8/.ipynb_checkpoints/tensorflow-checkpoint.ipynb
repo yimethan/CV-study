{
 "cells": [
  {
   "cell_type": "code",
   "execution_count": 1,
   "id": "3ffaad7b",
   "metadata": {},
   "outputs": [],
   "source": [
    "import numpy as np\n",
    "import tensorflow as tf"
   ]
  },
  {
   "cell_type": "code",
   "execution_count": 2,
   "id": "b3779310",
   "metadata": {},
   "outputs": [
    {
     "name": "stdout",
     "output_type": "stream",
     "text": [
      "<tf.Variable 'Variable:0' shape=() dtype=float32, numpy=0.0>\n"
     ]
    }
   ],
   "source": [
    "w = tf.Variable(0, dtype=tf.float32)\n",
    "optimizer = tf.keras.optimizers.Adam(0.1) # 0.1 learning rate\n",
    "\n",
    "# a single training step\n",
    "def train_step():\n",
    "    with tf.GradientTape() as tape:\n",
    "        cost = w ** 2 - 10 * w + 25 # (w-5) ** 2 = 0, w = 5\n",
    "    # only have to implement forward prop (write the code to compute value of cost func)\n",
    "    # tensorflow can figure out how to do back prop / gradient computation\n",
    "    # by using gradient tape\n",
    "    # - records sequence of operations as computing cost func in forward prop step and can revisit operations in reverse order\n",
    "    trainable_variables = [w]\n",
    "    grads = tape.gradient(cost, trainable_variables)\n",
    "    optimizer.apply_gradients(zip(grads, trainable_variables)) # pair list of grads - trainable_variables\n",
    "\n",
    "print(w) # init val\n",
    "# <tf.Variable 'Variable:0' shape=() dtype=float32, numpy=0.0>"
   ]
  },
  {
   "cell_type": "code",
   "execution_count": 3,
   "id": "3ccf6020",
   "metadata": {},
   "outputs": [
    {
     "name": "stdout",
     "output_type": "stream",
     "text": [
      "<tf.Variable 'Variable:0' shape=() dtype=float32, numpy=0.09999997>\n"
     ]
    }
   ],
   "source": [
    "train_step()\n",
    "\n",
    "print(w) # <tf.Variable 'Variable:0' shape=() dtype=float32, numpy=0.09999997>\n",
    "# w increased little bit"
   ]
  },
  {
   "cell_type": "code",
   "execution_count": 4,
   "id": "c81a9bf9",
   "metadata": {},
   "outputs": [
    {
     "name": "stdout",
     "output_type": "stream",
     "text": [
      "<tf.Variable 'Variable:0' shape=() dtype=float32, numpy=5.000001>\n"
     ]
    }
   ],
   "source": [
    "# running 1000 iterations fo train_step()\n",
    "for i in range(1000):\n",
    "    train_step()\n",
    "    \n",
    "print(w) # <tf.Variable 'Variable:0' shape=() dtype=float32, numpy=5.000001>\n",
    "# w nearly 5: which is the min of cost func"
   ]
  },
  {
   "cell_type": "code",
   "execution_count": null,
   "id": "580e1d5d",
   "metadata": {},
   "outputs": [],
   "source": []
  },
  {
   "cell_type": "code",
   "execution_count": 6,
   "id": "0c2b2b4a",
   "metadata": {},
   "outputs": [
    {
     "name": "stdout",
     "output_type": "stream",
     "text": [
      "<tf.Variable 'Variable:0' shape=() dtype=float32, numpy=0.0>\n"
     ]
    }
   ],
   "source": [
    "w = tf.Variable(0, dtype=tf.float32)\n",
    "x = np.array([1.0, -10.0, 25.0], dtype=np.float32) # coefficients of quadratic cost func\n",
    "optimizer = tf.keras.optimizers.Adam(0.1) # 0.1 learning rate\n",
    "\n",
    "def cost_fn():\n",
    "    return x[0] * w ** 2 + x[1] * w + x[2]\n",
    "\n",
    "print(w) # init val\n",
    "# <tf.Variable 'Variable:0' shape=() dtype=float32, numpy=0.0>"
   ]
  },
  {
   "cell_type": "code",
   "execution_count": null,
   "id": "7909bc08",
   "metadata": {},
   "outputs": [],
   "source": []
  }
 ],
 "metadata": {
  "kernelspec": {
   "display_name": "Python 3 (ipykernel)",
   "language": "python",
   "name": "python3"
  },
  "language_info": {
   "codemirror_mode": {
    "name": "ipython",
    "version": 3
   },
   "file_extension": ".py",
   "mimetype": "text/x-python",
   "name": "python",
   "nbconvert_exporter": "python",
   "pygments_lexer": "ipython3",
   "version": "3.10.2"
  }
 },
 "nbformat": 4,
 "nbformat_minor": 5
}
