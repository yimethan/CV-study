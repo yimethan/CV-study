{
 "cells": [
  {
   "cell_type": "code",
   "execution_count": null,
   "id": "0968c0e3",
   "metadata": {
    "scrolled": true
   },
   "outputs": [],
   "source": [
    "import tensorflow as tf\n",
    "tf.__version__\n",
    "from tensorflow.python.client import device_lib\n",
    "device_lib.list_local_devices()"
   ]
  },
  {
   "cell_type": "code",
   "execution_count": null,
   "id": "151a9aad",
   "metadata": {},
   "outputs": [],
   "source": [
    "import os\n",
    "os.environ[\"CUDA_VISIBLE_DEVICES\"] = \"0\""
   ]
  },
  {
   "cell_type": "code",
   "execution_count": null,
   "id": "b0f7bc5c",
   "metadata": {},
   "outputs": [],
   "source": [
    "tf.debugging.set_log_device_placement(True)\n",
    "\n",
    "a = tf.constant([[1.0, 2.0, 3.0], [4.0, 5.0, 6.0]])\n",
    "b = tf.constant([[1.0, 2.0], [3.0, 4.0], [5.0, 6.0]])\n",
    "c = tf.matmul(a, b)\n",
    "print(c)"
   ]
  },
  {
   "cell_type": "code",
   "execution_count": null,
   "id": "45b15195",
   "metadata": {},
   "outputs": [],
   "source": [
    "import keras\n",
    "from keras.models import Sequential, Model\n",
    "from keras import layers, applications, optimizers\n",
    "from keras.layers import Conv2D, MaxPooling2D, Dropout, Flatten, Dense, Activation,GlobalMaxPooling2D\n",
    "from keras.preprocessing.image import ImageDataGenerator, load_img\n",
    "\n",
    "import numpy as np\n",
    "import pandas as pd\n",
    "import matplotlib.pyplot as plt\n",
    "import cv2\n",
    "import random"
   ]
  },
  {
   "cell_type": "code",
   "execution_count": null,
   "id": "ddbb1f8e",
   "metadata": {},
   "outputs": [],
   "source": [
    "epoch = 100\n",
    "batch_size = 5\n",
    "image_size = 224"
   ]
  },
  {
   "cell_type": "code",
   "execution_count": null,
   "id": "1fc4f7be",
   "metadata": {},
   "outputs": [],
   "source": [
    "#load train data(25000 imgs each)\n",
    "\n",
    "filenames = os.listdir('./input/train/train')\n",
    "data = []\n",
    "categories = []\n",
    "\n",
    "for filename in filenames:\n",
    "    category = filename.split('.')[0]\n",
    "    if category == 'dog':\n",
    "        categories.append(1)\n",
    "    else:\n",
    "        categories.append(0)\n",
    "    \n",
    "    image = keras.preprocessing.image.load_img(os.path.join('./input/train/train', filename),\n",
    "                                               color_mode='rgb',\n",
    "                                               target_size= (image_size,image_size))\n",
    "    image = np.array(image)\n",
    "    data.append(image)\n",
    "\n",
    "data = np.array(data)\n",
    "categories = np.array(categories)\n",
    "\n",
    "print(data)\n",
    "print(categories)"
   ]
  },
  {
   "cell_type": "code",
   "execution_count": null,
   "id": "dfc69b88",
   "metadata": {},
   "outputs": [],
   "source": [
    "# split train 6(15,000) / val 2(5,000) / test 2(5,000)\n",
    "\n",
    "x_train = data[15000:]\n",
    "y_train = categories[15000:]\n",
    "x_temp, y_temp = data[:-5000], categories[:-5000]\n",
    "\n",
    "from sklearn.model_selection import train_test_split\n",
    "\n",
    "x_val, x_test, y_val, y_test = train_test_split(x_temp, y_temp, test_size=0.5)\n",
    "\n",
    "print(x_train, y_train)\n",
    "print(x_temp, y_temp)\n",
    "print(x_test, y_test)"
   ]
  },
  {
   "cell_type": "code",
   "execution_count": null,
   "id": "89f4b23f",
   "metadata": {},
   "outputs": [],
   "source": [
    "def build_vgg_block(input_layer, num_cnn=3, channel=64, block_num=1):\n",
    "    x = input_layer\n",
    "    \n",
    "    for cnn_num in range(num_cnn):\n",
    "        x = keras.layers.Conv2D(\n",
    "            filters=channel,\n",
    "            kernel_size=(3,3),\n",
    "            activation='relu',\n",
    "            kernel_initializer='he_normal',\n",
    "            padding='same',\n",
    "            name=f'block{block_num}_conv{cnn_num}')(x)\n",
    "\n",
    "    x = keras.layers.MaxPooling2D(\n",
    "        pool_size=(2, 2),\n",
    "        strides=2,\n",
    "        name=f'block{block_num}_pooling')(x)\n",
    "\n",
    "    return x"
   ]
  },
  {
   "cell_type": "code",
   "execution_count": null,
   "id": "eb0f591e",
   "metadata": {},
   "outputs": [],
   "source": [
    "def build_vgg(input_shape=(image_size,image_size,3),\n",
    "              num_cnn_list=[2,2,3,3,3],\n",
    "              channel_list=[64,128,256,512,512],\n",
    "              num_classes=2):\n",
    "    input_layer = keras.layers.Input(shape=input_shape)\n",
    "    output = input_layer\n",
    "    \n",
    "    for i, (num_cnn, channel) in enumerate(zip(num_cnn_list, channel_list)):\n",
    "        output = build_vgg_block(\n",
    "            output,\n",
    "            num_cnn=num_cnn, \n",
    "            channel=channel,\n",
    "            block_num=i\n",
    "    )\n",
    "        \n",
    "    output = keras.layers.Flatten(name='flatten')(output)\n",
    "    output = keras.layers.Dense(4096, activation='relu', kernel_regularizer='l2', name='fc1')(output)\n",
    "    output = keras.layers.Dropout(0.5)(output)\n",
    "    output = keras.layers.Dense(4096, activation='relu', kernel_regularizer='l2', name='fc2')(output)\n",
    "    output = keras.layers.Dropout(0.5)(output)\n",
    "    output = keras.layers.Dense(num_classes, activation='softmax', name='predictions')(output)\n",
    "    \n",
    "    model = keras.Model(\n",
    "        inputs=input_layer, \n",
    "        outputs=output\n",
    "    )\n",
    "    return model"
   ]
  },
  {
   "cell_type": "code",
   "execution_count": null,
   "id": "c8c8bdc8",
   "metadata": {},
   "outputs": [],
   "source": [
    "%load_ext tensorboard\n",
    "\n",
    "import datetime"
   ]
  },
  {
   "cell_type": "code",
   "execution_count": null,
   "id": "8128a715",
   "metadata": {},
   "outputs": [],
   "source": [
    "model = build_vgg()"
   ]
  },
  {
   "cell_type": "code",
   "execution_count": null,
   "id": "3858fad9",
   "metadata": {},
   "outputs": [],
   "source": [
    "model.compile(\n",
    "    loss='sparse_categorical_crossentropy',\n",
    "    optimizer=tf.keras.optimizers.SGD(learning_rate=0.01, momentum=0.9, clipnorm=1.),\n",
    "    metrics=['accuracy']\n",
    ")"
   ]
  },
  {
   "cell_type": "code",
   "execution_count": null,
   "id": "a6b2dd6d",
   "metadata": {},
   "outputs": [],
   "source": [
    "model.summary()"
   ]
  },
  {
   "cell_type": "code",
   "execution_count": null,
   "id": "92ea648b",
   "metadata": {},
   "outputs": [],
   "source": [
    "log_dir = \"logs/vgg/\" + datetime.datetime.now().strftime(\"%Y%m%d-%H%M%S\")\n",
    "tensorboard_callback = tf.keras.callbacks.TensorBoard(log_dir=log_dir, histogram_freq=1)"
   ]
  },
  {
   "cell_type": "code",
   "execution_count": null,
   "id": "f94db7d6",
   "metadata": {},
   "outputs": [],
   "source": [
    "from keras.callbacks import EarlyStopping, ModelCheckpoint\n",
    "\n",
    "early_stopping = EarlyStopping(monitor='val_loss', mode='min', verbose=1, patience=10)\n",
    "model_checkpoint = ModelCheckpoint('best_model.h5', monitor='val_loss', mode='min', verbose=1, save_best_only=True)"
   ]
  },
  {
   "cell_type": "code",
   "execution_count": null,
   "id": "3eb98b3d",
   "metadata": {
    "scrolled": true
   },
   "outputs": [],
   "source": [
    "# without early stopping\n",
    "\n",
    "epoch = 50\n",
    "\n",
    "history = model.fit(\n",
    "    x_train, y_train,\n",
    "    epochs=epoch,\n",
    "    validation_data=(x_val, y_val),\n",
    "    #validation_steps=2500//batch_size,\n",
    "    #steps_per_epoch=22500//batch_size,\n",
    "    verbose=1,\n",
    "    #callbacks=[tensorboard_callback, early_stopping, model_checkpoint]\n",
    "    callbacks=[tensorboard_callback]\n",
    ")"
   ]
  },
  {
   "cell_type": "code",
   "execution_count": null,
   "id": "5ea5d9c7",
   "metadata": {
    "scrolled": true
   },
   "outputs": [],
   "source": [
    "%tensorboard --logdir logs/vgg"
   ]
  },
  {
   "cell_type": "code",
   "execution_count": null,
   "id": "15a903ff",
   "metadata": {},
   "outputs": [],
   "source": [
    "print('train loss:', history.history['loss'][-1])\n",
    "print('train accuracy:', history.history['accuracy'][-1])\n",
    "\n",
    "print('dev loss:', history.history['val_loss'][-1])\n",
    "print('dev accuracy:', history.history['val_accuracy'][-1])\n",
    "\n",
    "fig, axs = plt.subplots(1,2,figsize=(15,5))\n",
    "\n",
    "axs[0].plot(range(1,len(history.history['accuracy'])+1), history.history['accuracy'])\n",
    "axs[0].plot(range(1,len(history.history['val_accuracy'])+1),history.history['val_accuracy'])\n",
    "axs[0].set_title('Model Accuracy')\n",
    "axs[0].set_ylabel('Accuracy')\n",
    "axs[0].set_xlabel('Epoch')\n",
    "axs[0].legend(['train', 'val'], loc='best')\n",
    "\n",
    "axs[1].plot(range(1,len(history.history['loss'])+1),history.history['loss'])\n",
    "axs[1].plot(range(1,len(history.history['val_loss'])+1),history.history['val_loss'])\n",
    "axs[1].set_title('Model Loss')\n",
    "axs[1].set_ylabel('Loss')\n",
    "axs[1].set_xlabel('Epoch')\n",
    "axs[1].legend(['train', 'val'], loc='best')\n",
    "\n",
    "plt.show()"
   ]
  },
  {
   "cell_type": "code",
   "execution_count": null,
   "id": "fda9518f",
   "metadata": {},
   "outputs": [],
   "source": [
    "test_loss, test_acc = model.evaluate(x_test, y_test)"
   ]
  },
  {
   "cell_type": "code",
   "execution_count": null,
   "id": "8468a2ee",
   "metadata": {},
   "outputs": [],
   "source": [
    "print('test loss:', test_loss)\n",
    "print('test accuracy:', test_acc)"
   ]
  },
  {
   "cell_type": "code",
   "execution_count": null,
   "id": "e8cb355f",
   "metadata": {},
   "outputs": [],
   "source": [
    "predictions = model.predict(x_test)"
   ]
  },
  {
   "cell_type": "code",
   "execution_count": null,
   "id": "09358675",
   "metadata": {},
   "outputs": [],
   "source": [
    "print(predictions)\n",
    "\n",
    "y_pred = []\n",
    "\n",
    "for i in predictions:\n",
    "    if i[0] == 0:\n",
    "        y_pred.append(1)\n",
    "    else:\n",
    "        y_pred.append(0)"
   ]
  },
  {
   "cell_type": "code",
   "execution_count": null,
   "id": "e10277fd",
   "metadata": {},
   "outputs": [],
   "source": [
    "from sklearn.metrics import confusion_matrix\n",
    "\n",
    "confusion_mtx = confusion_matrix(y_test, y_pred)"
   ]
  },
  {
   "cell_type": "code",
   "execution_count": null,
   "id": "9823abb7",
   "metadata": {},
   "outputs": [],
   "source": [
    "import seaborn as sns\n",
    "\n",
    "f, ax = plt.subplots(figsize=(8, 8))\n",
    "sns.heatmap(confusion_mtx, annot=True, linewidths=0.01, cmap=\"Greens\",linecolor=\"gray\", fmt='.1f', ax=ax)\n",
    "plt.xlabel(\"Predicted Label\")\n",
    "plt.ylabel(\"True Label\")\n",
    "plt.title(\"Confusion Matrix\")\n",
    "plt.show()"
   ]
  },
  {
   "cell_type": "code",
   "execution_count": null,
   "id": "656a96be",
   "metadata": {},
   "outputs": [],
   "source": [
    "from sklearn.metrics import classification_report\n",
    "\n",
    "# Generate a classification report\n",
    "report = classification_report(y_test, y_pred, target_names=['cat', 'dog'])\n",
    "\n",
    "print(report)"
   ]
  },
  {
   "cell_type": "code",
   "execution_count": null,
   "id": "ddf5bab2",
   "metadata": {},
   "outputs": [],
   "source": []
  }
 ],
 "metadata": {
  "kernelspec": {
   "display_name": "Python 3",
   "language": "python",
   "name": "python3"
  },
  "language_info": {
   "codemirror_mode": {
    "name": "ipython",
    "version": 3
   },
   "file_extension": ".py",
   "mimetype": "text/x-python",
   "name": "python",
   "nbconvert_exporter": "python",
   "pygments_lexer": "ipython3",
   "version": "3.8.8"
  }
 },
 "nbformat": 4,
 "nbformat_minor": 5
}
