{
 "cells": [
  {
   "cell_type": "code",
   "execution_count": 1,
   "metadata": {
    "_cell_guid": "b1076dfc-b9ad-4769-8c92-a6c4dae69d19",
    "_uuid": "8f2839f25d086af736a60e9eeb907d3b93b6e0e5",
    "execution": {
     "iopub.execute_input": "2022-05-08T04:13:41.742736Z",
     "iopub.status.busy": "2022-05-08T04:13:41.741911Z",
     "iopub.status.idle": "2022-05-08T04:13:47.164743Z",
     "shell.execute_reply": "2022-05-08T04:13:47.164016Z",
     "shell.execute_reply.started": "2022-05-08T04:13:41.742633Z"
    }
   },
   "outputs": [],
   "source": [
    "import tensorflow as tf\n",
    "import keras\n",
    "from keras.models import Sequential, Model\n",
    "from keras import layers, applications, optimizers\n",
    "from keras.layers import Dropout, Flatten, Dense, GlobalAveragePooling2D\n",
    "from keras.preprocessing.image import ImageDataGenerator\n",
    "from tensorflow.keras.applications import EfficientNetB3\n",
    "\n",
    "import numpy as np\n",
    "import pandas as pd\n",
    "import matplotlib.pyplot as plt\n",
    "import os"
   ]
  },
  {
   "cell_type": "code",
   "execution_count": 2,
   "metadata": {
    "execution": {
     "iopub.execute_input": "2022-05-08T04:13:47.166699Z",
     "iopub.status.busy": "2022-05-08T04:13:47.166440Z",
     "iopub.status.idle": "2022-05-08T04:13:47.171840Z",
     "shell.execute_reply": "2022-05-08T04:13:47.171131Z",
     "shell.execute_reply.started": "2022-05-08T04:13:47.166665Z"
    }
   },
   "outputs": [],
   "source": [
    "image_size = 350\n",
    "batch_size = 16\n",
    "save_model_filename = 'effnet_(1).h5'"
   ]
  },
  {
   "cell_type": "code",
   "execution_count": 3,
   "metadata": {
    "execution": {
     "iopub.execute_input": "2022-05-08T04:13:47.173585Z",
     "iopub.status.busy": "2022-05-08T04:13:47.173310Z",
     "iopub.status.idle": "2022-05-08T04:13:47.211285Z",
     "shell.execute_reply": "2022-05-08T04:13:47.210666Z",
     "shell.execute_reply.started": "2022-05-08T04:13:47.173547Z"
    }
   },
   "outputs": [],
   "source": [
    "train = pd.read_csv('../input/cassava-leaf-disease-classification/train.csv')\n",
    "train_path = '../input/cassava-leaf-disease-classification/train_images'"
   ]
  },
  {
   "cell_type": "code",
   "execution_count": 4,
   "metadata": {
    "execution": {
     "iopub.execute_input": "2022-05-08T04:13:47.213506Z",
     "iopub.status.busy": "2022-05-08T04:13:47.213259Z",
     "iopub.status.idle": "2022-05-08T04:13:47.262727Z",
     "shell.execute_reply": "2022-05-08T04:13:47.262119Z",
     "shell.execute_reply.started": "2022-05-08T04:13:47.213472Z"
    }
   },
   "outputs": [],
   "source": [
    "def image_path(image):\n",
    "    return os.path.join(train_path,image)\n",
    "\n",
    "train['image_id'] = train['image_id'].apply(image_path)"
   ]
  },
  {
   "cell_type": "code",
   "execution_count": 5,
   "metadata": {
    "execution": {
     "iopub.execute_input": "2022-05-08T04:13:47.264008Z",
     "iopub.status.busy": "2022-05-08T04:13:47.263708Z",
     "iopub.status.idle": "2022-05-08T04:13:47.288860Z",
     "shell.execute_reply": "2022-05-08T04:13:47.288111Z",
     "shell.execute_reply.started": "2022-05-08T04:13:47.263972Z"
    }
   },
   "outputs": [],
   "source": [
    "train['label'] = train['label'].astype('str')"
   ]
  },
  {
   "cell_type": "code",
   "execution_count": 6,
   "metadata": {
    "execution": {
     "iopub.execute_input": "2022-05-08T04:13:47.290559Z",
     "iopub.status.busy": "2022-05-08T04:13:47.290182Z",
     "iopub.status.idle": "2022-05-08T04:13:47.297720Z",
     "shell.execute_reply": "2022-05-08T04:13:47.296743Z",
     "shell.execute_reply.started": "2022-05-08T04:13:47.290501Z"
    }
   },
   "outputs": [],
   "source": [
    "image_gen = ImageDataGenerator(preprocessing_function = tf.keras.applications.efficientnet.preprocess_input,\n",
    "                                horizontal_flip=True, vertical_flip=True, fill_mode='nearest', brightness_range=[0.7, 1.3],\n",
    "                                rotation_range=270, zoom_range=0.2, shear_range=10, width_shift_range=0.2, height_shift_range=0.2,\n",
    "                                validation_split=0.2, rescale = 1./255)\n",
    "\n",
    "test_gen = ImageDataGenerator(rescale=1./255)"
   ]
  },
  {
   "cell_type": "code",
   "execution_count": 7,
   "metadata": {
    "execution": {
     "iopub.execute_input": "2022-05-08T04:13:47.299515Z",
     "iopub.status.busy": "2022-05-08T04:13:47.299212Z",
     "iopub.status.idle": "2022-05-08T04:14:31.242939Z",
     "shell.execute_reply": "2022-05-08T04:14:31.242205Z",
     "shell.execute_reply.started": "2022-05-08T04:13:47.299478Z"
    }
   },
   "outputs": [
    {
     "name": "stdout",
     "output_type": "stream",
     "text": [
      "Found 17118 validated image filenames belonging to 5 classes.\n",
      "Found 4279 validated image filenames belonging to 5 classes.\n"
     ]
    }
   ],
   "source": [
    "train_generator = image_gen.flow_from_dataframe(dataframe=train, directory=None, x_col='image_id', y_col='label',\n",
    "                                                subset='training', batch_size=batch_size, seed=1,\n",
    "                                                shuffle=True, class_mode='categorical', target_size=(image_size,image_size))\n",
    "\n",
    "validation_generator = image_gen.flow_from_dataframe(dataframe=train, directory=None, x_col='image_id', y_col='label',\n",
    "                                                   subset='validation', batch_size=batch_size, seed=1,\n",
    "                                                   shuffle=False, class_mode='categorical', target_size=(image_size,image_size))"
   ]
  },
  {
   "cell_type": "code",
   "execution_count": 8,
   "metadata": {
    "execution": {
     "iopub.execute_input": "2022-05-08T04:14:31.244455Z",
     "iopub.status.busy": "2022-05-08T04:14:31.244043Z",
     "iopub.status.idle": "2022-05-08T04:14:31.251411Z",
     "shell.execute_reply": "2022-05-08T04:14:31.250572Z",
     "shell.execute_reply.started": "2022-05-08T04:14:31.244416Z"
    }
   },
   "outputs": [],
   "source": [
    "def build_efficientnet_b3():\n",
    "    model = Sequential()\n",
    "    model.add(EfficientNetB3(input_shape=(image_size,image_size,3), include_top=False, weights='imagenet'))\n",
    "    model.add(GlobalAveragePooling2D())\n",
    "    model.add(Dense(256, activation='relu'))\n",
    "    model.add(Dropout(0.5))\n",
    "    model.add(Dense(5, activation='softmax'))\n",
    "    \n",
    "    return model"
   ]
  },
  {
   "cell_type": "code",
   "execution_count": 9,
   "metadata": {
    "execution": {
     "iopub.execute_input": "2022-05-08T04:14:31.253247Z",
     "iopub.status.busy": "2022-05-08T04:14:31.252979Z",
     "iopub.status.idle": "2022-05-08T04:14:37.401335Z",
     "shell.execute_reply": "2022-05-08T04:14:37.400635Z",
     "shell.execute_reply.started": "2022-05-08T04:14:31.253211Z"
    }
   },
   "outputs": [
    {
     "name": "stderr",
     "output_type": "stream",
     "text": [
      "2022-05-08 04:14:31.362143: I tensorflow/stream_executor/cuda/cuda_gpu_executor.cc:937] successful NUMA node read from SysFS had negative value (-1), but there must be at least one NUMA node, so returning NUMA node zero\n",
      "2022-05-08 04:14:31.496759: I tensorflow/stream_executor/cuda/cuda_gpu_executor.cc:937] successful NUMA node read from SysFS had negative value (-1), but there must be at least one NUMA node, so returning NUMA node zero\n",
      "2022-05-08 04:14:31.497538: I tensorflow/stream_executor/cuda/cuda_gpu_executor.cc:937] successful NUMA node read from SysFS had negative value (-1), but there must be at least one NUMA node, so returning NUMA node zero\n",
      "2022-05-08 04:14:31.499300: I tensorflow/core/platform/cpu_feature_guard.cc:142] This TensorFlow binary is optimized with oneAPI Deep Neural Network Library (oneDNN) to use the following CPU instructions in performance-critical operations:  AVX2 AVX512F FMA\n",
      "To enable them in other operations, rebuild TensorFlow with the appropriate compiler flags.\n",
      "2022-05-08 04:14:31.499639: I tensorflow/stream_executor/cuda/cuda_gpu_executor.cc:937] successful NUMA node read from SysFS had negative value (-1), but there must be at least one NUMA node, so returning NUMA node zero\n",
      "2022-05-08 04:14:31.500330: I tensorflow/stream_executor/cuda/cuda_gpu_executor.cc:937] successful NUMA node read from SysFS had negative value (-1), but there must be at least one NUMA node, so returning NUMA node zero\n",
      "2022-05-08 04:14:31.501007: I tensorflow/stream_executor/cuda/cuda_gpu_executor.cc:937] successful NUMA node read from SysFS had negative value (-1), but there must be at least one NUMA node, so returning NUMA node zero\n",
      "2022-05-08 04:14:33.363621: I tensorflow/stream_executor/cuda/cuda_gpu_executor.cc:937] successful NUMA node read from SysFS had negative value (-1), but there must be at least one NUMA node, so returning NUMA node zero\n",
      "2022-05-08 04:14:33.364432: I tensorflow/stream_executor/cuda/cuda_gpu_executor.cc:937] successful NUMA node read from SysFS had negative value (-1), but there must be at least one NUMA node, so returning NUMA node zero\n",
      "2022-05-08 04:14:33.365140: I tensorflow/stream_executor/cuda/cuda_gpu_executor.cc:937] successful NUMA node read from SysFS had negative value (-1), but there must be at least one NUMA node, so returning NUMA node zero\n",
      "2022-05-08 04:14:33.366166: I tensorflow/core/common_runtime/gpu/gpu_device.cc:1510] Created device /job:localhost/replica:0/task:0/device:GPU:0 with 15403 MB memory:  -> device: 0, name: Tesla P100-PCIE-16GB, pci bus id: 0000:00:04.0, compute capability: 6.0\n"
     ]
    },
    {
     "name": "stdout",
     "output_type": "stream",
     "text": [
      "Downloading data from https://storage.googleapis.com/keras-applications/efficientnetb3_notop.h5\n",
      "43941888/43941136 [==============================] - 0s 0us/step\n",
      "43950080/43941136 [==============================] - 0s 0us/step\n",
      "Model: \"sequential\"\n",
      "_________________________________________________________________\n",
      "Layer (type)                 Output Shape              Param #   \n",
      "=================================================================\n",
      "efficientnetb3 (Functional)  (None, 11, 11, 1536)      10783535  \n",
      "_________________________________________________________________\n",
      "global_average_pooling2d (Gl (None, 1536)              0         \n",
      "_________________________________________________________________\n",
      "dense (Dense)                (None, 256)               393472    \n",
      "_________________________________________________________________\n",
      "dropout (Dropout)            (None, 256)               0         \n",
      "_________________________________________________________________\n",
      "dense_1 (Dense)              (None, 5)                 1285      \n",
      "=================================================================\n",
      "Total params: 11,178,292\n",
      "Trainable params: 11,090,989\n",
      "Non-trainable params: 87,303\n",
      "_________________________________________________________________\n"
     ]
    }
   ],
   "source": [
    "model = build_efficientnet_b3()\n",
    "model.summary()"
   ]
  },
  {
   "cell_type": "code",
   "execution_count": 10,
   "metadata": {
    "execution": {
     "iopub.execute_input": "2022-05-08T04:14:37.405432Z",
     "iopub.status.busy": "2022-05-08T04:14:37.405240Z",
     "iopub.status.idle": "2022-05-08T04:14:37.423441Z",
     "shell.execute_reply": "2022-05-08T04:14:37.422802Z",
     "shell.execute_reply.started": "2022-05-08T04:14:37.405407Z"
    }
   },
   "outputs": [],
   "source": [
    "model.compile(\n",
    "    loss='categorical_crossentropy',\n",
    "    optimizer=tf.keras.optimizers.Adam(learning_rate=1e-3),\n",
    "    metrics=['accuracy']\n",
    ")"
   ]
  },
  {
   "cell_type": "code",
   "execution_count": 11,
   "metadata": {
    "execution": {
     "iopub.execute_input": "2022-05-08T04:14:37.424990Z",
     "iopub.status.busy": "2022-05-08T04:14:37.424754Z",
     "iopub.status.idle": "2022-05-08T04:14:37.432755Z",
     "shell.execute_reply": "2022-05-08T04:14:37.432037Z",
     "shell.execute_reply.started": "2022-05-08T04:14:37.424957Z"
    }
   },
   "outputs": [],
   "source": [
    "from keras.callbacks import EarlyStopping, ModelCheckpoint, ReduceLROnPlateau\n",
    "\n",
    "early_stopping = EarlyStopping(monitor='val_loss', mode='min', verbose=1, patience=5, restore_best_weights=True)\n",
    "model_checkpoint = ModelCheckpoint(save_model_filename, monitor='val_loss', mode='min', verbose=1, save_best_only=True)\n",
    "reduce_lr = ReduceLROnPlateau(monitor='val_loss', mode='min', factor=0.2, patience=2, min_lr=0, verbose=1)"
   ]
  },
  {
   "cell_type": "code",
   "execution_count": 12,
   "metadata": {
    "execution": {
     "iopub.execute_input": "2022-05-08T04:14:37.434280Z",
     "iopub.status.busy": "2022-05-08T04:14:37.434024Z",
     "iopub.status.idle": "2022-05-08T04:14:38.228147Z",
     "shell.execute_reply": "2022-05-08T04:14:38.227463Z",
     "shell.execute_reply.started": "2022-05-08T04:14:37.434245Z"
    }
   },
   "outputs": [
    {
     "name": "stderr",
     "output_type": "stream",
     "text": [
      "/opt/conda/lib/python3.7/site-packages/seaborn/_decorators.py:43: FutureWarning: Pass the following variable as a keyword arg: x. From version 0.12, the only valid positional argument will be `data`, and passing other arguments without an explicit keyword will result in an error or misinterpretation.\n",
      "  FutureWarning\n"
     ]
    },
    {
     "data": {
      "image/png": "[encoded data removed]",
      "text/plain": [
       "<Figure size 432x288 with 1 Axes>"
      ]
     },
     "metadata": {
      "needs_background": "light"
     },
     "output_type": "display_data"
    }
   ],
   "source": [
    "import seaborn as sns\n",
    "\n",
    "sns.countplot(train['label'])\n",
    "plt.title('Count of disease types')\n",
    "plt.grid()\n",
    "plt.show()"
   ]
  },
  {
   "cell_type": "code",
   "execution_count": 13,
   "metadata": {
    "execution": {
     "iopub.execute_input": "2022-05-08T04:14:38.230078Z",
     "iopub.status.busy": "2022-05-08T04:14:38.229605Z",
     "iopub.status.idle": "2022-05-08T10:50:58.603952Z",
     "shell.execute_reply": "2022-05-08T10:50:58.603200Z",
     "shell.execute_reply.started": "2022-05-08T04:14:38.230039Z"
    }
   },
   "outputs": [
    {
     "name": "stderr",
     "output_type": "stream",
     "text": [
      "2022-05-08 04:14:38.929100: I tensorflow/compiler/mlir/mlir_graph_optimization_pass.cc:185] None of the MLIR Optimization Passes are enabled (registered 2)\n"
     ]
    },
    {
     "name": "stdout",
     "output_type": "stream",
     "text": [
      "Epoch 1/30\n"
     ]
    },
    {
     "name": "stderr",
     "output_type": "stream",
     "text": [
      "2022-05-08 04:14:52.735280: I tensorflow/stream_executor/cuda/cuda_dnn.cc:369] Loaded cuDNN version 8005\n"
     ]
    },
    {
     "name": "stdout",
     "output_type": "stream",
     "text": [
      "1070/1070 [==============================] - 1090s 1s/step - loss: 0.7489 - accuracy: 0.7384 - val_loss: 2.2052 - val_accuracy: 0.2386\n",
      "\n",
      "Epoch 00001: val_loss improved from inf to 2.20519, saving model to effnet_(1).h5\n"
     ]
    },
    {
     "name": "stderr",
     "output_type": "stream",
     "text": [
      "/opt/conda/lib/python3.7/site-packages/keras/utils/generic_utils.py:497: CustomMaskWarning: Custom mask layers require a config and must override get_config. When loading, the custom mask layer must be passed to the custom_objects argument.\n",
      "  category=CustomMaskWarning)\n"
     ]
    },
    {
     "name": "stdout",
     "output_type": "stream",
     "text": [
      "Epoch 2/30\n",
      "1070/1070 [==============================] - 983s 918ms/step - loss: 0.5888 - accuracy: 0.7972 - val_loss: 1.8063 - val_accuracy: 0.1192\n",
      "\n",
      "Epoch 00002: val_loss improved from 2.20519 to 1.80627, saving model to effnet_(1).h5\n",
      "Epoch 3/30\n",
      "1070/1070 [==============================] - 992s 927ms/step - loss: 0.5477 - accuracy: 0.8148 - val_loss: 44.1154 - val_accuracy: 0.3966\n",
      "\n",
      "Epoch 00003: val_loss did not improve from 1.80627\n",
      "Epoch 4/30\n",
      "1070/1070 [==============================] - 983s 918ms/step - loss: 0.5282 - accuracy: 0.8229 - val_loss: 3.5612 - val_accuracy: 0.1192\n",
      "\n",
      "Epoch 00004: val_loss did not improve from 1.80627\n",
      "\n",
      "Epoch 00004: ReduceLROnPlateau reducing learning rate to 0.00020000000949949026.\n",
      "Epoch 5/30\n",
      "1070/1070 [==============================] - 993s 928ms/step - loss: 0.4270 - accuracy: 0.8567 - val_loss: 0.8269 - val_accuracy: 0.7357\n",
      "\n",
      "Epoch 00005: val_loss improved from 1.80627 to 0.82687, saving model to effnet_(1).h5\n",
      "Epoch 6/30\n",
      "1070/1070 [==============================] - 984s 920ms/step - loss: 0.3997 - accuracy: 0.8652 - val_loss: 1.5086 - val_accuracy: 0.4328\n",
      "\n",
      "Epoch 00006: val_loss did not improve from 0.82687\n",
      "Epoch 7/30\n",
      "1070/1070 [==============================] - 987s 922ms/step - loss: 0.3875 - accuracy: 0.8689 - val_loss: 2.7063 - val_accuracy: 0.3047\n",
      "\n",
      "Epoch 00007: val_loss did not improve from 0.82687\n",
      "\n",
      "Epoch 00007: ReduceLROnPlateau reducing learning rate to 4.0000001899898055e-05.\n",
      "Epoch 8/30\n",
      "1070/1070 [==============================] - 986s 921ms/step - loss: 0.3528 - accuracy: 0.8785 - val_loss: 0.4263 - val_accuracy: 0.8605\n",
      "\n",
      "Epoch 00008: val_loss improved from 0.82687 to 0.42633, saving model to effnet_(1).h5\n",
      "Epoch 9/30\n",
      "1070/1070 [==============================] - 985s 921ms/step - loss: 0.3524 - accuracy: 0.8807 - val_loss: 0.4021 - val_accuracy: 0.8652\n",
      "\n",
      "Epoch 00009: val_loss improved from 0.42633 to 0.40208, saving model to effnet_(1).h5\n",
      "Epoch 10/30\n",
      "1070/1070 [==============================] - 983s 918ms/step - loss: 0.3482 - accuracy: 0.8839 - val_loss: 1.0704 - val_accuracy: 0.6399\n",
      "\n",
      "Epoch 00010: val_loss did not improve from 0.40208\n",
      "Epoch 11/30\n",
      "1070/1070 [==============================] - 980s 915ms/step - loss: 0.3357 - accuracy: 0.8855 - val_loss: 0.3999 - val_accuracy: 0.8696\n",
      "\n",
      "Epoch 00011: val_loss improved from 0.40208 to 0.39986, saving model to effnet_(1).h5\n",
      "Epoch 12/30\n",
      "1070/1070 [==============================] - 975s 911ms/step - loss: 0.3395 - accuracy: 0.8866 - val_loss: 0.5413 - val_accuracy: 0.8119\n",
      "\n",
      "Epoch 00012: val_loss did not improve from 0.39986\n",
      "Epoch 13/30\n",
      "1070/1070 [==============================] - 980s 915ms/step - loss: 0.3337 - accuracy: 0.8859 - val_loss: 0.4229 - val_accuracy: 0.8591\n",
      "\n",
      "Epoch 00013: val_loss did not improve from 0.39986\n",
      "\n",
      "Epoch 00013: ReduceLROnPlateau reducing learning rate to 8.000000525498762e-06.\n",
      "Epoch 14/30\n",
      "1070/1070 [==============================] - 984s 919ms/step - loss: 0.3249 - accuracy: 0.8880 - val_loss: 0.3761 - val_accuracy: 0.8754\n",
      "\n",
      "Epoch 00014: val_loss improved from 0.39986 to 0.37614, saving model to effnet_(1).h5\n",
      "Epoch 15/30\n",
      "1070/1070 [==============================] - 980s 915ms/step - loss: 0.3216 - accuracy: 0.8905 - val_loss: 0.3764 - val_accuracy: 0.8747\n",
      "\n",
      "Epoch 00015: val_loss did not improve from 0.37614\n",
      "Epoch 16/30\n",
      "1070/1070 [==============================] - 982s 917ms/step - loss: 0.3260 - accuracy: 0.8890 - val_loss: 0.3754 - val_accuracy: 0.8689\n",
      "\n",
      "Epoch 00016: val_loss improved from 0.37614 to 0.37544, saving model to effnet_(1).h5\n",
      "Epoch 17/30\n",
      "1070/1070 [==============================] - 994s 929ms/step - loss: 0.3204 - accuracy: 0.8903 - val_loss: 0.3748 - val_accuracy: 0.8726\n",
      "\n",
      "Epoch 00017: val_loss improved from 0.37544 to 0.37482, saving model to effnet_(1).h5\n",
      "Epoch 18/30\n",
      "1070/1070 [==============================] - 982s 918ms/step - loss: 0.3214 - accuracy: 0.8916 - val_loss: 0.3753 - val_accuracy: 0.8782\n",
      "\n",
      "Epoch 00018: val_loss did not improve from 0.37482\n",
      "Epoch 19/30\n",
      "1070/1070 [==============================] - 978s 914ms/step - loss: 0.3260 - accuracy: 0.8881 - val_loss: 0.3660 - val_accuracy: 0.8757\n",
      "\n",
      "Epoch 00019: val_loss improved from 0.37482 to 0.36597, saving model to effnet_(1).h5\n",
      "Epoch 20/30\n",
      "1070/1070 [==============================] - 984s 920ms/step - loss: 0.3213 - accuracy: 0.8890 - val_loss: 0.3756 - val_accuracy: 0.8736\n",
      "\n",
      "Epoch 00020: val_loss did not improve from 0.36597\n",
      "Epoch 21/30\n",
      "1070/1070 [==============================] - 986s 921ms/step - loss: 0.3210 - accuracy: 0.8925 - val_loss: 0.3666 - val_accuracy: 0.8773\n",
      "\n",
      "Epoch 00021: val_loss did not improve from 0.36597\n",
      "\n",
      "Epoch 00021: ReduceLROnPlateau reducing learning rate to 1.6000001778593287e-06.\n",
      "Epoch 22/30\n",
      "1070/1070 [==============================] - 987s 922ms/step - loss: 0.3219 - accuracy: 0.8909 - val_loss: 0.3698 - val_accuracy: 0.8803\n",
      "\n",
      "Epoch 00022: val_loss did not improve from 0.36597\n",
      "Epoch 23/30\n",
      "1070/1070 [==============================] - 974s 910ms/step - loss: 0.3151 - accuracy: 0.8931 - val_loss: 0.3798 - val_accuracy: 0.8712\n",
      "\n",
      "Epoch 00023: val_loss did not improve from 0.36597\n",
      "\n",
      "Epoch 00023: ReduceLROnPlateau reducing learning rate to 3.200000264769187e-07.\n",
      "Epoch 24/30\n",
      "1070/1070 [==============================] - 977s 913ms/step - loss: 0.3156 - accuracy: 0.8912 - val_loss: 0.3700 - val_accuracy: 0.8757\n",
      "Restoring model weights from the end of the best epoch.\n",
      "\n",
      "Epoch 00024: val_loss did not improve from 0.36597\n",
      "Epoch 00024: early stopping\n"
     ]
    }
   ],
   "source": [
    "epoch = 30\n",
    "\n",
    "history = model.fit(\n",
    "    train_generator,\n",
    "    epochs=epoch,\n",
    "    validation_data=validation_generator,\n",
    "    verbose=1,\n",
    "    callbacks=[early_stopping, model_checkpoint, reduce_lr]\n",
    ")"
   ]
  },
  {
   "cell_type": "code",
   "execution_count": 14,
   "metadata": {
    "execution": {
     "iopub.execute_input": "2022-05-08T10:50:58.605371Z",
     "iopub.status.busy": "2022-05-08T10:50:58.605132Z",
     "iopub.status.idle": "2022-05-08T10:50:58.867840Z",
     "shell.execute_reply": "2022-05-08T10:50:58.867108Z",
     "shell.execute_reply.started": "2022-05-08T10:50:58.605336Z"
    }
   },
   "outputs": [
    {
     "name": "stdout",
     "output_type": "stream",
     "text": [
      "train loss: 0.31560423970222473\n",
      "train accuracy: 0.891167163848877\n",
      "dev loss: 0.37000930309295654\n",
      "dev accuracy: 0.8756718635559082\n"
     ]
    },
    {
     "data": {
      "image/png": "[encoded data removed]",
      "text/plain": [
       "<Figure size 1080x360 with 2 Axes>"
      ]
     },
     "metadata": {
      "needs_background": "light"
     },
     "output_type": "display_data"
    }
   ],
   "source": [
    "print('train loss:', history.history['loss'][-1])\n",
    "print('train accuracy:', history.history['accuracy'][-1])\n",
    "\n",
    "print('dev loss:', history.history['val_loss'][-1])\n",
    "print('dev accuracy:', history.history['val_accuracy'][-1])\n",
    "\n",
    "results = pd.DataFrame(history.history)\n",
    "\n",
    "fig, axs = plt.subplots(1,2,figsize=(15,5))\n",
    "\n",
    "axs[0].plot(results[['loss', 'val_loss']])\n",
    "axs[0].set_title('Model Loss')\n",
    "\n",
    "axs[1].plot(results[['accuracy', 'val_accuracy']])\n",
    "axs[1].set_title('Model Accuracy')\n",
    "\n",
    "plt.show()"
   ]
  },
  {
   "cell_type": "code",
   "execution_count": 15,
   "metadata": {
    "execution": {
     "iopub.execute_input": "2022-05-08T10:50:58.870577Z",
     "iopub.status.busy": "2022-05-08T10:50:58.870155Z",
     "iopub.status.idle": "2022-05-08T10:53:30.118263Z",
     "shell.execute_reply": "2022-05-08T10:53:30.117573Z",
     "shell.execute_reply.started": "2022-05-08T10:50:58.870536Z"
    },
    "scrolled": true
   },
   "outputs": [
    {
     "name": "stdout",
     "output_type": "stream",
     "text": [
      "              precision    recall  f1-score   support\n",
      "\n",
      "         CBB       0.58      0.68      0.62       200\n",
      "        CBSD       0.81      0.75      0.78       436\n",
      "         CGM       0.83      0.78      0.80       495\n",
      "         CMD       0.95      0.96      0.96      2638\n",
      "     Healthy       0.71      0.71      0.71       510\n",
      "\n",
      "    accuracy                           0.88      4279\n",
      "   macro avg       0.78      0.78      0.78      4279\n",
      "weighted avg       0.88      0.88      0.88      4279\n",
      "\n"
     ]
    }
   ],
   "source": [
    "pred = model.predict(validation_generator)\n",
    "predictions = np.argmax(pred, axis=1)\n",
    "actual = validation_generator.classes\n",
    "\n",
    "from sklearn.metrics import classification_report\n",
    "\n",
    "report = classification_report(actual, predictions, target_names=['CBB', 'CBSD', 'CGM', 'CMD', 'Healthy'])\n",
    "print(report)"
   ]
  },
  {
   "cell_type": "code",
   "execution_count": 16,
   "metadata": {
    "execution": {
     "iopub.execute_input": "2022-05-08T10:53:30.119702Z",
     "iopub.status.busy": "2022-05-08T10:53:30.119415Z",
     "iopub.status.idle": "2022-05-08T10:53:30.130277Z",
     "shell.execute_reply": "2022-05-08T10:53:30.129353Z",
     "shell.execute_reply.started": "2022-05-08T10:53:30.119662Z"
    }
   },
   "outputs": [],
   "source": [
    "test = pd.read_csv('../input/cassava-leaf-disease-classification/sample_submission.csv')"
   ]
  },
  {
   "cell_type": "code",
   "execution_count": 17,
   "metadata": {
    "execution": {
     "iopub.execute_input": "2022-05-08T10:53:30.132543Z",
     "iopub.status.busy": "2022-05-08T10:53:30.131436Z",
     "iopub.status.idle": "2022-05-08T10:53:30.139242Z",
     "shell.execute_reply": "2022-05-08T10:53:30.138534Z",
     "shell.execute_reply.started": "2022-05-08T10:53:30.132482Z"
    }
   },
   "outputs": [],
   "source": [
    "test_path = '../input/cassava-leaf-disease-classification/test_images'\n",
    "\n",
    "def test_image_path(image):\n",
    "    return os.path.join(test_path,image)\n",
    "\n",
    "test['image_id'] = test['image_id'].apply(test_image_path)\n",
    "\n",
    "test['label'] = test['label'].astype('str')"
   ]
  },
  {
   "cell_type": "code",
   "execution_count": 18,
   "metadata": {
    "execution": {
     "iopub.execute_input": "2022-05-08T10:53:30.141294Z",
     "iopub.status.busy": "2022-05-08T10:53:30.140700Z",
     "iopub.status.idle": "2022-05-08T10:53:30.156795Z",
     "shell.execute_reply": "2022-05-08T10:53:30.156171Z",
     "shell.execute_reply.started": "2022-05-08T10:53:30.141256Z"
    }
   },
   "outputs": [
    {
     "name": "stdout",
     "output_type": "stream",
     "text": [
      "Found 1 validated image filenames belonging to 1 classes.\n"
     ]
    }
   ],
   "source": [
    "test_generator = test_gen.flow_from_dataframe(dataframe=test, directory=None, x_col='image_id', y_col='label',\n",
    "                                              preprocessing_function=applications.efficientnet.preprocess_input,\n",
    "                                              class_mode='categorical', target_size=(image_size,image_size))"
   ]
  },
  {
   "cell_type": "code",
   "execution_count": 19,
   "metadata": {
    "execution": {
     "iopub.execute_input": "2022-05-08T10:53:30.158574Z",
     "iopub.status.busy": "2022-05-08T10:53:30.157879Z",
     "iopub.status.idle": "2022-05-08T10:53:30.468147Z",
     "shell.execute_reply": "2022-05-08T10:53:30.467298Z",
     "shell.execute_reply.started": "2022-05-08T10:53:30.158531Z"
    }
   },
   "outputs": [],
   "source": [
    "output = model.predict(test_generator)"
   ]
  },
  {
   "cell_type": "code",
   "execution_count": 20,
   "metadata": {
    "execution": {
     "iopub.execute_input": "2022-05-08T10:53:30.469904Z",
     "iopub.status.busy": "2022-05-08T10:53:30.469680Z",
     "iopub.status.idle": "2022-05-08T10:53:30.480233Z",
     "shell.execute_reply": "2022-05-08T10:53:30.479546Z",
     "shell.execute_reply.started": "2022-05-08T10:53:30.469872Z"
    }
   },
   "outputs": [],
   "source": [
    "submission = pd.DataFrame()\n",
    "submission['image_id'] = list(os.listdir(test_path))\n",
    "submission['label'] = np.argmax(output, axis=1)\n",
    "submission.to_csv(\"submission.csv\", index=False)"
   ]
  },
  {
   "cell_type": "code",
   "execution_count": 21,
   "metadata": {
    "execution": {
     "iopub.execute_input": "2022-05-08T10:53:30.481768Z",
     "iopub.status.busy": "2022-05-08T10:53:30.481491Z",
     "iopub.status.idle": "2022-05-08T10:53:30.492875Z",
     "shell.execute_reply": "2022-05-08T10:53:30.492236Z",
     "shell.execute_reply.started": "2022-05-08T10:53:30.481729Z"
    }
   },
   "outputs": [
    {
     "data": {
      "text/html": [
       "<div>\n",
       "<style scoped>\n",
       "    .dataframe tbody tr th:only-of-type {\n",
       "        vertical-align: middle;\n",
       "    }\n",
       "\n",
       "    .dataframe tbody tr th {\n",
       "        vertical-align: top;\n",
       "    }\n",
       "\n",
       "    .dataframe thead th {\n",
       "        text-align: right;\n",
       "    }\n",
       "</style>\n",
       "<table border=\"1\" class=\"dataframe\">\n",
       "  <thead>\n",
       "    <tr style=\"text-align: right;\">\n",
       "      <th></th>\n",
       "      <th>image_id</th>\n",
       "      <th>label</th>\n",
       "    </tr>\n",
       "  </thead>\n",
       "  <tbody>\n",
       "    <tr>\n",
       "      <th>0</th>\n",
       "      <td>2216849948.jpg</td>\n",
       "      <td>2</td>\n",
       "    </tr>\n",
       "  </tbody>\n",
       "</table>\n",
       "</div>"
      ],
      "text/plain": [
       "         image_id  label\n",
       "0  2216849948.jpg      2"
      ]
     },
     "execution_count": 21,
     "metadata": {},
     "output_type": "execute_result"
    }
   ],
   "source": [
    "submission.head()"
   ]
  },
  {
   "cell_type": "code",
   "execution_count": 22,
   "metadata": {
    "execution": {
     "iopub.execute_input": "2022-05-08T10:53:30.494419Z",
     "iopub.status.busy": "2022-05-08T10:53:30.494054Z",
     "iopub.status.idle": "2022-05-08T10:53:31.519114Z",
     "shell.execute_reply": "2022-05-08T10:53:31.518372Z",
     "shell.execute_reply.started": "2022-05-08T10:53:30.494386Z"
    }
   },
   "outputs": [
    {
     "name": "stderr",
     "output_type": "stream",
     "text": [
      "/opt/conda/lib/python3.7/site-packages/keras/utils/generic_utils.py:497: CustomMaskWarning: Custom mask layers require a config and must override get_config. When loading, the custom mask layer must be passed to the custom_objects argument.\n",
      "  category=CustomMaskWarning)\n"
     ]
    }
   ],
   "source": [
    "model.save('model_final.h5')"
   ]
  },
  {
   "cell_type": "code",
   "execution_count": null,
   "metadata": {},
   "outputs": [],
   "source": []
  }
 ],
 "metadata": {
  "kernelspec": {
   "display_name": "Python 3",
   "language": "python",
   "name": "python3"
  },
  "language_info": {
   "codemirror_mode": {
    "name": "ipython",
    "version": 3
   },
   "file_extension": ".py",
   "mimetype": "text/x-python",
   "name": "python",
   "nbconvert_exporter": "python",
   "pygments_lexer": "ipython3",
   "version": "3.8.8"
  }
 },
 "nbformat": 4,
 "nbformat_minor": 4
}
