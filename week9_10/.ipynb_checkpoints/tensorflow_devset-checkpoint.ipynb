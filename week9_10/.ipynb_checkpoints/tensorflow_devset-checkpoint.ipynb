{
 "cells": [
  {
   "cell_type": "code",
   "execution_count": 1,
   "id": "79dfe2c9",
   "metadata": {},
   "outputs": [],
   "source": [
    "import tensorflow as tf\n",
    "from tensorflow import keras\n",
    "import matplotlib.pyplot as plt\n",
    "import numpy as np\n",
    "import time\n",
    "from keras.utils import np_utils"
   ]
  },
  {
   "cell_type": "code",
   "execution_count": 2,
   "id": "ba4f670c",
   "metadata": {},
   "outputs": [],
   "source": [
    "mnist = keras.datasets.mnist\n",
    "(x_train, y_train), (x_test, y_test) = mnist.load_data()"
   ]
  },
  {
   "cell_type": "code",
   "execution_count": 3,
   "id": "9f9f32d8",
   "metadata": {},
   "outputs": [
    {
     "name": "stdout",
     "output_type": "stream",
     "text": [
      "(60000, 28, 28)\n",
      "(10000, 28, 28)\n",
      "(60000,)\n",
      "(10000,)\n"
     ]
    }
   ],
   "source": [
    "print(x_train.shape)\n",
    "print(x_test.shape)\n",
    "print(y_train.shape)\n",
    "print(y_test.shape)"
   ]
  },
  {
   "cell_type": "code",
   "execution_count": 4,
   "id": "9cec88e5",
   "metadata": {},
   "outputs": [],
   "source": [
    "x_dev = x_train[-5000:]\n",
    "y_dev = y_train[-5000:]\n",
    "x_train = x_train[:-5000]\n",
    "y_train = y_train[:-5000]"
   ]
  },
  {
   "cell_type": "code",
   "execution_count": 5,
   "id": "107c55d6",
   "metadata": {},
   "outputs": [
    {
     "name": "stdout",
     "output_type": "stream",
     "text": [
      "(55000, 28, 28)\n",
      "(10000, 28, 28)\n",
      "(55000,)\n",
      "(10000,)\n",
      "(5000, 28, 28)\n",
      "(5000, 28, 28)\n"
     ]
    }
   ],
   "source": [
    "print(x_train.shape)\n",
    "print(x_test.shape)\n",
    "print(y_train.shape)\n",
    "print(y_test.shape)\n",
    "\n",
    "print(x_dev.shape)\n",
    "print(x_dev.shape)"
   ]
  },
  {
   "cell_type": "code",
   "execution_count": 6,
   "id": "10a6ce60",
   "metadata": {},
   "outputs": [
    {
     "name": "stdout",
     "output_type": "stream",
     "text": [
      "(55000, 10)\n",
      "(10000, 10)\n",
      "(5000, 10)\n"
     ]
    }
   ],
   "source": [
    "# one-hot format\n",
    "y_train = np_utils.to_categorical(y_train, 10)\n",
    "y_test = np_utils.to_categorical(y_test, 10)\n",
    "print(y_train.shape)\n",
    "print(y_test.shape)\n",
    "\n",
    "y_dev = np_utils.to_categorical(y_dev, 10)\n",
    "print(y_dev.shape)"
   ]
  },
  {
   "cell_type": "code",
   "execution_count": 7,
   "id": "e1024c93",
   "metadata": {},
   "outputs": [],
   "source": [
    "# [0-255] to [0-1]\n",
    "x_train = x_train / 255.0\n",
    "x_dev = x_dev / 255.0\n",
    "x_test = x_test / 255.0"
   ]
  },
  {
   "cell_type": "code",
   "execution_count": 8,
   "id": "4f01594c",
   "metadata": {},
   "outputs": [],
   "source": [
    "# define model\n",
    "# 3-layer-NN (512 nodes, 512 nodes, 10 nodes - 2 hidden layers, output layer)\n",
    "# L2 regulation to prevent overfitting(reduce variance)\n",
    "# relu activation function for hidden layers & softmax for output layer\n",
    "\n",
    "model = tf.keras.models.Sequential([\n",
    "    tf.keras.layers.Flatten(input_shape=(28, 28)), # (60000, 758)\n",
    "    tf.keras.layers.Dense(512, kernel_regularizer=tf.keras.regularizers.l2(0.0001), activation=tf.nn.relu),\n",
    "    tf.keras.layers.Dense(512, kernel_regularizer=tf.keras.regularizers.l2(0.0001), activation=tf.nn.relu),\n",
    "    tf.keras.layers.Dense(10, activation=tf.nn.softmax)\n",
    "])"
   ]
  },
  {
   "cell_type": "code",
   "execution_count": 9,
   "id": "ffd05a7b",
   "metadata": {},
   "outputs": [],
   "source": [
    "# define optimizer, loss function, metrics\n",
    "\n",
    "model.compile(\n",
    "    # Optimizer\n",
    "    \n",
    "    optimizer=tf.keras.optimizers.Adam(),\n",
    "    # Adam = grad descent w momentum + RMSprop\n",
    "    \n",
    "    \n",
    "    # Loss function to minimize\n",
    "\n",
    "#     loss=tf.keras.losses.SparseCategoricalCrossentropy(from_logits=True),\n",
    "    # use this loss function when 2 or more integer label classes\n",
    "    # logit = logistic + probit(확률을 재는 단위, = odds(두 확률의 비율)); 값이 0보다 큰지 아닌지, sigmoid의 역함수\n",
    "    # 라벨값이 0 ~ 9로 되어있기 떄문에 사실은 One Hot Encoding을 해야 하는데,\n",
    "    # sparse categorical crossentropy 를 사용하면 같은 효과 나와서 따로 하지 않음\n",
    "\n",
    "    loss='categorical_crossentropy',\n",
    "#     cross-entropy: a measure of how different your predicted distribution is from the target distribution\n",
    "\n",
    "    # List of metrics to monitor\n",
    "    \n",
    "    metrics=['accuracy']\n",
    "    # must be list (can be more than one if more than one output)\n",
    ")"
   ]
  },
  {
   "cell_type": "code",
   "execution_count": 10,
   "id": "a43ddeed",
   "metadata": {},
   "outputs": [],
   "source": [
    "start = time.time()"
   ]
  },
  {
   "cell_type": "code",
   "execution_count": 11,
   "id": "3ad4d68c",
   "metadata": {},
   "outputs": [
    {
     "name": "stdout",
     "output_type": "stream",
     "text": [
      "Epoch 1/10\n",
      "430/430 [==============================] - 2s 5ms/step - loss: 0.3223 - accuracy: 0.9316 - val_loss: 0.1852 - val_accuracy: 0.9722\n",
      "Epoch 2/10\n",
      "430/430 [==============================] - 2s 5ms/step - loss: 0.1706 - accuracy: 0.9727 - val_loss: 0.1515 - val_accuracy: 0.9772\n",
      "Epoch 3/10\n",
      "430/430 [==============================] - 2s 5ms/step - loss: 0.1369 - accuracy: 0.9804 - val_loss: 0.1521 - val_accuracy: 0.9770\n",
      "Epoch 4/10\n",
      "430/430 [==============================] - 2s 5ms/step - loss: 0.1162 - accuracy: 0.9845 - val_loss: 0.1339 - val_accuracy: 0.9784\n",
      "Epoch 5/10\n",
      "430/430 [==============================] - 2s 5ms/step - loss: 0.1025 - accuracy: 0.9875 - val_loss: 0.1247 - val_accuracy: 0.9800\n",
      "Epoch 6/10\n",
      "430/430 [==============================] - 2s 5ms/step - loss: 0.0971 - accuracy: 0.9875 - val_loss: 0.1327 - val_accuracy: 0.9790\n",
      "Epoch 7/10\n",
      "430/430 [==============================] - 2s 5ms/step - loss: 0.0885 - accuracy: 0.9899 - val_loss: 0.1164 - val_accuracy: 0.9818\n",
      "Epoch 8/10\n",
      "430/430 [==============================] - 2s 5ms/step - loss: 0.0846 - accuracy: 0.9899 - val_loss: 0.1259 - val_accuracy: 0.9796\n",
      "Epoch 9/10\n",
      "430/430 [==============================] - 2s 5ms/step - loss: 0.0807 - accuracy: 0.9906 - val_loss: 0.1268 - val_accuracy: 0.9808\n",
      "Epoch 10/10\n",
      "430/430 [==============================] - 2s 5ms/step - loss: 0.0755 - accuracy: 0.9917 - val_loss: 0.1212 - val_accuracy: 0.9796\n"
     ]
    }
   ],
   "source": [
    "# train\n",
    "model_fit = model.fit(x_train, y_train,\n",
    "    batch_size=128, epochs=10, verbose=1,\n",
    "    # verbose : 0 silent, 1 progress bar, 2 one line per epoch\n",
    "    validation_data=(x_dev, y_dev)\n",
    ")\n",
    "# epsilon = None (1e-07)"
   ]
  },
  {
   "cell_type": "code",
   "execution_count": 12,
   "id": "42639b19",
   "metadata": {},
   "outputs": [
    {
     "name": "stdout",
     "output_type": "stream",
     "text": [
      "training time:  20.78531527519226\n"
     ]
    }
   ],
   "source": [
    "print('training time: ', time.time() - start)"
   ]
  },
  {
   "cell_type": "code",
   "execution_count": 13,
   "id": "1c977258",
   "metadata": {},
   "outputs": [
    {
     "name": "stdout",
     "output_type": "stream",
     "text": [
      "train loss:  0.07549486309289932\n",
      "train accuracy:  0.9917091131210327\n",
      "dev loss:  0.12115512788295746\n",
      "dev accuracy:  0.9796000123023987\n"
     ]
    },
    {
     "data": {
      "image/png": "[encoded data removed]",
      "text/plain": [
       "<Figure size 432x288 with 1 Axes>"
      ]
     },
     "metadata": {
      "needs_background": "light"
     },
     "output_type": "display_data"
    }
   ],
   "source": [
    "train_loss = model_fit.history['loss'][-1]\n",
    "train_acc = model_fit.history['accuracy'][-1]\n",
    "dev_loss = model_fit.history['val_loss'][-1]\n",
    "dev_acc = model_fit.history['val_accuracy'][-1]\n",
    "\n",
    "print('train loss: ', train_loss)\n",
    "print('train accuracy: ', train_acc)\n",
    "\n",
    "print('dev loss: ', dev_loss)\n",
    "print('dev accuracy: ', dev_acc)\n",
    "\n",
    "plt.plot(model_fit.history['val_loss'])\n",
    "plt.xlabel('epoch')\n",
    "plt.ylabel('loss')\n",
    "plt.show()"
   ]
  },
  {
   "cell_type": "code",
   "execution_count": 14,
   "id": "13943280",
   "metadata": {
    "scrolled": true
   },
   "outputs": [
    {
     "name": "stdout",
     "output_type": "stream",
     "text": [
      "79/79 [==============================] - 0s 2ms/step - loss: 0.1207 - accuracy: 0.9785\n",
      "test loss:  0.12066569924354553\n",
      "test accuracy:  0.9785000085830688\n"
     ]
    }
   ],
   "source": [
    "# evaluate\n",
    "test_loss, test_acc = model.evaluate(x_test, y_test, batch_size=128)\n",
    "\n",
    "print('test loss: ', test_loss)\n",
    "print('test accuracy: ', test_acc)"
   ]
  },
  {
   "cell_type": "code",
   "execution_count": 15,
   "id": "89bff002",
   "metadata": {},
   "outputs": [
    {
     "name": "stdout",
     "output_type": "stream",
     "text": [
      "Epoch 1/10\n",
      "430/430 [==============================] - 3s 5ms/step - loss: 0.3303 - accuracy: 0.9285 - val_loss: 0.1916 - val_accuracy: 0.9692\n",
      "Epoch 2/10\n",
      "430/430 [==============================] - 2s 5ms/step - loss: 0.1707 - accuracy: 0.9724 - val_loss: 0.1589 - val_accuracy: 0.9758\n",
      "Epoch 3/10\n",
      "430/430 [==============================] - 2s 5ms/step - loss: 0.1353 - accuracy: 0.9810 - val_loss: 0.1493 - val_accuracy: 0.9792\n",
      "Epoch 4/10\n",
      "430/430 [==============================] - 2s 5ms/step - loss: 0.1165 - accuracy: 0.9848 - val_loss: 0.1386 - val_accuracy: 0.9784\n",
      "Epoch 5/10\n",
      "430/430 [==============================] - 2s 5ms/step - loss: 0.1029 - accuracy: 0.9867 - val_loss: 0.1444 - val_accuracy: 0.9756\n",
      "Epoch 6/10\n",
      "430/430 [==============================] - 2s 5ms/step - loss: 0.0954 - accuracy: 0.9886 - val_loss: 0.1300 - val_accuracy: 0.9802\n",
      "Epoch 7/10\n",
      "430/430 [==============================] - 2s 5ms/step - loss: 0.0894 - accuracy: 0.9894 - val_loss: 0.1227 - val_accuracy: 0.9812\n",
      "Epoch 8/10\n",
      "430/430 [==============================] - 2s 5ms/step - loss: 0.0845 - accuracy: 0.9900 - val_loss: 0.1328 - val_accuracy: 0.9796\n",
      "Epoch 9/10\n",
      "430/430 [==============================] - 2s 5ms/step - loss: 0.0809 - accuracy: 0.9905 - val_loss: 0.1307 - val_accuracy: 0.9810\n",
      "Epoch 10/10\n",
      "430/430 [==============================] - 2s 5ms/step - loss: 0.0771 - accuracy: 0.9910 - val_loss: 0.1174 - val_accuracy: 0.9834\n",
      "training time:  21.200171947479248\n",
      "train loss:  0.0771428570151329\n",
      "train accuracy:  0.9910181760787964\n",
      "dev loss:  0.1173894926905632\n",
      "dev accuracy:  0.9833999872207642\n",
      "79/79 [==============================] - 0s 2ms/step - loss: 0.1120 - accuracy: 0.9810\n",
      "test loss:  0.11195308715105057\n",
      "test accuracy:  0.9810000061988831\n"
     ]
    },
    {
     "data": {
      "image/png": "[encoded data removed]",
      "text/plain": [
       "<Figure size 432x288 with 1 Axes>"
      ]
     },
     "metadata": {
      "needs_background": "light"
     },
     "output_type": "display_data"
    }
   ],
   "source": [
    "# define model\n",
    "model = tf.keras.models.Sequential([\n",
    "    tf.keras.layers.Flatten(input_shape=(28, 28)),\n",
    "    tf.keras.layers.Dense(512, kernel_regularizer=tf.keras.regularizers.l2(0.0001), activation=tf.nn.relu),\n",
    "    tf.keras.layers.Dense(512, kernel_regularizer=tf.keras.regularizers.l2(0.0001), activation=tf.nn.relu),\n",
    "    tf.keras.layers.Dense(10, activation=tf.nn.softmax)\n",
    "])\n",
    "\n",
    "# define optimizer, loss function, metrics\n",
    "model.compile(optimizer=tf.keras.optimizers.Adam(),\n",
    "              loss='categorical_crossentropy',\n",
    "              metrics=['accuracy'])\n",
    "\n",
    "start = time.time()\n",
    "\n",
    "# train\n",
    "model_fit = model.fit(x_train, y_train,\n",
    "                      batch_size=128, epochs=10, verbose=1,\n",
    "                      validation_data=(x_dev, y_dev))\n",
    "\n",
    "print('training time: ', time.time() - start)\n",
    "\n",
    "print('train loss: ', model_fit.history['loss'][-1])\n",
    "print('train accuracy: ', model_fit.history['accuracy'][-1])\n",
    "\n",
    "print('dev loss: ', model_fit.history['val_loss'][-1])\n",
    "print('dev accuracy: ', model_fit.history['val_accuracy'][-1])\n",
    "\n",
    "test_loss, test_acc = model.evaluate(x_test, y_test, batch_size=128)\n",
    "print('test loss: ', test_loss)\n",
    "print('test accuracy: ', test_acc)\n",
    "\n",
    "plt.plot(model_fit.history['val_loss'])\n",
    "plt.xlabel('epoch')\n",
    "plt.ylabel('loss')\n",
    "plt.show()"
   ]
  },
  {
   "cell_type": "code",
   "execution_count": 16,
   "id": "044ffb11",
   "metadata": {},
   "outputs": [
    {
     "name": "stdout",
     "output_type": "stream",
     "text": [
      "Epoch 1/5\n",
      "430/430 [==============================] - 2s 5ms/step - loss: 0.3210 - accuracy: 0.9310 - val_loss: 0.1833 - val_accuracy: 0.9718\n",
      "Epoch 2/5\n",
      "430/430 [==============================] - 2s 5ms/step - loss: 0.1704 - accuracy: 0.9725 - val_loss: 0.1563 - val_accuracy: 0.9776\n",
      "Epoch 3/5\n",
      "430/430 [==============================] - 2s 5ms/step - loss: 0.1361 - accuracy: 0.9805 - val_loss: 0.1473 - val_accuracy: 0.9776\n",
      "Epoch 4/5\n",
      "430/430 [==============================] - 2s 5ms/step - loss: 0.1171 - accuracy: 0.9844 - val_loss: 0.1371 - val_accuracy: 0.9788\n",
      "Epoch 5/5\n",
      "430/430 [==============================] - 2s 5ms/step - loss: 0.1039 - accuracy: 0.9872 - val_loss: 0.1339 - val_accuracy: 0.9782\n",
      "training time:  10.838145732879639\n",
      "train loss:  0.10389414429664612\n",
      "train accuracy:  0.9871636629104614\n",
      "dev loss:  0.13394232094287872\n",
      "dev accuracy:  0.9782000184059143\n",
      "79/79 [==============================] - 0s 2ms/step - loss: 0.1368 - accuracy: 0.9767\n",
      "test loss:  0.1367982178926468\n",
      "test accuracy:  0.9767000079154968\n"
     ]
    },
    {
     "data": {
      "image/png": "[encoded data removed]",
      "text/plain": [
       "<Figure size 432x288 with 1 Axes>"
      ]
     },
     "metadata": {
      "needs_background": "light"
     },
     "output_type": "display_data"
    }
   ],
   "source": [
    "# define model\n",
    "model = tf.keras.models.Sequential([\n",
    "    tf.keras.layers.Flatten(input_shape=(28, 28)),\n",
    "    tf.keras.layers.Dense(512, kernel_regularizer=tf.keras.regularizers.l2(0.0001), activation=tf.nn.relu),\n",
    "    tf.keras.layers.Dense(512, kernel_regularizer=tf.keras.regularizers.l2(0.0001), activation=tf.nn.relu),\n",
    "    tf.keras.layers.Dense(10, activation=tf.nn.softmax)\n",
    "])\n",
    "\n",
    "# define optimizer, loss function, metrics\n",
    "model.compile(optimizer=tf.keras.optimizers.Adam(),\n",
    "              loss='categorical_crossentropy',\n",
    "              metrics=['accuracy'])\n",
    "\n",
    "start = time.time()\n",
    "\n",
    "# train\n",
    "model_fit = model.fit(x_train, y_train,\n",
    "                      batch_size=128, epochs=5, verbose=1,\n",
    "                      validation_data=(x_dev, y_dev))\n",
    "\n",
    "print('training time: ', time.time() - start)\n",
    "\n",
    "print('train loss: ', model_fit.history['loss'][-1])\n",
    "print('train accuracy: ', model_fit.history['accuracy'][-1])\n",
    "\n",
    "print('dev loss: ', model_fit.history['val_loss'][-1])\n",
    "print('dev accuracy: ', model_fit.history['val_accuracy'][-1])\n",
    "\n",
    "test_loss, test_acc = model.evaluate(x_test, y_test, batch_size=128)\n",
    "print('test loss: ', test_loss)\n",
    "print('test accuracy: ', test_acc)\n",
    "\n",
    "plt.plot(model_fit.history['val_loss'])\n",
    "plt.xlabel('epoch')\n",
    "plt.ylabel('loss')\n",
    "plt.show()"
   ]
  },
  {
   "cell_type": "code",
   "execution_count": 17,
   "id": "b322aae3",
   "metadata": {},
   "outputs": [
    {
     "name": "stdout",
     "output_type": "stream",
     "text": [
      "Epoch 1/5\n",
      "215/215 [==============================] - 2s 6ms/step - loss: 0.3730 - accuracy: 0.9190 - val_loss: 0.1915 - val_accuracy: 0.9692\n",
      "Epoch 2/5\n",
      "215/215 [==============================] - 1s 6ms/step - loss: 0.1820 - accuracy: 0.9704 - val_loss: 0.1612 - val_accuracy: 0.9772\n",
      "Epoch 3/5\n",
      "215/215 [==============================] - 1s 6ms/step - loss: 0.1425 - accuracy: 0.9801 - val_loss: 0.1415 - val_accuracy: 0.9816\n",
      "Epoch 4/5\n",
      "215/215 [==============================] - 1s 6ms/step - loss: 0.1215 - accuracy: 0.9848 - val_loss: 0.1379 - val_accuracy: 0.9818\n",
      "Epoch 5/5\n",
      "215/215 [==============================] - 1s 6ms/step - loss: 0.1068 - accuracy: 0.9880 - val_loss: 0.1266 - val_accuracy: 0.9824\n",
      "training time:  7.0089921951293945\n",
      "train loss:  0.10680217295885086\n",
      "train accuracy:  0.9879636168479919\n",
      "dev loss:  0.1266198307275772\n",
      "dev accuracy:  0.9824000000953674\n",
      "79/79 [==============================] - 0s 2ms/step - loss: 0.1282 - accuracy: 0.9801\n",
      "test loss:  0.12815040349960327\n",
      "test accuracy:  0.9800999760627747\n"
     ]
    },
    {
     "data": {
      "image/png": "[encoded data removed]",
      "text/plain": [
       "<Figure size 432x288 with 1 Axes>"
      ]
     },
     "metadata": {
      "needs_background": "light"
     },
     "output_type": "display_data"
    }
   ],
   "source": [
    "# define model\n",
    "model = tf.keras.models.Sequential([\n",
    "    tf.keras.layers.Flatten(input_shape=(28, 28)),\n",
    "    tf.keras.layers.Dense(512, kernel_regularizer=tf.keras.regularizers.l2(0.0001), activation=tf.nn.relu),\n",
    "    tf.keras.layers.Dense(512, kernel_regularizer=tf.keras.regularizers.l2(0.0001), activation=tf.nn.relu),\n",
    "    tf.keras.layers.Dense(10, activation=tf.nn.softmax)\n",
    "])\n",
    "\n",
    "# define optimizer, loss function, metrics\n",
    "model.compile(optimizer=tf.keras.optimizers.Adam(),\n",
    "              loss='categorical_crossentropy',\n",
    "              metrics=['accuracy'])\n",
    "\n",
    "start = time.time()\n",
    "\n",
    "# train\n",
    "model_fit = model.fit(x_train, y_train,\n",
    "                      batch_size=256, epochs=5, verbose=1,\n",
    "                      validation_data=(x_dev, y_dev))\n",
    "\n",
    "print('training time: ', time.time() - start)\n",
    "\n",
    "print('train loss: ', model_fit.history['loss'][-1])\n",
    "print('train accuracy: ', model_fit.history['accuracy'][-1])\n",
    "\n",
    "print('dev loss: ', model_fit.history['val_loss'][-1])\n",
    "print('dev accuracy: ', model_fit.history['val_accuracy'][-1])\n",
    "\n",
    "test_loss, test_acc = model.evaluate(x_test, y_test, batch_size=128)\n",
    "print('test loss: ', test_loss)\n",
    "print('test accuracy: ', test_acc)\n",
    "\n",
    "plt.plot(model_fit.history['val_loss'])\n",
    "plt.xlabel('epoch')\n",
    "plt.ylabel('loss')\n",
    "plt.show()"
   ]
  },
  {
   "cell_type": "code",
   "execution_count": 18,
   "id": "11467b38",
   "metadata": {},
   "outputs": [
    {
     "name": "stdout",
     "output_type": "stream",
     "text": [
      "Epoch 1/10\n",
      "215/215 [==============================] - 2s 7ms/step - loss: 0.3775 - accuracy: 0.9193 - val_loss: 0.2015 - val_accuracy: 0.9674\n",
      "Epoch 2/10\n",
      "215/215 [==============================] - 1s 6ms/step - loss: 0.1854 - accuracy: 0.9699 - val_loss: 0.1577 - val_accuracy: 0.9756\n",
      "Epoch 3/10\n",
      "215/215 [==============================] - 1s 6ms/step - loss: 0.1427 - accuracy: 0.9810 - val_loss: 0.1521 - val_accuracy: 0.9774\n",
      "Epoch 4/10\n",
      "215/215 [==============================] - 1s 6ms/step - loss: 0.1214 - accuracy: 0.9855 - val_loss: 0.1520 - val_accuracy: 0.9774\n",
      "Epoch 5/10\n",
      "215/215 [==============================] - 1s 6ms/step - loss: 0.1058 - accuracy: 0.9881 - val_loss: 0.1334 - val_accuracy: 0.9816\n",
      "Epoch 6/10\n",
      "215/215 [==============================] - 1s 6ms/step - loss: 0.0935 - accuracy: 0.9904 - val_loss: 0.1285 - val_accuracy: 0.9824\n",
      "Epoch 7/10\n",
      "215/215 [==============================] - 1s 6ms/step - loss: 0.0840 - accuracy: 0.9921 - val_loss: 0.1263 - val_accuracy: 0.9802\n",
      "Epoch 8/10\n",
      "215/215 [==============================] - 1s 6ms/step - loss: 0.0771 - accuracy: 0.9933 - val_loss: 0.1128 - val_accuracy: 0.9844\n",
      "Epoch 9/10\n",
      "215/215 [==============================] - 1s 6ms/step - loss: 0.0724 - accuracy: 0.9938 - val_loss: 0.1169 - val_accuracy: 0.9818\n",
      "Epoch 10/10\n",
      "215/215 [==============================] - 1s 6ms/step - loss: 0.0706 - accuracy: 0.9931 - val_loss: 0.1221 - val_accuracy: 0.9784\n",
      "training time:  13.885350942611694\n",
      "train loss:  0.07056359946727753\n",
      "train accuracy:  0.9930545687675476\n",
      "dev loss:  0.12213349342346191\n",
      "dev accuracy:  0.9783999919891357\n",
      "79/79 [==============================] - 0s 2ms/step - loss: 0.1254 - accuracy: 0.9762\n",
      "test loss:  0.12542593479156494\n",
      "test accuracy:  0.9761999845504761\n"
     ]
    },
    {
     "data": {
      "image/png": "[encoded data removed]",
      "text/plain": [
       "<Figure size 432x288 with 1 Axes>"
      ]
     },
     "metadata": {
      "needs_background": "light"
     },
     "output_type": "display_data"
    },
    {
     "name": "stdout",
     "output_type": "stream",
     "text": [
      "{'loss': [0.37750518321990967, 0.18537110090255737, 0.1426950842142105, 0.12139354646205902, 0.10583071410655975, 0.09351900964975357, 0.08400952816009521, 0.07707662135362625, 0.0724387988448143, 0.07056359946727753], 'accuracy': [0.9193272590637207, 0.9699454307556152, 0.9810181856155396, 0.9854545593261719, 0.9880545735359192, 0.9903636574745178, 0.9920727014541626, 0.993254542350769, 0.9938181638717651, 0.9930545687675476], 'val_loss': [0.20152536034584045, 0.15770286321640015, 0.15214799344539642, 0.15200850367546082, 0.1333913505077362, 0.12854984402656555, 0.12630532681941986, 0.11281044036149979, 0.11687330156564713, 0.12213349342346191], 'val_accuracy': [0.9674000144004822, 0.975600004196167, 0.977400004863739, 0.977400004863739, 0.9815999865531921, 0.9824000000953674, 0.9801999926567078, 0.9843999743461609, 0.9818000197410583, 0.9783999919891357]}\n"
     ]
    }
   ],
   "source": [
    "# define model\n",
    "model = tf.keras.models.Sequential([\n",
    "    tf.keras.layers.Flatten(input_shape=(28, 28)),\n",
    "    tf.keras.layers.Dense(512, kernel_regularizer=tf.keras.regularizers.l2(0.0001), activation=tf.nn.relu),\n",
    "    tf.keras.layers.Dense(512, kernel_regularizer=tf.keras.regularizers.l2(0.0001), activation=tf.nn.relu),\n",
    "    tf.keras.layers.Dense(10, activation=tf.nn.softmax)\n",
    "])\n",
    "\n",
    "# define optimizer, loss function, metrics\n",
    "model.compile(optimizer=tf.keras.optimizers.Adam(),\n",
    "              loss='categorical_crossentropy',\n",
    "              metrics=['accuracy'])\n",
    "\n",
    "start = time.time()\n",
    "\n",
    "# train\n",
    "model_fit = model.fit(x_train, y_train,\n",
    "                      batch_size=256, epochs=10, verbose=1,\n",
    "                      validation_data=(x_dev, y_dev))\n",
    "\n",
    "print('training time: ', time.time() - start)\n",
    "\n",
    "print('train loss: ', model_fit.history['loss'][-1])\n",
    "print('train accuracy: ', model_fit.history['accuracy'][-1])\n",
    "\n",
    "print('dev loss: ', model_fit.history['val_loss'][-1])\n",
    "print('dev accuracy: ', model_fit.history['val_accuracy'][-1])\n",
    "\n",
    "test_loss, test_acc = model.evaluate(x_test, y_test, batch_size=128)\n",
    "print('test loss: ', test_loss)\n",
    "print('test accuracy: ', test_acc)\n",
    "\n",
    "plt.plot(model_fit.history['val_loss'])\n",
    "plt.xlabel('epoch')\n",
    "plt.ylabel('loss')\n",
    "plt.show()\n",
    "\n",
    "print(model_fit.history)"
   ]
  },
  {
   "cell_type": "code",
   "execution_count": 19,
   "id": "cb3532e4",
   "metadata": {},
   "outputs": [
    {
     "name": "stdout",
     "output_type": "stream",
     "text": [
      "Epoch 1/8\n",
      "215/215 [==============================] - 2s 7ms/step - loss: 0.3759 - accuracy: 0.9193 - val_loss: 0.1916 - val_accuracy: 0.9718\n",
      "Epoch 2/8\n",
      "215/215 [==============================] - 1s 6ms/step - loss: 0.1846 - accuracy: 0.9695 - val_loss: 0.1624 - val_accuracy: 0.9764\n",
      "Epoch 3/8\n",
      "215/215 [==============================] - 1s 6ms/step - loss: 0.1458 - accuracy: 0.9796 - val_loss: 0.1426 - val_accuracy: 0.9790\n",
      "Epoch 4/8\n",
      "215/215 [==============================] - 1s 6ms/step - loss: 0.1202 - accuracy: 0.9853 - val_loss: 0.1336 - val_accuracy: 0.9806\n",
      "Epoch 5/8\n",
      "215/215 [==============================] - 1s 6ms/step - loss: 0.1049 - accuracy: 0.9891 - val_loss: 0.1285 - val_accuracy: 0.9812\n",
      "Epoch 6/8\n",
      "215/215 [==============================] - 1s 6ms/step - loss: 0.0925 - accuracy: 0.9910 - val_loss: 0.1208 - val_accuracy: 0.9806\n",
      "Epoch 7/8\n",
      "215/215 [==============================] - 1s 6ms/step - loss: 0.0861 - accuracy: 0.9918 - val_loss: 0.1207 - val_accuracy: 0.9814\n",
      "Epoch 8/8\n",
      "215/215 [==============================] - 1s 6ms/step - loss: 0.0772 - accuracy: 0.9933 - val_loss: 0.1175 - val_accuracy: 0.9810\n",
      "training time:  11.086951732635498\n",
      "train loss:  0.07718393206596375\n",
      "train accuracy:  0.993327260017395\n",
      "dev loss:  0.11750718951225281\n",
      "dev accuracy:  0.9810000061988831\n",
      "79/79 [==============================] - 0s 2ms/step - loss: 0.1212 - accuracy: 0.9792\n",
      "test loss:  0.12121312320232391\n",
      "test accuracy:  0.979200005531311\n"
     ]
    },
    {
     "data": {
      "image/png": "[encoded data removed]",
      "text/plain": [
       "<Figure size 432x288 with 1 Axes>"
      ]
     },
     "metadata": {
      "needs_background": "light"
     },
     "output_type": "display_data"
    },
    {
     "data": {
      "image/png": "[encoded data removed]",
      "text/plain": [
       "<Figure size 432x288 with 1 Axes>"
      ]
     },
     "metadata": {
      "needs_background": "light"
     },
     "output_type": "display_data"
    }
   ],
   "source": [
    "# define model\n",
    "model = tf.keras.models.Sequential([\n",
    "    tf.keras.layers.Flatten(input_shape=(28, 28)),\n",
    "    tf.keras.layers.Dense(512, kernel_regularizer=tf.keras.regularizers.l2(0.0001), activation=tf.nn.relu),\n",
    "    tf.keras.layers.Dense(512, kernel_regularizer=tf.keras.regularizers.l2(0.0001), activation=tf.nn.relu),\n",
    "    tf.keras.layers.Dense(10, activation=tf.nn.softmax)\n",
    "])\n",
    "\n",
    "# define optimizer, loss function, metrics\n",
    "model.compile(optimizer=tf.keras.optimizers.Adam(),\n",
    "              loss='categorical_crossentropy',\n",
    "              metrics=['accuracy'])\n",
    "\n",
    "start = time.time()\n",
    "\n",
    "# train\n",
    "model_fit = model.fit(x_train, y_train,\n",
    "                      batch_size=256, epochs=8, verbose=1,\n",
    "                      validation_data=(x_dev, y_dev))\n",
    "\n",
    "print('training time: ', time.time() - start)\n",
    "\n",
    "print('train loss: ', model_fit.history['loss'][-1])\n",
    "print('train accuracy: ', model_fit.history['accuracy'][-1])\n",
    "\n",
    "print('dev loss: ', model_fit.history['val_loss'][-1])\n",
    "print('dev accuracy: ', model_fit.history['val_accuracy'][-1])\n",
    "\n",
    "test_loss, test_acc = model.evaluate(x_test, y_test, batch_size=128)\n",
    "print('test loss: ', test_loss)\n",
    "print('test accuracy: ', test_acc)\n",
    "\n",
    "plt.plot(model_fit.history['val_loss'])\n",
    "plt.xlabel('epoch')\n",
    "plt.ylabel('loss')\n",
    "plt.show()\n",
    "\n",
    "plt.plot(model_fit.history['val_accuracy'])\n",
    "plt.xlabel('epoch')\n",
    "plt.ylabel('acc')\n",
    "plt.show()"
   ]
  },
  {
   "cell_type": "code",
   "execution_count": 20,
   "id": "a2a3b2cc",
   "metadata": {},
   "outputs": [
    {
     "name": "stdout",
     "output_type": "stream",
     "text": [
      "Epoch 1/8\n",
      "430/430 [==============================] - 2s 5ms/step - loss: 0.3237 - accuracy: 0.9321 - val_loss: 0.1871 - val_accuracy: 0.9712\n",
      "Epoch 2/8\n",
      "430/430 [==============================] - 2s 5ms/step - loss: 0.1715 - accuracy: 0.9712 - val_loss: 0.1509 - val_accuracy: 0.9786\n",
      "Epoch 3/8\n",
      "430/430 [==============================] - 2s 5ms/step - loss: 0.1374 - accuracy: 0.9793 - val_loss: 0.1527 - val_accuracy: 0.9762\n",
      "Epoch 4/8\n",
      "430/430 [==============================] - 2s 5ms/step - loss: 0.1152 - accuracy: 0.9852 - val_loss: 0.1407 - val_accuracy: 0.9784\n",
      "Epoch 5/8\n",
      "430/430 [==============================] - 2s 5ms/step - loss: 0.1044 - accuracy: 0.9866 - val_loss: 0.1364 - val_accuracy: 0.9790\n",
      "Epoch 6/8\n",
      "430/430 [==============================] - 2s 5ms/step - loss: 0.0939 - accuracy: 0.9891 - val_loss: 0.1415 - val_accuracy: 0.9760\n",
      "Epoch 7/8\n",
      "430/430 [==============================] - 2s 5ms/step - loss: 0.0898 - accuracy: 0.9891 - val_loss: 0.1290 - val_accuracy: 0.9792\n",
      "Epoch 8/8\n",
      "430/430 [==============================] - 2s 5ms/step - loss: 0.0851 - accuracy: 0.9901 - val_loss: 0.1337 - val_accuracy: 0.9778\n",
      "training time:  17.682327270507812\n",
      "train loss:  0.08511827886104584\n",
      "train accuracy:  0.9900727272033691\n",
      "dev loss:  0.13370393216609955\n",
      "dev accuracy:  0.9778000116348267\n",
      "79/79 [==============================] - 0s 2ms/step - loss: 0.1328 - accuracy: 0.9748\n",
      "test loss:  0.13281431794166565\n",
      "test accuracy:  0.9747999906539917\n"
     ]
    },
    {
     "data": {
      "image/png": "[encoded data removed]",
      "text/plain": [
       "<Figure size 432x288 with 1 Axes>"
      ]
     },
     "metadata": {
      "needs_background": "light"
     },
     "output_type": "display_data"
    },
    {
     "data": {
      "image/png": "[encoded data removed]",
      "text/plain": [
       "<Figure size 432x288 with 1 Axes>"
      ]
     },
     "metadata": {
      "needs_background": "light"
     },
     "output_type": "display_data"
    }
   ],
   "source": [
    "# define model\n",
    "model = tf.keras.models.Sequential([\n",
    "    tf.keras.layers.Flatten(input_shape=(28, 28)),\n",
    "    tf.keras.layers.Dense(512, kernel_regularizer=tf.keras.regularizers.l2(0.0001), activation=tf.nn.relu),\n",
    "    tf.keras.layers.Dense(512, kernel_regularizer=tf.keras.regularizers.l2(0.0001), activation=tf.nn.relu),\n",
    "    tf.keras.layers.Dense(10, activation=tf.nn.softmax)\n",
    "])\n",
    "\n",
    "# define optimizer, loss function, metrics\n",
    "model.compile(optimizer=tf.keras.optimizers.Adam(),\n",
    "              loss='categorical_crossentropy',\n",
    "              metrics=['accuracy'])\n",
    "\n",
    "start = time.time()\n",
    "\n",
    "# train\n",
    "model_fit = model.fit(x_train, y_train,\n",
    "                      batch_size=128, epochs=8, verbose=1,\n",
    "                      validation_data=(x_dev, y_dev))\n",
    "\n",
    "print('training time: ', time.time() - start)\n",
    "\n",
    "print('train loss: ', model_fit.history['loss'][-1])\n",
    "print('train accuracy: ', model_fit.history['accuracy'][-1])\n",
    "\n",
    "print('dev loss: ', model_fit.history['val_loss'][-1])\n",
    "print('dev accuracy: ', model_fit.history['val_accuracy'][-1])\n",
    "\n",
    "test_loss, test_acc = model.evaluate(x_test, y_test, batch_size=128)\n",
    "print('test loss: ', test_loss)\n",
    "print('test accuracy: ', test_acc)\n",
    "\n",
    "plt.plot(model_fit.history['val_loss'])\n",
    "plt.xlabel('epoch')\n",
    "plt.ylabel('loss')\n",
    "plt.show()\n",
    "\n",
    "plt.plot(model_fit.history['val_accuracy'])\n",
    "plt.xlabel('epoch')\n",
    "plt.ylabel('acc')\n",
    "plt.show()"
   ]
  },
  {
   "cell_type": "code",
   "execution_count": 21,
   "id": "5dc700e4",
   "metadata": {
    "scrolled": true
   },
   "outputs": [
    {
     "name": "stdout",
     "output_type": "stream",
     "text": [
      "Epoch 1/10\n",
      "423/430 [============================>.] - ETA: 0s - loss: 0.3241 - accuracy: 0.9316\n",
      "Epoch 1: val_loss improved from inf to 0.17963, saving model to best_model.h5\n",
      "430/430 [==============================] - 3s 5ms/step - loss: 0.3221 - accuracy: 0.9321 - val_loss: 0.1796 - val_accuracy: 0.9726\n",
      "Epoch 2/10\n",
      "425/430 [============================>.] - ETA: 0s - loss: 0.1694 - accuracy: 0.9721\n",
      "Epoch 2: val_loss improved from 0.17963 to 0.16354, saving model to best_model.h5\n",
      "430/430 [==============================] - 2s 5ms/step - loss: 0.1693 - accuracy: 0.9721 - val_loss: 0.1635 - val_accuracy: 0.9730\n",
      "Epoch 3/10\n",
      "423/430 [============================>.] - ETA: 0s - loss: 0.1345 - accuracy: 0.9810\n",
      "Epoch 3: val_loss improved from 0.16354 to 0.15108, saving model to best_model.h5\n",
      "430/430 [==============================] - 2s 5ms/step - loss: 0.1344 - accuracy: 0.9810 - val_loss: 0.1511 - val_accuracy: 0.9778\n",
      "Epoch 4/10\n",
      "430/430 [==============================] - ETA: 0s - loss: 0.1164 - accuracy: 0.9848\n",
      "Epoch 4: val_loss improved from 0.15108 to 0.13902, saving model to best_model.h5\n",
      "430/430 [==============================] - 2s 5ms/step - loss: 0.1164 - accuracy: 0.9848 - val_loss: 0.1390 - val_accuracy: 0.9800\n",
      "Epoch 5/10\n",
      "421/430 [============================>.] - ETA: 0s - loss: 0.1043 - accuracy: 0.9866\n",
      "Epoch 5: val_loss improved from 0.13902 to 0.13756, saving model to best_model.h5\n",
      "430/430 [==============================] - 2s 5ms/step - loss: 0.1047 - accuracy: 0.9865 - val_loss: 0.1376 - val_accuracy: 0.9764\n",
      "Epoch 6/10\n",
      "422/430 [============================>.] - ETA: 0s - loss: 0.0942 - accuracy: 0.9884\n",
      "Epoch 6: val_loss improved from 0.13756 to 0.13482, saving model to best_model.h5\n",
      "430/430 [==============================] - 2s 5ms/step - loss: 0.0941 - accuracy: 0.9885 - val_loss: 0.1348 - val_accuracy: 0.9800\n",
      "Epoch 7/10\n",
      "420/430 [============================>.] - ETA: 0s - loss: 0.0871 - accuracy: 0.9900\n",
      "Epoch 7: val_loss improved from 0.13482 to 0.12580, saving model to best_model.h5\n",
      "430/430 [==============================] - 2s 5ms/step - loss: 0.0871 - accuracy: 0.9900 - val_loss: 0.1258 - val_accuracy: 0.9808\n",
      "Epoch 8/10\n",
      "425/430 [============================>.] - ETA: 0s - loss: 0.0831 - accuracy: 0.9907\n",
      "Epoch 8: val_loss improved from 0.12580 to 0.12323, saving model to best_model.h5\n",
      "430/430 [==============================] - 2s 5ms/step - loss: 0.0832 - accuracy: 0.9907 - val_loss: 0.1232 - val_accuracy: 0.9810\n",
      "Epoch 9/10\n",
      "429/430 [============================>.] - ETA: 0s - loss: 0.0790 - accuracy: 0.9911\n",
      "Epoch 9: val_loss improved from 0.12323 to 0.11811, saving model to best_model.h5\n",
      "430/430 [==============================] - 2s 5ms/step - loss: 0.0790 - accuracy: 0.9910 - val_loss: 0.1181 - val_accuracy: 0.9824\n",
      "Epoch 10/10\n",
      "423/430 [============================>.] - ETA: 0s - loss: 0.0759 - accuracy: 0.9916\n",
      "Epoch 10: val_loss improved from 0.11811 to 0.11417, saving model to best_model.h5\n",
      "430/430 [==============================] - 2s 5ms/step - loss: 0.0759 - accuracy: 0.9916 - val_loss: 0.1142 - val_accuracy: 0.9812\n",
      "training time:  23.064183473587036\n",
      "train loss:  0.07589694857597351\n",
      "train accuracy:  0.9916181564331055\n",
      "dev loss:  0.11417331546545029\n",
      "dev accuracy:  0.9811999797821045\n",
      "79/79 [==============================] - 0s 2ms/step - loss: 0.1132 - accuracy: 0.9818\n",
      "test loss:  0.11322014033794403\n",
      "test accuracy:  0.9818000197410583\n"
     ]
    },
    {
     "data": {
      "image/png": "[encoded data removed]",
      "text/plain": [
       "<Figure size 432x288 with 1 Axes>"
      ]
     },
     "metadata": {
      "needs_background": "light"
     },
     "output_type": "display_data"
    },
    {
     "data": {
      "image/png": "[encoded data removed]",
      "text/plain": [
       "<Figure size 432x288 with 1 Axes>"
      ]
     },
     "metadata": {
      "needs_background": "light"
     },
     "output_type": "display_data"
    }
   ],
   "source": [
    "# early stopping\n",
    "from keras.callbacks import EarlyStopping, ModelCheckpoint\n",
    "early_stopping = EarlyStopping(monitor='val_loss', mode='min', verbose=1, patience=3)\n",
    "model_checkpoint = ModelCheckpoint('best_model.h5', monitor='val_loss', mode='min', verbose=1, save_best_only=True)\n",
    "\n",
    "# define model\n",
    "model = tf.keras.models.Sequential([\n",
    "    tf.keras.layers.Flatten(input_shape=(28, 28)),\n",
    "    tf.keras.layers.Dense(512, kernel_regularizer=tf.keras.regularizers.l2(0.0001), activation=tf.nn.relu),\n",
    "    tf.keras.layers.Dense(512, kernel_regularizer=tf.keras.regularizers.l2(0.0001), activation=tf.nn.relu),\n",
    "    tf.keras.layers.Dense(10, activation=tf.nn.softmax)\n",
    "])\n",
    "\n",
    "# define optimizer, loss function, metrics\n",
    "model.compile(optimizer=tf.keras.optimizers.Adam(),\n",
    "              loss='categorical_crossentropy',\n",
    "              metrics=['accuracy'])\n",
    "\n",
    "start = time.time()\n",
    "\n",
    "# train\n",
    "model_fit = model.fit(x_train, y_train,\n",
    "                      batch_size=128, epochs=10, verbose=1,\n",
    "                      validation_data=(x_dev, y_dev), callbacks=[early_stopping, model_checkpoint])\n",
    "\n",
    "print('training time: ', time.time() - start)\n",
    "\n",
    "print('train loss: ', model_fit.history['loss'][-1])\n",
    "print('train accuracy: ', model_fit.history['accuracy'][-1])\n",
    "\n",
    "print('dev loss: ', model_fit.history['val_loss'][-1])\n",
    "print('dev accuracy: ', model_fit.history['val_accuracy'][-1])\n",
    "\n",
    "test_loss, test_acc = model.evaluate(x_test, y_test, batch_size=128)\n",
    "print('test loss: ', test_loss)\n",
    "print('test accuracy: ', test_acc)\n",
    "\n",
    "plt.plot(model_fit.history['val_loss'])\n",
    "plt.xlabel('epoch')\n",
    "plt.ylabel('loss')\n",
    "plt.show()\n",
    "\n",
    "plt.plot(model_fit.history['val_accuracy'])\n",
    "plt.xlabel('epoch')\n",
    "plt.ylabel('acc')\n",
    "plt.show()"
   ]
  },
  {
   "cell_type": "code",
   "execution_count": 22,
   "id": "c13a9f69",
   "metadata": {},
   "outputs": [
    {
     "name": "stdout",
     "output_type": "stream",
     "text": [
      "313/313 [==============================] - 0s 1ms/step - loss: 0.1132 - accuracy: 0.9818\n",
      "best test model loss:  0.11322016268968582\n",
      "best test model accuracy:  0.9818000197410583\n"
     ]
    }
   ],
   "source": [
    "best_model = keras.models.load_model('best_model.h5')\n",
    "best_test_loss, best_test_acc = best_model.evaluate(x_test, y_test)\n",
    "print('best test model loss: ', best_test_loss)\n",
    "print('best test model accuracy: ', best_test_acc)"
   ]
  },
  {
   "cell_type": "code",
   "execution_count": 24,
   "id": "69b2b7ef",
   "metadata": {},
   "outputs": [
    {
     "name": "stdout",
     "output_type": "stream",
     "text": [
      "Epoch 1/50\n",
      "422/430 [============================>.] - ETA: 0s - loss: 0.3224 - accuracy: 0.9313\n",
      "Epoch 1: val_loss improved from inf to 0.18513, saving model to best_model.h5\n",
      "430/430 [==============================] - 3s 5ms/step - loss: 0.3205 - accuracy: 0.9318 - val_loss: 0.1851 - val_accuracy: 0.9728\n",
      "Epoch 2/50\n",
      "427/430 [============================>.] - ETA: 0s - loss: 0.1698 - accuracy: 0.9732\n",
      "Epoch 2: val_loss improved from 0.18513 to 0.16664, saving model to best_model.h5\n",
      "430/430 [==============================] - 2s 5ms/step - loss: 0.1696 - accuracy: 0.9733 - val_loss: 0.1666 - val_accuracy: 0.9728\n",
      "Epoch 3/50\n",
      "420/430 [============================>.] - ETA: 0s - loss: 0.1332 - accuracy: 0.9813\n",
      "Epoch 3: val_loss improved from 0.16664 to 0.15024, saving model to best_model.h5\n",
      "430/430 [==============================] - 2s 5ms/step - loss: 0.1332 - accuracy: 0.9813 - val_loss: 0.1502 - val_accuracy: 0.9770\n",
      "Epoch 4/50\n",
      "426/430 [============================>.] - ETA: 0s - loss: 0.1158 - accuracy: 0.9842\n",
      "Epoch 4: val_loss improved from 0.15024 to 0.12849, saving model to best_model.h5\n",
      "430/430 [==============================] - 2s 5ms/step - loss: 0.1156 - accuracy: 0.9843 - val_loss: 0.1285 - val_accuracy: 0.9816\n",
      "Epoch 5/50\n",
      "427/430 [============================>.] - ETA: 0s - loss: 0.1028 - accuracy: 0.9873\n",
      "Epoch 5: val_loss did not improve from 0.12849\n",
      "430/430 [==============================] - 2s 5ms/step - loss: 0.1029 - accuracy: 0.9872 - val_loss: 0.1425 - val_accuracy: 0.9774\n",
      "Epoch 6/50\n",
      "429/430 [============================>.] - ETA: 0s - loss: 0.0945 - accuracy: 0.9887\n",
      "Epoch 6: val_loss improved from 0.12849 to 0.12174, saving model to best_model.h5\n",
      "430/430 [==============================] - 2s 5ms/step - loss: 0.0944 - accuracy: 0.9887 - val_loss: 0.1217 - val_accuracy: 0.9806\n",
      "Epoch 7/50\n",
      "424/430 [============================>.] - ETA: 0s - loss: 0.0876 - accuracy: 0.9900\n",
      "Epoch 7: val_loss did not improve from 0.12174\n",
      "430/430 [==============================] - 2s 5ms/step - loss: 0.0878 - accuracy: 0.9899 - val_loss: 0.1354 - val_accuracy: 0.9770\n",
      "Epoch 8/50\n",
      "426/430 [============================>.] - ETA: 0s - loss: 0.0809 - accuracy: 0.9911\n",
      "Epoch 8: val_loss did not improve from 0.12174\n",
      "430/430 [==============================] - 2s 5ms/step - loss: 0.0811 - accuracy: 0.9910 - val_loss: 0.1626 - val_accuracy: 0.9710\n",
      "Epoch 9/50\n",
      "429/430 [============================>.] - ETA: 0s - loss: 0.0809 - accuracy: 0.9906\n",
      "Epoch 9: val_loss did not improve from 0.12174\n",
      "430/430 [==============================] - 2s 5ms/step - loss: 0.0809 - accuracy: 0.9906 - val_loss: 0.1239 - val_accuracy: 0.9792\n",
      "Epoch 10/50\n",
      "425/430 [============================>.] - ETA: 0s - loss: 0.0747 - accuracy: 0.9918\n",
      "Epoch 10: val_loss did not improve from 0.12174\n",
      "430/430 [==============================] - 2s 5ms/step - loss: 0.0746 - accuracy: 0.9919 - val_loss: 0.1276 - val_accuracy: 0.9794\n",
      "Epoch 11/50\n",
      "421/430 [============================>.] - ETA: 0s - loss: 0.0714 - accuracy: 0.9931\n",
      "Epoch 11: val_loss improved from 0.12174 to 0.11998, saving model to best_model.h5\n",
      "430/430 [==============================] - 2s 5ms/step - loss: 0.0714 - accuracy: 0.9931 - val_loss: 0.1200 - val_accuracy: 0.9804\n",
      "Epoch 12/50\n",
      "429/430 [============================>.] - ETA: 0s - loss: 0.0708 - accuracy: 0.9920\n",
      "Epoch 12: val_loss improved from 0.11998 to 0.11969, saving model to best_model.h5\n",
      "430/430 [==============================] - 2s 5ms/step - loss: 0.0709 - accuracy: 0.9920 - val_loss: 0.1197 - val_accuracy: 0.9816\n",
      "Epoch 13/50\n",
      "425/430 [============================>.] - ETA: 0s - loss: 0.0704 - accuracy: 0.9918\n",
      "Epoch 13: val_loss did not improve from 0.11969\n",
      "430/430 [==============================] - 2s 5ms/step - loss: 0.0704 - accuracy: 0.9918 - val_loss: 0.1246 - val_accuracy: 0.9780\n",
      "Epoch 14/50\n",
      "429/430 [============================>.] - ETA: 0s - loss: 0.0663 - accuracy: 0.9931\n",
      "Epoch 14: val_loss improved from 0.11969 to 0.11060, saving model to best_model.h5\n",
      "430/430 [==============================] - 2s 5ms/step - loss: 0.0663 - accuracy: 0.9931 - val_loss: 0.1106 - val_accuracy: 0.9820\n",
      "Epoch 15/50\n",
      "420/430 [============================>.] - ETA: 0s - loss: 0.0641 - accuracy: 0.9931\n",
      "Epoch 15: val_loss improved from 0.11060 to 0.10297, saving model to best_model.h5\n",
      "430/430 [==============================] - 2s 5ms/step - loss: 0.0641 - accuracy: 0.9931 - val_loss: 0.1030 - val_accuracy: 0.9840\n",
      "Epoch 16/50\n",
      "430/430 [==============================] - ETA: 0s - loss: 0.0611 - accuracy: 0.9939\n",
      "Epoch 16: val_loss did not improve from 0.10297\n",
      "430/430 [==============================] - 2s 5ms/step - loss: 0.0611 - accuracy: 0.9939 - val_loss: 0.1196 - val_accuracy: 0.9788\n",
      "Epoch 17/50\n",
      "425/430 [============================>.] - ETA: 0s - loss: 0.0629 - accuracy: 0.9931\n",
      "Epoch 17: val_loss did not improve from 0.10297\n",
      "430/430 [==============================] - 2s 5ms/step - loss: 0.0632 - accuracy: 0.9931 - val_loss: 0.1197 - val_accuracy: 0.9810\n",
      "Epoch 18/50\n",
      "429/430 [============================>.] - ETA: 0s - loss: 0.0561 - accuracy: 0.9948\n",
      "Epoch 18: val_loss did not improve from 0.10297\n",
      "430/430 [==============================] - 2s 5ms/step - loss: 0.0561 - accuracy: 0.9948 - val_loss: 0.1096 - val_accuracy: 0.9818\n",
      "Epoch 19/50\n",
      "421/430 [============================>.] - ETA: 0s - loss: 0.0557 - accuracy: 0.9942\n",
      "Epoch 19: val_loss improved from 0.10297 to 0.10000, saving model to best_model.h5\n",
      "430/430 [==============================] - 2s 5ms/step - loss: 0.0556 - accuracy: 0.9942 - val_loss: 0.1000 - val_accuracy: 0.9846\n",
      "Epoch 20/50\n",
      "430/430 [==============================] - ETA: 0s - loss: 0.0548 - accuracy: 0.9946\n",
      "Epoch 20: val_loss did not improve from 0.10000\n",
      "430/430 [==============================] - 2s 5ms/step - loss: 0.0548 - accuracy: 0.9946 - val_loss: 0.1157 - val_accuracy: 0.9806\n",
      "Epoch 21/50\n",
      "427/430 [============================>.] - ETA: 0s - loss: 0.0569 - accuracy: 0.9940\n",
      "Epoch 21: val_loss did not improve from 0.10000\n",
      "430/430 [==============================] - 2s 5ms/step - loss: 0.0568 - accuracy: 0.9940 - val_loss: 0.1282 - val_accuracy: 0.9768\n",
      "Epoch 22/50\n",
      "424/430 [============================>.] - ETA: 0s - loss: 0.0521 - accuracy: 0.9951\n",
      "Epoch 22: val_loss did not improve from 0.10000\n",
      "430/430 [==============================] - 2s 5ms/step - loss: 0.0521 - accuracy: 0.9951 - val_loss: 0.1001 - val_accuracy: 0.9850\n",
      "Epoch 23/50\n",
      "427/430 [============================>.] - ETA: 0s - loss: 0.0536 - accuracy: 0.9945\n",
      "Epoch 23: val_loss did not improve from 0.10000\n",
      "430/430 [==============================] - 2s 5ms/step - loss: 0.0536 - accuracy: 0.9945 - val_loss: 0.1210 - val_accuracy: 0.9816\n",
      "Epoch 24/50\n",
      "430/430 [==============================] - ETA: 0s - loss: 0.0541 - accuracy: 0.9943\n",
      "Epoch 24: val_loss did not improve from 0.10000\n",
      "430/430 [==============================] - 2s 5ms/step - loss: 0.0541 - accuracy: 0.9943 - val_loss: 0.1085 - val_accuracy: 0.9818\n",
      "Epoch 24: early stopping\n",
      "training time:  53.986374855041504\n",
      "train loss:  0.05413021147251129\n",
      "train accuracy:  0.9942545294761658\n",
      "dev loss:  0.10847730934619904\n",
      "dev accuracy:  0.9818000197410583\n"
     ]
    },
    {
     "data": {
      "image/png": "[encoded data removed]",
      "text/plain": [
       "<Figure size 432x288 with 1 Axes>"
      ]
     },
     "metadata": {
      "needs_background": "light"
     },
     "output_type": "display_data"
    },
    {
     "data": {
      "image/png": "[encoded data removed]",
      "text/plain": [
       "<Figure size 432x288 with 1 Axes>"
      ]
     },
     "metadata": {
      "needs_background": "light"
     },
     "output_type": "display_data"
    },
    {
     "name": "stdout",
     "output_type": "stream",
     "text": [
      "313/313 [==============================] - 0s 1ms/step - loss: 0.0989 - accuracy: 0.9825\n",
      "best test model loss:  0.09890226274728775\n",
      "best test model accuracy:  0.9825000166893005\n"
     ]
    }
   ],
   "source": [
    "# early stopping\n",
    "from keras.callbacks import EarlyStopping, ModelCheckpoint\n",
    "early_stopping = EarlyStopping(monitor='val_loss', mode='min', verbose=1, patience=5)\n",
    "model_checkpoint = ModelCheckpoint('best_model.h5', monitor='val_loss', mode='min', verbose=1, save_best_only=True)\n",
    "\n",
    "# define model\n",
    "model = tf.keras.models.Sequential([\n",
    "    tf.keras.layers.Flatten(input_shape=(28, 28)),\n",
    "    tf.keras.layers.Dense(512, kernel_regularizer=tf.keras.regularizers.l2(0.0001), activation=tf.nn.relu),\n",
    "    tf.keras.layers.Dense(512, kernel_regularizer=tf.keras.regularizers.l2(0.0001), activation=tf.nn.relu),\n",
    "    tf.keras.layers.Dense(10, activation=tf.nn.softmax)\n",
    "])\n",
    "\n",
    "# define optimizer, loss function, metrics\n",
    "model.compile(optimizer=tf.keras.optimizers.Adam(),\n",
    "              loss='categorical_crossentropy',\n",
    "              metrics=['accuracy'])\n",
    "\n",
    "start = time.time()\n",
    "\n",
    "# train\n",
    "model_fit = model.fit(x_train, y_train,\n",
    "                      batch_size=128, epochs=50, verbose=1,\n",
    "                      validation_data=(x_dev, y_dev), callbacks=[early_stopping, model_checkpoint])\n",
    "\n",
    "print('training time: ', time.time() - start)\n",
    "\n",
    "print('train loss: ', model_fit.history['loss'][-1])\n",
    "print('train accuracy: ', model_fit.history['accuracy'][-1])\n",
    "\n",
    "print('dev loss: ', model_fit.history['val_loss'][-1])\n",
    "print('dev accuracy: ', model_fit.history['val_accuracy'][-1])\n",
    "\n",
    "plt.plot(model_fit.history['val_loss'])\n",
    "plt.xlabel('epoch')\n",
    "plt.ylabel('loss')\n",
    "plt.show()\n",
    "\n",
    "plt.plot(model_fit.history['val_accuracy'])\n",
    "plt.xlabel('epoch')\n",
    "plt.ylabel('acc')\n",
    "plt.show()\n",
    "\n",
    "best_model = keras.models.load_model('best_model.h5')\n",
    "best_test_loss, best_test_acc = best_model.evaluate(x_test, y_test)\n",
    "print('best test model loss: ', best_test_loss)\n",
    "print('best test model accuracy: ', best_test_acc)"
   ]
  },
  {
   "cell_type": "code",
   "execution_count": null,
   "id": "b06c00c2",
   "metadata": {},
   "outputs": [],
   "source": []
  }
 ],
 "metadata": {
  "kernelspec": {
   "display_name": "Python 3 (ipykernel)",
   "language": "python",
   "name": "python3"
  },
  "language_info": {
   "codemirror_mode": {
    "name": "ipython",
    "version": 3
   },
   "file_extension": ".py",
   "mimetype": "text/x-python",
   "name": "python",
   "nbconvert_exporter": "python",
   "pygments_lexer": "ipython3",
   "version": "3.10.2"
  }
 },
 "nbformat": 4,
 "nbformat_minor": 5
}
