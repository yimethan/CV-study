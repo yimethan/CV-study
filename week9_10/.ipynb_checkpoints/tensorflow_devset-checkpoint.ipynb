{
 "cells": [
  {
   "cell_type": "code",
   "execution_count": 1,
   "id": "79dfe2c9",
   "metadata": {},
   "outputs": [],
   "source": [
    "import tensorflow as tf\n",
    "from tensorflow import keras\n",
    "import matplotlib.pyplot as plt\n",
    "import numpy as np\n",
    "import time\n",
    "from keras.utils import np_utils"
   ]
  },
  {
   "cell_type": "code",
   "execution_count": 2,
   "id": "ba4f670c",
   "metadata": {},
   "outputs": [],
   "source": [
    "mnist = keras.datasets.mnist\n",
    "(x_train, y_train), (x_test, y_test) = mnist.load_data()"
   ]
  },
  {
   "cell_type": "code",
   "execution_count": 3,
   "id": "9f9f32d8",
   "metadata": {},
   "outputs": [
    {
     "name": "stdout",
     "output_type": "stream",
     "text": [
      "(60000, 28, 28)\n",
      "(10000, 28, 28)\n",
      "(60000,)\n",
      "(10000,)\n"
     ]
    }
   ],
   "source": [
    "print(x_train.shape)\n",
    "print(x_test.shape)\n",
    "print(y_train.shape)\n",
    "print(y_test.shape)"
   ]
  },
  {
   "cell_type": "code",
   "execution_count": 4,
   "id": "9cec88e5",
   "metadata": {},
   "outputs": [],
   "source": [
    "x_dev = x_train[-5000:]\n",
    "y_dev = y_train[-5000:]\n",
    "x_train = x_train[:-5000]\n",
    "y_train = y_train[:-5000]"
   ]
  },
  {
   "cell_type": "code",
   "execution_count": 5,
   "id": "107c55d6",
   "metadata": {},
   "outputs": [
    {
     "name": "stdout",
     "output_type": "stream",
     "text": [
      "(55000, 28, 28)\n",
      "(10000, 28, 28)\n",
      "(55000,)\n",
      "(10000,)\n",
      "(5000, 28, 28)\n",
      "(5000, 28, 28)\n"
     ]
    }
   ],
   "source": [
    "print(x_train.shape)\n",
    "print(x_test.shape)\n",
    "print(y_train.shape)\n",
    "print(y_test.shape)\n",
    "\n",
    "print(x_dev.shape)\n",
    "print(x_dev.shape)"
   ]
  },
  {
   "cell_type": "code",
   "execution_count": 6,
   "id": "10a6ce60",
   "metadata": {},
   "outputs": [
    {
     "name": "stdout",
     "output_type": "stream",
     "text": [
      "(55000, 10)\n",
      "(10000, 10)\n",
      "(5000, 10)\n"
     ]
    }
   ],
   "source": [
    "# one-hot format\n",
    "y_train = np_utils.to_categorical(y_train, 10)\n",
    "y_test = np_utils.to_categorical(y_test, 10)\n",
    "print(y_train.shape)\n",
    "print(y_test.shape)\n",
    "\n",
    "y_dev = np_utils.to_categorical(y_dev, 10)\n",
    "print(y_dev.shape)"
   ]
  },
  {
   "cell_type": "code",
   "execution_count": 7,
   "id": "e1024c93",
   "metadata": {},
   "outputs": [],
   "source": [
    "# [0-255] to [0-1]\n",
    "x_train = x_train / 255.0\n",
    "x_dev = x_dev / 255.0\n",
    "x_test = x_test / 255.0"
   ]
  },
  {
   "cell_type": "code",
   "execution_count": 8,
   "id": "4f01594c",
   "metadata": {},
   "outputs": [],
   "source": [
    "# define model\n",
    "# 3-layer-NN (512 nodes, 512 nodes, 10 nodes - 2 hidden layers, output layer)\n",
    "# L2 regulation to prevent overfitting(reduce variance)\n",
    "# relu activation function for hidden layers & softmax for output layer\n",
    "\n",
    "model = tf.keras.models.Sequential([\n",
    "    tf.keras.layers.Flatten(input_shape=(28, 28)), # (60000, 758)\n",
    "    tf.keras.layers.Dense(512, kernel_regularizer=tf.keras.regularizers.l2(0.0001), activation=tf.nn.relu),\n",
    "    tf.keras.layers.Dense(512, kernel_regularizer=tf.keras.regularizers.l2(0.0001), activation=tf.nn.relu),\n",
    "    tf.keras.layers.Dense(10, activation=tf.nn.softmax)\n",
    "])"
   ]
  },
  {
   "cell_type": "code",
   "execution_count": 9,
   "id": "ffd05a7b",
   "metadata": {},
   "outputs": [],
   "source": [
    "# define optimizer, loss function, metrics\n",
    "\n",
    "model.compile(\n",
    "    # Optimizer\n",
    "    \n",
    "    optimizer=tf.keras.optimizers.Adam(),\n",
    "    # Adam = grad descent w momentum + RMSprop\n",
    "    \n",
    "    \n",
    "    # Loss function to minimize\n",
    "\n",
    "#     loss=tf.keras.losses.SparseCategoricalCrossentropy(from_logits=True),\n",
    "    # use this loss function when 2 or more integer label classes\n",
    "    # logit = logistic + probit(확률을 재는 단위, = odds(두 확률의 비율)); 값이 0보다 큰지 아닌지, sigmoid의 역함수\n",
    "    # 라벨값이 0 ~ 9로 되어있기 떄문에 사실은 One Hot Encoding을 해야 하는데,\n",
    "    # sparse categorical crossentropy 를 사용하면 같은 효과 나와서 따로 하지 않음\n",
    "\n",
    "    loss='categorical_crossentropy',\n",
    "#     cross-entropy: a measure of how different your predicted distribution is from the target distribution\n",
    "\n",
    "    # List of metrics to monitor\n",
    "    \n",
    "    metrics=['accuracy']\n",
    "    # must be list (can be more than one if more than one output)\n",
    ")"
   ]
  },
  {
   "cell_type": "code",
   "execution_count": 10,
   "id": "a43ddeed",
   "metadata": {},
   "outputs": [],
   "source": [
    "start = time.time()"
   ]
  },
  {
   "cell_type": "code",
   "execution_count": 11,
   "id": "3ad4d68c",
   "metadata": {},
   "outputs": [
    {
     "name": "stdout",
     "output_type": "stream",
     "text": [
      "Epoch 1/10\n",
      "430/430 [==============================] - 3s 5ms/step - loss: 0.3242 - accuracy: 0.9301 - val_loss: 0.1787 - val_accuracy: 0.9736\n",
      "Epoch 2/10\n",
      "430/430 [==============================] - 2s 5ms/step - loss: 0.1689 - accuracy: 0.9733 - val_loss: 0.1449 - val_accuracy: 0.9812\n",
      "Epoch 3/10\n",
      "430/430 [==============================] - 2s 5ms/step - loss: 0.1352 - accuracy: 0.9810 - val_loss: 0.1504 - val_accuracy: 0.9782\n",
      "Epoch 4/10\n",
      "430/430 [==============================] - 2s 5ms/step - loss: 0.1176 - accuracy: 0.9837 - val_loss: 0.1395 - val_accuracy: 0.9802\n",
      "Epoch 5/10\n",
      "430/430 [==============================] - 2s 5ms/step - loss: 0.1034 - accuracy: 0.9875 - val_loss: 0.1393 - val_accuracy: 0.9800\n",
      "Epoch 6/10\n",
      "430/430 [==============================] - 2s 5ms/step - loss: 0.0951 - accuracy: 0.9887 - val_loss: 0.1234 - val_accuracy: 0.9806\n",
      "Epoch 7/10\n",
      "430/430 [==============================] - 2s 5ms/step - loss: 0.0858 - accuracy: 0.9904 - val_loss: 0.1219 - val_accuracy: 0.9806\n",
      "Epoch 8/10\n",
      "430/430 [==============================] - 2s 5ms/step - loss: 0.0857 - accuracy: 0.9896 - val_loss: 0.1236 - val_accuracy: 0.9810\n",
      "Epoch 9/10\n",
      "430/430 [==============================] - 2s 5ms/step - loss: 0.0787 - accuracy: 0.9917 - val_loss: 0.1210 - val_accuracy: 0.9802\n",
      "Epoch 10/10\n",
      "430/430 [==============================] - 2s 5ms/step - loss: 0.0775 - accuracy: 0.9914 - val_loss: 0.1152 - val_accuracy: 0.9816\n"
     ]
    }
   ],
   "source": [
    "# train\n",
    "model_fit = model.fit(x_train, y_train,\n",
    "    batch_size=128, epochs=10, verbose=1,\n",
    "    # verbose : 0 silent, 1 progress bar, 2 one line per epoch\n",
    "    validation_data=(x_dev, y_dev)\n",
    ")\n",
    "# epsilon = None (1e-07)"
   ]
  },
  {
   "cell_type": "code",
   "execution_count": 12,
   "id": "42639b19",
   "metadata": {},
   "outputs": [
    {
     "name": "stdout",
     "output_type": "stream",
     "text": [
      "training time:  22.888632774353027\n"
     ]
    }
   ],
   "source": [
    "print('training time: ', time.time() - start)"
   ]
  },
  {
   "cell_type": "code",
   "execution_count": 13,
   "id": "1c977258",
   "metadata": {},
   "outputs": [
    {
     "name": "stdout",
     "output_type": "stream",
     "text": [
      "train loss:  0.07753665000200272\n",
      "train accuracy:  0.991381824016571\n",
      "dev loss:  0.1151759997010231\n",
      "dev accuracy:  0.9815999865531921\n"
     ]
    },
    {
     "data": {
      "image/png": "[encoded data removed]",
      "text/plain": [
       "<Figure size 432x288 with 1 Axes>"
      ]
     },
     "metadata": {
      "needs_background": "light"
     },
     "output_type": "display_data"
    }
   ],
   "source": [
    "train_loss = model_fit.history['loss'][-1]\n",
    "train_acc = model_fit.history['accuracy'][-1]\n",
    "dev_loss = model_fit.history['val_loss'][-1]\n",
    "dev_acc = model_fit.history['val_accuracy'][-1]\n",
    "\n",
    "print('train loss: ', train_loss)\n",
    "print('train accuracy: ', train_acc)\n",
    "\n",
    "print('dev loss: ', dev_loss)\n",
    "print('dev accuracy: ', dev_acc)\n",
    "\n",
    "plt.plot(model_fit.history['val_loss'])\n",
    "plt.xlabel('epoch')\n",
    "plt.ylabel('loss')\n",
    "plt.show()"
   ]
  },
  {
   "cell_type": "code",
   "execution_count": 14,
   "id": "13943280",
   "metadata": {
    "scrolled": true
   },
   "outputs": [
    {
     "name": "stdout",
     "output_type": "stream",
     "text": [
      "79/79 [==============================] - 0s 2ms/step - loss: 0.1180 - accuracy: 0.9800\n",
      "test loss:  0.11795003712177277\n",
      "test accuracy:  0.9800000190734863\n"
     ]
    }
   ],
   "source": [
    "# evaluate\n",
    "test_loss, test_acc = model.evaluate(x_test, y_test, batch_size=128)\n",
    "\n",
    "print('test loss: ', test_loss)\n",
    "print('test accuracy: ', test_acc)"
   ]
  },
  {
   "cell_type": "code",
   "execution_count": null,
   "id": "89bff002",
   "metadata": {},
   "outputs": [],
   "source": []
  }
 ],
 "metadata": {
  "kernelspec": {
   "display_name": "Python 3 (ipykernel)",
   "language": "python",
   "name": "python3"
  },
  "language_info": {
   "codemirror_mode": {
    "name": "ipython",
    "version": 3
   },
   "file_extension": ".py",
   "mimetype": "text/x-python",
   "name": "python",
   "nbconvert_exporter": "python",
   "pygments_lexer": "ipython3",
   "version": "3.10.2"
  }
 },
 "nbformat": 4,
 "nbformat_minor": 5
}
