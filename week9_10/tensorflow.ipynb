{
 "cells": [
  {
   "cell_type": "code",
   "execution_count": null,
   "id": "79dfe2c9",
   "metadata": {},
   "outputs": [],
   "source": [
    "import tensorflow as tf\n",
    "from tensorflow import keras\n",
    "import matplotlib.pyplot as plt\n",
    "import numpy as np\n",
    "import time"
   ]
  },
  {
   "cell_type": "code",
   "execution_count": null,
   "id": "ba4f670c",
   "metadata": {},
   "outputs": [],
   "source": [
    "mnist = keras.datasets.mnist\n",
    "(x_train, y_train), (x_test, y_test) = mnist.load_data()\n",
    "# x_train.shape (60000, 28, 28)\n",
    "# x_test.shape (10000, 28, 28)\n",
    "# y_train.shape (60000,)\n",
    "# y_test.shape (10000,)"
   ]
  },
  {
   "cell_type": "code",
   "execution_count": null,
   "id": "e1024c93",
   "metadata": {},
   "outputs": [],
   "source": [
    "# [0-255] to [0-1]\n",
    "x_train /= 255\n",
    "x_test /= 255"
   ]
  },
  {
   "cell_type": "code",
   "execution_count": null,
   "id": "e18aca10",
   "metadata": {},
   "outputs": [],
   "source": [
    "# didn't modify target matrices(y_test and y_train) to be in the one-hot format\n",
    "# y_train = np_utils.to_categorical(y_train, nb_classes)\n",
    "# y_test = np_utils.to_categorical(y_test, nb_classes)"
   ]
  },
  {
   "cell_type": "code",
   "execution_count": null,
   "id": "47f6d0a2",
   "metadata": {},
   "outputs": [],
   "source": [
    "start = time.time()"
   ]
  },
  {
   "cell_type": "code",
   "execution_count": null,
   "id": "4f01594c",
   "metadata": {},
   "outputs": [],
   "source": [
    "# define model\n",
    "# 3-layer-NN (512 nodes, 512 nodes, 10 nodes - 2 hidden layers, output layer)\n",
    "# L2 regulation to prevent overfitting(reduce variance)\n",
    "# relu activation function for hidden layers & softmax for output layer\n",
    "\n",
    "model = tf.keras.models.Sequential([\n",
    "    tf.keras.layers.Flatten(input_shape=(28, 28)), # (60000, 758)\n",
    "    tf.keras.layers.Dense(512, kernel_regularizer=tf.keras.regularizers.l2(0.0001), activation=tf.nn.relu),\n",
    "    tf.keras.layers.Dense(512, kernel_regularizer=tf.keras.regularizers.l2(0.0001), activation=tf.nn.relu),\n",
    "    tf.keras.layers.Dense(10, activation=tf.nn.softmax)\n",
    "])"
   ]
  },
  {
   "cell_type": "code",
   "execution_count": null,
   "id": "ffd05a7b",
   "metadata": {},
   "outputs": [],
   "source": [
    "# define optimizer, loss function, metrics\n",
    "\n",
    "model.compile(\n",
    "    optimizer=tf.keras.optimizers.Adam(),\n",
    "    # Adam = grad descent w momentum + RMSprop\n",
    "\n",
    "    #loss=tf.keras.losses.SparseCategoricalCrossentropy(from_logits=True),\n",
    "    # use this loss function when 2 or more integer label classes\n",
    "    # logit = logistic + probit(확률을 재는 단위, = odds(두 확률의 비율)); 값이 0보다 큰지 아닌지, sigmoid의 역함수\n",
    "\n",
    "    loss=tf.keras.losses.categorical_crossentropy(from_logits=True),\n",
    "    # cross-entropy: a measure of how different your predicted distribution is from the target distribution\n",
    "\n",
    "    metrics=['accruacy']\n",
    ")"
   ]
  },
  {
   "cell_type": "code",
   "execution_count": null,
   "id": "3ad4d68c",
   "metadata": {},
   "outputs": [],
   "source": [
    "# train\n",
    "model_fit = model.fit(x_train, y_train,\n",
    "    batch_size=128, epochs=4, verbose=1,\n",
    "    # verbose : 0 silent, 1 progress bar, 2 one line per epoch\n",
    "    show_accuracy=True, validation_data=(x_test, y_test)\n",
    ")\n",
    "# epsilon = None (1e-07)"
   ]
  },
  {
   "cell_type": "code",
   "execution_count": null,
   "id": "42639b19",
   "metadata": {},
   "outputs": [],
   "source": [
    "print('training time: ', time.time() - start)"
   ]
  },
  {
   "cell_type": "code",
   "execution_count": null,
   "id": "1c977258",
   "metadata": {},
   "outputs": [],
   "source": [
    "train_loss = model_fit.history['loss'][-1]\n",
    "train_acc = model_fit.histroy['acc'][-1]\n",
    "\n",
    "print('train loss: ', train_loss)\n",
    "print('train accuracy: ', train_acc)\n",
    "\n",
    "plt.plot(model_fit.history['loss'])\n",
    "plt.xlabel('epoch')\n",
    "plt.ylabel('loss')\n",
    "plt.show()"
   ]
  },
  {
   "cell_type": "code",
   "execution_count": null,
   "id": "13943280",
   "metadata": {},
   "outputs": [],
   "source": [
    "# evaluate\n",
    "test_loss, test_acc = model.evaluate(x_test, y_test)\n",
    "\n",
    "print('test loss: ', test_loss)\n",
    "print('test accuracy: ', test_acc)"
   ]
  }
 ],
 "metadata": {
  "kernelspec": {
   "display_name": "Python 3 (ipykernel)",
   "language": "python",
   "name": "python3"
  },
  "language_info": {
   "codemirror_mode": {
    "name": "ipython",
    "version": 3
   },
   "file_extension": ".py",
   "mimetype": "text/x-python",
   "name": "python",
   "nbconvert_exporter": "python",
   "pygments_lexer": "ipython3",
   "version": "3.10.2"
  }
 },
 "nbformat": 4,
 "nbformat_minor": 5
}
