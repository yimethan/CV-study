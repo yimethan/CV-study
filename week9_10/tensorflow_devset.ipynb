{
 "cells": [
  {
   "cell_type": "code",
   "execution_count": 1,
   "id": "79dfe2c9",
   "metadata": {},
   "outputs": [],
   "source": [
    "import tensorflow as tf\n",
    "from tensorflow import keras\n",
    "import matplotlib.pyplot as plt\n",
    "import numpy as np\n",
    "import time\n",
    "from keras.utils import np_utils"
   ]
  },
  {
   "cell_type": "code",
   "execution_count": 2,
   "id": "ba4f670c",
   "metadata": {},
   "outputs": [],
   "source": [
    "mnist = keras.datasets.mnist\n",
    "(x_train, y_train), (x_test, y_test) = mnist.load_data()"
   ]
  },
  {
   "cell_type": "code",
   "execution_count": 3,
   "id": "9f9f32d8",
   "metadata": {},
   "outputs": [
    {
     "name": "stdout",
     "output_type": "stream",
     "text": [
      "(60000, 28, 28)\n",
      "(10000, 28, 28)\n",
      "(60000,)\n",
      "(10000,)\n"
     ]
    }
   ],
   "source": [
    "print(x_train.shape)\n",
    "print(x_test.shape)\n",
    "print(y_train.shape)\n",
    "print(y_test.shape)"
   ]
  },
  {
   "cell_type": "code",
   "execution_count": 4,
   "id": "9cec88e5",
   "metadata": {},
   "outputs": [],
   "source": [
    "x_dev = x_train[-5000:]\n",
    "y_dev = y_train[-5000:]\n",
    "x_train = x_train[:-5000]\n",
    "y_train = y_train[:-5000]"
   ]
  },
  {
   "cell_type": "code",
   "execution_count": 5,
   "id": "107c55d6",
   "metadata": {},
   "outputs": [
    {
     "name": "stdout",
     "output_type": "stream",
     "text": [
      "(55000, 28, 28)\n",
      "(10000, 28, 28)\n",
      "(55000,)\n",
      "(10000,)\n",
      "(5000, 28, 28)\n",
      "(5000, 28, 28)\n"
     ]
    }
   ],
   "source": [
    "print(x_train.shape)\n",
    "print(x_test.shape)\n",
    "print(y_train.shape)\n",
    "print(y_test.shape)\n",
    "\n",
    "print(x_dev.shape)\n",
    "print(x_dev.shape)"
   ]
  },
  {
   "cell_type": "code",
   "execution_count": 6,
   "id": "10a6ce60",
   "metadata": {},
   "outputs": [
    {
     "name": "stdout",
     "output_type": "stream",
     "text": [
      "(55000, 10)\n",
      "(10000, 10)\n",
      "(5000, 10)\n"
     ]
    }
   ],
   "source": [
    "# one-hot format\n",
    "y_train = np_utils.to_categorical(y_train, 10)\n",
    "y_test = np_utils.to_categorical(y_test, 10)\n",
    "print(y_train.shape)\n",
    "print(y_test.shape)\n",
    "\n",
    "y_dev = np_utils.to_categorical(y_dev, 10)\n",
    "print(y_dev.shape)"
   ]
  },
  {
   "cell_type": "code",
   "execution_count": 7,
   "id": "e1024c93",
   "metadata": {},
   "outputs": [],
   "source": [
    "# [0-255] to [0-1]\n",
    "x_train = x_train / 255.0\n",
    "x_dev = x_dev / 255.0\n",
    "x_test = x_test / 255.0"
   ]
  },
  {
   "cell_type": "code",
   "execution_count": 8,
   "id": "4f01594c",
   "metadata": {},
   "outputs": [],
   "source": [
    "# define model\n",
    "# 3-layer-NN (512 nodes, 512 nodes, 10 nodes - 2 hidden layers, output layer)\n",
    "# L2 regulation to prevent overfitting(reduce variance)\n",
    "# relu activation function for hidden layers & softmax for output layer\n",
    "\n",
    "model = tf.keras.models.Sequential([\n",
    "    tf.keras.layers.Flatten(input_shape=(28, 28)), # (60000, 758)\n",
    "    tf.keras.layers.Dense(512, kernel_regularizer=tf.keras.regularizers.l2(0.0001), activation=tf.nn.relu),\n",
    "    tf.keras.layers.Dense(512, kernel_regularizer=tf.keras.regularizers.l2(0.0001), activation=tf.nn.relu),\n",
    "    tf.keras.layers.Dense(10, activation=tf.nn.softmax)\n",
    "])"
   ]
  },
  {
   "cell_type": "code",
   "execution_count": 9,
   "id": "ffd05a7b",
   "metadata": {},
   "outputs": [],
   "source": [
    "# define optimizer, loss function, metrics\n",
    "\n",
    "model.compile(\n",
    "    # Optimizer\n",
    "    \n",
    "    optimizer=tf.keras.optimizers.Adam(),\n",
    "    # Adam = grad descent w momentum + RMSprop\n",
    "    \n",
    "    \n",
    "    # Loss function to minimize\n",
    "\n",
    "#     loss=tf.keras.losses.SparseCategoricalCrossentropy(from_logits=True),\n",
    "    # use this loss function when 2 or more integer label classes\n",
    "    # logit = logistic + probit(확률을 재는 단위, = odds(두 확률의 비율)); 값이 0보다 큰지 아닌지, sigmoid의 역함수\n",
    "    # 라벨값이 0 ~ 9로 되어있기 떄문에 사실은 One Hot Encoding을 해야 하는데,\n",
    "    # sparse categorical crossentropy 를 사용하면 같은 효과 나와서 따로 하지 않음\n",
    "\n",
    "    loss='categorical_crossentropy',\n",
    "#     cross-entropy: a measure of how different your predicted distribution is from the target distribution\n",
    "\n",
    "    # List of metrics to monitor\n",
    "    \n",
    "    metrics=['accuracy']\n",
    "    # must be list (can be more than one if more than one output)\n",
    ")"
   ]
  },
  {
   "cell_type": "code",
   "execution_count": 10,
   "id": "a43ddeed",
   "metadata": {},
   "outputs": [],
   "source": [
    "start = time.time()"
   ]
  },
  {
   "cell_type": "code",
   "execution_count": 11,
   "id": "3ad4d68c",
   "metadata": {},
   "outputs": [
    {
     "name": "stdout",
     "output_type": "stream",
     "text": [
      "Epoch 1/10\n",
      "430/430 [==============================] - 2s 5ms/step - loss: 0.3218 - accuracy: 0.9313 - val_loss: 0.1929 - val_accuracy: 0.9674\n",
      "Epoch 2/10\n",
      "430/430 [==============================] - 2s 5ms/step - loss: 0.1685 - accuracy: 0.9730 - val_loss: 0.1668 - val_accuracy: 0.9742\n",
      "Epoch 3/10\n",
      "430/430 [==============================] - 2s 5ms/step - loss: 0.1344 - accuracy: 0.9810 - val_loss: 0.1479 - val_accuracy: 0.9778\n",
      "Epoch 4/10\n",
      "430/430 [==============================] - 2s 5ms/step - loss: 0.1162 - accuracy: 0.9845 - val_loss: 0.1493 - val_accuracy: 0.9732\n",
      "Epoch 5/10\n",
      "430/430 [==============================] - 2s 5ms/step - loss: 0.1035 - accuracy: 0.9867 - val_loss: 0.1393 - val_accuracy: 0.9784\n",
      "Epoch 6/10\n",
      "430/430 [==============================] - 2s 5ms/step - loss: 0.0936 - accuracy: 0.9892 - val_loss: 0.1422 - val_accuracy: 0.9778\n",
      "Epoch 7/10\n",
      "430/430 [==============================] - 2s 5ms/step - loss: 0.0880 - accuracy: 0.9898 - val_loss: 0.1425 - val_accuracy: 0.9758\n",
      "Epoch 8/10\n",
      "430/430 [==============================] - 2s 5ms/step - loss: 0.0834 - accuracy: 0.9905 - val_loss: 0.1338 - val_accuracy: 0.9782\n",
      "Epoch 9/10\n",
      "430/430 [==============================] - 2s 5ms/step - loss: 0.0797 - accuracy: 0.9905 - val_loss: 0.1106 - val_accuracy: 0.9834\n",
      "Epoch 10/10\n",
      "430/430 [==============================] - 2s 5ms/step - loss: 0.0741 - accuracy: 0.9920 - val_loss: 0.1122 - val_accuracy: 0.9822\n"
     ]
    }
   ],
   "source": [
    "# train\n",
    "model_fit = model.fit(x_train, y_train,\n",
    "    batch_size=128, epochs=10, verbose=1,\n",
    "    # verbose : 0 silent, 1 progress bar, 2 one line per epoch\n",
    "    validation_data=(x_dev, y_dev)\n",
    ")\n",
    "# epsilon = None (1e-07)"
   ]
  },
  {
   "cell_type": "code",
   "execution_count": 12,
   "id": "42639b19",
   "metadata": {},
   "outputs": [
    {
     "name": "stdout",
     "output_type": "stream",
     "text": [
      "training time:  21.567689895629883\n"
     ]
    }
   ],
   "source": [
    "print('training time: ', time.time() - start)"
   ]
  },
  {
   "cell_type": "code",
   "execution_count": 13,
   "id": "1c977258",
   "metadata": {},
   "outputs": [
    {
     "name": "stdout",
     "output_type": "stream",
     "text": [
      "train loss:  0.07410373538732529\n",
      "train accuracy:  0.9919818043708801\n",
      "dev loss:  0.1121583878993988\n",
      "dev accuracy:  0.982200026512146\n"
     ]
    },
    {
     "data": {
      "image/png": "[encoded data removed]",
      "text/plain": [
       "<Figure size 432x288 with 1 Axes>"
      ]
     },
     "metadata": {
      "needs_background": "light"
     },
     "output_type": "display_data"
    }
   ],
   "source": [
    "train_loss = model_fit.history['loss'][-1]\n",
    "train_acc = model_fit.history['accuracy'][-1]\n",
    "dev_loss = model_fit.history['val_loss'][-1]\n",
    "dev_acc = model_fit.history['val_accuracy'][-1]\n",
    "\n",
    "print('train loss: ', train_loss)\n",
    "print('train accuracy: ', train_acc)\n",
    "\n",
    "print('dev loss: ', dev_loss)\n",
    "print('dev accuracy: ', dev_acc)\n",
    "\n",
    "plt.plot(model_fit.history['val_loss'])\n",
    "plt.xlabel('epoch')\n",
    "plt.ylabel('loss')\n",
    "plt.show()"
   ]
  },
  {
   "cell_type": "code",
   "execution_count": 14,
   "id": "13943280",
   "metadata": {
    "scrolled": true
   },
   "outputs": [
    {
     "name": "stdout",
     "output_type": "stream",
     "text": [
      "79/79 [==============================] - 0s 2ms/step - loss: 0.1166 - accuracy: 0.9808\n",
      "test loss:  0.11664816737174988\n",
      "test accuracy:  0.9807999730110168\n"
     ]
    }
   ],
   "source": [
    "# evaluate\n",
    "test_loss, test_acc = model.evaluate(x_test, y_test, batch_size=128)\n",
    "\n",
    "print('test loss: ', test_loss)\n",
    "print('test accuracy: ', test_acc)"
   ]
  },
  {
   "cell_type": "code",
   "execution_count": 15,
   "id": "89bff002",
   "metadata": {},
   "outputs": [
    {
     "name": "stdout",
     "output_type": "stream",
     "text": [
      "Epoch 1/10\n",
      "430/430 [==============================] - 2s 5ms/step - loss: 0.3235 - accuracy: 0.9312 - val_loss: 0.1867 - val_accuracy: 0.9700\n",
      "Epoch 2/10\n",
      "430/430 [==============================] - 2s 5ms/step - loss: 0.1691 - accuracy: 0.9733 - val_loss: 0.1526 - val_accuracy: 0.9766\n",
      "Epoch 3/10\n",
      "430/430 [==============================] - 2s 5ms/step - loss: 0.1336 - accuracy: 0.9815 - val_loss: 0.1501 - val_accuracy: 0.9742\n",
      "Epoch 4/10\n",
      "430/430 [==============================] - 2s 5ms/step - loss: 0.1168 - accuracy: 0.9836 - val_loss: 0.1377 - val_accuracy: 0.9792\n",
      "Epoch 5/10\n",
      "430/430 [==============================] - 2s 5ms/step - loss: 0.1029 - accuracy: 0.9871 - val_loss: 0.1291 - val_accuracy: 0.9808\n",
      "Epoch 6/10\n",
      "430/430 [==============================] - 2s 5ms/step - loss: 0.0927 - accuracy: 0.9892 - val_loss: 0.1307 - val_accuracy: 0.9800\n",
      "Epoch 7/10\n",
      "430/430 [==============================] - 2s 5ms/step - loss: 0.0880 - accuracy: 0.9895 - val_loss: 0.1252 - val_accuracy: 0.9782\n",
      "Epoch 8/10\n",
      "430/430 [==============================] - 2s 5ms/step - loss: 0.0825 - accuracy: 0.9910 - val_loss: 0.1209 - val_accuracy: 0.9794\n",
      "Epoch 9/10\n",
      "430/430 [==============================] - 2s 5ms/step - loss: 0.0785 - accuracy: 0.9912 - val_loss: 0.1239 - val_accuracy: 0.9810\n",
      "Epoch 10/10\n",
      "430/430 [==============================] - 2s 5ms/step - loss: 0.0743 - accuracy: 0.9919 - val_loss: 0.1240 - val_accuracy: 0.9792\n",
      "training time:  21.25627088546753\n",
      "train loss:  0.07426000386476517\n",
      "train accuracy:  0.9919272661209106\n",
      "dev loss:  0.12400825321674347\n",
      "dev accuracy:  0.979200005531311\n",
      "79/79 [==============================] - 0s 2ms/step - loss: 0.1187 - accuracy: 0.9778\n",
      "test loss:  0.11866989731788635\n",
      "test accuracy:  0.9778000116348267\n"
     ]
    },
    {
     "data": {
      "image/png": "[encoded data removed]",
      "text/plain": [
       "<Figure size 432x288 with 1 Axes>"
      ]
     },
     "metadata": {
      "needs_background": "light"
     },
     "output_type": "display_data"
    }
   ],
   "source": [
    "# define model\n",
    "model = tf.keras.models.Sequential([\n",
    "    tf.keras.layers.Flatten(input_shape=(28, 28)),\n",
    "    tf.keras.layers.Dense(512, kernel_regularizer=tf.keras.regularizers.l2(0.0001), activation=tf.nn.relu),\n",
    "    tf.keras.layers.Dense(512, kernel_regularizer=tf.keras.regularizers.l2(0.0001), activation=tf.nn.relu),\n",
    "    tf.keras.layers.Dense(10, activation=tf.nn.softmax)\n",
    "])\n",
    "\n",
    "# define optimizer, loss function, metrics\n",
    "model.compile(optimizer=tf.keras.optimizers.Adam(),\n",
    "              loss='categorical_crossentropy',\n",
    "              metrics=['accuracy'])\n",
    "\n",
    "start = time.time()\n",
    "\n",
    "# train\n",
    "model_fit = model.fit(x_train, y_train,\n",
    "                      batch_size=128, epochs=10, verbose=1,\n",
    "                      validation_data=(x_dev, y_dev))\n",
    "\n",
    "print('training time: ', time.time() - start)\n",
    "\n",
    "print('train loss: ', model_fit.history['loss'][-1])\n",
    "print('train accuracy: ', model_fit.history['accuracy'][-1])\n",
    "\n",
    "print('dev loss: ', model_fit.history['val_loss'][-1])\n",
    "print('dev accuracy: ', model_fit.history['val_accuracy'][-1])\n",
    "\n",
    "test_loss, test_acc = model.evaluate(x_test, y_test, batch_size=128)\n",
    "print('test loss: ', test_loss)\n",
    "print('test accuracy: ', test_acc)\n",
    "\n",
    "plt.plot(model_fit.history['val_loss'])\n",
    "plt.xlabel('epoch')\n",
    "plt.ylabel('loss')\n",
    "plt.show()"
   ]
  },
  {
   "cell_type": "code",
   "execution_count": 16,
   "id": "044ffb11",
   "metadata": {},
   "outputs": [
    {
     "name": "stdout",
     "output_type": "stream",
     "text": [
      "Epoch 1/5\n",
      "430/430 [==============================] - 2s 5ms/step - loss: 0.3235 - accuracy: 0.9313 - val_loss: 0.1949 - val_accuracy: 0.9666\n",
      "Epoch 2/5\n",
      "430/430 [==============================] - 2s 5ms/step - loss: 0.1718 - accuracy: 0.9717 - val_loss: 0.1558 - val_accuracy: 0.9764\n",
      "Epoch 3/5\n",
      "430/430 [==============================] - 2s 5ms/step - loss: 0.1354 - accuracy: 0.9804 - val_loss: 0.1497 - val_accuracy: 0.9754\n",
      "Epoch 4/5\n",
      "430/430 [==============================] - 2s 5ms/step - loss: 0.1160 - accuracy: 0.9846 - val_loss: 0.1459 - val_accuracy: 0.9766\n",
      "Epoch 5/5\n",
      "430/430 [==============================] - 2s 5ms/step - loss: 0.1025 - accuracy: 0.9869 - val_loss: 0.1404 - val_accuracy: 0.9768\n",
      "training time:  10.926638126373291\n",
      "train loss:  0.10250525921583176\n",
      "train accuracy:  0.9869454503059387\n",
      "dev loss:  0.14042852818965912\n",
      "dev accuracy:  0.9768000245094299\n",
      "79/79 [==============================] - 0s 2ms/step - loss: 0.1387 - accuracy: 0.9761\n",
      "test loss:  0.13866576552391052\n",
      "test accuracy:  0.9761000275611877\n"
     ]
    },
    {
     "data": {
      "image/png": "[encoded data removed]",
      "text/plain": [
       "<Figure size 432x288 with 1 Axes>"
      ]
     },
     "metadata": {
      "needs_background": "light"
     },
     "output_type": "display_data"
    }
   ],
   "source": [
    "# define model\n",
    "model = tf.keras.models.Sequential([\n",
    "    tf.keras.layers.Flatten(input_shape=(28, 28)),\n",
    "    tf.keras.layers.Dense(512, kernel_regularizer=tf.keras.regularizers.l2(0.0001), activation=tf.nn.relu),\n",
    "    tf.keras.layers.Dense(512, kernel_regularizer=tf.keras.regularizers.l2(0.0001), activation=tf.nn.relu),\n",
    "    tf.keras.layers.Dense(10, activation=tf.nn.softmax)\n",
    "])\n",
    "\n",
    "# define optimizer, loss function, metrics\n",
    "model.compile(optimizer=tf.keras.optimizers.Adam(),\n",
    "              loss='categorical_crossentropy',\n",
    "              metrics=['accuracy'])\n",
    "\n",
    "start = time.time()\n",
    "\n",
    "# train\n",
    "model_fit = model.fit(x_train, y_train,\n",
    "                      batch_size=128, epochs=5, verbose=1,\n",
    "                      validation_data=(x_dev, y_dev))\n",
    "\n",
    "print('training time: ', time.time() - start)\n",
    "\n",
    "print('train loss: ', model_fit.history['loss'][-1])\n",
    "print('train accuracy: ', model_fit.history['accuracy'][-1])\n",
    "\n",
    "print('dev loss: ', model_fit.history['val_loss'][-1])\n",
    "print('dev accuracy: ', model_fit.history['val_accuracy'][-1])\n",
    "\n",
    "test_loss, test_acc = model.evaluate(x_test, y_test, batch_size=128)\n",
    "print('test loss: ', test_loss)\n",
    "print('test accuracy: ', test_acc)\n",
    "\n",
    "plt.plot(model_fit.history['val_loss'])\n",
    "plt.xlabel('epoch')\n",
    "plt.ylabel('loss')\n",
    "plt.show()"
   ]
  },
  {
   "cell_type": "code",
   "execution_count": 17,
   "id": "b322aae3",
   "metadata": {},
   "outputs": [
    {
     "name": "stdout",
     "output_type": "stream",
     "text": [
      "Epoch 1/5\n",
      "215/215 [==============================] - 2s 6ms/step - loss: 0.3756 - accuracy: 0.9189 - val_loss: 0.1905 - val_accuracy: 0.9690\n",
      "Epoch 2/5\n",
      "215/215 [==============================] - 1s 6ms/step - loss: 0.1875 - accuracy: 0.9689 - val_loss: 0.1742 - val_accuracy: 0.9736\n",
      "Epoch 3/5\n",
      "215/215 [==============================] - 1s 6ms/step - loss: 0.1448 - accuracy: 0.9801 - val_loss: 0.1489 - val_accuracy: 0.9794\n",
      "Epoch 4/5\n",
      "215/215 [==============================] - 1s 6ms/step - loss: 0.1218 - accuracy: 0.9850 - val_loss: 0.1474 - val_accuracy: 0.9770\n",
      "Epoch 5/5\n",
      "215/215 [==============================] - 1s 6ms/step - loss: 0.1087 - accuracy: 0.9880 - val_loss: 0.1437 - val_accuracy: 0.9778\n",
      "training time:  6.737459659576416\n",
      "train loss:  0.10869774222373962\n",
      "train accuracy:  0.9880181550979614\n",
      "dev loss:  0.14372867345809937\n",
      "dev accuracy:  0.9778000116348267\n",
      "79/79 [==============================] - 0s 2ms/step - loss: 0.1393 - accuracy: 0.9770\n",
      "test loss:  0.13930703699588776\n",
      "test accuracy:  0.9769999980926514\n"
     ]
    },
    {
     "data": {
      "image/png": "[encoded data removed]",
      "text/plain": [
       "<Figure size 432x288 with 1 Axes>"
      ]
     },
     "metadata": {
      "needs_background": "light"
     },
     "output_type": "display_data"
    }
   ],
   "source": [
    "# define model\n",
    "model = tf.keras.models.Sequential([\n",
    "    tf.keras.layers.Flatten(input_shape=(28, 28)),\n",
    "    tf.keras.layers.Dense(512, kernel_regularizer=tf.keras.regularizers.l2(0.0001), activation=tf.nn.relu),\n",
    "    tf.keras.layers.Dense(512, kernel_regularizer=tf.keras.regularizers.l2(0.0001), activation=tf.nn.relu),\n",
    "    tf.keras.layers.Dense(10, activation=tf.nn.softmax)\n",
    "])\n",
    "\n",
    "# define optimizer, loss function, metrics\n",
    "model.compile(optimizer=tf.keras.optimizers.Adam(),\n",
    "              loss='categorical_crossentropy',\n",
    "              metrics=['accuracy'])\n",
    "\n",
    "start = time.time()\n",
    "\n",
    "# train\n",
    "model_fit = model.fit(x_train, y_train,\n",
    "                      batch_size=256, epochs=5, verbose=1,\n",
    "                      validation_data=(x_dev, y_dev))\n",
    "\n",
    "print('training time: ', time.time() - start)\n",
    "\n",
    "print('train loss: ', model_fit.history['loss'][-1])\n",
    "print('train accuracy: ', model_fit.history['accuracy'][-1])\n",
    "\n",
    "print('dev loss: ', model_fit.history['val_loss'][-1])\n",
    "print('dev accuracy: ', model_fit.history['val_accuracy'][-1])\n",
    "\n",
    "test_loss, test_acc = model.evaluate(x_test, y_test, batch_size=128)\n",
    "print('test loss: ', test_loss)\n",
    "print('test accuracy: ', test_acc)\n",
    "\n",
    "plt.plot(model_fit.history['val_loss'])\n",
    "plt.xlabel('epoch')\n",
    "plt.ylabel('loss')\n",
    "plt.show()"
   ]
  },
  {
   "cell_type": "code",
   "execution_count": 19,
   "id": "11467b38",
   "metadata": {},
   "outputs": [
    {
     "name": "stdout",
     "output_type": "stream",
     "text": [
      "Epoch 1/10\n",
      "215/215 [==============================] - 2s 7ms/step - loss: 0.3715 - accuracy: 0.9205 - val_loss: 0.1922 - val_accuracy: 0.9712\n",
      "Epoch 2/10\n",
      "215/215 [==============================] - 1s 6ms/step - loss: 0.1850 - accuracy: 0.9700 - val_loss: 0.1608 - val_accuracy: 0.9752\n",
      "Epoch 3/10\n",
      "215/215 [==============================] - 1s 6ms/step - loss: 0.1425 - accuracy: 0.9809 - val_loss: 0.1448 - val_accuracy: 0.9802\n",
      "Epoch 4/10\n",
      "215/215 [==============================] - 1s 6ms/step - loss: 0.1205 - accuracy: 0.9856 - val_loss: 0.1362 - val_accuracy: 0.9806\n",
      "Epoch 5/10\n",
      "215/215 [==============================] - 1s 6ms/step - loss: 0.1061 - accuracy: 0.9881 - val_loss: 0.1319 - val_accuracy: 0.9810\n",
      "Epoch 6/10\n",
      "215/215 [==============================] - 1s 6ms/step - loss: 0.0952 - accuracy: 0.9906 - val_loss: 0.1245 - val_accuracy: 0.9824\n",
      "Epoch 7/10\n",
      "215/215 [==============================] - 1s 6ms/step - loss: 0.0851 - accuracy: 0.9922 - val_loss: 0.1213 - val_accuracy: 0.9816\n",
      "Epoch 8/10\n",
      "215/215 [==============================] - 1s 6ms/step - loss: 0.0773 - accuracy: 0.9934 - val_loss: 0.1106 - val_accuracy: 0.9860\n",
      "Epoch 9/10\n",
      "215/215 [==============================] - 1s 6ms/step - loss: 0.0740 - accuracy: 0.9933 - val_loss: 0.1306 - val_accuracy: 0.9800\n",
      "Epoch 10/10\n",
      "215/215 [==============================] - 1s 6ms/step - loss: 0.0703 - accuracy: 0.9937 - val_loss: 0.1183 - val_accuracy: 0.9814\n",
      "training time:  13.591655254364014\n",
      "train loss:  0.07028234750032425\n",
      "train accuracy:  0.9937090873718262\n",
      "dev loss:  0.11833198368549347\n",
      "dev accuracy:  0.9814000129699707\n",
      "79/79 [==============================] - 0s 2ms/step - loss: 0.1143 - accuracy: 0.9786\n",
      "test loss:  0.11431695520877838\n",
      "test accuracy:  0.978600025177002\n"
     ]
    },
    {
     "data": {
      "image/png": "[encoded data removed]",
      "text/plain": [
       "<Figure size 432x288 with 1 Axes>"
      ]
     },
     "metadata": {
      "needs_background": "light"
     },
     "output_type": "display_data"
    },
    {
     "name": "stdout",
     "output_type": "stream",
     "text": [
      "{'loss': [0.37151914834976196, 0.1849982589483261, 0.14252254366874695, 0.12046100944280624, 0.10605477541685104, 0.09516654163599014, 0.08507995307445526, 0.0772944986820221, 0.07403191924095154, 0.07028234750032425], 'accuracy': [0.9205272793769836, 0.9700363874435425, 0.9809091091156006, 0.9855636358261108, 0.9880545735359192, 0.9905818104743958, 0.9921636581420898, 0.9934181571006775, 0.993254542350769, 0.9937090873718262], 'val_loss': [0.1922018975019455, 0.1607772707939148, 0.14475290477275848, 0.13615790009498596, 0.13189727067947388, 0.1244988739490509, 0.12132884562015533, 0.11063962429761887, 0.1306428760290146, 0.11833198368549347], 'val_accuracy': [0.9711999893188477, 0.9751999974250793, 0.9801999926567078, 0.9805999994277954, 0.9810000061988831, 0.9824000000953674, 0.9815999865531921, 0.9860000014305115, 0.9800000190734863, 0.9814000129699707]}\n"
     ]
    }
   ],
   "source": [
    "# define model\n",
    "model = tf.keras.models.Sequential([\n",
    "    tf.keras.layers.Flatten(input_shape=(28, 28)),\n",
    "    tf.keras.layers.Dense(512, kernel_regularizer=tf.keras.regularizers.l2(0.0001), activation=tf.nn.relu),\n",
    "    tf.keras.layers.Dense(512, kernel_regularizer=tf.keras.regularizers.l2(0.0001), activation=tf.nn.relu),\n",
    "    tf.keras.layers.Dense(10, activation=tf.nn.softmax)\n",
    "])\n",
    "\n",
    "# define optimizer, loss function, metrics\n",
    "model.compile(optimizer=tf.keras.optimizers.Adam(),\n",
    "              loss='categorical_crossentropy',\n",
    "              metrics=['accuracy'])\n",
    "\n",
    "start = time.time()\n",
    "\n",
    "# train\n",
    "model_fit = model.fit(x_train, y_train,\n",
    "                      batch_size=256, epochs=10, verbose=1,\n",
    "                      validation_data=(x_dev, y_dev))\n",
    "\n",
    "print('training time: ', time.time() - start)\n",
    "\n",
    "print('train loss: ', model_fit.history['loss'][-1])\n",
    "print('train accuracy: ', model_fit.history['accuracy'][-1])\n",
    "\n",
    "print('dev loss: ', model_fit.history['val_loss'][-1])\n",
    "print('dev accuracy: ', model_fit.history['val_accuracy'][-1])\n",
    "\n",
    "test_loss, test_acc = model.evaluate(x_test, y_test, batch_size=128)\n",
    "print('test loss: ', test_loss)\n",
    "print('test accuracy: ', test_acc)\n",
    "\n",
    "plt.plot(model_fit.history['val_loss'])\n",
    "plt.xlabel('epoch')\n",
    "plt.ylabel('loss')\n",
    "plt.show()\n",
    "\n",
    "print(model_fit.history)"
   ]
  },
  {
   "cell_type": "code",
   "execution_count": 22,
   "id": "cb3532e4",
   "metadata": {},
   "outputs": [
    {
     "name": "stdout",
     "output_type": "stream",
     "text": [
      "Epoch 1/8\n",
      "215/215 [==============================] - 2s 6ms/step - loss: 0.3753 - accuracy: 0.9189 - val_loss: 0.1929 - val_accuracy: 0.9676\n",
      "Epoch 2/8\n",
      "215/215 [==============================] - 1s 6ms/step - loss: 0.1852 - accuracy: 0.9698 - val_loss: 0.1620 - val_accuracy: 0.9762\n",
      "Epoch 3/8\n",
      "215/215 [==============================] - 1s 6ms/step - loss: 0.1437 - accuracy: 0.9802 - val_loss: 0.1498 - val_accuracy: 0.9778\n",
      "Epoch 4/8\n",
      "215/215 [==============================] - 1s 6ms/step - loss: 0.1201 - accuracy: 0.9853 - val_loss: 0.1358 - val_accuracy: 0.9802\n",
      "Epoch 5/8\n",
      "215/215 [==============================] - 1s 6ms/step - loss: 0.1059 - accuracy: 0.9883 - val_loss: 0.1304 - val_accuracy: 0.9824\n",
      "Epoch 6/8\n",
      "215/215 [==============================] - 1s 6ms/step - loss: 0.0933 - accuracy: 0.9906 - val_loss: 0.1246 - val_accuracy: 0.9810\n",
      "Epoch 7/8\n",
      "215/215 [==============================] - 1s 6ms/step - loss: 0.0828 - accuracy: 0.9921 - val_loss: 0.1255 - val_accuracy: 0.9802\n",
      "Epoch 8/8\n",
      "215/215 [==============================] - 1s 6ms/step - loss: 0.0798 - accuracy: 0.9921 - val_loss: 0.1183 - val_accuracy: 0.9812\n",
      "training time:  10.404654026031494\n",
      "train loss:  0.0798151046037674\n",
      "train accuracy:  0.9920545220375061\n",
      "dev loss:  0.11827418208122253\n",
      "dev accuracy:  0.9811999797821045\n",
      "79/79 [==============================] - 0s 2ms/step - loss: 0.1194 - accuracy: 0.9786\n",
      "test loss:  0.11938528716564178\n",
      "test accuracy:  0.978600025177002\n"
     ]
    },
    {
     "data": {
      "image/png": "[encoded data removed]",
      "text/plain": [
       "<Figure size 432x288 with 1 Axes>"
      ]
     },
     "metadata": {
      "needs_background": "light"
     },
     "output_type": "display_data"
    },
    {
     "data": {
      "image/png": "[encoded data removed]",
      "text/plain": [
       "<Figure size 432x288 with 1 Axes>"
      ]
     },
     "metadata": {
      "needs_background": "light"
     },
     "output_type": "display_data"
    }
   ],
   "source": [
    "# define model\n",
    "model = tf.keras.models.Sequential([\n",
    "    tf.keras.layers.Flatten(input_shape=(28, 28)),\n",
    "    tf.keras.layers.Dense(512, kernel_regularizer=tf.keras.regularizers.l2(0.0001), activation=tf.nn.relu),\n",
    "    tf.keras.layers.Dense(512, kernel_regularizer=tf.keras.regularizers.l2(0.0001), activation=tf.nn.relu),\n",
    "    tf.keras.layers.Dense(10, activation=tf.nn.softmax)\n",
    "])\n",
    "\n",
    "# define optimizer, loss function, metrics\n",
    "model.compile(optimizer=tf.keras.optimizers.Adam(),\n",
    "              loss='categorical_crossentropy',\n",
    "              metrics=['accuracy'])\n",
    "\n",
    "start = time.time()\n",
    "\n",
    "# train\n",
    "model_fit = model.fit(x_train, y_train,\n",
    "                      batch_size=256, epochs=8, verbose=1,\n",
    "                      validation_data=(x_dev, y_dev))\n",
    "\n",
    "print('training time: ', time.time() - start)\n",
    "\n",
    "print('train loss: ', model_fit.history['loss'][-1])\n",
    "print('train accuracy: ', model_fit.history['accuracy'][-1])\n",
    "\n",
    "print('dev loss: ', model_fit.history['val_loss'][-1])\n",
    "print('dev accuracy: ', model_fit.history['val_accuracy'][-1])\n",
    "\n",
    "test_loss, test_acc = model.evaluate(x_test, y_test, batch_size=128)\n",
    "print('test loss: ', test_loss)\n",
    "print('test accuracy: ', test_acc)\n",
    "\n",
    "plt.plot(model_fit.history['val_loss'])\n",
    "plt.xlabel('epoch')\n",
    "plt.ylabel('loss')\n",
    "plt.show()\n",
    "\n",
    "plt.plot(model_fit.history['val_accuracy'])\n",
    "plt.xlabel('epoch')\n",
    "plt.ylabel('acc')\n",
    "plt.show()"
   ]
  },
  {
   "cell_type": "code",
   "execution_count": 23,
   "id": "a2a3b2cc",
   "metadata": {},
   "outputs": [
    {
     "name": "stdout",
     "output_type": "stream",
     "text": [
      "Epoch 1/8\n",
      "430/430 [==============================] - 3s 5ms/step - loss: 0.3236 - accuracy: 0.9318 - val_loss: 0.2004 - val_accuracy: 0.9660\n",
      "Epoch 2/8\n",
      "430/430 [==============================] - 2s 5ms/step - loss: 0.1708 - accuracy: 0.9724 - val_loss: 0.1610 - val_accuracy: 0.9728\n",
      "Epoch 3/8\n",
      "430/430 [==============================] - 2s 5ms/step - loss: 0.1352 - accuracy: 0.9810 - val_loss: 0.1636 - val_accuracy: 0.9714\n",
      "Epoch 4/8\n",
      "430/430 [==============================] - 2s 5ms/step - loss: 0.1165 - accuracy: 0.9849 - val_loss: 0.1252 - val_accuracy: 0.9808\n",
      "Epoch 5/8\n",
      "430/430 [==============================] - 2s 5ms/step - loss: 0.1027 - accuracy: 0.9870 - val_loss: 0.1263 - val_accuracy: 0.9804\n",
      "Epoch 6/8\n",
      "430/430 [==============================] - 2s 5ms/step - loss: 0.0947 - accuracy: 0.9886 - val_loss: 0.1209 - val_accuracy: 0.9826\n",
      "Epoch 7/8\n",
      "430/430 [==============================] - 2s 5ms/step - loss: 0.0894 - accuracy: 0.9887 - val_loss: 0.1277 - val_accuracy: 0.9790\n",
      "Epoch 8/8\n",
      "430/430 [==============================] - 2s 5ms/step - loss: 0.0856 - accuracy: 0.9901 - val_loss: 0.1320 - val_accuracy: 0.9788\n",
      "training time:  17.70134472846985\n",
      "train loss:  0.08555794507265091\n",
      "train accuracy:  0.9900545477867126\n",
      "dev loss:  0.1319679319858551\n",
      "dev accuracy:  0.9787999987602234\n",
      "79/79 [==============================] - 0s 2ms/step - loss: 0.1248 - accuracy: 0.9785\n",
      "test loss:  0.12477731704711914\n",
      "test accuracy:  0.9785000085830688\n"
     ]
    },
    {
     "data": {
      "image/png": "[encoded data removed]",
      "text/plain": [
       "<Figure size 432x288 with 1 Axes>"
      ]
     },
     "metadata": {
      "needs_background": "light"
     },
     "output_type": "display_data"
    },
    {
     "data": {
      "image/png": "[encoded data removed]",
      "text/plain": [
       "<Figure size 432x288 with 1 Axes>"
      ]
     },
     "metadata": {
      "needs_background": "light"
     },
     "output_type": "display_data"
    }
   ],
   "source": [
    "# define model\n",
    "model = tf.keras.models.Sequential([\n",
    "    tf.keras.layers.Flatten(input_shape=(28, 28)),\n",
    "    tf.keras.layers.Dense(512, kernel_regularizer=tf.keras.regularizers.l2(0.0001), activation=tf.nn.relu),\n",
    "    tf.keras.layers.Dense(512, kernel_regularizer=tf.keras.regularizers.l2(0.0001), activation=tf.nn.relu),\n",
    "    tf.keras.layers.Dense(10, activation=tf.nn.softmax)\n",
    "])\n",
    "\n",
    "# define optimizer, loss function, metrics\n",
    "model.compile(optimizer=tf.keras.optimizers.Adam(),\n",
    "              loss='categorical_crossentropy',\n",
    "              metrics=['accuracy'])\n",
    "\n",
    "start = time.time()\n",
    "\n",
    "# train\n",
    "model_fit = model.fit(x_train, y_train,\n",
    "                      batch_size=128, epochs=8, verbose=1,\n",
    "                      validation_data=(x_dev, y_dev))\n",
    "\n",
    "print('training time: ', time.time() - start)\n",
    "\n",
    "print('train loss: ', model_fit.history['loss'][-1])\n",
    "print('train accuracy: ', model_fit.history['accuracy'][-1])\n",
    "\n",
    "print('dev loss: ', model_fit.history['val_loss'][-1])\n",
    "print('dev accuracy: ', model_fit.history['val_accuracy'][-1])\n",
    "\n",
    "test_loss, test_acc = model.evaluate(x_test, y_test, batch_size=128)\n",
    "print('test loss: ', test_loss)\n",
    "print('test accuracy: ', test_acc)\n",
    "\n",
    "plt.plot(model_fit.history['val_loss'])\n",
    "plt.xlabel('epoch')\n",
    "plt.ylabel('loss')\n",
    "plt.show()\n",
    "\n",
    "plt.plot(model_fit.history['val_accuracy'])\n",
    "plt.xlabel('epoch')\n",
    "plt.ylabel('acc')\n",
    "plt.show()"
   ]
  },
  {
   "cell_type": "code",
   "execution_count": 27,
   "id": "5dc700e4",
   "metadata": {
    "scrolled": true
   },
   "outputs": [
    {
     "name": "stdout",
     "output_type": "stream",
     "text": [
      "Epoch 1/10\n",
      "428/430 [============================>.] - ETA: 0s - loss: 0.3226 - accuracy: 0.9303\n",
      "Epoch 1: val_loss improved from inf to 0.19273, saving model to best_model.h5\n",
      "430/430 [==============================] - 2s 5ms/step - loss: 0.3220 - accuracy: 0.9305 - val_loss: 0.1927 - val_accuracy: 0.9690\n",
      "Epoch 2/10\n",
      "420/430 [============================>.] - ETA: 0s - loss: 0.1680 - accuracy: 0.9735\n",
      "Epoch 2: val_loss improved from 0.19273 to 0.15528, saving model to best_model.h5\n",
      "430/430 [==============================] - 2s 5ms/step - loss: 0.1676 - accuracy: 0.9736 - val_loss: 0.1553 - val_accuracy: 0.9774\n",
      "Epoch 3/10\n",
      "423/430 [============================>.] - ETA: 0s - loss: 0.1339 - accuracy: 0.9814\n",
      "Epoch 3: val_loss improved from 0.15528 to 0.13516, saving model to best_model.h5\n",
      "430/430 [==============================] - 2s 5ms/step - loss: 0.1341 - accuracy: 0.9813 - val_loss: 0.1352 - val_accuracy: 0.9812\n",
      "Epoch 4/10\n",
      "424/430 [============================>.] - ETA: 0s - loss: 0.1148 - accuracy: 0.9847\n",
      "Epoch 4: val_loss did not improve from 0.13516\n",
      "430/430 [==============================] - 2s 5ms/step - loss: 0.1149 - accuracy: 0.9847 - val_loss: 0.1396 - val_accuracy: 0.9766\n",
      "Epoch 5/10\n",
      "428/430 [============================>.] - ETA: 0s - loss: 0.1009 - accuracy: 0.9877\n",
      "Epoch 5: val_loss did not improve from 0.13516\n",
      "430/430 [==============================] - 2s 5ms/step - loss: 0.1009 - accuracy: 0.9877 - val_loss: 0.1389 - val_accuracy: 0.9782\n",
      "Epoch 6/10\n",
      "425/430 [============================>.] - ETA: 0s - loss: 0.0943 - accuracy: 0.9886\n",
      "Epoch 6: val_loss improved from 0.13516 to 0.12818, saving model to best_model.h5\n",
      "430/430 [==============================] - 2s 5ms/step - loss: 0.0947 - accuracy: 0.9885 - val_loss: 0.1282 - val_accuracy: 0.9790\n",
      "Epoch 7/10\n",
      "421/430 [============================>.] - ETA: 0s - loss: 0.0892 - accuracy: 0.9890\n",
      "Epoch 7: val_loss did not improve from 0.12818\n",
      "430/430 [==============================] - 2s 5ms/step - loss: 0.0896 - accuracy: 0.9889 - val_loss: 0.1282 - val_accuracy: 0.9806\n",
      "Epoch 8/10\n",
      "428/430 [============================>.] - ETA: 0s - loss: 0.0838 - accuracy: 0.9900\n",
      "Epoch 8: val_loss did not improve from 0.12818\n",
      "430/430 [==============================] - 2s 5ms/step - loss: 0.0838 - accuracy: 0.9900 - val_loss: 0.1410 - val_accuracy: 0.9756\n",
      "Epoch 9/10\n",
      "429/430 [============================>.] - ETA: 0s - loss: 0.0792 - accuracy: 0.9908\n",
      "Epoch 9: val_loss improved from 0.12818 to 0.12697, saving model to best_model.h5\n",
      "430/430 [==============================] - 2s 5ms/step - loss: 0.0792 - accuracy: 0.9908 - val_loss: 0.1270 - val_accuracy: 0.9784\n",
      "Epoch 10/10\n",
      "422/430 [============================>.] - ETA: 0s - loss: 0.0757 - accuracy: 0.9919\n",
      "Epoch 10: val_loss did not improve from 0.12697\n",
      "430/430 [==============================] - 2s 5ms/step - loss: 0.0759 - accuracy: 0.9919 - val_loss: 0.1337 - val_accuracy: 0.9760\n",
      "training time:  21.985740423202515\n",
      "train loss:  0.07588884234428406\n",
      "train accuracy:  0.9918545484542847\n",
      "dev loss:  0.13373598456382751\n",
      "dev accuracy:  0.9760000109672546\n",
      "79/79 [==============================] - 0s 2ms/step - loss: 0.1225 - accuracy: 0.9769\n",
      "test loss:  0.12248998880386353\n",
      "test accuracy:  0.9768999814987183\n"
     ]
    },
    {
     "data": {
      "image/png": "[encoded data removed]",
      "text/plain": [
       "<Figure size 432x288 with 1 Axes>"
      ]
     },
     "metadata": {
      "needs_background": "light"
     },
     "output_type": "display_data"
    },
    {
     "data": {
      "image/png": "[encoded data removed]",
      "text/plain": [
       "<Figure size 432x288 with 1 Axes>"
      ]
     },
     "metadata": {
      "needs_background": "light"
     },
     "output_type": "display_data"
    }
   ],
   "source": [
    "# early stopping\n",
    "from keras.callbacks import EarlyStopping, ModelCheckpoint\n",
    "early_stopping = EarlyStopping(monitor='val_loss', mode='min', verbose=1, patience=3)\n",
    "model_checkpoint = ModelCheckpoint('best_model.h5', monitor='val_loss', mode='min', verbose=1, save_best_only=True)\n",
    "\n",
    "# define model\n",
    "model = tf.keras.models.Sequential([\n",
    "    tf.keras.layers.Flatten(input_shape=(28, 28)),\n",
    "    tf.keras.layers.Dense(512, kernel_regularizer=tf.keras.regularizers.l2(0.0001), activation=tf.nn.relu),\n",
    "    tf.keras.layers.Dense(512, kernel_regularizer=tf.keras.regularizers.l2(0.0001), activation=tf.nn.relu),\n",
    "    tf.keras.layers.Dense(10, activation=tf.nn.softmax)\n",
    "])\n",
    "\n",
    "# define optimizer, loss function, metrics\n",
    "model.compile(optimizer=tf.keras.optimizers.Adam(),\n",
    "              loss='categorical_crossentropy',\n",
    "              metrics=['accuracy'])\n",
    "\n",
    "start = time.time()\n",
    "\n",
    "# train\n",
    "model_fit = model.fit(x_train, y_train,\n",
    "                      batch_size=128, epochs=10, verbose=1,\n",
    "                      validation_data=(x_dev, y_dev), callbacks=[early_stopping, model_checkpoint])\n",
    "\n",
    "print('training time: ', time.time() - start)\n",
    "\n",
    "print('train loss: ', model_fit.history['loss'][-1])\n",
    "print('train accuracy: ', model_fit.history['accuracy'][-1])\n",
    "\n",
    "print('dev loss: ', model_fit.history['val_loss'][-1])\n",
    "print('dev accuracy: ', model_fit.history['val_accuracy'][-1])\n",
    "\n",
    "test_loss, test_acc = model.evaluate(x_test, y_test, batch_size=128)\n",
    "print('test loss: ', test_loss)\n",
    "print('test accuracy: ', test_acc)\n",
    "\n",
    "plt.plot(model_fit.history['val_loss'])\n",
    "plt.xlabel('epoch')\n",
    "plt.ylabel('loss')\n",
    "plt.show()\n",
    "\n",
    "plt.plot(model_fit.history['val_accuracy'])\n",
    "plt.xlabel('epoch')\n",
    "plt.ylabel('acc')\n",
    "plt.show()"
   ]
  },
  {
   "cell_type": "code",
   "execution_count": null,
   "id": "c13a9f69",
   "metadata": {},
   "outputs": [],
   "source": []
  }
 ],
 "metadata": {
  "kernelspec": {
   "display_name": "Python 3 (ipykernel)",
   "language": "python",
   "name": "python3"
  },
  "language_info": {
   "codemirror_mode": {
    "name": "ipython",
    "version": 3
   },
   "file_extension": ".py",
   "mimetype": "text/x-python",
   "name": "python",
   "nbconvert_exporter": "python",
   "pygments_lexer": "ipython3",
   "version": "3.10.2"
  }
 },
 "nbformat": 4,
 "nbformat_minor": 5
}
