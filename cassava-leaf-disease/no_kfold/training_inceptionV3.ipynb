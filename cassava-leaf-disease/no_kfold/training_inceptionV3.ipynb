{
 "cells": [
  {
   "cell_type": "code",
   "execution_count": 1,
   "id": "305dc046",
   "metadata": {},
   "outputs": [],
   "source": [
    "import tensorflow as tf\n",
    "import keras\n",
    "from keras.models import Sequential, Model\n",
    "from keras import layers, applications, optimizers\n",
    "from keras.layers import Dropout, Dense, GlobalAveragePooling2D\n",
    "from keras.preprocessing.image import ImageDataGenerator\n",
    "from tensorflow.keras.applications import InceptionV3\n",
    "from tensorflow.keras.utils import plot_model\n",
    "\n",
    "import numpy as np\n",
    "import pandas as pd\n",
    "import matplotlib.pyplot as plt\n",
    "import os"
   ]
  },
  {
   "cell_type": "code",
   "execution_count": 2,
   "id": "e53054f0",
   "metadata": {},
   "outputs": [],
   "source": [
    "batch_size = 16\n",
    "image_size = 350\n",
    "\n",
    "save_model_filename = 'inception_(0).h5'"
   ]
  },
  {
   "cell_type": "code",
   "execution_count": 3,
   "id": "c2f34933",
   "metadata": {},
   "outputs": [],
   "source": [
    "train = pd.read_csv('../input/cassava-leaf-disease-classification/train.csv')\n",
    "train_path = '../input/cassava-leaf-disease-classification/train_images'"
   ]
  },
  {
   "cell_type": "code",
   "execution_count": 4,
   "id": "5fe459a3",
   "metadata": {},
   "outputs": [],
   "source": [
    "def image_path(image):\n",
    "    return os.path.join(train_path,image)\n",
    "\n",
    "train['image_id'] = train['image_id'].apply(image_path)"
   ]
  },
  {
   "cell_type": "code",
   "execution_count": 5,
   "id": "551c26b8",
   "metadata": {},
   "outputs": [],
   "source": [
    "train['label'] = train['label'].astype('str')"
   ]
  },
  {
   "cell_type": "code",
   "execution_count": 6,
   "id": "2f70ee00",
   "metadata": {},
   "outputs": [],
   "source": [
    "image_gen = ImageDataGenerator(preprocessing_function = tf.keras.applications.inception_v3.preprocess_input,\n",
    "                                horizontal_flip=True, vertical_flip=True, fill_mode='nearest', brightness_range=[0.7, 1.3],\n",
    "                                rotation_range=270, zoom_range=0.2, shear_range=10, width_shift_range=0.2, height_shift_range=0.2,\n",
    "                                validation_split=0.2, rescale = 1./255)\n",
    "\n",
    "test_gen = ImageDataGenerator(rescale=1./255)"
   ]
  },
  {
   "cell_type": "code",
   "execution_count": 7,
   "id": "7147fc58",
   "metadata": {},
   "outputs": [
    {
     "name": "stdout",
     "output_type": "stream",
     "text": [
      "Found 17118 validated image filenames belonging to 5 classes.\n",
      "Found 4279 validated image filenames belonging to 5 classes.\n"
     ]
    }
   ],
   "source": [
    "train_generator = image_gen.flow_from_dataframe(dataframe=train, directory=None, x_col='image_id', y_col='label',\n",
    "                                                subset='training', batch_size=batch_size, seed=1,\n",
    "                                                shuffle=True, class_mode='categorical', target_size=(image_size,image_size))\n",
    "\n",
    "validation_generator = image_gen.flow_from_dataframe(dataframe=train, directory=None, x_col='image_id', y_col='label',\n",
    "                                                   subset='validation', batch_size=batch_size, seed=1,\n",
    "                                                   shuffle=False, class_mode='categorical', target_size=(image_size,image_size))"
   ]
  },
  {
   "cell_type": "code",
   "execution_count": 8,
   "id": "f5a68dc4",
   "metadata": {},
   "outputs": [],
   "source": [
    "def build_inceptionV3():\n",
    "    model = Sequential()\n",
    "    model.add(InceptionV3(input_shape=(image_size,image_size,3), include_top=False, weights='imagenet'))\n",
    "    model.add(GlobalAveragePooling2D())\n",
    "    model.add(Dropout(0.2))\n",
    "    model.add(Dense(5, activation='softmax'))\n",
    "    \n",
    "    return model"
   ]
  },
  {
   "cell_type": "code",
   "execution_count": 9,
   "id": "93a4c3db",
   "metadata": {
    "scrolled": true
   },
   "outputs": [
    {
     "name": "stdout",
     "output_type": "stream",
     "text": [
      "Model: \"sequential\"\n",
      "_________________________________________________________________\n",
      "Layer (type)                 Output Shape              Param #   \n",
      "=================================================================\n",
      "inception_v3 (Functional)    (None, 9, 9, 2048)        21802784  \n",
      "_________________________________________________________________\n",
      "global_average_pooling2d (Gl (None, 2048)              0         \n",
      "_________________________________________________________________\n",
      "dropout (Dropout)            (None, 2048)              0         \n",
      "_________________________________________________________________\n",
      "dense (Dense)                (None, 5)                 10245     \n",
      "=================================================================\n",
      "Total params: 21,813,029\n",
      "Trainable params: 21,778,597\n",
      "Non-trainable params: 34,432\n",
      "_________________________________________________________________\n"
     ]
    }
   ],
   "source": [
    "model = build_inceptionV3()\n",
    "model.summary()"
   ]
  },
  {
   "cell_type": "code",
   "execution_count": 10,
   "id": "e102cc3d",
   "metadata": {},
   "outputs": [
    {
     "data": {
      "image/png": "[encoded data removed]",
      "text/plain": [
       "<IPython.core.display.Image object>"
      ]
     },
     "execution_count": 10,
     "metadata": {},
     "output_type": "execute_result"
    }
   ],
   "source": [
    "plot_model(model, to_file='inceptionV3.png', show_shapes=True)"
   ]
  },
  {
   "cell_type": "code",
   "execution_count": 11,
   "id": "7520745d",
   "metadata": {},
   "outputs": [],
   "source": [
    "model.compile(\n",
    "    loss='categorical_crossentropy',\n",
    "    optimizer=tf.keras.optimizers.SGD(learning_rate=0.01, momentum=0.9, clipnorm=1.),\n",
    "    metrics=['accuracy']\n",
    ")"
   ]
  },
  {
   "cell_type": "code",
   "execution_count": 12,
   "id": "7260be42",
   "metadata": {},
   "outputs": [],
   "source": [
    "from keras.callbacks import EarlyStopping, ModelCheckpoint, ReduceLROnPlateau\n",
    "\n",
    "early_stopping = EarlyStopping(monitor='val_loss', mode='min', verbose=1, patience=3, restore_best_weights=True)\n",
    "model_checkpoint = ModelCheckpoint(save_model_filename, monitor='val_loss', mode='min', verbose=1, save_best_only=True)\n",
    "reduce_lr = ReduceLROnPlateau(monitor='val_loss', mode='min', factor=0.2, patience=1, min_lr=0, verbose=1)"
   ]
  },
  {
   "cell_type": "code",
   "execution_count": 13,
   "id": "49240768",
   "metadata": {},
   "outputs": [
    {
     "name": "stdout",
     "output_type": "stream",
     "text": [
      "Epoch 1/30\n",
      "1070/1070 [==============================] - ETA: 0s - loss: 0.7066 - accuracy: 0.7527\n",
      "Epoch 00001: val_loss improved from inf to 1.19003, saving model to inception_(0).h5\n",
      "1070/1070 [==============================] - 594s 556ms/step - loss: 0.7066 - accuracy: 0.7527 - val_loss: 1.1900 - val_accuracy: 0.5403\n",
      "Epoch 2/30\n",
      "1070/1070 [==============================] - ETA: 0s - loss: 0.5550 - accuracy: 0.8080\n",
      "Epoch 00002: val_loss did not improve from 1.19003\n",
      "\n",
      "Epoch 00002: ReduceLROnPlateau reducing learning rate to 0.0019999999552965165.\n",
      "1070/1070 [==============================] - 522s 487ms/step - loss: 0.5550 - accuracy: 0.8080 - val_loss: 1.5731 - val_accuracy: 0.2769\n",
      "Epoch 3/30\n",
      "1070/1070 [==============================] - ETA: 0s - loss: 0.4477 - accuracy: 0.8458\n",
      "Epoch 00003: val_loss improved from 1.19003 to 0.44141, saving model to inception_(0).h5\n",
      "1070/1070 [==============================] - 522s 487ms/step - loss: 0.4477 - accuracy: 0.8458 - val_loss: 0.4414 - val_accuracy: 0.8486\n",
      "Epoch 4/30\n",
      "1070/1070 [==============================] - ETA: 0s - loss: 0.4177 - accuracy: 0.8580\n",
      "Epoch 00004: val_loss did not improve from 0.44141\n",
      "\n",
      "Epoch 00004: ReduceLROnPlateau reducing learning rate to 0.0003999999724328518.\n",
      "1070/1070 [==============================] - 520s 486ms/step - loss: 0.4177 - accuracy: 0.8580 - val_loss: 0.4567 - val_accuracy: 0.8490\n",
      "Epoch 5/30\n",
      "1070/1070 [==============================] - ETA: 0s - loss: 0.3904 - accuracy: 0.8674\n",
      "Epoch 00005: val_loss improved from 0.44141 to 0.41429, saving model to inception_(0).h5\n",
      "1070/1070 [==============================] - 527s 493ms/step - loss: 0.3904 - accuracy: 0.8674 - val_loss: 0.4143 - val_accuracy: 0.8595\n",
      "Epoch 6/30\n",
      "1070/1070 [==============================] - ETA: 0s - loss: 0.3811 - accuracy: 0.8673\n",
      "Epoch 00006: val_loss improved from 0.41429 to 0.40258, saving model to inception_(0).h5\n",
      "1070/1070 [==============================] - 523s 489ms/step - loss: 0.3811 - accuracy: 0.8673 - val_loss: 0.4026 - val_accuracy: 0.8666\n",
      "Epoch 7/30\n",
      "1070/1070 [==============================] - ETA: 0s - loss: 0.3784 - accuracy: 0.8721\n",
      "Epoch 00007: val_loss improved from 0.40258 to 0.39791, saving model to inception_(0).h5\n",
      "1070/1070 [==============================] - 529s 495ms/step - loss: 0.3784 - accuracy: 0.8721 - val_loss: 0.3979 - val_accuracy: 0.8680\n",
      "Epoch 8/30\n",
      "1070/1070 [==============================] - ETA: 0s - loss: 0.3770 - accuracy: 0.8717\n",
      "Epoch 00008: val_loss did not improve from 0.39791\n",
      "\n",
      "Epoch 00008: ReduceLROnPlateau reducing learning rate to 7.999999215826393e-05.\n",
      "1070/1070 [==============================] - 526s 491ms/step - loss: 0.3770 - accuracy: 0.8717 - val_loss: 0.4028 - val_accuracy: 0.8647\n",
      "Epoch 9/30\n",
      "1070/1070 [==============================] - ETA: 0s - loss: 0.3733 - accuracy: 0.8718\n",
      "Epoch 00009: val_loss improved from 0.39791 to 0.39182, saving model to inception_(0).h5\n",
      "1070/1070 [==============================] - 523s 488ms/step - loss: 0.3733 - accuracy: 0.8718 - val_loss: 0.3918 - val_accuracy: 0.8680\n",
      "Epoch 10/30\n",
      "1070/1070 [==============================] - ETA: 0s - loss: 0.3670 - accuracy: 0.8739\n",
      "Epoch 00010: val_loss did not improve from 0.39182\n",
      "\n",
      "Epoch 00010: ReduceLROnPlateau reducing learning rate to 1.599999814061448e-05.\n",
      "1070/1070 [==============================] - 526s 491ms/step - loss: 0.3670 - accuracy: 0.8739 - val_loss: 0.3967 - val_accuracy: 0.8628\n",
      "Epoch 11/30\n",
      "1070/1070 [==============================] - ETA: 0s - loss: 0.3625 - accuracy: 0.8762\n",
      "Epoch 00011: val_loss did not improve from 0.39182\n",
      "\n",
      "Epoch 00011: ReduceLROnPlateau reducing learning rate to 3.199999628122896e-06.\n",
      "1070/1070 [==============================] - 531s 496ms/step - loss: 0.3625 - accuracy: 0.8762 - val_loss: 0.3983 - val_accuracy: 0.8684\n",
      "Epoch 12/30\n",
      "1070/1070 [==============================] - ETA: 0s - loss: 0.3686 - accuracy: 0.8758Restoring model weights from the end of the best epoch.\n",
      "\n",
      "Epoch 00012: val_loss did not improve from 0.39182\n",
      "\n",
      "Epoch 00012: ReduceLROnPlateau reducing learning rate to 6.399999165296323e-07.\n",
      "1070/1070 [==============================] - 523s 489ms/step - loss: 0.3686 - accuracy: 0.8758 - val_loss: 0.3962 - val_accuracy: 0.8640\n",
      "Epoch 00012: early stopping\n"
     ]
    }
   ],
   "source": [
    "epoch = 30\n",
    "\n",
    "history = model.fit(\n",
    "    train_generator,\n",
    "    epochs=epoch,\n",
    "    validation_data=validation_generator,\n",
    "    verbose=1,\n",
    "    callbacks=[early_stopping, model_checkpoint, reduce_lr]\n",
    ")"
   ]
  },
  {
   "cell_type": "code",
   "execution_count": 14,
   "id": "28064481",
   "metadata": {},
   "outputs": [
    {
     "name": "stdout",
     "output_type": "stream",
     "text": [
      "train loss: 0.36864376068115234\n",
      "train accuracy: 0.8758032321929932\n",
      "dev loss: 0.39622002840042114\n",
      "dev accuracy: 0.8639869093894958\n"
     ]
    },
    {
     "data": {
      "image/png": "[encoded data removed]",
      "text/plain": [
       "<Figure size 1080x360 with 2 Axes>"
      ]
     },
     "metadata": {
      "needs_background": "light"
     },
     "output_type": "display_data"
    }
   ],
   "source": [
    "print('train loss:', history.history['loss'][-1])\n",
    "print('train accuracy:', history.history['accuracy'][-1])\n",
    "\n",
    "print('dev loss:', history.history['val_loss'][-1])\n",
    "print('dev accuracy:', history.history['val_accuracy'][-1])\n",
    "\n",
    "results = pd.DataFrame(history.history)\n",
    "\n",
    "fig, axs = plt.subplots(1,2,figsize=(15,5))\n",
    "\n",
    "axs[0].plot(results[['loss', 'val_loss']])\n",
    "axs[0].set_title('Model Loss')\n",
    "\n",
    "axs[1].plot(results[['accuracy', 'val_accuracy']])\n",
    "axs[1].set_title('Model Accuracy')\n",
    "\n",
    "plt.show()"
   ]
  },
  {
   "cell_type": "code",
   "execution_count": 15,
   "id": "1bc7c940",
   "metadata": {},
   "outputs": [
    {
     "name": "stdout",
     "output_type": "stream",
     "text": [
      "              precision    recall  f1-score   support\n",
      "\n",
      "         CBB       0.55      0.60      0.57       200\n",
      "        CBSD       0.81      0.75      0.78       436\n",
      "         CGM       0.83      0.73      0.78       495\n",
      "         CMD       0.95      0.96      0.96      2638\n",
      "     Healthy       0.66      0.72      0.69       510\n",
      "\n",
      "    accuracy                           0.87      4279\n",
      "   macro avg       0.76      0.75      0.75      4279\n",
      "weighted avg       0.87      0.87      0.87      4279\n",
      "\n"
     ]
    }
   ],
   "source": [
    "pred = model.predict(validation_generator)\n",
    "predictions = np.argmax(pred, axis=1)\n",
    "actual = validation_generator.classes\n",
    "\n",
    "from sklearn.metrics import classification_report\n",
    "\n",
    "report = classification_report(actual, predictions, target_names=['CBB', 'CBSD', 'CGM', 'CMD', 'Healthy'])\n",
    "print(report)"
   ]
  },
  {
   "cell_type": "code",
   "execution_count": 16,
   "id": "82c8808b",
   "metadata": {},
   "outputs": [],
   "source": [
    "test = pd.read_csv('../input/cassava-leaf-disease-classification/sample_submission.csv')"
   ]
  },
  {
   "cell_type": "code",
   "execution_count": 17,
   "id": "1f7a6332",
   "metadata": {},
   "outputs": [],
   "source": [
    "test_path = '../input/cassava-leaf-disease-classification/test_images'\n",
    "\n",
    "def test_image_path(image):\n",
    "    return os.path.join(test_path,image)\n",
    "\n",
    "test['image_id'] = test['image_id'].apply(test_image_path)\n",
    "\n",
    "test['label'] = test['label'].astype('str')"
   ]
  },
  {
   "cell_type": "code",
   "execution_count": 24,
   "id": "3ad6e4bd",
   "metadata": {},
   "outputs": [
    {
     "name": "stdout",
     "output_type": "stream",
     "text": [
      "Found 1 validated image filenames belonging to 1 classes.\n"
     ]
    }
   ],
   "source": [
    "test_generator = test_gen.flow_from_dataframe(dataframe=test, directory=None, x_col='image_id', y_col='label',\n",
    "                                              preprocessing_function=applications.inception_v3.preprocess_input,\n",
    "                                              class_mode='categorical', target_size=(image_size,image_size))"
   ]
  },
  {
   "cell_type": "code",
   "execution_count": 25,
   "id": "833e645e",
   "metadata": {},
   "outputs": [],
   "source": [
    "output = model.predict(test_generator)"
   ]
  },
  {
   "cell_type": "code",
   "execution_count": 26,
   "id": "6c57b309",
   "metadata": {},
   "outputs": [],
   "source": [
    "submission = pd.DataFrame()\n",
    "submission['image_id'] = list(os.listdir(test_path))\n",
    "submission['label'] = np.argmax(output, axis=1)\n",
    "submission.to_csv(\"submission.csv\", index=False)"
   ]
  },
  {
   "cell_type": "code",
   "execution_count": 27,
   "id": "cc2f6e2b",
   "metadata": {},
   "outputs": [
    {
     "data": {
      "text/html": [
       "<div>\n",
       "<style scoped>\n",
       "    .dataframe tbody tr th:only-of-type {\n",
       "        vertical-align: middle;\n",
       "    }\n",
       "\n",
       "    .dataframe tbody tr th {\n",
       "        vertical-align: top;\n",
       "    }\n",
       "\n",
       "    .dataframe thead th {\n",
       "        text-align: right;\n",
       "    }\n",
       "</style>\n",
       "<table border=\"1\" class=\"dataframe\">\n",
       "  <thead>\n",
       "    <tr style=\"text-align: right;\">\n",
       "      <th></th>\n",
       "      <th>image_id</th>\n",
       "      <th>label</th>\n",
       "    </tr>\n",
       "  </thead>\n",
       "  <tbody>\n",
       "    <tr>\n",
       "      <th>0</th>\n",
       "      <td>2216849948.jpg</td>\n",
       "      <td>2</td>\n",
       "    </tr>\n",
       "  </tbody>\n",
       "</table>\n",
       "</div>"
      ],
      "text/plain": [
       "         image_id  label\n",
       "0  2216849948.jpg      2"
      ]
     },
     "execution_count": 27,
     "metadata": {},
     "output_type": "execute_result"
    }
   ],
   "source": [
    "submission.head()"
   ]
  },
  {
   "cell_type": "code",
   "execution_count": 28,
   "id": "e839229f",
   "metadata": {},
   "outputs": [],
   "source": [
    "model.save('model_inception_final.h5')"
   ]
  },
  {
   "cell_type": "code",
   "execution_count": 29,
   "id": "a8bab4eb",
   "metadata": {},
   "outputs": [],
   "source": [
    "model.save_weights('inception_weights')"
   ]
  },
  {
   "cell_type": "code",
   "execution_count": null,
   "id": "0f6e09db",
   "metadata": {},
   "outputs": [],
   "source": []
  }
 ],
 "metadata": {
  "kernelspec": {
   "display_name": "Python 3",
   "language": "python",
   "name": "python3"
  },
  "language_info": {
   "codemirror_mode": {
    "name": "ipython",
    "version": 3
   },
   "file_extension": ".py",
   "mimetype": "text/x-python",
   "name": "python",
   "nbconvert_exporter": "python",
   "pygments_lexer": "ipython3",
   "version": "3.8.8"
  }
 },
 "nbformat": 4,
 "nbformat_minor": 5
}
