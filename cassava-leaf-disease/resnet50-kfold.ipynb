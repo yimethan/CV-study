{
 "cells": [
  {
   "cell_type": "code",
   "execution_count": 1,
   "metadata": {
    "_cell_guid": "b1076dfc-b9ad-4769-8c92-a6c4dae69d19",
    "_uuid": "8f2839f25d086af736a60e9eeb907d3b93b6e0e5",
    "execution": {
     "iopub.execute_input": "2022-05-19T10:04:57.089761Z",
     "iopub.status.busy": "2022-05-19T10:04:57.089417Z",
     "iopub.status.idle": "2022-05-19T10:05:03.385718Z",
     "shell.execute_reply": "2022-05-19T10:05:03.384956Z",
     "shell.execute_reply.started": "2022-05-19T10:04:57.089649Z"
    }
   },
   "outputs": [],
   "source": [
    "import tensorflow as tf\n",
    "import keras\n",
    "from keras.models import Sequential, Model\n",
    "from keras import layers, applications, optimizers\n",
    "from keras.layers import Dropout, Flatten, Dense, GlobalAveragePooling2D, BatchNormalization\n",
    "from keras.layers.experimental.preprocessing import Resizing\n",
    "from keras.preprocessing.image import ImageDataGenerator, load_img\n",
    "import seaborn as sns\n",
    "from keras import backend as K\n",
    "from tensorflow.keras.applications import ResNet50\n",
    "from keras.callbacks import EarlyStopping, ModelCheckpoint, ReduceLROnPlateau\n",
    "\n",
    "from sklearn.model_selection import StratifiedKFold\n",
    "\n",
    "import numpy as np\n",
    "import pandas as pd\n",
    "import matplotlib.pyplot as plt\n",
    "import os"
   ]
  },
  {
   "cell_type": "code",
   "execution_count": 2,
   "metadata": {
    "execution": {
     "iopub.execute_input": "2022-05-19T10:05:03.389328Z",
     "iopub.status.busy": "2022-05-19T10:05:03.38913Z",
     "iopub.status.idle": "2022-05-19T10:05:03.39683Z",
     "shell.execute_reply": "2022-05-19T10:05:03.396182Z",
     "shell.execute_reply.started": "2022-05-19T10:05:03.389304Z"
    }
   },
   "outputs": [],
   "source": [
    "image_size = 300\n",
    "batch_size = 16"
   ]
  },
  {
   "cell_type": "code",
   "execution_count": 3,
   "metadata": {
    "execution": {
     "iopub.execute_input": "2022-05-19T10:05:03.399111Z",
     "iopub.status.busy": "2022-05-19T10:05:03.397741Z",
     "iopub.status.idle": "2022-05-19T10:05:03.439411Z",
     "shell.execute_reply": "2022-05-19T10:05:03.438808Z",
     "shell.execute_reply.started": "2022-05-19T10:05:03.399076Z"
    }
   },
   "outputs": [],
   "source": [
    "train = pd.read_csv('../input/cassava-leaf-disease-classification/train.csv')\n",
    "train_path = '../input/cassava-leaf-disease-classification/train_images'\n",
    "\n",
    "train_path_second = '../input/more-cassava-disease/train/train/train'"
   ]
  },
  {
   "cell_type": "code",
   "execution_count": 4,
   "metadata": {
    "execution": {
     "iopub.execute_input": "2022-05-19T10:05:03.441898Z",
     "iopub.status.busy": "2022-05-19T10:05:03.441392Z",
     "iopub.status.idle": "2022-05-19T10:05:03.6428Z",
     "shell.execute_reply": "2022-05-19T10:05:03.641968Z",
     "shell.execute_reply.started": "2022-05-19T10:05:03.441863Z"
    }
   },
   "outputs": [
    {
     "name": "stderr",
     "output_type": "stream",
     "text": [
      "C:\\Users\\pomat\\anaconda3\\lib\\site-packages\\seaborn\\_decorators.py:36: FutureWarning: Pass the following variable as a keyword arg: x. From version 0.12, the only valid positional argument will be `data`, and passing other arguments without an explicit keyword will result in an error or misinterpretation.\n",
      "  warnings.warn(\n"
     ]
    },
    {
     "data": {
      "image/png": "[encoded data removed]",
      "text/plain": [
       "<Figure size 432x288 with 1 Axes>"
      ]
     },
     "metadata": {
      "needs_background": "light"
     },
     "output_type": "display_data"
    }
   ],
   "source": [
    "sns.countplot(train['label'])\n",
    "plt.title('Count of disease types')\n",
    "plt.grid()\n",
    "plt.show()"
   ]
  },
  {
   "cell_type": "code",
   "execution_count": 5,
   "metadata": {
    "execution": {
     "iopub.execute_input": "2022-05-19T10:05:03.644876Z",
     "iopub.status.busy": "2022-05-19T10:05:03.644323Z",
     "iopub.status.idle": "2022-05-19T10:05:04.437279Z",
     "shell.execute_reply": "2022-05-19T10:05:04.436356Z",
     "shell.execute_reply.started": "2022-05-19T10:05:03.644838Z"
    }
   },
   "outputs": [],
   "source": [
    "second_id = []\n",
    "second_label = []\n",
    "\n",
    "for img in os.listdir(os.path.join(train_path_second, 'cbb')):\n",
    "    second_id.append(train_path_second+'/cbb/'+img)\n",
    "    second_label.append('0')\n",
    "    \n",
    "for img in os.listdir(os.path.join(train_path_second, 'cbsd')):\n",
    "    second_id.append(train_path_second+'/cbsd/'+img)\n",
    "    second_label.append('1')\n",
    "    \n",
    "for img in os.listdir(os.path.join(train_path_second, 'cgm')):\n",
    "    second_id.append(train_path_second+'/cgm/'+img)\n",
    "    second_label.append('2')\n",
    "    \n",
    "for img in os.listdir(os.path.join(train_path_second, 'cmd')):\n",
    "    second_id.append(train_path_second+'/cmd/'+img)\n",
    "    second_label.append('3')\n",
    "    \n",
    "for img in os.listdir(os.path.join(train_path_second, 'healthy')):\n",
    "    second_id.append(train_path_second+'/healthy/'+img)\n",
    "    second_label.append('4')"
   ]
  },
  {
   "cell_type": "code",
   "execution_count": 6,
   "metadata": {
    "execution": {
     "iopub.execute_input": "2022-05-19T10:05:04.439181Z",
     "iopub.status.busy": "2022-05-19T10:05:04.438781Z",
     "iopub.status.idle": "2022-05-19T10:05:04.453711Z",
     "shell.execute_reply": "2022-05-19T10:05:04.453004Z",
     "shell.execute_reply.started": "2022-05-19T10:05:04.439142Z"
    }
   },
   "outputs": [
    {
     "data": {
      "text/html": [
       "<div>\n",
       "<style scoped>\n",
       "    .dataframe tbody tr th:only-of-type {\n",
       "        vertical-align: middle;\n",
       "    }\n",
       "\n",
       "    .dataframe tbody tr th {\n",
       "        vertical-align: top;\n",
       "    }\n",
       "\n",
       "    .dataframe thead th {\n",
       "        text-align: right;\n",
       "    }\n",
       "</style>\n",
       "<table border=\"1\" class=\"dataframe\">\n",
       "  <thead>\n",
       "    <tr style=\"text-align: right;\">\n",
       "      <th></th>\n",
       "      <th>image_id</th>\n",
       "      <th>label</th>\n",
       "    </tr>\n",
       "  </thead>\n",
       "  <tbody>\n",
       "    <tr>\n",
       "      <th>5651</th>\n",
       "      <td>../input/more-cassava-disease/train/train/trai...</td>\n",
       "      <td>4</td>\n",
       "    </tr>\n",
       "    <tr>\n",
       "      <th>5652</th>\n",
       "      <td>../input/more-cassava-disease/train/train/trai...</td>\n",
       "      <td>4</td>\n",
       "    </tr>\n",
       "    <tr>\n",
       "      <th>5653</th>\n",
       "      <td>../input/more-cassava-disease/train/train/trai...</td>\n",
       "      <td>4</td>\n",
       "    </tr>\n",
       "    <tr>\n",
       "      <th>5654</th>\n",
       "      <td>../input/more-cassava-disease/train/train/trai...</td>\n",
       "      <td>4</td>\n",
       "    </tr>\n",
       "    <tr>\n",
       "      <th>5655</th>\n",
       "      <td>../input/more-cassava-disease/train/train/trai...</td>\n",
       "      <td>4</td>\n",
       "    </tr>\n",
       "  </tbody>\n",
       "</table>\n",
       "</div>"
      ],
      "text/plain": [
       "                                               image_id label\n",
       "5651  ../input/more-cassava-disease/train/train/trai...     4\n",
       "5652  ../input/more-cassava-disease/train/train/trai...     4\n",
       "5653  ../input/more-cassava-disease/train/train/trai...     4\n",
       "5654  ../input/more-cassava-disease/train/train/trai...     4\n",
       "5655  ../input/more-cassava-disease/train/train/trai...     4"
      ]
     },
     "execution_count": 6,
     "metadata": {},
     "output_type": "execute_result"
    }
   ],
   "source": [
    "train_second = pd.DataFrame({'image_id':second_id, 'label':second_label})\n",
    "\n",
    "train_second.tail()"
   ]
  },
  {
   "cell_type": "code",
   "execution_count": 7,
   "metadata": {
    "execution": {
     "iopub.execute_input": "2022-05-19T10:05:04.455705Z",
     "iopub.status.busy": "2022-05-19T10:05:04.455196Z",
     "iopub.status.idle": "2022-05-19T10:05:04.459456Z",
     "shell.execute_reply": "2022-05-19T10:05:04.458792Z",
     "shell.execute_reply.started": "2022-05-19T10:05:04.455648Z"
    }
   },
   "outputs": [],
   "source": [
    "del second_id\n",
    "del second_label"
   ]
  },
  {
   "cell_type": "code",
   "execution_count": 8,
   "metadata": {
    "execution": {
     "iopub.execute_input": "2022-05-19T10:05:04.461367Z",
     "iopub.status.busy": "2022-05-19T10:05:04.460927Z",
     "iopub.status.idle": "2022-05-19T10:05:04.509566Z",
     "shell.execute_reply": "2022-05-19T10:05:04.508838Z",
     "shell.execute_reply.started": "2022-05-19T10:05:04.461329Z"
    }
   },
   "outputs": [],
   "source": [
    "def image_path_first(image):\n",
    "    return os.path.join(train_path,image)\n",
    "\n",
    "train['image_id'] = train['image_id'].apply(image_path_first)"
   ]
  },
  {
   "cell_type": "code",
   "execution_count": 9,
   "metadata": {
    "execution": {
     "iopub.execute_input": "2022-05-19T10:05:04.510944Z",
     "iopub.status.busy": "2022-05-19T10:05:04.510713Z",
     "iopub.status.idle": "2022-05-19T10:05:04.53717Z",
     "shell.execute_reply": "2022-05-19T10:05:04.53649Z",
     "shell.execute_reply.started": "2022-05-19T10:05:04.510911Z"
    }
   },
   "outputs": [],
   "source": [
    "train['label'] = train['label'].astype('str')"
   ]
  },
  {
   "cell_type": "code",
   "execution_count": 10,
   "metadata": {
    "execution": {
     "iopub.execute_input": "2022-05-19T10:05:04.541404Z",
     "iopub.status.busy": "2022-05-19T10:05:04.540888Z",
     "iopub.status.idle": "2022-05-19T10:05:04.549273Z",
     "shell.execute_reply": "2022-05-19T10:05:04.548472Z",
     "shell.execute_reply.started": "2022-05-19T10:05:04.541372Z"
    }
   },
   "outputs": [
    {
     "data": {
      "text/html": [
       "<div>\n",
       "<style scoped>\n",
       "    .dataframe tbody tr th:only-of-type {\n",
       "        vertical-align: middle;\n",
       "    }\n",
       "\n",
       "    .dataframe tbody tr th {\n",
       "        vertical-align: top;\n",
       "    }\n",
       "\n",
       "    .dataframe thead th {\n",
       "        text-align: right;\n",
       "    }\n",
       "</style>\n",
       "<table border=\"1\" class=\"dataframe\">\n",
       "  <thead>\n",
       "    <tr style=\"text-align: right;\">\n",
       "      <th></th>\n",
       "      <th>image_id</th>\n",
       "      <th>label</th>\n",
       "    </tr>\n",
       "  </thead>\n",
       "  <tbody>\n",
       "    <tr>\n",
       "      <th>21392</th>\n",
       "      <td>../input/cassava-leaf-disease-classification/t...</td>\n",
       "      <td>3</td>\n",
       "    </tr>\n",
       "    <tr>\n",
       "      <th>21393</th>\n",
       "      <td>../input/cassava-leaf-disease-classification/t...</td>\n",
       "      <td>3</td>\n",
       "    </tr>\n",
       "    <tr>\n",
       "      <th>21394</th>\n",
       "      <td>../input/cassava-leaf-disease-classification/t...</td>\n",
       "      <td>1</td>\n",
       "    </tr>\n",
       "    <tr>\n",
       "      <th>21395</th>\n",
       "      <td>../input/cassava-leaf-disease-classification/t...</td>\n",
       "      <td>4</td>\n",
       "    </tr>\n",
       "    <tr>\n",
       "      <th>21396</th>\n",
       "      <td>../input/cassava-leaf-disease-classification/t...</td>\n",
       "      <td>4</td>\n",
       "    </tr>\n",
       "  </tbody>\n",
       "</table>\n",
       "</div>"
      ],
      "text/plain": [
       "                                                image_id label\n",
       "21392  ../input/cassava-leaf-disease-classification/t...     3\n",
       "21393  ../input/cassava-leaf-disease-classification/t...     3\n",
       "21394  ../input/cassava-leaf-disease-classification/t...     1\n",
       "21395  ../input/cassava-leaf-disease-classification/t...     4\n",
       "21396  ../input/cassava-leaf-disease-classification/t...     4"
      ]
     },
     "execution_count": 10,
     "metadata": {},
     "output_type": "execute_result"
    }
   ],
   "source": [
    "train.tail()"
   ]
  },
  {
   "cell_type": "code",
   "execution_count": 11,
   "metadata": {
    "execution": {
     "iopub.execute_input": "2022-05-19T10:05:04.551348Z",
     "iopub.status.busy": "2022-05-19T10:05:04.550491Z",
     "iopub.status.idle": "2022-05-19T10:05:04.564886Z",
     "shell.execute_reply": "2022-05-19T10:05:04.564154Z",
     "shell.execute_reply.started": "2022-05-19T10:05:04.551309Z"
    }
   },
   "outputs": [
    {
     "data": {
      "text/html": [
       "<div>\n",
       "<style scoped>\n",
       "    .dataframe tbody tr th:only-of-type {\n",
       "        vertical-align: middle;\n",
       "    }\n",
       "\n",
       "    .dataframe tbody tr th {\n",
       "        vertical-align: top;\n",
       "    }\n",
       "\n",
       "    .dataframe thead th {\n",
       "        text-align: right;\n",
       "    }\n",
       "</style>\n",
       "<table border=\"1\" class=\"dataframe\">\n",
       "  <thead>\n",
       "    <tr style=\"text-align: right;\">\n",
       "      <th></th>\n",
       "      <th>image_id</th>\n",
       "      <th>label</th>\n",
       "    </tr>\n",
       "  </thead>\n",
       "  <tbody>\n",
       "    <tr>\n",
       "      <th>27048</th>\n",
       "      <td>../input/more-cassava-disease/train/train/trai...</td>\n",
       "      <td>4</td>\n",
       "    </tr>\n",
       "    <tr>\n",
       "      <th>27049</th>\n",
       "      <td>../input/more-cassava-disease/train/train/trai...</td>\n",
       "      <td>4</td>\n",
       "    </tr>\n",
       "    <tr>\n",
       "      <th>27050</th>\n",
       "      <td>../input/more-cassava-disease/train/train/trai...</td>\n",
       "      <td>4</td>\n",
       "    </tr>\n",
       "    <tr>\n",
       "      <th>27051</th>\n",
       "      <td>../input/more-cassava-disease/train/train/trai...</td>\n",
       "      <td>4</td>\n",
       "    </tr>\n",
       "    <tr>\n",
       "      <th>27052</th>\n",
       "      <td>../input/more-cassava-disease/train/train/trai...</td>\n",
       "      <td>4</td>\n",
       "    </tr>\n",
       "  </tbody>\n",
       "</table>\n",
       "</div>"
      ],
      "text/plain": [
       "                                                image_id label\n",
       "27048  ../input/more-cassava-disease/train/train/trai...     4\n",
       "27049  ../input/more-cassava-disease/train/train/trai...     4\n",
       "27050  ../input/more-cassava-disease/train/train/trai...     4\n",
       "27051  ../input/more-cassava-disease/train/train/trai...     4\n",
       "27052  ../input/more-cassava-disease/train/train/trai...     4"
      ]
     },
     "execution_count": 11,
     "metadata": {},
     "output_type": "execute_result"
    }
   ],
   "source": [
    "# combine dataframe to train\n",
    "\n",
    "train = pd.concat([train, train_second], ignore_index=True)\n",
    "\n",
    "train.tail()"
   ]
  },
  {
   "cell_type": "code",
   "execution_count": 12,
   "metadata": {
    "execution": {
     "iopub.execute_input": "2022-05-19T10:05:04.566586Z",
     "iopub.status.busy": "2022-05-19T10:05:04.565955Z",
     "iopub.status.idle": "2022-05-19T10:05:04.570294Z",
     "shell.execute_reply": "2022-05-19T10:05:04.56962Z",
     "shell.execute_reply.started": "2022-05-19T10:05:04.566549Z"
    }
   },
   "outputs": [],
   "source": [
    "del train_second\n",
    "del train_path\n",
    "del train_path_second"
   ]
  },
  {
   "cell_type": "code",
   "execution_count": 13,
   "metadata": {
    "execution": {
     "iopub.execute_input": "2022-05-19T10:05:04.571892Z",
     "iopub.status.busy": "2022-05-19T10:05:04.57143Z",
     "iopub.status.idle": "2022-05-19T10:05:04.782162Z",
     "shell.execute_reply": "2022-05-19T10:05:04.781486Z",
     "shell.execute_reply.started": "2022-05-19T10:05:04.571854Z"
    }
   },
   "outputs": [
    {
     "name": "stderr",
     "output_type": "stream",
     "text": [
      "C:\\Users\\pomat\\anaconda3\\lib\\site-packages\\seaborn\\_decorators.py:36: FutureWarning: Pass the following variable as a keyword arg: x. From version 0.12, the only valid positional argument will be `data`, and passing other arguments without an explicit keyword will result in an error or misinterpretation.\n",
      "  warnings.warn(\n"
     ]
    },
    {
     "data": {
      "image/png": "[encoded data removed]",
      "text/plain": [
       "<Figure size 432x288 with 1 Axes>"
      ]
     },
     "metadata": {
      "needs_background": "light"
     },
     "output_type": "display_data"
    }
   ],
   "source": [
    "sns.countplot(train['label'])\n",
    "plt.title('Count of disease types')\n",
    "plt.grid()\n",
    "plt.show()"
   ]
  },
  {
   "cell_type": "code",
   "execution_count": 14,
   "metadata": {
    "execution": {
     "iopub.execute_input": "2022-05-19T10:05:04.783837Z",
     "iopub.status.busy": "2022-05-19T10:05:04.78344Z",
     "iopub.status.idle": "2022-05-19T10:05:04.788524Z",
     "shell.execute_reply": "2022-05-19T10:05:04.78773Z",
     "shell.execute_reply.started": "2022-05-19T10:05:04.7838Z"
    }
   },
   "outputs": [],
   "source": [
    "SKF = StratifiedKFold(n_splits=5, random_state=1, shuffle=True)"
   ]
  },
  {
   "cell_type": "code",
   "execution_count": 15,
   "metadata": {
    "execution": {
     "iopub.execute_input": "2022-05-19T10:05:04.790187Z",
     "iopub.status.busy": "2022-05-19T10:05:04.789888Z",
     "iopub.status.idle": "2022-05-19T10:05:04.798962Z",
     "shell.execute_reply": "2022-05-19T10:05:04.798161Z",
     "shell.execute_reply.started": "2022-05-19T10:05:04.790145Z"
    }
   },
   "outputs": [],
   "source": [
    "train_gen = ImageDataGenerator(preprocessing_function = tf.keras.applications.resnet50.preprocess_input,\n",
    "                                horizontal_flip=True, vertical_flip=True, fill_mode='nearest', brightness_range=[0.7, 1.3],\n",
    "                                rotation_range=270, zoom_range=0.2, shear_range=10, width_shift_range=0.2, height_shift_range=0.2,\n",
    "                                rescale = 1./255)\n",
    "\n",
    "val_gen = ImageDataGenerator(preprocessing_function = tf.keras.applications.resnet50.preprocess_input, rescale=1./255)"
   ]
  },
  {
   "cell_type": "code",
   "execution_count": 16,
   "metadata": {
    "execution": {
     "iopub.execute_input": "2022-05-19T10:05:04.802837Z",
     "iopub.status.busy": "2022-05-19T10:05:04.80137Z",
     "iopub.status.idle": "2022-05-19T10:05:04.809878Z",
     "shell.execute_reply": "2022-05-19T10:05:04.809151Z",
     "shell.execute_reply.started": "2022-05-19T10:05:04.8028Z"
    }
   },
   "outputs": [],
   "source": [
    "def build_resnet50():\n",
    "    model = Sequential()\n",
    "    model.add(Resizing(image_size, image_size))\n",
    "    model.add(ResNet50(input_shape=(image_size, image_size, 3), include_top=False, weights='imagenet'))\n",
    "    model.add(GlobalAveragePooling2D())\n",
    "    model.add(Dense(128, activation='relu'))\n",
    "    model.add(BatchNormalization())\n",
    "    model.add(Dense(32, activation='relu'))\n",
    "    model.add(BatchNormalization())\n",
    "    model.add(Dropout(0.5))\n",
    "    model.add(Dense(5, activation='softmax'))\n",
    "    \n",
    "    return model"
   ]
  },
  {
   "cell_type": "code",
   "execution_count": 17,
   "metadata": {
    "execution": {
     "iopub.execute_input": "2022-05-19T10:05:04.81151Z",
     "iopub.status.busy": "2022-05-19T10:05:04.811258Z",
     "iopub.status.idle": "2022-05-19T10:05:04.818371Z",
     "shell.execute_reply": "2022-05-19T10:05:04.817553Z",
     "shell.execute_reply.started": "2022-05-19T10:05:04.811477Z"
    }
   },
   "outputs": [],
   "source": [
    "fold_var = 1\n",
    "\n",
    "all_val_acc = []"
   ]
  },
  {
   "cell_type": "code",
   "execution_count": 18,
   "metadata": {
    "execution": {
     "iopub.execute_input": "2022-05-19T10:05:04.820317Z",
     "iopub.status.busy": "2022-05-19T10:05:04.820041Z"
    },
    "scrolled": true
   },
   "outputs": [
    {
     "name": "stdout",
     "output_type": "stream",
     "text": [
      "Found 21642 validated image filenames belonging to 5 classes.\n",
      "Found 5411 validated image filenames belonging to 5 classes.\n",
      "Fold num: 1\n",
      "Train length: 1353\n",
      "Val length: 339\n",
      "Epoch 1/30\n",
      "1353/1353 [==============================] - ETA: 0s - loss: 1.2253 - accuracy: 0.6197\n",
      "Epoch 00001: val_loss improved from inf to 0.79488, saving model to ./k_fold_resnet\\checkpoint_1.h5\n",
      "1353/1353 [==============================] - 463s 342ms/step - loss: 1.2253 - accuracy: 0.6197 - val_loss: 0.7949 - val_accuracy: 0.7596\n",
      "Epoch 2/30\n",
      "1353/1353 [==============================] - ETA: 0s - loss: 0.8790 - accuracy: 0.7286\n",
      "Epoch 00002: val_loss improved from 0.79488 to 0.61500, saving model to ./k_fold_resnet\\checkpoint_1.h5\n",
      "1353/1353 [==============================] - 466s 344ms/step - loss: 0.8790 - accuracy: 0.7286 - val_loss: 0.6150 - val_accuracy: 0.7962\n",
      "Epoch 3/30\n",
      "1353/1353 [==============================] - ETA: 0s - loss: 0.7602 - accuracy: 0.7598\n",
      "Epoch 00003: val_loss did not improve from 0.61500\n",
      "\n",
      "Epoch 00003: ReduceLROnPlateau reducing learning rate to 9.999999747378752e-06.\n",
      "1353/1353 [==============================] - 466s 345ms/step - loss: 0.7602 - accuracy: 0.7598 - val_loss: 0.6180 - val_accuracy: 0.8093\n",
      "Epoch 4/30\n",
      "1353/1353 [==============================] - ETA: 0s - loss: 0.6570 - accuracy: 0.7914\n",
      "Epoch 00004: val_loss improved from 0.61500 to 0.53646, saving model to ./k_fold_resnet\\checkpoint_1.h5\n",
      "1353/1353 [==============================] - 467s 345ms/step - loss: 0.6570 - accuracy: 0.7914 - val_loss: 0.5365 - val_accuracy: 0.8307\n",
      "Epoch 5/30\n",
      "1353/1353 [==============================] - ETA: 0s - loss: 0.6154 - accuracy: 0.8031\n",
      "Epoch 00005: val_loss improved from 0.53646 to 0.51943, saving model to ./k_fold_resnet\\checkpoint_1.h5\n",
      "1353/1353 [==============================] - 466s 344ms/step - loss: 0.6154 - accuracy: 0.8031 - val_loss: 0.5194 - val_accuracy: 0.8366\n",
      "Epoch 6/30\n",
      "1353/1353 [==============================] - ETA: 0s - loss: 0.5987 - accuracy: 0.8082\n",
      "Epoch 00006: val_loss did not improve from 0.51943\n",
      "\n",
      "Epoch 00006: ReduceLROnPlateau reducing learning rate to 9.999999747378752e-07.\n",
      "1353/1353 [==============================] - 467s 345ms/step - loss: 0.5987 - accuracy: 0.8082 - val_loss: 0.5362 - val_accuracy: 0.8322\n",
      "Epoch 7/30\n",
      "1353/1353 [==============================] - ETA: 0s - loss: 0.5938 - accuracy: 0.8135\n",
      "Epoch 00007: val_loss did not improve from 0.51943\n",
      "\n",
      "Epoch 00007: ReduceLROnPlateau reducing learning rate to 9.999999974752428e-08.\n",
      "1353/1353 [==============================] - 466s 344ms/step - loss: 0.5938 - accuracy: 0.8135 - val_loss: 0.5299 - val_accuracy: 0.8346\n",
      "Epoch 8/30\n",
      "1353/1353 [==============================] - ETA: 0s - loss: 0.5802 - accuracy: 0.8184\n",
      "Epoch 00008: val_loss did not improve from 0.51943\n",
      "\n",
      "Epoch 00008: ReduceLROnPlateau reducing learning rate to 1.0000000116860975e-08.\n",
      "1353/1353 [==============================] - 467s 345ms/step - loss: 0.5802 - accuracy: 0.8184 - val_loss: 0.5217 - val_accuracy: 0.8350\n",
      "Epoch 9/30\n",
      "1353/1353 [==============================] - ETA: 0s - loss: 0.5705 - accuracy: 0.8192\n",
      "Epoch 00009: val_loss improved from 0.51943 to 0.51600, saving model to ./k_fold_resnet\\checkpoint_1.h5\n",
      "1353/1353 [==============================] - 469s 346ms/step - loss: 0.5705 - accuracy: 0.8192 - val_loss: 0.5160 - val_accuracy: 0.8355\n",
      "Epoch 10/30\n",
      "1353/1353 [==============================] - ETA: 0s - loss: 0.5713 - accuracy: 0.8215\n",
      "Epoch 00010: val_loss did not improve from 0.51600\n",
      "\n",
      "Epoch 00010: ReduceLROnPlateau reducing learning rate to 9.999999939225292e-10.\n",
      "1353/1353 [==============================] - 468s 346ms/step - loss: 0.5713 - accuracy: 0.8215 - val_loss: 0.5253 - val_accuracy: 0.8352\n",
      "Epoch 11/30\n",
      "1353/1353 [==============================] - ETA: 0s - loss: 0.5700 - accuracy: 0.8201\n",
      "Epoch 00011: val_loss did not improve from 0.51600\n",
      "\n",
      "Epoch 00011: ReduceLROnPlateau reducing learning rate to 9.999999717180686e-11.\n",
      "1353/1353 [==============================] - 459s 340ms/step - loss: 0.5700 - accuracy: 0.8201 - val_loss: 0.5179 - val_accuracy: 0.8352\n",
      "Epoch 12/30\n",
      "1353/1353 [==============================] - ETA: 0s - loss: 0.5832 - accuracy: 0.8163\n",
      "Epoch 00012: val_loss did not improve from 0.51600\n",
      "\n",
      "Epoch 00012: ReduceLROnPlateau reducing learning rate to 9.99999943962493e-12.\n",
      "1353/1353 [==============================] - 454s 335ms/step - loss: 0.5832 - accuracy: 0.8163 - val_loss: 0.5285 - val_accuracy: 0.8340\n",
      "Epoch 13/30\n",
      "1353/1353 [==============================] - ETA: 0s - loss: 0.5740 - accuracy: 0.8200\n",
      "Epoch 00013: val_loss did not improve from 0.51600\n",
      "\n",
      "Epoch 00013: ReduceLROnPlateau reducing learning rate to 9.999999092680235e-13.\n",
      "1353/1353 [==============================] - 454s 335ms/step - loss: 0.5740 - accuracy: 0.8200 - val_loss: 0.5371 - val_accuracy: 0.8337\n",
      "Epoch 14/30\n",
      "1353/1353 [==============================] - ETA: 0s - loss: 0.5820 - accuracy: 0.8143Restoring model weights from the end of the best epoch.\n",
      "\n",
      "Epoch 00014: val_loss did not improve from 0.51600\n",
      "\n",
      "Epoch 00014: ReduceLROnPlateau reducing learning rate to 9.9999988758398e-14.\n",
      "1353/1353 [==============================] - 455s 336ms/step - loss: 0.5820 - accuracy: 0.8143 - val_loss: 0.5276 - val_accuracy: 0.8348\n",
      "Epoch 00014: early stopping\n"
     ]
    },
    {
     "data": {
      "image/png": "[encoded data removed]",
      "text/plain": [
       "<Figure size 1080x360 with 2 Axes>"
      ]
     },
     "metadata": {
      "needs_background": "light"
     },
     "output_type": "display_data"
    },
    {
     "name": "stdout",
     "output_type": "stream",
     "text": [
      "Found 21642 validated image filenames belonging to 5 classes.\n",
      "Found 5411 validated image filenames belonging to 5 classes.\n",
      "Fold num: 2\n",
      "Train length: 1353\n",
      "Val length: 339\n",
      "Epoch 1/30\n",
      "1353/1353 [==============================] - ETA: 0s - loss: 1.2356 - accuracy: 0.6020\n",
      "Epoch 00001: val_loss improved from inf to 0.82493, saving model to ./k_fold_resnet\\checkpoint_2.h5\n",
      "1353/1353 [==============================] - 458s 339ms/step - loss: 1.2356 - accuracy: 0.6020 - val_loss: 0.8249 - val_accuracy: 0.7625\n",
      "Epoch 2/30\n",
      "1353/1353 [==============================] - ETA: 0s - loss: 0.8464 - accuracy: 0.7335\n",
      "Epoch 00002: val_loss improved from 0.82493 to 0.72272, saving model to ./k_fold_resnet\\checkpoint_2.h5\n",
      "1353/1353 [==============================] - 455s 336ms/step - loss: 0.8464 - accuracy: 0.7335 - val_loss: 0.7227 - val_accuracy: 0.7830\n",
      "Epoch 3/30\n",
      "1353/1353 [==============================] - ETA: 0s - loss: 0.7569 - accuracy: 0.7611\n",
      "Epoch 00003: val_loss did not improve from 0.72272\n",
      "\n",
      "Epoch 00003: ReduceLROnPlateau reducing learning rate to 9.999999747378752e-06.\n",
      "1353/1353 [==============================] - 453s 335ms/step - loss: 0.7569 - accuracy: 0.7611 - val_loss: 0.9471 - val_accuracy: 0.6984\n",
      "Epoch 4/30\n",
      "1353/1353 [==============================] - ETA: 0s - loss: 0.6631 - accuracy: 0.7898\n",
      "Epoch 00004: val_loss improved from 0.72272 to 0.49003, saving model to ./k_fold_resnet\\checkpoint_2.h5\n",
      "1353/1353 [==============================] - 457s 338ms/step - loss: 0.6631 - accuracy: 0.7898 - val_loss: 0.4900 - val_accuracy: 0.8455\n",
      "Epoch 5/30\n",
      "1353/1353 [==============================] - ETA: 0s - loss: 0.6161 - accuracy: 0.8070\n",
      "Epoch 00005: val_loss did not improve from 0.49003\n",
      "\n",
      "Epoch 00005: ReduceLROnPlateau reducing learning rate to 9.999999747378752e-07.\n",
      "1353/1353 [==============================] - 455s 336ms/step - loss: 0.6161 - accuracy: 0.8070 - val_loss: 0.5096 - val_accuracy: 0.8494\n",
      "Epoch 6/30\n",
      "1353/1353 [==============================] - ETA: 0s - loss: 0.6041 - accuracy: 0.8133\n",
      "Epoch 00006: val_loss improved from 0.49003 to 0.48788, saving model to ./k_fold_resnet\\checkpoint_2.h5\n",
      "1353/1353 [==============================] - 455s 337ms/step - loss: 0.6041 - accuracy: 0.8133 - val_loss: 0.4879 - val_accuracy: 0.8512\n",
      "Epoch 7/30\n",
      "1353/1353 [==============================] - ETA: 0s - loss: 0.5872 - accuracy: 0.8158\n",
      "Epoch 00007: val_loss did not improve from 0.48788\n",
      "\n",
      "Epoch 00007: ReduceLROnPlateau reducing learning rate to 9.999999974752428e-08.\n",
      "1353/1353 [==============================] - 453s 335ms/step - loss: 0.5872 - accuracy: 0.8158 - val_loss: 0.4932 - val_accuracy: 0.8501\n",
      "Epoch 8/30\n",
      "1353/1353 [==============================] - ETA: 0s - loss: 0.5882 - accuracy: 0.8164\n",
      "Epoch 00008: val_loss improved from 0.48788 to 0.48715, saving model to ./k_fold_resnet\\checkpoint_2.h5\n",
      "1353/1353 [==============================] - 456s 337ms/step - loss: 0.5882 - accuracy: 0.8164 - val_loss: 0.4871 - val_accuracy: 0.8518\n",
      "Epoch 9/30\n",
      "1353/1353 [==============================] - ETA: 0s - loss: 0.5905 - accuracy: 0.8128\n",
      "Epoch 00009: val_loss improved from 0.48715 to 0.48462, saving model to ./k_fold_resnet\\checkpoint_2.h5\n",
      "1353/1353 [==============================] - 456s 337ms/step - loss: 0.5905 - accuracy: 0.8128 - val_loss: 0.4846 - val_accuracy: 0.8512\n",
      "Epoch 10/30\n",
      "1353/1353 [==============================] - ETA: 0s - loss: 0.5847 - accuracy: 0.8189\n",
      "Epoch 00010: val_loss did not improve from 0.48462\n",
      "\n",
      "Epoch 00010: ReduceLROnPlateau reducing learning rate to 1.0000000116860975e-08.\n",
      "1353/1353 [==============================] - 456s 337ms/step - loss: 0.5847 - accuracy: 0.8189 - val_loss: 0.4877 - val_accuracy: 0.8518\n",
      "Epoch 11/30\n",
      "1353/1353 [==============================] - ETA: 0s - loss: 0.5845 - accuracy: 0.8170\n",
      "Epoch 00011: val_loss did not improve from 0.48462\n",
      "\n",
      "Epoch 00011: ReduceLROnPlateau reducing learning rate to 9.999999939225292e-10.\n",
      "1353/1353 [==============================] - 456s 337ms/step - loss: 0.5845 - accuracy: 0.8170 - val_loss: 0.4851 - val_accuracy: 0.8514\n",
      "Epoch 12/30\n",
      "1353/1353 [==============================] - ETA: 0s - loss: 0.5972 - accuracy: 0.8138\n",
      "Epoch 00012: val_loss did not improve from 0.48462\n",
      "\n",
      "Epoch 00012: ReduceLROnPlateau reducing learning rate to 9.999999717180686e-11.\n",
      "1353/1353 [==============================] - 456s 337ms/step - loss: 0.5972 - accuracy: 0.8138 - val_loss: 0.4856 - val_accuracy: 0.8501\n",
      "Epoch 13/30\n",
      "1353/1353 [==============================] - ETA: 0s - loss: 0.5821 - accuracy: 0.8161\n",
      "Epoch 00013: val_loss improved from 0.48462 to 0.48198, saving model to ./k_fold_resnet\\checkpoint_2.h5\n",
      "1353/1353 [==============================] - 455s 337ms/step - loss: 0.5821 - accuracy: 0.8161 - val_loss: 0.4820 - val_accuracy: 0.8505\n",
      "Epoch 14/30\n",
      "1353/1353 [==============================] - ETA: 0s - loss: 0.5860 - accuracy: 0.8160\n",
      "Epoch 00014: val_loss did not improve from 0.48198\n",
      "\n",
      "Epoch 00014: ReduceLROnPlateau reducing learning rate to 9.99999943962493e-12.\n",
      "1353/1353 [==============================] - 457s 338ms/step - loss: 0.5860 - accuracy: 0.8160 - val_loss: 0.4863 - val_accuracy: 0.8503\n",
      "Epoch 15/30\n",
      "1353/1353 [==============================] - ETA: 0s - loss: 0.5751 - accuracy: 0.8173\n",
      "Epoch 00015: val_loss did not improve from 0.48198\n",
      "\n",
      "Epoch 00015: ReduceLROnPlateau reducing learning rate to 9.999999092680235e-13.\n",
      "1353/1353 [==============================] - 456s 337ms/step - loss: 0.5751 - accuracy: 0.8173 - val_loss: 0.4904 - val_accuracy: 0.8503\n",
      "Epoch 16/30\n",
      "1353/1353 [==============================] - ETA: 0s - loss: 0.5816 - accuracy: 0.8160\n",
      "Epoch 00016: val_loss did not improve from 0.48198\n",
      "\n",
      "Epoch 00016: ReduceLROnPlateau reducing learning rate to 9.9999988758398e-14.\n",
      "1353/1353 [==============================] - 455s 336ms/step - loss: 0.5816 - accuracy: 0.8160 - val_loss: 0.4844 - val_accuracy: 0.8527\n",
      "Epoch 17/30\n",
      "1353/1353 [==============================] - ETA: 0s - loss: 0.5873 - accuracy: 0.8161\n",
      "Epoch 00017: val_loss did not improve from 0.48198\n",
      "\n",
      "Epoch 00017: ReduceLROnPlateau reducing learning rate to 9.999999146890344e-15.\n",
      "1353/1353 [==============================] - 455s 336ms/step - loss: 0.5873 - accuracy: 0.8161 - val_loss: 0.4875 - val_accuracy: 0.8514\n",
      "Epoch 18/30\n",
      "1353/1353 [==============================] - ETA: 0s - loss: 0.5901 - accuracy: 0.8181Restoring model weights from the end of the best epoch.\n",
      "\n",
      "Epoch 00018: val_loss did not improve from 0.48198\n",
      "\n",
      "Epoch 00018: ReduceLROnPlateau reducing learning rate to 9.999998977483753e-16.\n",
      "1353/1353 [==============================] - 457s 338ms/step - loss: 0.5901 - accuracy: 0.8181 - val_loss: 0.4871 - val_accuracy: 0.8516\n",
      "Epoch 00018: early stopping\n"
     ]
    },
    {
     "data": {
      "image/png": "[encoded data removed]",
      "text/plain": [
       "<Figure size 1080x360 with 2 Axes>"
      ]
     },
     "metadata": {
      "needs_background": "light"
     },
     "output_type": "display_data"
    },
    {
     "name": "stdout",
     "output_type": "stream",
     "text": [
      "Found 21642 validated image filenames belonging to 5 classes.\n",
      "Found 5411 validated image filenames belonging to 5 classes.\n",
      "Fold num: 3\n",
      "Train length: 1353\n",
      "Val length: 339\n",
      "Epoch 1/30\n",
      "1353/1353 [==============================] - ETA: 0s - loss: 1.2694 - accuracy: 0.5852\n",
      "Epoch 00001: val_loss improved from inf to 0.74596, saving model to ./k_fold_resnet\\checkpoint_3.h5\n",
      "1353/1353 [==============================] - 459s 339ms/step - loss: 1.2694 - accuracy: 0.5852 - val_loss: 0.7460 - val_accuracy: 0.7668\n",
      "Epoch 2/30\n",
      "1353/1353 [==============================] - ETA: 0s - loss: 0.8517 - accuracy: 0.7325\n",
      "Epoch 00002: val_loss improved from 0.74596 to 0.69028, saving model to ./k_fold_resnet\\checkpoint_3.h5\n",
      "1353/1353 [==============================] - 459s 339ms/step - loss: 0.8517 - accuracy: 0.7325 - val_loss: 0.6903 - val_accuracy: 0.7716\n",
      "Epoch 3/30\n",
      "1353/1353 [==============================] - ETA: 0s - loss: 0.7569 - accuracy: 0.7578\n",
      "Epoch 00003: val_loss improved from 0.69028 to 0.61387, saving model to ./k_fold_resnet\\checkpoint_3.h5\n",
      "1353/1353 [==============================] - 458s 339ms/step - loss: 0.7569 - accuracy: 0.7578 - val_loss: 0.6139 - val_accuracy: 0.7921\n",
      "Epoch 4/30\n",
      "1353/1353 [==============================] - ETA: 0s - loss: 0.6895 - accuracy: 0.7790\n",
      "Epoch 00004: val_loss did not improve from 0.61387\n",
      "\n",
      "Epoch 00004: ReduceLROnPlateau reducing learning rate to 9.999999747378752e-06.\n",
      "1353/1353 [==============================] - 478s 353ms/step - loss: 0.6895 - accuracy: 0.7790 - val_loss: 0.7095 - val_accuracy: 0.7585\n",
      "Epoch 5/30\n",
      "1353/1353 [==============================] - ETA: 0s - loss: 0.6128 - accuracy: 0.8019\n",
      "Epoch 00005: val_loss improved from 0.61387 to 0.48530, saving model to ./k_fold_resnet\\checkpoint_3.h5\n",
      "1353/1353 [==============================] - 512s 379ms/step - loss: 0.6128 - accuracy: 0.8019 - val_loss: 0.4853 - val_accuracy: 0.8387\n",
      "Epoch 6/30\n",
      "1353/1353 [==============================] - ETA: 0s - loss: 0.5708 - accuracy: 0.8188\n",
      "Epoch 00006: val_loss improved from 0.48530 to 0.47750, saving model to ./k_fold_resnet\\checkpoint_3.h5\n",
      "1353/1353 [==============================] - 457s 338ms/step - loss: 0.5708 - accuracy: 0.8188 - val_loss: 0.4775 - val_accuracy: 0.8435\n",
      "Epoch 7/30\n",
      "1353/1353 [==============================] - ETA: 0s - loss: 0.5602 - accuracy: 0.8236\n",
      "Epoch 00007: val_loss did not improve from 0.47750\n",
      "\n",
      "Epoch 00007: ReduceLROnPlateau reducing learning rate to 9.999999747378752e-07.\n",
      "1353/1353 [==============================] - 456s 337ms/step - loss: 0.5602 - accuracy: 0.8236 - val_loss: 0.4897 - val_accuracy: 0.8420\n",
      "Epoch 8/30\n",
      "1353/1353 [==============================] - ETA: 0s - loss: 0.5364 - accuracy: 0.8340\n",
      "Epoch 00008: val_loss improved from 0.47750 to 0.46284, saving model to ./k_fold_resnet\\checkpoint_3.h5\n",
      "1353/1353 [==============================] - 457s 338ms/step - loss: 0.5364 - accuracy: 0.8340 - val_loss: 0.4628 - val_accuracy: 0.8507\n",
      "Epoch 9/30\n",
      "1353/1353 [==============================] - ETA: 0s - loss: 0.5320 - accuracy: 0.8325\n",
      "Epoch 00009: val_loss improved from 0.46284 to 0.45509, saving model to ./k_fold_resnet\\checkpoint_3.h5\n",
      "1353/1353 [==============================] - 460s 340ms/step - loss: 0.5320 - accuracy: 0.8325 - val_loss: 0.4551 - val_accuracy: 0.8522\n",
      "Epoch 10/30\n",
      "1353/1353 [==============================] - ETA: 0s - loss: 0.5309 - accuracy: 0.8318\n",
      "Epoch 00010: val_loss did not improve from 0.45509\n",
      "\n",
      "Epoch 00010: ReduceLROnPlateau reducing learning rate to 9.999999974752428e-08.\n",
      "1353/1353 [==============================] - 456s 337ms/step - loss: 0.5309 - accuracy: 0.8318 - val_loss: 0.4576 - val_accuracy: 0.8529\n",
      "Epoch 11/30\n",
      "1353/1353 [==============================] - ETA: 0s - loss: 0.5348 - accuracy: 0.8311\n",
      "Epoch 00011: val_loss improved from 0.45509 to 0.44725, saving model to ./k_fold_resnet\\checkpoint_3.h5\n",
      "1353/1353 [==============================] - 457s 338ms/step - loss: 0.5348 - accuracy: 0.8311 - val_loss: 0.4472 - val_accuracy: 0.8564\n",
      "Epoch 12/30\n",
      "1353/1353 [==============================] - ETA: 0s - loss: 0.5294 - accuracy: 0.8348\n",
      "Epoch 00012: val_loss did not improve from 0.44725\n",
      "\n",
      "Epoch 00012: ReduceLROnPlateau reducing learning rate to 1.0000000116860975e-08.\n",
      "1353/1353 [==============================] - 457s 338ms/step - loss: 0.5294 - accuracy: 0.8348 - val_loss: 0.4493 - val_accuracy: 0.8551\n",
      "Epoch 13/30\n",
      "1353/1353 [==============================] - ETA: 0s - loss: 0.5267 - accuracy: 0.8318\n",
      "Epoch 00013: val_loss improved from 0.44725 to 0.44643, saving model to ./k_fold_resnet\\checkpoint_3.h5\n",
      "1353/1353 [==============================] - 480s 355ms/step - loss: 0.5267 - accuracy: 0.8318 - val_loss: 0.4464 - val_accuracy: 0.8547\n",
      "Epoch 14/30\n",
      "1353/1353 [==============================] - ETA: 0s - loss: 0.5340 - accuracy: 0.8321\n",
      "Epoch 00014: val_loss did not improve from 0.44643\n",
      "\n",
      "Epoch 00014: ReduceLROnPlateau reducing learning rate to 9.999999939225292e-10.\n",
      "1353/1353 [==============================] - 505s 373ms/step - loss: 0.5340 - accuracy: 0.8321 - val_loss: 0.4557 - val_accuracy: 0.8527\n",
      "Epoch 15/30\n",
      "1353/1353 [==============================] - ETA: 0s - loss: 0.5307 - accuracy: 0.8359\n",
      "Epoch 00015: val_loss did not improve from 0.44643\n",
      "\n",
      "Epoch 00015: ReduceLROnPlateau reducing learning rate to 9.999999717180686e-11.\n",
      "1353/1353 [==============================] - 456s 337ms/step - loss: 0.5307 - accuracy: 0.8359 - val_loss: 0.4532 - val_accuracy: 0.8529\n",
      "Epoch 16/30\n",
      "1353/1353 [==============================] - ETA: 0s - loss: 0.5350 - accuracy: 0.8337\n",
      "Epoch 00016: val_loss did not improve from 0.44643\n",
      "\n",
      "Epoch 00016: ReduceLROnPlateau reducing learning rate to 9.99999943962493e-12.\n",
      "1353/1353 [==============================] - 455s 337ms/step - loss: 0.5350 - accuracy: 0.8337 - val_loss: 0.4523 - val_accuracy: 0.8533\n",
      "Epoch 17/30\n",
      "1353/1353 [==============================] - ETA: 0s - loss: 0.5324 - accuracy: 0.8313\n",
      "Epoch 00017: val_loss did not improve from 0.44643\n",
      "\n",
      "Epoch 00017: ReduceLROnPlateau reducing learning rate to 9.999999092680235e-13.\n",
      "1353/1353 [==============================] - 458s 339ms/step - loss: 0.5324 - accuracy: 0.8313 - val_loss: 0.4537 - val_accuracy: 0.8529\n",
      "Epoch 18/30\n",
      "1353/1353 [==============================] - ETA: 0s - loss: 0.5355 - accuracy: 0.8318Restoring model weights from the end of the best epoch.\n",
      "\n",
      "Epoch 00018: val_loss did not improve from 0.44643\n",
      "\n",
      "Epoch 00018: ReduceLROnPlateau reducing learning rate to 9.9999988758398e-14.\n",
      "1353/1353 [==============================] - 454s 336ms/step - loss: 0.5355 - accuracy: 0.8318 - val_loss: 0.4535 - val_accuracy: 0.8525\n",
      "Epoch 00018: early stopping\n"
     ]
    },
    {
     "data": {
      "image/png": "[encoded data removed]",
      "text/plain": [
       "<Figure size 1080x360 with 2 Axes>"
      ]
     },
     "metadata": {
      "needs_background": "light"
     },
     "output_type": "display_data"
    },
    {
     "name": "stdout",
     "output_type": "stream",
     "text": [
      "Found 21643 validated image filenames belonging to 5 classes.\n",
      "Found 5410 validated image filenames belonging to 5 classes.\n",
      "Fold num: 4\n",
      "Train length: 1353\n",
      "Val length: 339\n",
      "Epoch 1/30\n",
      "1353/1353 [==============================] - ETA: 0s - loss: 1.2142 - accuracy: 0.6107\n",
      "Epoch 00001: val_loss improved from inf to 1.58138, saving model to ./k_fold_resnet\\checkpoint_4.h5\n",
      "1353/1353 [==============================] - 462s 342ms/step - loss: 1.2142 - accuracy: 0.6107 - val_loss: 1.5814 - val_accuracy: 0.6213\n",
      "Epoch 2/30\n",
      "1353/1353 [==============================] - ETA: 0s - loss: 0.8332 - accuracy: 0.7380\n",
      "Epoch 00002: val_loss improved from 1.58138 to 0.61198, saving model to ./k_fold_resnet\\checkpoint_4.h5\n",
      "1353/1353 [==============================] - 459s 339ms/step - loss: 0.8332 - accuracy: 0.7380 - val_loss: 0.6120 - val_accuracy: 0.8126\n",
      "Epoch 3/30\n",
      "1353/1353 [==============================] - ETA: 0s - loss: 0.7544 - accuracy: 0.7596\n",
      "Epoch 00003: val_loss did not improve from 0.61198\n",
      "\n",
      "Epoch 00003: ReduceLROnPlateau reducing learning rate to 9.999999747378752e-06.\n",
      "1353/1353 [==============================] - 458s 339ms/step - loss: 0.7544 - accuracy: 0.7596 - val_loss: 1.4681 - val_accuracy: 0.6555\n",
      "Epoch 4/30\n",
      "1353/1353 [==============================] - ETA: 0s - loss: 0.6414 - accuracy: 0.7991\n",
      "Epoch 00004: val_loss improved from 0.61198 to 0.52673, saving model to ./k_fold_resnet\\checkpoint_4.h5\n",
      "1353/1353 [==============================] - 459s 340ms/step - loss: 0.6414 - accuracy: 0.7991 - val_loss: 0.5267 - val_accuracy: 0.8351\n",
      "Epoch 5/30\n",
      "1353/1353 [==============================] - ETA: 0s - loss: 0.5995 - accuracy: 0.8110\n",
      "Epoch 00005: val_loss improved from 0.52673 to 0.50772, saving model to ./k_fold_resnet\\checkpoint_4.h5\n",
      "1353/1353 [==============================] - 458s 339ms/step - loss: 0.5995 - accuracy: 0.8110 - val_loss: 0.5077 - val_accuracy: 0.8425\n",
      "Epoch 6/30\n",
      "1353/1353 [==============================] - ETA: 0s - loss: 0.5670 - accuracy: 0.8252\n",
      "Epoch 00006: val_loss did not improve from 0.50772\n",
      "\n",
      "Epoch 00006: ReduceLROnPlateau reducing learning rate to 9.999999747378752e-07.\n",
      "1353/1353 [==============================] - 458s 338ms/step - loss: 0.5670 - accuracy: 0.8252 - val_loss: 0.5145 - val_accuracy: 0.8444\n",
      "Epoch 7/30\n",
      "1353/1353 [==============================] - ETA: 0s - loss: 0.5621 - accuracy: 0.8257\n",
      "Epoch 00007: val_loss improved from 0.50772 to 0.50520, saving model to ./k_fold_resnet\\checkpoint_4.h5\n",
      "1353/1353 [==============================] - 458s 339ms/step - loss: 0.5621 - accuracy: 0.8257 - val_loss: 0.5052 - val_accuracy: 0.8436\n",
      "Epoch 8/30\n",
      "1353/1353 [==============================] - ETA: 0s - loss: 0.5508 - accuracy: 0.8296\n",
      "Epoch 00008: val_loss improved from 0.50520 to 0.50245, saving model to ./k_fold_resnet\\checkpoint_4.h5\n",
      "1353/1353 [==============================] - 462s 342ms/step - loss: 0.5508 - accuracy: 0.8296 - val_loss: 0.5025 - val_accuracy: 0.8458\n",
      "Epoch 9/30\n",
      "1353/1353 [==============================] - ETA: 0s - loss: 0.5535 - accuracy: 0.8284\n",
      "Epoch 00009: val_loss improved from 0.50245 to 0.49493, saving model to ./k_fold_resnet\\checkpoint_4.h5\n",
      "1353/1353 [==============================] - 460s 340ms/step - loss: 0.5535 - accuracy: 0.8284 - val_loss: 0.4949 - val_accuracy: 0.8494\n",
      "Epoch 10/30\n",
      "1353/1353 [==============================] - ETA: 0s - loss: 0.5444 - accuracy: 0.8271\n",
      "Epoch 00010: val_loss did not improve from 0.49493\n",
      "\n",
      "Epoch 00010: ReduceLROnPlateau reducing learning rate to 9.999999974752428e-08.\n",
      "1353/1353 [==============================] - 458s 339ms/step - loss: 0.5444 - accuracy: 0.8271 - val_loss: 0.5027 - val_accuracy: 0.8449\n",
      "Epoch 11/30\n",
      "1353/1353 [==============================] - ETA: 0s - loss: 0.5443 - accuracy: 0.8321\n",
      "Epoch 00011: val_loss did not improve from 0.49493\n",
      "\n",
      "Epoch 00011: ReduceLROnPlateau reducing learning rate to 1.0000000116860975e-08.\n",
      "1353/1353 [==============================] - 457s 338ms/step - loss: 0.5443 - accuracy: 0.8321 - val_loss: 0.5079 - val_accuracy: 0.8440\n",
      "Epoch 12/30\n",
      "1353/1353 [==============================] - ETA: 0s - loss: 0.5527 - accuracy: 0.8278\n",
      "Epoch 00012: val_loss did not improve from 0.49493\n",
      "\n",
      "Epoch 00012: ReduceLROnPlateau reducing learning rate to 9.999999939225292e-10.\n",
      "1353/1353 [==============================] - 462s 341ms/step - loss: 0.5527 - accuracy: 0.8278 - val_loss: 0.4950 - val_accuracy: 0.8470\n",
      "Epoch 13/30\n",
      "1353/1353 [==============================] - ETA: 0s - loss: 0.5472 - accuracy: 0.8320\n",
      "Epoch 00013: val_loss improved from 0.49493 to 0.49447, saving model to ./k_fold_resnet\\checkpoint_4.h5\n",
      "1353/1353 [==============================] - 460s 340ms/step - loss: 0.5472 - accuracy: 0.8320 - val_loss: 0.4945 - val_accuracy: 0.8495\n",
      "Epoch 14/30\n",
      "1353/1353 [==============================] - ETA: 0s - loss: 0.5344 - accuracy: 0.8337\n",
      "Epoch 00014: val_loss did not improve from 0.49447\n",
      "\n",
      "Epoch 00014: ReduceLROnPlateau reducing learning rate to 9.999999717180686e-11.\n",
      "1353/1353 [==============================] - 459s 339ms/step - loss: 0.5344 - accuracy: 0.8337 - val_loss: 0.4969 - val_accuracy: 0.8484\n",
      "Epoch 15/30\n",
      "1353/1353 [==============================] - ETA: 0s - loss: 0.5405 - accuracy: 0.8324\n",
      "Epoch 00015: val_loss did not improve from 0.49447\n",
      "\n",
      "Epoch 00015: ReduceLROnPlateau reducing learning rate to 9.99999943962493e-12.\n",
      "1353/1353 [==============================] - 456s 337ms/step - loss: 0.5405 - accuracy: 0.8324 - val_loss: 0.5000 - val_accuracy: 0.8473\n",
      "Epoch 16/30\n",
      "1353/1353 [==============================] - ETA: 0s - loss: 0.5525 - accuracy: 0.8269\n",
      "Epoch 00016: val_loss improved from 0.49447 to 0.49430, saving model to ./k_fold_resnet\\checkpoint_4.h5\n",
      "1353/1353 [==============================] - 461s 341ms/step - loss: 0.5525 - accuracy: 0.8269 - val_loss: 0.4943 - val_accuracy: 0.8481\n",
      "Epoch 17/30\n",
      "1353/1353 [==============================] - ETA: 0s - loss: 0.5408 - accuracy: 0.8309\n",
      "Epoch 00017: val_loss did not improve from 0.49430\n",
      "\n",
      "Epoch 00017: ReduceLROnPlateau reducing learning rate to 9.999999092680235e-13.\n",
      "1353/1353 [==============================] - 457s 338ms/step - loss: 0.5408 - accuracy: 0.8309 - val_loss: 0.5066 - val_accuracy: 0.8447\n",
      "Epoch 18/30\n",
      "1353/1353 [==============================] - ETA: 0s - loss: 0.5473 - accuracy: 0.8295\n",
      "Epoch 00018: val_loss did not improve from 0.49430\n",
      "\n",
      "Epoch 00018: ReduceLROnPlateau reducing learning rate to 9.9999988758398e-14.\n",
      "1353/1353 [==============================] - 458s 338ms/step - loss: 0.5473 - accuracy: 0.8295 - val_loss: 0.4946 - val_accuracy: 0.8481\n",
      "Epoch 19/30\n",
      "1353/1353 [==============================] - ETA: 0s - loss: 0.5424 - accuracy: 0.8299\n",
      "Epoch 00019: val_loss did not improve from 0.49430\n",
      "\n",
      "Epoch 00019: ReduceLROnPlateau reducing learning rate to 9.999999146890344e-15.\n",
      "1353/1353 [==============================] - 460s 340ms/step - loss: 0.5424 - accuracy: 0.8299 - val_loss: 0.5021 - val_accuracy: 0.8449\n",
      "Epoch 20/30\n",
      "1353/1353 [==============================] - ETA: 0s - loss: 0.5451 - accuracy: 0.8296\n",
      "Epoch 00020: val_loss did not improve from 0.49430\n",
      "\n",
      "Epoch 00020: ReduceLROnPlateau reducing learning rate to 9.999998977483753e-16.\n",
      "1353/1353 [==============================] - 456s 337ms/step - loss: 0.5451 - accuracy: 0.8296 - val_loss: 0.5056 - val_accuracy: 0.8453\n",
      "Epoch 21/30\n",
      "1353/1353 [==============================] - ETA: 0s - loss: 0.5427 - accuracy: 0.8313Restoring model weights from the end of the best epoch.\n",
      "\n",
      "Epoch 00021: val_loss did not improve from 0.49430\n",
      "\n",
      "Epoch 00021: ReduceLROnPlateau reducing learning rate to 9.999998977483754e-17.\n",
      "1353/1353 [==============================] - 456s 337ms/step - loss: 0.5427 - accuracy: 0.8313 - val_loss: 0.4983 - val_accuracy: 0.8475\n",
      "Epoch 00021: early stopping\n"
     ]
    },
    {
     "data": {
      "image/png": "[encoded data removed]",
      "text/plain": [
       "<Figure size 1080x360 with 2 Axes>"
      ]
     },
     "metadata": {
      "needs_background": "light"
     },
     "output_type": "display_data"
    },
    {
     "name": "stdout",
     "output_type": "stream",
     "text": [
      "Found 21643 validated image filenames belonging to 5 classes.\n",
      "Found 5410 validated image filenames belonging to 5 classes.\n",
      "Fold num: 5\n",
      "Train length: 1353\n",
      "Val length: 339\n",
      "Epoch 1/30\n",
      "1353/1353 [==============================] - ETA: 0s - loss: 1.1373 - accuracy: 0.6447\n",
      "Epoch 00001: val_loss improved from inf to 0.80171, saving model to ./k_fold_resnet\\checkpoint_5.h5\n",
      "1353/1353 [==============================] - 463s 342ms/step - loss: 1.1373 - accuracy: 0.6447 - val_loss: 0.8017 - val_accuracy: 0.7715\n",
      "Epoch 2/30\n",
      "1353/1353 [==============================] - ETA: 0s - loss: 0.8315 - accuracy: 0.7403\n",
      "Epoch 00002: val_loss improved from 0.80171 to 0.62951, saving model to ./k_fold_resnet\\checkpoint_5.h5\n",
      "1353/1353 [==============================] - 459s 340ms/step - loss: 0.8315 - accuracy: 0.7403 - val_loss: 0.6295 - val_accuracy: 0.7930\n",
      "Epoch 3/30\n",
      "1353/1353 [==============================] - ETA: 0s - loss: 0.7449 - accuracy: 0.7615\n",
      "Epoch 00003: val_loss improved from 0.62951 to 0.48088, saving model to ./k_fold_resnet\\checkpoint_5.h5\n",
      "1353/1353 [==============================] - 461s 341ms/step - loss: 0.7449 - accuracy: 0.7615 - val_loss: 0.4809 - val_accuracy: 0.8379\n",
      "Epoch 4/30\n",
      "1353/1353 [==============================] - ETA: 0s - loss: 0.6886 - accuracy: 0.7796\n",
      "Epoch 00004: val_loss did not improve from 0.48088\n",
      "\n",
      "Epoch 00004: ReduceLROnPlateau reducing learning rate to 9.999999747378752e-06.\n",
      "1353/1353 [==============================] - 461s 340ms/step - loss: 0.6886 - accuracy: 0.7796 - val_loss: 0.9985 - val_accuracy: 0.7072\n",
      "Epoch 5/30\n",
      "1353/1353 [==============================] - ETA: 0s - loss: 0.6197 - accuracy: 0.7998\n",
      "Epoch 00005: val_loss did not improve from 0.48088\n",
      "\n",
      "Epoch 00005: ReduceLROnPlateau reducing learning rate to 9.999999747378752e-07.\n",
      "1353/1353 [==============================] - 461s 340ms/step - loss: 0.6197 - accuracy: 0.7998 - val_loss: 0.4862 - val_accuracy: 0.8405\n",
      "Epoch 6/30\n",
      "1353/1353 [==============================] - ETA: 0s - loss: 0.5951 - accuracy: 0.8111\n",
      "Epoch 00006: val_loss improved from 0.48088 to 0.46621, saving model to ./k_fold_resnet\\checkpoint_5.h5\n",
      "1353/1353 [==============================] - 460s 340ms/step - loss: 0.5951 - accuracy: 0.8111 - val_loss: 0.4662 - val_accuracy: 0.8451\n",
      "Epoch 7/30\n",
      "1353/1353 [==============================] - ETA: 0s - loss: 0.5791 - accuracy: 0.8145\n",
      "Epoch 00007: val_loss improved from 0.46621 to 0.46223, saving model to ./k_fold_resnet\\checkpoint_5.h5\n",
      "1353/1353 [==============================] - 462s 341ms/step - loss: 0.5791 - accuracy: 0.8145 - val_loss: 0.4622 - val_accuracy: 0.8464\n",
      "Epoch 8/30\n",
      "1353/1353 [==============================] - ETA: 0s - loss: 0.5767 - accuracy: 0.8174\n",
      "Epoch 00008: val_loss did not improve from 0.46223\n",
      "\n",
      "Epoch 00008: ReduceLROnPlateau reducing learning rate to 9.999999974752428e-08.\n",
      "1353/1353 [==============================] - 458s 338ms/step - loss: 0.5767 - accuracy: 0.8174 - val_loss: 0.4637 - val_accuracy: 0.8453\n",
      "Epoch 9/30\n",
      "1353/1353 [==============================] - ETA: 0s - loss: 0.5747 - accuracy: 0.8186\n",
      "Epoch 00009: val_loss did not improve from 0.46223\n",
      "\n",
      "Epoch 00009: ReduceLROnPlateau reducing learning rate to 1.0000000116860975e-08.\n",
      "1353/1353 [==============================] - 462s 341ms/step - loss: 0.5747 - accuracy: 0.8186 - val_loss: 0.4638 - val_accuracy: 0.8451\n",
      "Epoch 10/30\n",
      "1353/1353 [==============================] - ETA: 0s - loss: 0.5746 - accuracy: 0.8178\n",
      "Epoch 00010: val_loss improved from 0.46223 to 0.45820, saving model to ./k_fold_resnet\\checkpoint_5.h5\n",
      "1353/1353 [==============================] - 458s 339ms/step - loss: 0.5746 - accuracy: 0.8178 - val_loss: 0.4582 - val_accuracy: 0.8477\n",
      "Epoch 11/30\n",
      "1353/1353 [==============================] - ETA: 0s - loss: 0.5806 - accuracy: 0.8166\n",
      "Epoch 00011: val_loss did not improve from 0.45820\n",
      "\n",
      "Epoch 00011: ReduceLROnPlateau reducing learning rate to 9.999999939225292e-10.\n",
      "1353/1353 [==============================] - 461s 341ms/step - loss: 0.5806 - accuracy: 0.8166 - val_loss: 0.4651 - val_accuracy: 0.8453\n",
      "Epoch 12/30\n",
      "1353/1353 [==============================] - ETA: 0s - loss: 0.5729 - accuracy: 0.8191\n",
      "Epoch 00012: val_loss did not improve from 0.45820\n",
      "\n",
      "Epoch 00012: ReduceLROnPlateau reducing learning rate to 9.999999717180686e-11.\n",
      "1353/1353 [==============================] - 461s 341ms/step - loss: 0.5729 - accuracy: 0.8191 - val_loss: 0.4597 - val_accuracy: 0.8460\n",
      "Epoch 13/30\n",
      "1353/1353 [==============================] - ETA: 0s - loss: 0.5754 - accuracy: 0.8183\n",
      "Epoch 00013: val_loss did not improve from 0.45820\n",
      "\n",
      "Epoch 00013: ReduceLROnPlateau reducing learning rate to 9.99999943962493e-12.\n",
      "1353/1353 [==============================] - 460s 340ms/step - loss: 0.5754 - accuracy: 0.8183 - val_loss: 0.4720 - val_accuracy: 0.8429\n",
      "Epoch 14/30\n",
      "1353/1353 [==============================] - ETA: 0s - loss: 0.5715 - accuracy: 0.8174\n",
      "Epoch 00014: val_loss did not improve from 0.45820\n",
      "\n",
      "Epoch 00014: ReduceLROnPlateau reducing learning rate to 9.999999092680235e-13.\n",
      "1353/1353 [==============================] - 460s 340ms/step - loss: 0.5715 - accuracy: 0.8174 - val_loss: 0.4744 - val_accuracy: 0.8421\n",
      "Epoch 15/30\n",
      "1353/1353 [==============================] - ETA: 0s - loss: 0.5754 - accuracy: 0.8189Restoring model weights from the end of the best epoch.\n",
      "\n",
      "Epoch 00015: val_loss did not improve from 0.45820\n",
      "\n",
      "Epoch 00015: ReduceLROnPlateau reducing learning rate to 9.9999988758398e-14.\n",
      "1353/1353 [==============================] - 462s 341ms/step - loss: 0.5754 - accuracy: 0.8189 - val_loss: 0.4672 - val_accuracy: 0.8447\n",
      "Epoch 00015: early stopping\n"
     ]
    },
    {
     "data": {
      "image/png": "[encoded data removed]",
      "text/plain": [
       "<Figure size 1080x360 with 2 Axes>"
      ]
     },
     "metadata": {
      "needs_background": "light"
     },
     "output_type": "display_data"
    }
   ],
   "source": [
    "for train_idx, val_idx in SKF.split(train, train['label']):\n",
    "    training_data = train.iloc[train_idx]\n",
    "    validation_data = train.iloc[val_idx]\n",
    "    \n",
    "    # generator\n",
    "    train_generator = train_gen.flow_from_dataframe(dataframe=training_data, directory=None, x_col='image_id', y_col='label',\n",
    "                                                batch_size=batch_size, seed=1, shuffle=True,\n",
    "                                                class_mode='categorical', target_size=(image_size,image_size))\n",
    "\n",
    "    validation_generator = val_gen.flow_from_dataframe(dataframe=validation_data, directory=None, x_col='image_id', y_col='label',\n",
    "                                                   batch_size=batch_size, seed=1, shuffle=False,\n",
    "                                                   class_mode='categorical', target_size=(image_size,image_size))\n",
    "    \n",
    "    print('Fold num:', fold_var)\n",
    "    print('Train length:', len(train_generator))\n",
    "    print('Val length:', len(validation_generator))\n",
    "    \n",
    "    # build model\n",
    "    model = build_resnet50()\n",
    "    \n",
    "    # compile\n",
    "    model.compile(loss='categorical_crossentropy', optimizer=tf.keras.optimizers.Adam(learning_rate=0.0001),\n",
    "                  metrics=['accuracy'])\n",
    "    \n",
    "    # callbacks\n",
    "    checkpoint_filename = './k_fold_resnet/checkpoint_' + str(fold_var) + '.h5'\n",
    "    \n",
    "    early_stopping = EarlyStopping(monitor='val_loss', mode='min', verbose=1, patience=5, restore_best_weights=True)\n",
    "    model_checkpoint = ModelCheckpoint(checkpoint_filename, monitor='val_loss', mode='min', verbose=1, save_best_only=True)\n",
    "    reduce_lr = ReduceLROnPlateau(monitor='val_loss', mode='min', factor=0.1, patience=1, min_lr=0, verbose=1)\n",
    "    \n",
    "    # fit\n",
    "    history = model.fit(train_generator, epochs=30, validation_data=validation_generator, verbose=1,\n",
    "                        batch_size=batch_size,\n",
    "                        callbacks=[early_stopping, model_checkpoint, reduce_lr])\n",
    "                        \n",
    "    # save model\n",
    "    model_filename = './k_fold_resnet/' + str(fold_var) + '.h5'\n",
    "    model.save(model_filename)\n",
    "    \n",
    "    results = pd.DataFrame(history.history)\n",
    "    fig, axs = plt.subplots(1,2,figsize=(15,5))\n",
    "    axs[0].plot(results[['loss', 'val_loss']])\n",
    "    axs[0].set_title('Loss')\n",
    "    axs[1].plot(results[['accuracy', 'val_accuracy']])\n",
    "    axs[1].set_title('Accuracy')\n",
    "    plt.show()\n",
    "    \n",
    "    all_val_acc.append(history.history['val_accuracy'][-5])\n",
    "    \n",
    "    K.clear_session()\n",
    "    del(model)\n",
    "    \n",
    "    fold_var += 1"
   ]
  },
  {
   "cell_type": "code",
   "execution_count": 28,
   "metadata": {},
   "outputs": [
    {
     "name": "stdout",
     "output_type": "stream",
     "text": [
      "0.8456362962722779\n"
     ]
    }
   ],
   "source": [
    "print(np.mean(all_val_acc))"
   ]
  },
  {
   "cell_type": "code",
   "execution_count": 30,
   "metadata": {},
   "outputs": [],
   "source": [
    "model = keras.models.load_model('./k_fold_resnet/checkpoint_3.h5')"
   ]
  },
  {
   "cell_type": "code",
   "execution_count": 20,
   "metadata": {},
   "outputs": [],
   "source": [
    "test = pd.read_csv('../input/more-cassava-disease/sample_submission_file.csv')"
   ]
  },
  {
   "cell_type": "code",
   "execution_count": 26,
   "metadata": {},
   "outputs": [],
   "source": [
    "test_path = '../input/more-cassava-disease/test/test/test/0'\n",
    "\n",
    "def test_image_path(image):\n",
    "    return os.path.join(test_path,image)\n",
    "\n",
    "test['image_id'] = test['image_id'].apply(test_image_path)\n",
    "test['label'].replace('cbb', '0', inplace=True)\n",
    "test['label'].replace('cbsd', '1', inplace=True)\n",
    "test['label'].replace('cgm', '2', inplace=True)\n",
    "test['label'].replace('cmd', '3', inplace=True)\n",
    "test['label'].replace('healthy', '4', inplace=True)"
   ]
  },
  {
   "cell_type": "code",
   "execution_count": 27,
   "metadata": {},
   "outputs": [
    {
     "data": {
      "text/html": [
       "<div>\n",
       "<style scoped>\n",
       "    .dataframe tbody tr th:only-of-type {\n",
       "        vertical-align: middle;\n",
       "    }\n",
       "\n",
       "    .dataframe tbody tr th {\n",
       "        vertical-align: top;\n",
       "    }\n",
       "\n",
       "    .dataframe thead th {\n",
       "        text-align: right;\n",
       "    }\n",
       "</style>\n",
       "<table border=\"1\" class=\"dataframe\">\n",
       "  <thead>\n",
       "    <tr style=\"text-align: right;\">\n",
       "      <th></th>\n",
       "      <th>image_id</th>\n",
       "      <th>label</th>\n",
       "    </tr>\n",
       "  </thead>\n",
       "  <tbody>\n",
       "    <tr>\n",
       "      <th>3769</th>\n",
       "      <td>../input/more-cassava-disease/test/test/test/0...</td>\n",
       "      <td>0</td>\n",
       "    </tr>\n",
       "    <tr>\n",
       "      <th>3770</th>\n",
       "      <td>../input/more-cassava-disease/test/test/test/0...</td>\n",
       "      <td>2</td>\n",
       "    </tr>\n",
       "    <tr>\n",
       "      <th>3771</th>\n",
       "      <td>../input/more-cassava-disease/test/test/test/0...</td>\n",
       "      <td>4</td>\n",
       "    </tr>\n",
       "    <tr>\n",
       "      <th>3772</th>\n",
       "      <td>../input/more-cassava-disease/test/test/test/0...</td>\n",
       "      <td>0</td>\n",
       "    </tr>\n",
       "    <tr>\n",
       "      <th>3773</th>\n",
       "      <td>../input/more-cassava-disease/test/test/test/0...</td>\n",
       "      <td>4</td>\n",
       "    </tr>\n",
       "  </tbody>\n",
       "</table>\n",
       "</div>"
      ],
      "text/plain": [
       "                                               image_id label\n",
       "3769  ../input/more-cassava-disease/test/test/test/0...     0\n",
       "3770  ../input/more-cassava-disease/test/test/test/0...     2\n",
       "3771  ../input/more-cassava-disease/test/test/test/0...     4\n",
       "3772  ../input/more-cassava-disease/test/test/test/0...     0\n",
       "3773  ../input/more-cassava-disease/test/test/test/0...     4"
      ]
     },
     "execution_count": 27,
     "metadata": {},
     "output_type": "execute_result"
    }
   ],
   "source": [
    "test = test[['image_id', 'label']]\n",
    "\n",
    "test.tail()"
   ]
  },
  {
   "cell_type": "code",
   "execution_count": 23,
   "metadata": {},
   "outputs": [
    {
     "name": "stdout",
     "output_type": "stream",
     "text": [
      "Found 3774 validated image filenames belonging to 5 classes.\n"
     ]
    }
   ],
   "source": [
    "test_generator = val_gen.flow_from_dataframe(dataframe=test, directory=None, x_col='image_id', y_col='label',\n",
    "                                              preprocessing_function=applications.resnet50.preprocess_input,\n",
    "                                              class_mode='categorical', target_size=(image_size,image_size))"
   ]
  },
  {
   "cell_type": "code",
   "execution_count": 36,
   "metadata": {
    "scrolled": true
   },
   "outputs": [
    {
     "name": "stdout",
     "output_type": "stream",
     "text": [
      "[1, 3, 0, 3, 1, 1, 2, 1, 3, 2, 3, 2, 2, 0, 2, 0, 2, 2, 0, 2, 3, 4, 4, 1, 4, 2, 2, 1, 2, 2, 1, 2, 3, 3, 4, 3, 0, 0, 2, 2, 0, 1, 1, 3, 2, 2, 3, 4, 2, 4, 0, 0, 2, 4, 3, 3, 3, 3, 0, 2, 2, 2, 3, 0, 1, 1, 1, 0, 0, 4, 4, 2, 4, 4, 1, 3, 2, 1, 1, 1, 3, 2, 4, 3, 3, 2, 4, 2, 2, 1, 0, 2, 3, 2, 2, 4, 4, 4, 3, 1, 3, 1, 0, 3, 4, 3, 3, 1, 3, 4, 4, 1, 2, 4, 0, 4, 1, 1, 4, 1, 4, 0, 4, 0, 0, 4, 1, 0, 0, 4, 1, 2, 0, 4, 1, 4, 0, 4, 4, 4, 1, 4, 3, 4, 4, 2, 3, 1, 1, 2, 4, 2, 1, 2, 3, 0, 3, 1, 2, 1, 2, 0, 0, 1, 4, 3, 0, 1, 4, 3, 4, 3, 0, 1, 2, 4, 4, 4, 3, 2, 0, 2, 2, 4, 1, 2, 1, 1, 3, 2, 1, 3, 0, 1, 4, 2, 0, 1, 0, 2, 4, 2, 0, 0, 3, 4, 3, 2, 2, 0, 0, 3, 4, 0, 4, 0, 3, 4, 3, 1, 4, 2, 1, 2, 4, 4, 1, 1, 4, 0, 4, 3, 1, 2, 2, 0, 4, 4, 4, 0, 4, 4, 1, 1, 3, 3, 0, 4, 2, 4, 1, 3, 0, 4, 1, 4, 3, 1, 3, 2, 2, 2, 4, 4, 2, 3, 4, 4, 2, 0, 3, 0, 1, 3, 0, 1, 2, 4, 4, 3, 3, 1, 3, 3, 4, 1, 4, 0, 0, 2, 1, 4, 0, 1, 3, 2, 0, 0, 1, 1, 1, 3, 1, 2, 2, 1, 1, 4, 4, 4, 3, 0, 1, 4, 1, 1, 4, 4, 4, 1, 4, 0, 2, 1, 1, 0, 1, 3, 0, 2, 0, 1, 3, 4, 2, 2, 4, 0, 3, 1, 3, 1, 4, 2, 1, 4, 2, 1, 1, 3, 0, 0, 1, 3, 1, 1, 2, 1, 4, 0, 4, 1, 4, 3, 0, 0, 1, 0, 4, 3, 2, 4, 4, 2, 0, 1, 4, 3, 4, 1, 2, 0, 2, 4, 4, 0, 0, 2, 0, 2, 1, 2, 1, 0, 3, 2, 1, 1, 2, 0, 4, 3, 2, 3, 3, 2, 2, 1, 2, 2, 0, 4, 3, 3, 1, 0, 0, 0, 3, 0, 0, 2, 3, 2, 2, 3, 2, 0, 4, 4, 4, 3, 2, 4, 1, 2, 3, 1, 0, 1, 2, 0, 2, 1, 4, 2, 2, 1, 4, 3, 0, 1, 2, 3, 4, 3, 0, 3, 4, 0, 3, 0, 1, 2, 0, 4, 0, 0, 2, 3, 1, 4, 4, 4, 0, 3, 3, 1, 4, 2, 3, 2, 0, 0, 4, 1, 3, 2, 0, 3, 3, 0, 4, 4, 3, 3, 2, 0, 0, 1, 0, 0, 0, 0, 1, 4, 3, 0, 0, 0, 0, 4, 4, 0, 3, 4, 2, 3, 2, 2, 4, 4, 3, 0, 4, 1, 4, 2, 0, 3, 4, 3, 3, 2, 1, 1, 2, 2, 1, 4, 4, 3, 2, 0, 3, 2, 4, 4, 2, 3, 0, 4, 1, 1, 1, 2, 1, 1, 4, 1, 2, 4, 4, 2, 0, 1, 1, 0, 3, 4, 1, 1, 1, 4, 4, 3, 4, 4, 4, 2, 3, 2, 4, 0, 3, 4, 4, 3, 3, 0, 2, 4, 1, 3, 3, 1, 1, 1, 1, 4, 4, 3, 1, 4, 2, 3, 0, 1, 4, 2, 3, 0, 0, 2, 2, 2, 2, 3, 1, 4, 4, 2, 2, 3, 3, 3, 4, 4, 2, 0, 3, 3, 1, 4, 3, 3, 4, 3, 4, 2, 4, 2, 3, 3, 4, 0, 4, 2, 4, 0, 2, 2, 0, 3, 1, 1, 2, 3, 3, 1, 0, 3, 1, 2, 2, 2, 1, 3, 3, 2, 2, 4, 2, 0, 4, 2, 4, 4, 0, 2, 4, 0, 0, 4, 3, 4, 3, 3, 4, 3, 2, 0, 0, 0, 4, 1, 0, 4, 3, 2, 4, 4, 3, 2, 0, 3, 3, 2, 0, 3, 0, 3, 4, 4, 0, 2, 2, 2, 1, 1, 0, 0, 4, 4, 0, 3, 4, 0, 4, 3, 1, 3, 4, 3, 1, 0, 2, 4, 3, 4, 4, 4, 0, 2, 3, 4, 3, 3, 4, 3, 3, 1, 0, 4, 1, 3, 0, 3, 1, 3, 1, 0, 0, 4, 1, 4, 1, 0, 2, 4, 4, 2, 2, 2, 2, 4, 4, 1, 0, 3, 4, 3, 2, 4, 3, 2, 3, 0, 3, 2, 0, 3, 4, 4, 4, 3, 2, 2, 2, 2, 3, 1, 0, 3, 0, 2, 2, 1, 4, 0, 3, 4, 0, 3, 0, 2, 4, 3, 3, 1, 4, 4, 1, 0, 4, 3, 1, 2, 2, 4, 0, 4, 4, 4, 3, 0, 1, 2, 1, 3, 4, 0, 1, 0, 0, 3, 0, 0, 3, 1, 2, 3, 1, 1, 2, 1, 3, 4, 4, 4, 0, 0, 4, 1, 4, 1, 2, 0, 4, 3, 3, 0, 1, 3, 4, 4, 1, 3, 0, 0, 3, 2, 0, 3, 4, 1, 3, 3, 0, 2, 4, 2, 0, 4, 3, 0, 4, 4, 0, 2, 3, 1, 2, 1, 1, 0, 3, 2, 0, 0, 3, 0, 3, 1, 4, 2, 3, 4, 1, 2, 3, 2, 4, 0, 0, 3, 4, 1, 0, 1, 3, 4, 1, 3, 2, 2, 4, 3, 4, 3, 0, 0, 3, 4, 4, 2, 4, 4, 2, 1, 4, 1, 2, 0, 2, 3, 4, 2, 0, 4, 1, 2, 0, 0, 0, 1, 4, 2, 1, 4, 1, 3, 1, 2, 1, 1, 2, 2, 3, 4, 3, 1, 2, 1, 3, 2, 3, 2, 0, 0, 4, 1, 2, 2, 3, 4, 4, 3, 2, 0, 0, 3, 2, 3, 1, 1, 0, 2, 2, 4, 1, 2, 3, 1, 1, 4, 1, 0, 4, 4, 4, 0, 0, 2, 3, 4, 4, 1, 2, 0, 3, 4, 0, 2, 2, 4, 3, 0, 3, 0, 1, 1, 4, 2, 3, 3, 4, 4, 4, 1, 2, 3, 4, 4, 2, 2, 0, 3, 0, 0, 2, 4, 0, 0, 3, 0, 2, 0, 0, 1, 2, 4, 4, 3, 2, 4, 2, 1, 1, 0, 2, 3, 4, 3, 2, 4, 2, 1, 2, 0, 3, 0, 0, 1, 3, 1, 3, 0, 4, 0, 3, 4, 1, 2, 0, 2, 2, 0, 1, 3, 4, 3, 0, 4, 3, 3, 3, 0, 2, 1, 4, 2, 0, 3, 3, 0, 1, 2, 2, 2, 0, 3, 3, 0, 3, 4, 0, 1, 3, 3, 2, 0, 2, 1, 4, 0, 1, 0, 2, 2, 1, 3, 0, 3, 1, 2, 3, 3, 4, 3, 3, 0, 0, 3, 3, 4, 3, 3, 4, 0, 4, 2, 2, 0, 0, 2, 4, 0, 2, 4, 0, 4, 0, 3, 1, 3, 0, 2, 2, 3, 1, 4, 3, 0, 2, 3, 0, 0, 3, 1, 1, 4, 1, 4, 2, 0, 2, 4, 3, 0, 1, 0, 2, 3, 4, 4, 3, 4, 3, 3, 1, 2, 4, 1, 1, 2, 4, 2, 1, 3, 2, 0, 3, 0, 1, 1, 3, 0, 0, 1, 4, 0, 2, 0, 2, 2, 0, 1, 2, 0, 1, 0, 3, 3, 1, 1, 4, 3, 3, 3, 1, 3, 3, 1, 3, 4, 0, 1, 1, 1, 3, 3, 2, 1, 4, 0, 0, 1, 3, 3, 0, 3, 0, 0, 1, 1, 2, 1, 4, 3, 2, 1, 4, 1, 3, 1, 0, 2, 1, 4, 1, 1, 1, 1, 0, 3, 2, 2, 1, 2, 4, 2, 3, 2, 0, 3, 2, 3, 3, 1, 3, 1, 1, 0, 2, 2, 0, 4, 2, 3, 4, 1, 3, 3, 3, 4, 1, 2, 2, 2, 1, 4, 4, 2, 4, 0, 2, 3, 1, 2, 3, 1, 1, 1, 4, 4, 1, 0, 3, 0, 2, 3, 1, 3, 4, 0, 0, 0, 3, 3, 0, 4, 2, 2, 2, 3, 1, 1, 0, 1, 3, 1, 0, 1, 1, 4, 1, 0, 3, 4, 3, 1, 0, 0, 3, 2, 3, 4, 4, 2, 2, 1, 2, 0, 1, 2, 4, 1, 2, 4, 1, 2, 3, 0, 4, 3, 0, 0, 0, 0, 3, 3, 1, 4, 4, 0, 1, 1, 0, 4, 0, 2, 2, 2, 4, 4, 3, 2, 1, 4, 2, 4, 0, 1, 0, 2, 4, 0, 2, 2, 0, 3, 3, 2, 3, 4, 3, 3, 2, 0, 2, 2, 1, 1, 0, 2, 0, 2, 1, 4, 1, 1, 3, 2, 2, 0, 2, 0, 4, 0, 4, 0, 3, 1, 3, 3, 4, 2, 2, 1, 4, 2, 4, 1, 0, 4, 2, 0, 4, 2, 3, 0, 0, 4, 0, 1, 4, 2, 3, 3, 2, 0, 0, 0, 3, 0, 2, 4, 2, 1, 1, 2, 4, 0, 1, 4, 2, 2, 4, 2, 4, 2, 0, 0, 1, 0, 0, 0, 0, 3, 3, 3, 0, 0, 2, 2, 3, 2, 3, 3, 4, 3, 2, 0, 4, 1, 0, 3, 4, 3, 0, 4, 3, 2, 4, 0, 4, 4, 4, 0, 2, 0, 2, 1, 2, 0, 0, 3, 3, 3, 3, 1, 2, 4, 3, 1, 4, 1, 1, 4, 4, 4, 4, 3, 4, 3, 4, 1, 1, 0, 2, 2, 3, 0, 0, 3, 3, 4, 2, 1, 1, 3, 4, 3, 2, 1, 1, 3, 3, 1, 0, 4, 1, 1, 0, 3, 0, 2, 1, 4, 1, 3, 4, 3, 2, 3, 3, 3, 4, 1, 3, 2, 2, 4, 3, 0, 3, 0, 3, 2, 2, 2, 2, 1, 0, 4, 3, 2, 1, 1, 4, 1, 4, 3, 2, 4, 2, 0, 1, 3, 3, 4, 0, 1, 4, 1, 4, 1, 3, 2, 1, 3, 3, 2, 1, 3, 3, 2, 4, 3, 2, 0, 1, 2, 1, 2, 4, 4, 1, 3, 1, 4, 0, 4, 2, 4, 4, 3, 3, 0, 3, 0, 0, 3, 2, 0, 1, 1, 4, 3, 0, 3, 3, 3, 4, 0, 1, 0, 4, 2, 0, 3, 2, 1, 1, 3, 3, 3, 2, 4, 3, 1, 4, 3, 1, 2, 2, 2, 2, 4, 4, 2, 4, 1, 1, 3, 4, 4, 0, 4, 4, 4, 1, 4, 4, 1, 3, 1, 3, 1, 0, 0, 1, 2, 0, 1, 0, 0, 2, 4, 0, 4, 0, 0, 2, 4, 1, 1, 1, 3, 3, 3, 3, 3, 0, 1, 0, 1, 3, 4, 0, 1, 2, 3, 1, 3, 3, 0, 3, 0, 0, 3, 0, 0, 3, 3, 4, 0, 4, 3, 0, 4, 0, 2, 1, 3, 1, 4, 3, 0, 3, 1, 3, 4, 0, 0, 0, 4, 3, 1, 0, 2, 2, 2, 3, 2, 0, 4, 1, 3, 1, 1, 4, 2, 1, 1, 2, 3, 0, 4, 2, 1, 4, 0, 1, 0, 0, 0, 2, 4, 4, 1, 0, 3, 3, 4, 4, 3, 0, 4, 3, 3, 0, 1, 3, 2, 0, 0, 1, 0, 4, 2, 1, 0, 2, 0, 1, 1, 1, 1, 2, 1, 3, 3, 4, 3, 1, 2, 0, 4, 0, 3, 4, 0, 1, 0, 3, 0, 0, 3, 4, 0, 4, 4, 3, 3, 1, 0, 4, 3, 0, 3, 0, 4, 3, 3, 1, 4, 3, 3, 2, 3, 4, 0, 3, 3, 1, 1, 0, 0, 3, 0, 4, 4, 0, 2, 3, 4, 4, 0, 1, 3, 3, 1, 2, 1, 2, 0, 3, 3, 2, 1, 2, 0, 4, 1, 4, 2, 3, 1, 4, 1, 3, 3, 1, 2, 1, 1, 4, 3, 4, 3, 1, 1, 1, 1, 4, 3, 3, 3, 0, 3, 1, 3, 0, 4, 3, 4, 3, 1, 4, 3, 1, 0, 0, 0, 1, 2, 3, 2, 1, 1, 3, 0, 4, 2, 2, 3, 0, 2, 0, 1, 3, 2, 2, 1, 4, 3, 1, 2, 4, 1, 4, 2, 0, 3, 4, 3, 4, 4, 3, 3, 4, 2, 4, 2, 1, 0, 1, 2, 1, 2, 0, 0, 3, 2, 4, 1, 1, 4, 4, 4, 3, 1, 0, 1, 3, 3, 2, 0, 3, 2, 4, 1, 3, 3, 3, 3, 2, 1, 4, 2, 2, 4, 1, 1, 3, 4, 2, 1, 3, 1, 4, 0, 1, 3, 3, 0, 4, 1, 1, 0, 2, 3, 1, 2, 1, 1, 0, 0, 3, 4, 3, 0, 3, 0, 1, 0, 0, 1, 2, 2, 0, 0, 3, 1, 3, 3, 0, 2, 4, 2, 1, 0, 1, 2, 3, 0, 4, 1, 0, 4, 0, 3, 4, 4, 0, 3, 3, 3, 1, 2, 2, 3, 0, 3, 0, 3, 4, 3, 4, 4, 3, 3, 1, 1, 0, 3, 4, 3, 0, 1, 2, 4, 2, 3, 0, 3, 0, 2, 3, 0, 0, 3, 1, 4, 4, 0, 4, 1, 1, 1, 2, 4, 3, 4, 3, 3, 4, 3, 4, 3, 4, 3, 0, 0, 2, 0, 2, 0, 4, 2, 3, 0, 0, 3, 3, 4, 4, 0, 4, 4, 0, 4, 4, 4, 4, 0, 4, 3, 1, 3, 3, 1, 0, 1, 3, 2, 3, 2, 3, 3, 3, 0, 1, 2, 2, 0, 1, 0, 4, 2, 4, 0, 4, 4, 1, 4, 1, 1, 1, 1, 2, 0, 4, 2, 4, 0, 1, 4, 3, 0, 0, 2, 4, 4, 3, 4, 0, 3, 1, 1, 4, 3, 4, 0, 0, 2, 0, 1, 4, 3, 0, 1, 4, 2, 4, 1, 1, 0, 2, 2, 3, 1, 0, 4, 2, 1, 2, 1, 0, 3, 2, 0, 0, 4, 2, 1, 3, 0, 2, 3, 2, 4, 1, 1, 0, 0, 1, 1, 3, 4, 2, 0, 4, 0, 3, 2, 2, 2, 2, 3, 3, 3, 4, 4, 1, 2, 0, 3, 4, 4, 2, 2, 3, 3, 4, 4, 0, 3, 2, 3, 1, 0, 2, 2, 0, 4, 3, 4, 3, 0, 0, 2, 0, 2, 3, 1, 2, 0, 0, 3, 4, 2, 1, 3, 2, 2, 4, 2, 2, 4, 2, 4, 1, 4, 3, 3, 3, 0, 3, 2, 1, 0, 3, 4, 1, 2, 3, 3, 4, 2, 1, 2, 3, 3, 0, 4, 0, 2, 2, 4, 0, 4, 0, 3, 0, 0, 4, 1, 1, 4, 0, 4, 0, 3, 1, 3, 1, 3, 2, 1, 1, 0, 1, 0, 0, 3, 3, 0, 1, 3, 4, 1, 3, 4, 0, 4, 2, 2, 2, 3, 1, 3, 4, 3, 0, 3, 2, 0, 2, 2, 4, 3, 2, 4, 2, 1, 3, 0, 4, 4, 3, 4, 4, 0, 3, 3, 4, 4, 0, 1, 1, 1, 0, 0, 0, 4, 0, 3, 4, 0, 2, 1, 1, 2, 2, 4, 1, 0, 1, 1, 4, 3, 4, 4, 3, 0, 0, 3, 2, 1, 3, 1, 4, 4, 4, 4, 2, 2, 1, 2, 1, 4, 0, 2, 2, 4, 4, 1, 3, 0, 2, 2, 3, 0, 3, 1, 3, 2, 0, 4, 3, 2, 4, 3, 3, 3, 1, 2, 1, 4, 2, 0, 4, 1, 4, 2, 4, 3, 0, 0, 0, 1, 0, 0, 0, 2, 4, 4, 2, 0, 1, 0, 4, 3, 3, 4, 0, 1, 3, 0, 1, 0, 1, 1, 2, 0, 1, 2, 1, 2, 0, 3, 2, 4, 3, 1, 4, 2, 1, 0, 4, 1, 0, 1, 4, 1, 3, 0, 4, 3, 1, 4, 0, 3, 3, 2, 3, 0, 1, 1, 4, 0, 0, 0, 2, 2, 1, 1, 2, 2, 3, 3, 0, 3, 1, 1, 4, 2, 4, 3, 3, 1, 3, 4, 1, 4, 4, 1, 2, 3, 3, 4, 2, 2, 0, 0, 4, 0, 4, 2, 0, 0, 1, 2, 0, 2, 4, 3, 4, 2, 4, 4, 4, 1, 2, 1, 1, 4, 4, 1, 4, 4, 3, 0, 0, 2, 4, 0, 4, 0, 2, 3, 1, 3, 1, 1, 1, 1, 0, 1, 3, 2, 4, 3, 2, 4, 0, 1, 0, 2, 3, 0, 4, 4, 3, 0, 1, 4, 0, 1, 4, 3, 4, 3, 3, 0, 3, 1, 4, 1, 3, 4, 3, 0, 0, 1, 0, 3, 1, 1, 3, 1, 1, 2, 1, 0, 0, 1, 2, 0, 4, 4, 3, 0, 1, 4, 4, 4, 1, 0, 0, 2, 1, 4, 0, 0, 1, 4, 1, 3, 4, 2, 1, 2, 0, 1, 4, 0, 2, 4, 1, 4, 4, 3, 0, 0, 0, 1, 0, 0, 4, 4, 3, 1, 0, 3, 2, 2, 4, 3, 0, 1, 0, 2, 4, 2, 4, 4, 2, 3, 4, 3, 4, 3, 4, 3, 0, 3, 0, 1, 2, 4, 1, 3, 1, 3, 1, 1, 4, 4, 3, 0, 2, 1, 1, 0, 0, 2, 3, 0, 1, 1, 1, 4, 0, 1, 2, 1, 3, 1, 0, 4, 1, 0, 3, 1, 1, 2, 4, 1, 4, 4, 4, 1, 1, 4, 1, 2, 4, 3, 3, 0, 1, 4, 4, 0, 4, 3, 4, 1, 0, 1, 0, 1, 0, 4, 4, 4, 4, 4, 4, 3, 3, 4, 4, 0, 2, 1, 0, 3, 0, 0, 0, 1, 3, 1, 3, 2, 1, 3, 4, 2, 0, 1, 4, 4, 2, 3, 3, 4, 1, 4, 1, 0, 0, 4, 3, 0, 3, 3, 4, 2, 4, 0, 2, 2, 0, 3, 1, 0, 0, 0, 3, 2, 3, 0, 3, 0, 4, 3, 4, 1, 3, 2, 1, 4, 0, 0, 1, 1, 2, 4, 1, 0, 3, 0, 1, 4, 4, 3, 4, 4, 2, 3, 2, 2, 0, 0, 4, 4, 2, 4, 3, 4, 2, 2, 0, 2, 2, 0, 3, 1, 2, 1, 1, 0, 4, 3, 4, 1, 3, 2, 0, 4, 4, 0, 0, 3, 0, 4, 4, 0, 2, 2, 3, 4, 2, 3, 4, 2, 3, 1, 3, 0, 2, 1, 0, 4, 2, 3, 0, 1, 2, 4, 2, 2, 4, 0, 3, 0, 1, 4, 1, 2, 1, 4, 0, 2, 1, 0, 0, 2, 0, 4, 3, 1, 1, 4, 1, 4, 3, 4, 3, 1, 4, 3, 0, 3, 1, 0, 0, 3, 1, 2, 4, 4, 3, 3, 2, 4, 1, 0, 1, 3, 0, 1, 4, 4, 4, 4, 3, 2, 2, 0, 1, 1, 3, 3, 2, 2, 4, 4, 2, 1, 2, 3, 3, 4, 4, 0, 4, 1, 4, 2, 1, 1, 1, 4, 2, 2, 2, 0, 4, 1, 2, 2, 1, 3, 4, 2, 2, 2, 1, 3, 0, 0, 3, 3, 1, 2, 4, 3, 4, 1, 1, 2, 4, 0, 0, 3, 3, 4, 2, 4, 0, 3, 4, 4, 2, 4, 4, 1, 2, 2, 2, 3, 3, 4, 2, 4, 4, 2, 0, 1, 2, 3, 1, 4, 4, 3, 3, 0, 1, 1, 2, 1, 1, 1, 1, 2, 3, 4, 0, 4, 1, 3, 0, 2, 4, 4, 1, 0, 3, 3, 3, 4, 1, 0, 4, 0, 4, 4, 4, 1, 1, 3, 2, 0, 2, 2, 0, 0, 4, 2, 4, 3, 0, 4, 2, 1, 2, 1, 0, 3, 3, 4, 2, 0, 2, 1, 2, 2, 3, 2, 0, 2, 4, 2, 4, 2, 4, 1, 0, 3, 4, 3, 3, 2, 1, 2, 0, 3, 3, 1, 3, 0, 2, 1, 3, 1, 0, 0, 1, 2, 4, 1, 2, 4, 1, 4, 0, 1, 2, 3, 0, 0, 0, 2, 2, 3, 3, 3, 1, 0, 1, 3, 1, 2, 3, 3, 3, 0, 2, 3, 3, 2, 2, 3, 2, 3, 1, 0, 0, 3, 0, 2, 3, 2, 2, 3, 1, 1, 1, 0, 0, 2, 1, 2, 4, 4, 1, 4, 0, 4, 1, 1, 4, 0, 3, 1, 2, 2, 0, 2, 4, 2, 0, 0, 2, 3, 1, 1, 1, 0, 3, 0, 1, 4, 4, 2, 3, 2, 0, 4, 2, 2, 2, 4, 3, 4, 4, 2, 0, 2, 4, 0, 1, 2, 0, 0, 0, 4, 4, 2, 1, 1, 1, 1, 3, 2, 3, 1, 0, 1, 3, 3, 3, 0, 1, 0, 0, 3, 3, 2, 1, 1, 2, 0, 4, 1, 0, 1, 4, 1, 3, 0, 4, 0, 2, 4, 3, 2, 2, 1, 2, 3, 0, 1, 1, 1, 0, 1, 2, 1, 1, 2, 2, 3, 1, 3, 4, 0, 0, 2, 2, 3, 1, 0, 0, 4, 0, 0, 1, 3, 1, 4, 0, 3, 3, 1, 1, 2, 2, 2, 1, 0, 1, 0, 3, 0, 2, 1, 1, 3, 4, 0, 1, 4, 3, 0, 0, 3, 4, 4, 3, 2, 0, 2, 3, 2, 3, 3, 0, 0, 3, 1, 3, 2, 2, 0, 3, 4, 1, 0, 2, 1, 3, 0, 3, 3, 4, 4, 2, 0, 4, 4, 0, 4, 0, 2, 3, 4, 4, 3, 3, 1, 0, 4, 0, 2, 0, 0, 3, 4, 1, 4, 4, 4, 2, 0, 0, 0, 0, 3, 3, 3, 2, 3, 3, 1, 1, 4, 4, 3, 1, 4, 3, 0, 4, 2, 2, 1, 4, 3, 1, 0, 2, 4, 1, 0, 3, 0, 0, 2, 3, 0, 1, 2, 3, 3, 1, 1, 2, 4, 3, 2, 2, 1, 4, 3, 3, 2, 0, 3, 4, 3, 2, 3, 3, 1, 2, 3, 3, 4, 4, 0, 2, 1, 4, 2, 1, 3, 2, 1, 2, 2, 1, 1, 3, 4, 0, 1, 0, 1, 0, 4, 3, 0, 1, 1, 0, 1, 1, 2, 4, 1, 3, 2, 2, 2, 0, 0, 0, 4, 0, 3, 2, 3, 1, 4, 0, 2, 4, 3, 1, 4, 3, 0, 4, 0, 3, 3, 2, 2, 0, 0, 2, 3, 3, 4, 3, 3, 2, 1, 2, 2, 0, 1, 1, 2, 2, 4, 2, 2, 0, 4, 2, 0, 0, 2, 3, 3, 1, 0, 3, 2, 0, 1, 1, 1, 0, 3, 0, 3, 2, 2, 3, 4, 0, 3, 2, 2, 3, 1, 1, 1, 3, 2, 2, 0, 3, 2, 4, 0, 0, 1, 4, 3, 1, 2, 3, 1, 3, 1, 1, 1, 4, 3, 1, 3, 0, 4, 2, 3, 4, 3, 1, 0, 2, 4, 0, 4]\n"
     ]
    }
   ],
   "source": [
    "print(test_generator.classes)"
   ]
  },
  {
   "cell_type": "code",
   "execution_count": 31,
   "metadata": {},
   "outputs": [],
   "source": [
    "output = model.predict(test_generator)"
   ]
  },
  {
   "cell_type": "code",
   "execution_count": 34,
   "metadata": {},
   "outputs": [],
   "source": [
    "output = np.argmax(output, axis=1)"
   ]
  },
  {
   "cell_type": "code",
   "execution_count": 38,
   "metadata": {},
   "outputs": [
    {
     "name": "stdout",
     "output_type": "stream",
     "text": [
      "[3, 4, 3, 1, 2, 3, 1, 3, 3, 3, 2, 3, 3, 3, 1, 3, 3, 3, 1, 1, 3, 3, 2, 1, 3, 3, 2, 3, 3, 3, 1, 1, 3, 1, 3, 3, 3, 3, 4, 3, 1, 3, 0, 1, 2, 2, 2, 3, 3, 3, 3, 3, 3, 1, 3, 3, 3, 3, 3, 1, 1, 3, 2, 1, 3, 1, 3, 3, 4, 3, 2, 2, 3, 3, 2, 3, 2, 1, 4, 3, 4, 1, 3, 1, 1, 3, 3, 2, 1, 3, 3, 2, 3, 4, 1, 2, 2, 2, 3, 3, 3, 1, 4, 1, 2, 0, 1, 3, 1, 3, 1, 3, 1, 1, 2, 3, 0, 1, 1, 1, 3, 1, 3, 1, 3, 1, 3, 4, 3, 3, 1, 2, 0, 3, 3, 0, 1, 3, 3, 3, 2, 3, 3, 1, 3, 2, 1, 2, 1, 3, 0, 3, 1, 3, 2, 2, 3, 2, 1, 1, 3, 1, 3, 1, 0, 1, 2, 4, 2, 1, 4, 1, 0, 1, 1, 3, 4, 4, 3, 2, 3, 3, 1, 1, 3, 3, 4, 0, 4, 3, 3, 4, 3, 3, 3, 3, 3, 1, 3, 3, 3, 3, 3, 3, 3, 3, 2, 0, 2, 3, 3, 2, 1, 2, 1, 1, 3, 3, 1, 3, 4, 3, 1, 1, 3, 2, 1, 2, 3, 3, 3, 3, 3, 1, 3, 4, 1, 1, 3, 1, 1, 3, 1, 4, 1, 0, 3, 3, 1, 3, 4, 3, 3, 1, 2, 3, 3, 3, 1, 4, 4, 3, 2, 3, 2, 3, 3, 3, 1, 3, 3, 0, 3, 3, 1, 2, 3, 1, 1, 2, 1, 1, 4, 3, 3, 2, 3, 2, 3, 1, 1, 1, 0, 1, 3, 1, 3, 3, 1, 3, 2, 4, 1, 3, 2, 4, 1, 3, 4, 4, 3, 4, 2, 2, 3, 3, 3, 2, 1, 3, 3, 1, 1, 1, 1, 4, 2, 4, 1, 3, 2, 2, 1, 3, 1, 3, 3, 3, 3, 3, 3, 2, 3, 0, 1, 3, 3, 3, 3, 4, 1, 4, 3, 3, 1, 2, 3, 1, 2, 1, 3, 0, 3, 3, 3, 3, 0, 1, 0, 3, 3, 2, 3, 2, 3, 0, 3, 2, 3, 1, 1, 4, 2, 2, 3, 0, 1, 3, 2, 2, 1, 0, 2, 3, 1, 4, 3, 3, 3, 2, 1, 3, 1, 3, 3, 3, 1, 3, 0, 4, 1, 3, 2, 3, 3, 3, 1, 3, 3, 1, 1, 0, 1, 3, 2, 2, 1, 2, 3, 2, 1, 3, 1, 2, 1, 3, 3, 3, 1, 3, 3, 1, 3, 2, 4, 1, 2, 1, 3, 3, 3, 2, 3, 3, 3, 3, 3, 3, 0, 2, 1, 3, 1, 3, 1, 3, 4, 3, 4, 3, 3, 3, 1, 3, 0, 0, 3, 1, 0, 4, 4, 1, 3, 1, 3, 3, 3, 3, 3, 2, 3, 3, 1, 3, 4, 3, 2, 3, 3, 1, 1, 3, 2, 1, 3, 3, 3, 0, 3, 3, 1, 1, 4, 3, 1, 3, 1, 1, 4, 2, 3, 2, 3, 2, 3, 1, 1, 3, 3, 3, 3, 3, 3, 0, 3, 0, 3, 3, 3, 3, 3, 1, 3, 3, 3, 3, 1, 3, 4, 1, 3, 1, 3, 4, 1, 3, 4, 3, 3, 3, 3, 0, 1, 2, 1, 1, 3, 4, 1, 3, 2, 1, 0, 0, 0, 3, 2, 3, 3, 2, 3, 1, 3, 3, 1, 3, 4, 1, 1, 2, 3, 3, 1, 3, 1, 3, 0, 3, 3, 3, 2, 2, 3, 1, 1, 3, 3, 0, 1, 3, 3, 1, 4, 3, 3, 4, 4, 4, 1, 3, 3, 4, 3, 1, 1, 4, 3, 4, 1, 1, 0, 3, 3, 1, 1, 4, 4, 3, 3, 2, 3, 3, 3, 3, 4, 3, 3, 3, 3, 0, 3, 3, 3, 3, 0, 1, 3, 1, 0, 3, 3, 4, 0, 0, 0, 4, 0, 4, 3, 3, 3, 0, 0, 3, 3, 2, 3, 3, 3, 1, 3, 3, 3, 2, 3, 3, 3, 3, 3, 1, 3, 3, 3, 1, 3, 1, 3, 3, 3, 4, 3, 3, 1, 3, 1, 1, 3, 0, 4, 4, 3, 3, 3, 3, 3, 3, 2, 3, 3, 1, 3, 3, 1, 0, 1, 3, 3, 3, 3, 1, 0, 0, 3, 1, 4, 4, 1, 1, 4, 0, 3, 3, 1, 3, 4, 3, 4, 1, 4, 1, 1, 3, 3, 0, 2, 1, 0, 3, 4, 3, 0, 2, 3, 1, 3, 1, 1, 3, 1, 3, 4, 4, 3, 1, 2, 1, 3, 1, 1, 1, 3, 1, 1, 2, 1, 0, 3, 1, 1, 1, 2, 3, 4, 3, 1, 0, 1, 1, 3, 0, 1, 3, 4, 3, 0, 3, 3, 2, 4, 1, 3, 3, 4, 1, 1, 2, 1, 3, 3, 4, 1, 1, 3, 3, 2, 3, 3, 4, 1, 2, 4, 3, 1, 0, 3, 3, 3, 2, 1, 4, 0, 1, 1, 1, 1, 2, 4, 3, 1, 3, 1, 3, 1, 3, 2, 2, 3, 3, 2, 0, 1, 1, 2, 2, 3, 3, 1, 3, 3, 1, 2, 1, 1, 2, 3, 4, 3, 3, 1, 4, 1, 3, 0, 1, 0, 1, 3, 3, 1, 3, 1, 1, 3, 3, 1, 3, 2, 1, 3, 1, 3, 1, 3, 4, 4, 1, 3, 1, 3, 3, 3, 3, 3, 1, 3, 3, 3, 3, 2, 1, 1, 0, 3, 3, 0, 3, 3, 1, 4, 3, 4, 3, 2, 1, 3, 3, 0, 3, 0, 3, 3, 1, 1, 1, 3, 1, 3, 3, 3, 3, 4, 3, 1, 4, 2, 2, 3, 3, 2, 3, 3, 3, 3, 2, 4, 3, 0, 2, 3, 4, 3, 1, 1, 3, 3, 0, 2, 1, 3, 0, 1, 3, 3, 4, 0, 3, 1, 3, 3, 2, 4, 3, 3, 1, 1, 3, 2, 2, 1, 1, 4, 0, 2, 4, 1, 3, 0, 1, 3, 2, 3, 4, 1, 3, 3, 3, 1, 2, 3, 1, 1, 1, 1, 3, 2, 4, 3, 1, 3, 2, 2, 4, 4, 2, 3, 1, 4, 1, 1, 3, 3, 3, 2, 2, 3, 3, 3, 3, 1, 1, 3, 2, 2, 3, 3, 3, 3, 1, 1, 2, 3, 1, 1, 0, 2, 3, 0, 1, 2, 3, 3, 3, 3, 4, 1, 1, 3, 3, 3, 3, 1, 4, 3, 1, 3, 4, 4, 3, 2, 4, 1, 3, 1, 3, 2, 3, 3, 3, 3, 3, 3, 3, 4, 2, 3, 3, 3, 1, 1, 3, 3, 0, 3, 3, 3, 3, 1, 1, 1, 3, 0, 4, 4, 3, 3, 1, 1, 3, 3, 1, 4, 3, 3, 1, 3, 3, 3, 4, 2, 4, 3, 3, 3, 3, 3, 3, 3, 4, 3, 2, 0, 4, 3, 3, 3, 3, 4, 1, 2, 4, 1, 3, 3, 3, 2, 2, 3, 3, 3, 1, 3, 3, 1, 1, 2, 3, 3, 1, 2, 2, 3, 4, 0, 3, 3, 3, 3, 1, 3, 2, 2, 2, 3, 3, 3, 3, 3, 4, 3, 3, 1, 4, 0, 1, 3, 3, 2, 3, 3, 3, 3, 3, 1, 2, 0, 3, 4, 3, 1, 3, 3, 3, 1, 1, 1, 1, 4, 0, 0, 3, 2, 3, 3, 3, 3, 0, 3, 3, 3, 3, 3, 3, 3, 4, 3, 2, 2, 1, 3, 3, 1, 1, 2, 3, 1, 1, 3, 3, 3, 3, 3, 3, 2, 1, 3, 0, 4, 3, 3, 4, 3, 3, 3, 4, 1, 1, 0, 3, 0, 4, 3, 0, 0, 3, 3, 3, 3, 2, 3, 3, 2, 3, 3, 3, 3, 0, 0, 1, 4, 3, 2, 4, 1, 3, 2, 3, 4, 3, 1, 4, 3, 3, 3, 1, 1, 3, 3, 1, 3, 1, 4, 3, 3, 2, 3, 3, 0, 4, 3, 3, 3, 3, 1, 1, 3, 1, 3, 0, 3, 3, 3, 1, 2, 1, 4, 3, 1, 1, 3, 3, 3, 3, 1, 4, 1, 3, 1, 3, 3, 2, 3, 4, 3, 2, 3, 3, 3, 3, 1, 3, 3, 1, 2, 3, 3, 3, 2, 3, 0, 2, 4, 2, 3, 3, 1, 1, 3, 3, 0, 3, 4, 3, 2, 3, 1, 3, 3, 3, 0, 3, 0, 1, 4, 2, 3, 2, 3, 3, 3, 3, 0, 3, 3, 1, 3, 3, 3, 3, 1, 2, 3, 3, 3, 1, 4, 3, 1, 2, 3, 3, 3, 4, 3, 4, 2, 2, 3, 1, 2, 1, 1, 4, 2, 3, 3, 1, 1, 3, 2, 0, 0, 0, 4, 1, 4, 2, 3, 0, 3, 1, 3, 2, 1, 0, 3, 4, 2, 0, 0, 0, 3, 2, 3, 1, 1, 0, 0, 4, 3, 3, 4, 3, 3, 1, 3, 1, 4, 3, 2, 3, 3, 3, 0, 3, 3, 2, 1, 0, 3, 3, 0, 3, 3, 3, 1, 2, 3, 2, 3, 1, 1, 3, 3, 3, 1, 3, 1, 3, 0, 4, 1, 1, 0, 2, 0, 3, 3, 4, 3, 3, 3, 4, 3, 2, 3, 3, 1, 3, 2, 3, 1, 1, 3, 4, 1, 3, 3, 3, 2, 3, 1, 3, 1, 3, 0, 4, 1, 3, 1, 2, 3, 1, 3, 3, 3, 1, 1, 1, 4, 0, 3, 2, 3, 3, 2, 3, 3, 1, 3, 2, 1, 4, 3, 3, 4, 3, 1, 3, 3, 3, 1, 1, 2, 0, 3, 4, 2, 3, 2, 3, 2, 1, 3, 0, 1, 4, 3, 3, 3, 1, 3, 3, 3, 3, 3, 3, 3, 3, 1, 4, 3, 4, 3, 3, 3, 3, 3, 2, 2, 2, 1, 0, 3, 1, 2, 3, 4, 3, 3, 3, 3, 0, 1, 3, 3, 3, 3, 0, 2, 3, 1, 3, 1, 3, 1, 0, 2, 3, 2, 3, 3, 3, 0, 4, 3, 3, 1, 3, 3, 3, 3, 2, 0, 3, 2, 1, 3, 1, 2, 3, 0, 3, 1, 2, 2, 3, 2, 2, 3, 3, 3, 3, 3, 1, 4, 3, 1, 3, 1, 3, 4, 3, 1, 3, 3, 3, 1, 4, 3, 2, 2, 1, 0, 2, 1, 3, 2, 0, 0, 1, 0, 3, 3, 2, 3, 1, 2, 2, 3, 2, 3, 3, 3, 2, 1, 2, 1, 2, 3, 3, 4, 3, 3, 3, 1, 2, 0, 1, 3, 1, 4, 3, 3, 2, 1, 3, 2, 3, 2, 4, 3, 3, 3, 4, 1, 3, 1, 2, 1, 4, 0, 2, 1, 3, 2, 1, 2, 2, 4, 2, 4, 3, 3, 0, 2, 1, 2, 1, 1, 4, 1, 3, 3, 1, 1, 3, 1, 4, 3, 3, 3, 3, 0, 1, 1, 3, 4, 3, 3, 2, 3, 2, 3, 3, 4, 0, 3, 0, 3, 3, 2, 1, 0, 3, 4, 3, 1, 3, 3, 0, 3, 2, 2, 1, 3, 3, 3, 3, 1, 1, 3, 1, 3, 1, 2, 1, 1, 4, 3, 0, 3, 1, 2, 3, 3, 2, 3, 3, 1, 3, 3, 3, 2, 2, 3, 0, 3, 2, 2, 3, 1, 1, 3, 3, 2, 3, 3, 3, 2, 3, 0, 2, 3, 2, 2, 3, 3, 3, 3, 3, 1, 2, 1, 2, 3, 1, 3, 4, 0, 0, 3, 4, 0, 3, 3, 3, 1, 3, 3, 0, 4, 3, 3, 3, 1, 1, 3, 1, 1, 3, 1, 1, 3, 3, 3, 3, 1, 3, 3, 2, 3, 4, 4, 1, 2, 1, 1, 3, 3, 3, 3, 3, 3, 3, 1, 3, 3, 3, 4, 3, 3, 1, 2, 3, 4, 3, 3, 3, 2, 1, 3, 1, 3, 2, 3, 0, 0, 0, 2, 2, 2, 3, 2, 3, 0, 3, 1, 3, 2, 3, 3, 3, 3, 4, 3, 3, 3, 3, 0, 3, 1, 3, 3, 2, 3, 3, 1, 1, 3, 3, 2, 3, 1, 3, 2, 1, 3, 3, 3, 3, 1, 1, 2, 3, 1, 2, 1, 3, 3, 3, 3, 3, 3, 3, 1, 0, 3, 1, 3, 3, 1, 3, 3, 3, 2, 4, 3, 3, 3, 3, 1, 3, 3, 3, 0, 1, 3, 3, 2, 1, 3, 3, 1, 1, 3, 3, 3, 4, 1, 0, 3, 3, 1, 3, 3, 3, 2, 0, 3, 3, 3, 3, 3, 3, 1, 3, 3, 3, 3, 1, 3, 3, 1, 3, 3, 1, 2, 3, 1, 3, 4, 3, 3, 0, 3, 3, 3, 2, 2, 3, 3, 1, 3, 2, 1, 1, 0, 0, 1, 1, 3, 2, 3, 3, 3, 4, 3, 3, 3, 3, 3, 3, 3, 1, 1, 3, 1, 3, 3, 3, 1, 3, 2, 4, 3, 3, 2, 0, 2, 3, 3, 4, 2, 3, 1, 0, 3, 3, 3, 3, 1, 2, 3, 1, 2, 3, 3, 3, 3, 3, 3, 3, 2, 1, 3, 3, 3, 1, 1, 0, 1, 2, 3, 3, 1, 2, 1, 4, 1, 3, 1, 0, 1, 3, 0, 3, 1, 0, 3, 3, 1, 3, 1, 3, 1, 3, 0, 3, 3, 3, 3, 0, 1, 1, 3, 1, 1, 0, 3, 1, 1, 3, 3, 3, 3, 1, 3, 0, 2, 4, 1, 3, 3, 4, 3, 3, 3, 2, 3, 4, 0, 2, 3, 0, 1, 4, 3, 3, 3, 4, 3, 0, 3, 4, 1, 3, 1, 1, 3, 3, 2, 2, 1, 1, 3, 1, 3, 3, 1, 4, 3, 2, 3, 3, 3, 4, 3, 3, 3, 3, 1, 1, 3, 3, 4, 1, 2, 1, 1, 4, 0, 0, 0, 1, 2, 2, 0, 1, 1, 4, 3, 0, 3, 3, 1, 3, 1, 4, 2, 1, 1, 1, 3, 1, 3, 3, 3, 0, 2, 3, 0, 3, 3, 3, 4, 2, 1, 3, 4, 1, 2, 1, 1, 4, 2, 1, 3, 1, 3, 2, 3, 1, 3, 3, 2, 3, 1, 3, 3, 3, 3, 3, 1, 2, 4, 1, 3, 3, 3, 4, 3, 1, 2, 4, 2, 1, 3, 1, 1, 1, 1, 3, 2, 2, 1, 3, 1, 1, 3, 1, 4, 2, 4, 1, 2, 3, 3, 4, 3, 2, 3, 2, 1, 4, 2, 3, 3, 1, 3, 3, 1, 1, 1, 1, 1, 1, 3, 0, 1, 2, 1, 3, 3, 1, 2, 3, 3, 3, 3, 3, 3, 2, 1, 1, 4, 1, 3, 3, 3, 3, 3, 1, 3, 3, 3, 4, 1, 2, 4, 3, 2, 3, 1, 4, 3, 1, 4, 0, 3, 2, 2, 3, 3, 3, 4, 3, 2, 2, 3, 2, 0, 3, 1, 3, 3, 1, 1, 3, 0, 4, 3, 0, 0, 3, 3, 3, 3, 3, 3, 4, 2, 1, 3, 3, 3, 3, 1, 3, 4, 1, 2, 3, 4, 4, 1, 4, 3, 3, 3, 2, 3, 3, 1, 3, 3, 4, 1, 1, 2, 2, 2, 3, 0, 3, 3, 2, 2, 0, 3, 3, 3, 4, 1, 1, 3, 3, 4, 2, 0, 3, 3, 3, 3, 3, 1, 3, 3, 2, 1, 3, 3, 3, 3, 3, 1, 3, 3, 3, 3, 0, 4, 1, 3, 3, 3, 3, 1, 3, 2, 3, 3, 3, 3, 0, 3, 3, 4, 3, 4, 1, 3, 1, 3, 2, 3, 1, 2, 3, 1, 3, 3, 3, 3, 1, 3, 3, 4, 3, 3, 4, 2, 3, 3, 1, 3, 3, 3, 3, 2, 3, 3, 3, 1, 3, 3, 3, 3, 3, 3, 3, 3, 3, 3, 2, 3, 1, 4, 2, 3, 3, 3, 2, 3, 3, 2, 0, 0, 3, 3, 3, 3, 3, 2, 2, 3, 4, 2, 3, 0, 3, 0, 4, 0, 1, 3, 1, 3, 3, 1, 1, 1, 2, 2, 3, 1, 3, 3, 1, 3, 3, 1, 1, 2, 1, 2, 3, 2, 3, 1, 2, 2, 3, 3, 1, 0, 3, 3, 3, 3, 3, 1, 3, 3, 0, 1, 1, 3, 3, 3, 1, 4, 0, 2, 1, 3, 1, 1, 4, 4, 3, 3, 3, 3, 3, 3, 3, 4, 3, 3, 4, 4, 3, 2, 1, 0, 3, 0, 1, 1, 3, 2, 3, 1, 3, 3, 3, 0, 1, 3, 2, 4, 4, 1, 3, 1, 3, 3, 1, 2, 3, 2, 4, 3, 3, 3, 1, 3, 0, 0, 3, 3, 3, 2, 1, 3, 3, 1, 1, 3, 3, 3, 1, 2, 3, 4, 1, 3, 3, 1, 0, 3, 2, 0, 1, 1, 1, 3, 3, 2, 3, 3, 3, 1, 2, 3, 3, 3, 3, 3, 4, 2, 1, 1, 3, 1, 4, 1, 0, 1, 1, 3, 3, 3, 3, 4, 3, 2, 3, 3, 1, 1, 1, 1, 1, 3, 4, 3, 3, 1, 2, 2, 1, 3, 1, 1, 3, 2, 3, 3, 1, 3, 2, 3, 3, 0, 1, 2, 1, 0, 3, 1, 4, 4, 4, 2, 3, 3, 3, 3, 4, 3, 4, 1, 3, 3, 3, 2, 3, 3, 3, 3, 2, 3, 0, 1, 3, 3, 1, 0, 3, 1, 1, 3, 3, 3, 3, 3, 1, 3, 3, 2, 1, 2, 0, 3, 3, 4, 1, 3, 0, 3, 3, 3, 2, 3, 3, 3, 0, 3, 3, 3, 1, 3, 1, 3, 1, 4, 1, 2, 1, 1, 3, 1, 3, 3, 3, 3, 0, 3, 4, 3, 1, 3, 3, 0, 3, 1, 2, 2, 2, 2, 3, 3, 3, 3, 3, 4, 3, 1, 3, 4, 3, 0, 3, 3, 3, 2, 1, 1, 3, 3, 3, 1, 3, 1, 4, 1, 3, 3, 4, 3, 0, 1, 0, 2, 3, 1, 3, 3, 3, 0, 3, 2, 3, 3, 4, 3, 1, 3, 2, 0, 3, 3, 1, 3, 4, 3, 3, 3, 3, 3, 4, 3, 3, 0, 1, 3, 1, 3, 4, 3, 3, 1, 1, 1, 3, 1, 3, 3, 1, 1, 1, 2, 2, 3, 3, 2, 3, 0, 1, 3, 3, 1, 2, 3, 1, 3, 3, 1, 2, 2, 1, 3, 1, 2, 3, 2, 3, 3, 3, 3, 3, 3, 1, 0, 3, 3, 3, 2, 1, 2, 3, 4, 3, 3, 4, 3, 2, 4, 1, 4, 3, 3, 3, 3, 3, 1, 2, 3, 3, 3, 1, 3, 2, 3, 4, 3, 2, 3, 1, 1, 2, 4, 4, 2, 3, 3, 3, 1, 3, 3, 2, 4, 1, 3, 1, 3, 3, 1, 4, 0, 2, 4, 3, 3, 2, 0, 2, 1, 0, 2, 3, 0, 2, 3, 3, 3, 2, 3, 3, 4, 3, 3, 2, 3, 3, 3, 0, 1, 3, 4, 4, 3, 1, 4, 4, 4, 4, 1, 3, 2, 1, 3, 3, 0, 3, 1, 3, 1, 1, 0, 3, 1, 3, 3, 3, 3, 3, 1, 1, 4, 3, 3, 0, 3, 1, 3, 2, 1, 3, 1, 4, 3, 3, 3, 1, 1, 0, 1, 4, 3, 2, 3, 3, 0, 2, 3, 0, 3, 3, 3, 0, 3, 3, 3, 4, 1, 1, 3, 0, 3, 4, 3, 3, 3, 1, 3, 2, 1, 3, 1, 1, 3, 1, 3, 0, 3, 1, 0, 3, 2, 1, 2, 2, 3, 3, 0, 3, 1, 1, 3, 4, 4, 1, 1, 3, 3, 0, 2, 1, 4, 3, 1, 1, 3, 4, 3, 2, 1, 2, 3, 2, 3, 1, 3, 4, 3, 3, 2, 1, 4, 2, 1, 1, 3, 0, 2, 3, 3, 4, 3, 3, 2, 3, 1, 3, 3, 3, 3, 3, 3, 2, 3, 3, 3, 2, 3, 1, 1, 3, 3, 1, 1, 4, 3, 1, 4, 3, 3, 4, 0, 0, 1, 3, 1, 3, 3, 3, 3, 0, 3, 3, 3, 3, 3, 2, 2, 3, 4, 3, 3, 3, 3, 3, 3, 1, 1, 0, 2, 1, 4, 1, 4, 2, 2, 4, 1, 0, 0, 4, 3, 3, 1, 2, 3, 1, 4, 2, 3, 3, 3, 3, 2, 3, 3, 3, 3, 3, 1, 2, 3, 3, 3, 3, 3, 3, 1, 0, 3, 3, 3, 3, 2, 3, 2, 1, 2, 3, 1, 1, 0, 1, 3, 3, 4, 2, 1, 3, 3, 3, 3, 3, 3, 0, 3, 3, 3, 3, 1, 1, 3, 1, 3, 3, 3, 3, 2, 3, 3, 3, 3, 3, 1, 3, 4, 4, 0, 3, 1, 4, 4, 3, 3, 1, 3, 3, 1, 3, 3, 2, 3, 3, 3, 3, 1, 3, 4, 3, 3, 2, 2, 3, 3, 4, 4, 3, 3, 3, 3, 2, 1, 1, 3, 3, 3, 1, 1, 3, 1, 3, 2, 2, 3, 3, 1, 3, 3, 1, 3, 3, 3, 3, 3, 2, 3, 3, 0, 1, 3, 3, 1, 3, 1, 2, 3, 3, 0, 0, 3, 2, 1, 1, 4, 2, 3, 2, 1, 4, 3, 1, 1, 2, 2, 4, 2, 4, 3, 1, 3, 3, 2, 3, 2, 0, 3, 3, 3, 1, 3, 2, 2, 1, 3, 3, 2, 3, 3, 3, 2, 1, 3, 3, 3, 1, 1, 1, 1, 3, 4, 0, 1, 1, 3, 0, 1, 0, 0, 3, 3, 3, 3, 1, 0, 3, 2, 1, 1, 0, 3, 2, 3, 3, 1, 1, 1, 2, 1, 2, 2, 3, 0, 0, 3, 4, 3, 3, 1, 4, 1, 3, 4, 2, 3, 4, 3, 1, 3, 4, 3, 3, 2, 0, 3, 2, 3, 1, 1, 3, 1, 3, 2, 1, 1, 4, 3, 4, 3, 1, 4, 3, 3, 4, 1, 3, 3, 1, 3, 3, 2, 1, 0, 3, 3, 1, 3, 2, 3, 4, 4, 3, 3, 3, 3, 4, 1, 3, 1, 1, 1, 1, 0, 4, 4, 2, 3, 3, 3, 1, 1, 3, 3, 3, 3, 3, 2, 0, 0, 3, 1, 1, 3, 4, 0, 3, 3, 1, 3, 4, 3, 2, 1, 2, 3, 3, 2, 0, 3, 3, 3, 3, 3, 2, 3, 3, 3, 4, 2, 3, 3, 1, 1, 1, 2, 3, 3, 3, 3, 2, 1, 1, 1, 1, 1, 2, 2, 2, 0, 1, 3, 3, 2, 3, 3, 3, 3, 2, 2, 1, 3, 4, 3, 1, 3, 3, 0, 3, 1, 4, 0, 0, 4, 3, 3, 1, 1, 3, 3, 1, 3, 2, 0, 3, 3, 3, 3, 3, 3, 2, 1, 3, 3, 2, 3, 2, 0, 3, 1, 2, 3, 3, 3, 3, 3, 3, 3, 4, 2, 0, 3, 1, 1, 3, 3, 3, 3, 3, 0, 3, 3, 4, 3, 1, 3, 3]\n"
     ]
    }
   ],
   "source": [
    "print(list(output))"
   ]
  },
  {
   "cell_type": "code",
   "execution_count": 35,
   "metadata": {},
   "outputs": [
    {
     "name": "stdout",
     "output_type": "stream",
     "text": [
      "              precision    recall  f1-score   support\n",
      "\n",
      "         CBB       0.20      0.07      0.11       753\n",
      "        CBSD       0.21      0.24      0.22       731\n",
      "         CGM       0.21      0.15      0.17       706\n",
      "         CMD       0.22      0.51      0.31       800\n",
      "     Healthy       0.20      0.09      0.12       784\n",
      "\n",
      "    accuracy                           0.22      3774\n",
      "   macro avg       0.21      0.21      0.19      3774\n",
      "weighted avg       0.21      0.22      0.19      3774\n",
      "\n"
     ]
    }
   ],
   "source": [
    "from sklearn.metrics import classification_report\n",
    "\n",
    "report = classification_report(test_generator.classes, output, target_names=['CBB', 'CBSD', 'CGM', 'CMD', 'Healthy'])\n",
    "print(report)"
   ]
  },
  {
   "cell_type": "code",
   "execution_count": null,
   "metadata": {},
   "outputs": [],
   "source": []
  }
 ],
 "metadata": {
  "kernelspec": {
   "display_name": "Python 3",
   "language": "python",
   "name": "python3"
  },
  "language_info": {
   "codemirror_mode": {
    "name": "ipython",
    "version": 3
   },
   "file_extension": ".py",
   "mimetype": "text/x-python",
   "name": "python",
   "nbconvert_exporter": "python",
   "pygments_lexer": "ipython3",
   "version": "3.8.8"
  }
 },
 "nbformat": 4,
 "nbformat_minor": 4
}
