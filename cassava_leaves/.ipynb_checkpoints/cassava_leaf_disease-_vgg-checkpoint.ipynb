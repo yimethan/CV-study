{
 "cells": [
  {
   "cell_type": "code",
   "execution_count": null,
   "id": "4a0c571f",
   "metadata": {},
   "outputs": [],
   "source": [
    "import os\n",
    "os.environ[\"CUDA_VISIBLE_DEVICES\"] = '0'"
   ]
  },
  {
   "cell_type": "code",
   "execution_count": null,
   "id": "6946bc78",
   "metadata": {},
   "outputs": [],
   "source": [
    "import tensorflow as tf\n",
    "import keras\n",
    "from keras.models import Sequential, Model\n",
    "from keras import layers, applications, optimizers\n",
    "from keras.layers import Conv2D, MaxPooling2D, Dropout, Flatten, Dense, Activation,GlobalMaxPooling2D\n",
    "from keras.preprocessing.image import ImageDataGenerator, load_img\n",
    "\n",
    "import numpy as np\n",
    "import pandas as pd\n",
    "import matplotlib.pyplot as plt\n",
    "from matplotlib.image import imread\n",
    "import cv2\n",
    "import random"
   ]
  },
  {
   "cell_type": "code",
   "execution_count": null,
   "id": "ad31a667",
   "metadata": {},
   "outputs": [],
   "source": [
    "tf.debugging.set_log_device_placement(True)\n",
    "\n",
    "a = tf.constant([[1.0, 2.0, 3.0], [4.0, 5.0, 6.0]])\n",
    "b = tf.constant([[1.0, 2.0], [3.0, 4.0], [5.0, 6.0]])\n",
    "c = tf.matmul(a, b)\n",
    "print(c)"
   ]
  },
  {
   "cell_type": "code",
   "execution_count": null,
   "id": "3f0b931d",
   "metadata": {},
   "outputs": [],
   "source": [
    "image_size = 224\n",
    "batch_size = 64\n",
    "\n",
    "save_model_filename = 'cassava_2.h5'"
   ]
  },
  {
   "cell_type": "code",
   "execution_count": null,
   "id": "50c10ca8",
   "metadata": {},
   "outputs": [],
   "source": [
    "train = pd.read_csv('./cassava-leaf-disease-classification/train.csv')"
   ]
  },
  {
   "cell_type": "code",
   "execution_count": null,
   "id": "990dd4f3",
   "metadata": {},
   "outputs": [],
   "source": [
    "train.head(10)"
   ]
  },
  {
   "cell_type": "code",
   "execution_count": null,
   "id": "e7bf4780",
   "metadata": {},
   "outputs": [],
   "source": [
    "data = {\"0\":\"Cassava Bacterial Blight (CBB)\",\n",
    "        \"1\":\"Cassava Brown Streak Disease (CBSD)\",\n",
    "        \"2\":\"Cassava Green Mottle (CGM)\",\n",
    "        \"3\":\"Cassava Mosaic Disease (CMD)\",\n",
    "        \"4\":\"Healthy\"}\n",
    "\n",
    "disease_label = pd.DataFrame(data=data.values(),index=data.keys(),columns=['Disease_Name'])"
   ]
  },
  {
   "cell_type": "code",
   "execution_count": null,
   "id": "765fd49e",
   "metadata": {},
   "outputs": [],
   "source": [
    "disease_label"
   ]
  },
  {
   "cell_type": "code",
   "execution_count": null,
   "id": "7cf0e519",
   "metadata": {},
   "outputs": [],
   "source": [
    "train_path = './cassava-leaf-disease-classification/train_images'"
   ]
  },
  {
   "cell_type": "code",
   "execution_count": null,
   "id": "f26f5de9",
   "metadata": {},
   "outputs": [],
   "source": [
    "def image_path(image):\n",
    "    return os.path.join(train_path,image)\n",
    "\n",
    "train['image_id'] = train['image_id'].apply(image_path)"
   ]
  },
  {
   "cell_type": "code",
   "execution_count": null,
   "id": "62df8716",
   "metadata": {
    "scrolled": true
   },
   "outputs": [],
   "source": [
    "train.head(10)"
   ]
  },
  {
   "cell_type": "code",
   "execution_count": null,
   "id": "02c3ba54",
   "metadata": {},
   "outputs": [],
   "source": [
    "train.info()"
   ]
  },
  {
   "cell_type": "code",
   "execution_count": null,
   "id": "00ba3784",
   "metadata": {},
   "outputs": [],
   "source": [
    "train['label'] = train['label'].astype('str')"
   ]
  },
  {
   "cell_type": "code",
   "execution_count": null,
   "id": "75e417d9",
   "metadata": {
    "scrolled": true
   },
   "outputs": [],
   "source": [
    "# display random image\n",
    "\n",
    "index = np.random.randint(0,len(train))\n",
    "\n",
    "plt.imshow(imread(train['image_id'][index]))\n",
    "plt.title('Cassava Leaf')\n",
    "\n",
    "plt.show()"
   ]
  },
  {
   "cell_type": "code",
   "execution_count": null,
   "id": "6ee06efb",
   "metadata": {},
   "outputs": [],
   "source": [
    "import seaborn as sns\n",
    "\n",
    "sns.countplot(train['label'])\n",
    "plt.title('Count of the various disease types in Cassava leaves')\n",
    "plt.grid()\n",
    "plt.show()"
   ]
  },
  {
   "cell_type": "code",
   "execution_count": null,
   "id": "c41f04f2",
   "metadata": {},
   "outputs": [],
   "source": [
    "n_rows = 3\n",
    "n_cols = 4\n",
    "\n",
    "for row in range(n_rows):\n",
    "    for col in range(n_cols):\n",
    "        index = n_cols * row + col\n",
    "        plt.subplot(n_rows, n_cols, index+1)\n",
    "        \n",
    "        leaf_img = np.random.randint(0, len(train))\n",
    "        img = imread(train.iloc[leaf_img]['image_id'])\n",
    "        \n",
    "        plt.imshow(img, cmap='binary',interpolation='nearest')"
   ]
  },
  {
   "cell_type": "code",
   "execution_count": null,
   "id": "3051bad9",
   "metadata": {},
   "outputs": [],
   "source": [
    "image_generator = ImageDataGenerator(rotation_range=15, horizontal_flip=True, vertical_flip=True,\n",
    "                                     shear_range=0.2, zoom_range=0.2, brightness_range=[0.1,0.3], fill_mode='nearest', \n",
    "                                     validation_split=0.2, rescale = 1./255,\n",
    "                                     preprocessing_function=tf.keras.applications.vgg16.preprocess_input)"
   ]
  },
  {
   "cell_type": "code",
   "execution_count": null,
   "id": "caa199af",
   "metadata": {},
   "outputs": [],
   "source": [
    "train_generator = image_generator.flow_from_dataframe(dataframe=train, directory=None, x_col='image_id', y_col='label',\n",
    "                                                      subset='training', color_mode='rgb', batch_size=batch_size, seed=42,\n",
    "                                                      shuffle=True, class_mode='categorical', target_size=(image_size,image_size))"
   ]
  },
  {
   "cell_type": "code",
   "execution_count": null,
   "id": "04264e1b",
   "metadata": {},
   "outputs": [],
   "source": [
    "validation_generator = image_generator.flow_from_dataframe(dataframe=train, directory=None, x_col='image_id', y_col='label',\n",
    "                                                   subset='validation', color_mode='rgb', batch_size=batch_size, seed=42,\n",
    "                                                   shuffle=False, class_mode='categorical', target_size=(image_size,image_size))"
   ]
  },
  {
   "cell_type": "code",
   "execution_count": null,
   "id": "37e2b0fe",
   "metadata": {},
   "outputs": [],
   "source": [
    "%reload_ext tensorboard\n",
    "\n",
    "import datetime"
   ]
  },
  {
   "cell_type": "code",
   "execution_count": null,
   "id": "f00cfbc5",
   "metadata": {},
   "outputs": [],
   "source": [
    "def build_vgg_block(input_layer, num_cnn=3, channel=64, block_num=1):\n",
    "    x = input_layer\n",
    "    \n",
    "    for cnn_num in range(num_cnn):\n",
    "        x = keras.layers.Conv2D(\n",
    "            filters=channel,\n",
    "            kernel_size=(3,3),\n",
    "            activation='relu',\n",
    "            kernel_initializer='he_normal',\n",
    "            padding='same',\n",
    "            name=f'block{block_num}_conv{cnn_num}')(x)\n",
    "\n",
    "    x = keras.layers.MaxPooling2D(\n",
    "        pool_size=(2, 2),\n",
    "        strides=2,\n",
    "        name=f'block{block_num}_pooling')(x)\n",
    "\n",
    "    return x"
   ]
  },
  {
   "cell_type": "code",
   "execution_count": null,
   "id": "cb25d127",
   "metadata": {},
   "outputs": [],
   "source": [
    "def build_vgg(input_shape=(image_size,image_size,3),\n",
    "              num_cnn_list=[2,2,3,3,3],\n",
    "              channel_list=[64,128,256,512,512],\n",
    "              num_classes=5):\n",
    "    input_layer = keras.layers.Input(shape=input_shape)\n",
    "    output = input_layer\n",
    "    \n",
    "    for i, (num_cnn, channel) in enumerate(zip(num_cnn_list, channel_list)):\n",
    "        output = build_vgg_block(\n",
    "            output,\n",
    "            num_cnn=num_cnn, \n",
    "            channel=channel,\n",
    "            block_num=i\n",
    "    )\n",
    "        \n",
    "    output = keras.layers.Flatten(name='flatten')(output)\n",
    "    output = keras.layers.Dense(4096, activation='relu', kernel_regularizer='l2', name='fc1')(output)\n",
    "    output = keras.layers.Dropout(0.5)(output)\n",
    "    output = keras.layers.Dense(4096, activation='relu', kernel_regularizer='l2', name='fc2')(output)\n",
    "    output = keras.layers.Dropout(0.5)(output)\n",
    "    output = keras.layers.Dense(num_classes, activation='softmax', name='predictions')(output)\n",
    "    \n",
    "    model = keras.Model(\n",
    "        inputs=input_layer, \n",
    "        outputs=output\n",
    "    )\n",
    "    return model"
   ]
  },
  {
   "cell_type": "code",
   "execution_count": null,
   "id": "7c36f5b4",
   "metadata": {},
   "outputs": [],
   "source": [
    "model = build_vgg()"
   ]
  },
  {
   "cell_type": "code",
   "execution_count": null,
   "id": "711bcd72",
   "metadata": {},
   "outputs": [],
   "source": [
    "model.compile(\n",
    "    loss='categorical_crossentropy',\n",
    "    optimizer=tf.keras.optimizers.SGD(learning_rate=0.01, momentum=0.9, clipnorm=1.),\n",
    "    metrics=['accuracy']\n",
    ")"
   ]
  },
  {
   "cell_type": "code",
   "execution_count": null,
   "id": "c5a26b83",
   "metadata": {
    "scrolled": true
   },
   "outputs": [],
   "source": [
    "model.summary()"
   ]
  },
  {
   "cell_type": "code",
   "execution_count": null,
   "id": "8c142d98",
   "metadata": {},
   "outputs": [],
   "source": [
    "log_dir = \"logs/cassava/\" + datetime.datetime.now().strftime(\"%Y%m%d-%H%M%S\")\n",
    "tensorboard_callback = tf.keras.callbacks.TensorBoard(log_dir=log_dir, histogram_freq=1)"
   ]
  },
  {
   "cell_type": "code",
   "execution_count": null,
   "id": "9c7a52dc",
   "metadata": {},
   "outputs": [],
   "source": [
    "from keras.callbacks import EarlyStopping, ModelCheckpoint\n",
    "\n",
    "early_stopping = EarlyStopping(monitor='val_loss', mode='min', verbose=1, patience=10)\n",
    "model_checkpoint = ModelCheckpoint(save_model_filename, monitor='val_loss', mode='min', verbose=1, save_best_only=True)"
   ]
  },
  {
   "cell_type": "code",
   "execution_count": null,
   "id": "3d366d65",
   "metadata": {},
   "outputs": [],
   "source": [
    "from keras.callbacks import ReduceLROnPlateau\n",
    "\n",
    "reduce_lr = ReduceLROnPlateau(monitor='val_loss', factor=0.1, patience=5, min_lr=0.00001)"
   ]
  },
  {
   "cell_type": "code",
   "execution_count": null,
   "id": "19d101a2",
   "metadata": {
    "scrolled": true
   },
   "outputs": [],
   "source": [
    "epoch = 100\n",
    "\n",
    "history = model.fit(\n",
    "    train_generator,\n",
    "    epochs=epoch,\n",
    "    validation_data=validation_generator,\n",
    "    verbose=1,\n",
    "    callbacks=[tensorboard_callback, early_stopping, model_checkpoint, reduce_lr]\n",
    ")"
   ]
  },
  {
   "cell_type": "code",
   "execution_count": null,
   "id": "4ac4838c",
   "metadata": {},
   "outputs": [],
   "source": [
    "%tensorboard --logdir logs/cassava"
   ]
  },
  {
   "cell_type": "code",
   "execution_count": null,
   "id": "cc1c98db",
   "metadata": {},
   "outputs": [],
   "source": [
    "print('train loss:', history.history['loss'][-1])\n",
    "print('train accuracy:', history.history['accuracy'][-1])\n",
    "\n",
    "print('dev loss:', history.history['val_loss'][-1])\n",
    "print('dev accuracy:', history.history['val_accuracy'][-1])\n",
    "\n",
    "results = pd.DataFrame(history.history)\n",
    "\n",
    "fig, axs = plt.subplots(1,2,figsize=(15,5))\n",
    "\n",
    "axs[0].plot(results[['loss', 'val_loss']])\n",
    "axs[0].set_title('Model Loss')\n",
    "\n",
    "axs[1].plot(results[['accuracy', 'val_accuracy']])\n",
    "axs[1].set_title('Model Accuracy')\n",
    "\n",
    "plt.show()"
   ]
  },
  {
   "cell_type": "code",
   "execution_count": null,
   "id": "a75b1470",
   "metadata": {},
   "outputs": [],
   "source": [
    "test = pd.read_csv('./cassava-leaf-disease-classification/sample_submission.csv')\n",
    "\n",
    "test_path = './cassava-leaf-disease-classification/test_images'\n",
    "def test_image_path(image):\n",
    "    return os.path.join(test_path,image)\n",
    "\n",
    "test['image_id'] = test['image_id'].apply(test_image_path)\n",
    "\n",
    "test['label'] = test['label'].astype('str')"
   ]
  },
  {
   "cell_type": "code",
   "execution_count": null,
   "id": "d9dca23e",
   "metadata": {},
   "outputs": [],
   "source": [
    "test.head()"
   ]
  },
  {
   "cell_type": "code",
   "execution_count": null,
   "id": "53e7c41c",
   "metadata": {},
   "outputs": [],
   "source": [
    "test_gen = ImageDataGenerator(rescale=1./255)\n",
    "test_generator = test_gen.flow_from_dataframe(dataframe=test, directory=None, x_col='image_id', y_col='label',\n",
    "                                              preprocessing_function=applications.vgg16.preprocess_input,\n",
    "                                              class_mode='categorical', target_size=(image_size,image_size))"
   ]
  },
  {
   "cell_type": "code",
   "execution_count": null,
   "id": "ab9b8e80",
   "metadata": {},
   "outputs": [],
   "source": [
    "output = model.predict_generator(test_generator)"
   ]
  },
  {
   "cell_type": "code",
   "execution_count": null,
   "id": "34e87343",
   "metadata": {},
   "outputs": [],
   "source": [
    "test = pd.DataFrame()\n",
    "test['image_id'] = list(os.listdir('./cassava-leaf-disease-classification/test_images/'))\n",
    "test['label'] = np.argmax(output, axis=1)"
   ]
  },
  {
   "cell_type": "code",
   "execution_count": null,
   "id": "d906cf63",
   "metadata": {},
   "outputs": [],
   "source": [
    "submission_df.to_csv(\"submission.csv\", index=False)"
   ]
  },
  {
   "cell_type": "code",
   "execution_count": null,
   "id": "17dc8264",
   "metadata": {},
   "outputs": [],
   "source": [
    "submission_df.head()"
   ]
  },
  {
   "cell_type": "code",
   "execution_count": null,
   "id": "4e3deb3f",
   "metadata": {},
   "outputs": [],
   "source": [
    "model.save(save_model_filename)"
   ]
  }
 ],
 "metadata": {
  "kernelspec": {
   "display_name": "Python 3",
   "language": "python",
   "name": "python3"
  },
  "language_info": {
   "codemirror_mode": {
    "name": "ipython",
    "version": 3
   },
   "file_extension": ".py",
   "mimetype": "text/x-python",
   "name": "python",
   "nbconvert_exporter": "python",
   "pygments_lexer": "ipython3",
   "version": "3.8.8"
  }
 },
 "nbformat": 4,
 "nbformat_minor": 5
}
