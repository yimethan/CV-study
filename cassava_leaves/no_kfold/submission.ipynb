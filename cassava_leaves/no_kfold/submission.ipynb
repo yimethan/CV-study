{
 "cells": [
  {
   "cell_type": "code",
   "execution_count": 1,
   "metadata": {
    "_cell_guid": "b1076dfc-b9ad-4769-8c92-a6c4dae69d19",
    "_uuid": "8f2839f25d086af736a60e9eeb907d3b93b6e0e5",
    "execution": {
     "iopub.execute_input": "2022-05-08T11:07:02.806071Z",
     "iopub.status.busy": "2022-05-08T11:07:02.805754Z",
     "iopub.status.idle": "2022-05-08T11:07:10.355845Z",
     "shell.execute_reply": "2022-05-08T11:07:10.354975Z",
     "shell.execute_reply.started": "2022-05-08T11:07:02.805986Z"
    }
   },
   "outputs": [],
   "source": [
    "import tensorflow as tf\n",
    "import keras\n",
    "\n",
    "import numpy as np\n",
    "import pandas as pd\n",
    "import os\n",
    "from PIL import Image"
   ]
  },
  {
   "cell_type": "code",
   "execution_count": 2,
   "metadata": {
    "execution": {
     "iopub.execute_input": "2022-05-08T11:07:10.357732Z",
     "iopub.status.busy": "2022-05-08T11:07:10.357431Z",
     "iopub.status.idle": "2022-05-08T11:07:10.363359Z",
     "shell.execute_reply": "2022-05-08T11:07:10.362395Z",
     "shell.execute_reply.started": "2022-05-08T11:07:10.357692Z"
    }
   },
   "outputs": [],
   "source": [
    "image_size = 350"
   ]
  },
  {
   "cell_type": "code",
   "execution_count": 3,
   "metadata": {
    "execution": {
     "iopub.execute_input": "2022-05-08T11:07:10.364905Z",
     "iopub.status.busy": "2022-05-08T11:07:10.364584Z",
     "iopub.status.idle": "2022-05-08T11:07:18.198957Z",
     "shell.execute_reply": "2022-05-08T11:07:18.197998Z",
     "shell.execute_reply.started": "2022-05-08T11:07:10.364876Z"
    }
   },
   "outputs": [],
   "source": [
    "model = tf.keras.models.load_model('../input/effnetb3/effnet_(1).h5')"
   ]
  },
  {
   "cell_type": "code",
   "execution_count": 4,
   "metadata": {
    "execution": {
     "iopub.execute_input": "2022-05-08T11:07:18.202152Z",
     "iopub.status.busy": "2022-05-08T11:07:18.201911Z",
     "iopub.status.idle": "2022-05-08T11:07:18.206904Z",
     "shell.execute_reply": "2022-05-08T11:07:18.205811Z",
     "shell.execute_reply.started": "2022-05-08T11:07:18.202125Z"
    }
   },
   "outputs": [],
   "source": [
    "TEST_PATH = '../input/cassava-leaf-disease-classification/test_tfrecords/'"
   ]
  },
  {
   "cell_type": "code",
   "execution_count": 5,
   "metadata": {
    "execution": {
     "iopub.execute_input": "2022-05-08T11:07:18.208510Z",
     "iopub.status.busy": "2022-05-08T11:07:18.208186Z",
     "iopub.status.idle": "2022-05-08T11:07:18.220464Z",
     "shell.execute_reply": "2022-05-08T11:07:18.219495Z",
     "shell.execute_reply.started": "2022-05-08T11:07:18.208482Z"
    }
   },
   "outputs": [],
   "source": [
    "AUTO = tf.data.experimental.AUTOTUNE\n",
    "BATCH_SIZE = 32\n",
    "IMAGE_SIZE = [512, 512]"
   ]
  },
  {
   "cell_type": "code",
   "execution_count": 6,
   "metadata": {
    "execution": {
     "iopub.execute_input": "2022-05-08T11:07:18.222128Z",
     "iopub.status.busy": "2022-05-08T11:07:18.221842Z",
     "iopub.status.idle": "2022-05-08T11:07:18.234323Z",
     "shell.execute_reply": "2022-05-08T11:07:18.233283Z",
     "shell.execute_reply.started": "2022-05-08T11:07:18.222098Z"
    }
   },
   "outputs": [],
   "source": [
    "def _parse_function(proto):\n",
    "    # feature_description needs to be defined since datasets use graph-execution\n",
    "    # - its used to build their shape and type signature\n",
    "    feature_description = {\n",
    "        'image': tf.io.FixedLenFeature([], tf.string, default_value=''),\n",
    "        'image_name': tf.io.FixedLenFeature([], tf.string, default_value=''),\n",
    "        'target': tf.io.FixedLenFeature([], tf.int64, default_value=-1)\n",
    "    }\n",
    "\n",
    "    parsed_features = tf.io.parse_single_example(proto, feature_description)\n",
    "    image = tf.image.decode_jpeg(parsed_features['image'], channels=3)\n",
    "    image = tf.cast(image, tf.float32) # :: [0.0, 255.0]\n",
    "    image = tf.reshape(image, [*IMAGE_SIZE, 3])\n",
    "    target = tf.one_hot(parsed_features['target'], depth=5)\n",
    "    image_id = parsed_features['image_name']\n",
    "    return image, target, image_id"
   ]
  },
  {
   "cell_type": "code",
   "execution_count": 7,
   "metadata": {
    "execution": {
     "iopub.execute_input": "2022-05-08T11:07:18.235969Z",
     "iopub.status.busy": "2022-05-08T11:07:18.235579Z",
     "iopub.status.idle": "2022-05-08T11:07:18.244565Z",
     "shell.execute_reply": "2022-05-08T11:07:18.243990Z",
     "shell.execute_reply.started": "2022-05-08T11:07:18.235859Z"
    }
   },
   "outputs": [],
   "source": [
    "def _preprocess_fn(image, label, image_id):\n",
    "    image = image / 255.0\n",
    "    image = tf.image.resize(image, (image_size, image_size))\n",
    "    label = tf.concat([label, [0]], axis=0)\n",
    "    return image, label, image_id"
   ]
  },
  {
   "cell_type": "code",
   "execution_count": 8,
   "metadata": {
    "execution": {
     "iopub.execute_input": "2022-05-08T11:07:18.247769Z",
     "iopub.status.busy": "2022-05-08T11:07:18.246939Z",
     "iopub.status.idle": "2022-05-08T11:07:18.257969Z",
     "shell.execute_reply": "2022-05-08T11:07:18.256894Z",
     "shell.execute_reply.started": "2022-05-08T11:07:18.247728Z"
    }
   },
   "outputs": [],
   "source": [
    "def load_dataset(tfrecords_fnames):\n",
    "    raw_ds = tf.data.TFRecordDataset(tfrecords_fnames, num_parallel_reads=AUTO)\n",
    "    parsed_ds = raw_ds.map(_parse_function, num_parallel_calls=AUTO)\n",
    "    parsed_ds = parsed_ds.map(_preprocess_fn, num_parallel_calls=AUTO)\n",
    "    return parsed_ds"
   ]
  },
  {
   "cell_type": "code",
   "execution_count": 9,
   "metadata": {
    "execution": {
     "iopub.execute_input": "2022-05-08T11:07:18.259700Z",
     "iopub.status.busy": "2022-05-08T11:07:18.259443Z",
     "iopub.status.idle": "2022-05-08T11:07:18.274391Z",
     "shell.execute_reply": "2022-05-08T11:07:18.273602Z",
     "shell.execute_reply.started": "2022-05-08T11:07:18.259651Z"
    }
   },
   "outputs": [],
   "source": [
    "def build_valid_ds(valid_fnames):\n",
    "    ds = load_dataset(valid_fnames)\n",
    "    ds = ds.batch(BATCH_SIZE).prefetch(AUTO)\n",
    "    return ds"
   ]
  },
  {
   "cell_type": "code",
   "execution_count": 10,
   "metadata": {
    "execution": {
     "iopub.execute_input": "2022-05-08T11:07:18.276801Z",
     "iopub.status.busy": "2022-05-08T11:07:18.276601Z",
     "iopub.status.idle": "2022-05-08T11:07:18.291386Z",
     "shell.execute_reply": "2022-05-08T11:07:18.290678Z",
     "shell.execute_reply.started": "2022-05-08T11:07:18.276777Z"
    }
   },
   "outputs": [],
   "source": [
    "test_path = '../input/cassava-leaf-disease-classification/test_tfrecords/'\n",
    "valid_fnames = [TEST_PATH + fname for fname in os.listdir(test_path)]"
   ]
  },
  {
   "cell_type": "code",
   "execution_count": 11,
   "metadata": {
    "execution": {
     "iopub.execute_input": "2022-05-08T11:07:18.295103Z",
     "iopub.status.busy": "2022-05-08T11:07:18.292817Z",
     "iopub.status.idle": "2022-05-08T11:07:18.509672Z",
     "shell.execute_reply": "2022-05-08T11:07:18.508888Z",
     "shell.execute_reply.started": "2022-05-08T11:07:18.295053Z"
    }
   },
   "outputs": [],
   "source": [
    "test_ds = build_valid_ds(valid_fnames)"
   ]
  },
  {
   "cell_type": "code",
   "execution_count": 12,
   "metadata": {
    "execution": {
     "iopub.execute_input": "2022-05-08T11:07:18.511086Z",
     "iopub.status.busy": "2022-05-08T11:07:18.510868Z",
     "iopub.status.idle": "2022-05-08T11:07:22.170836Z",
     "shell.execute_reply": "2022-05-08T11:07:22.169905Z",
     "shell.execute_reply.started": "2022-05-08T11:07:18.511062Z"
    }
   },
   "outputs": [],
   "source": [
    "preds = model.predict(test_ds)\n",
    "labels = tf.argmax(preds, axis=-1)\n",
    "labels = labels.numpy()"
   ]
  },
  {
   "cell_type": "code",
   "execution_count": 13,
   "metadata": {
    "execution": {
     "iopub.execute_input": "2022-05-08T11:07:22.172225Z",
     "iopub.status.busy": "2022-05-08T11:07:22.171993Z",
     "iopub.status.idle": "2022-05-08T11:07:22.242441Z",
     "shell.execute_reply": "2022-05-08T11:07:22.241651Z",
     "shell.execute_reply.started": "2022-05-08T11:07:22.172191Z"
    }
   },
   "outputs": [],
   "source": [
    "names = []\n",
    "for item in test_ds:\n",
    "    names.append(item[2].numpy())\n",
    "names = np.concatenate(names)\n",
    "names = [name.decode() for name in names]"
   ]
  },
  {
   "cell_type": "code",
   "execution_count": 14,
   "metadata": {
    "execution": {
     "iopub.execute_input": "2022-05-08T11:07:22.244424Z",
     "iopub.status.busy": "2022-05-08T11:07:22.243643Z",
     "iopub.status.idle": "2022-05-08T11:07:22.254675Z",
     "shell.execute_reply": "2022-05-08T11:07:22.254014Z",
     "shell.execute_reply.started": "2022-05-08T11:07:22.244389Z"
    }
   },
   "outputs": [],
   "source": [
    "submission_df = pd.DataFrame({'image_id':names, 'label':labels})\n",
    "submission_df.to_csv(\"submission.csv\", index=False)"
   ]
  },
  {
   "cell_type": "code",
   "execution_count": 15,
   "metadata": {
    "execution": {
     "iopub.execute_input": "2022-05-08T11:07:22.257060Z",
     "iopub.status.busy": "2022-05-08T11:07:22.256068Z",
     "iopub.status.idle": "2022-05-08T11:07:22.276123Z",
     "shell.execute_reply": "2022-05-08T11:07:22.275480Z",
     "shell.execute_reply.started": "2022-05-08T11:07:22.257021Z"
    }
   },
   "outputs": [],
   "source": [
    "submission_df.head()"
   ]
  },
  {
   "cell_type": "code",
   "execution_count": null,
   "metadata": {},
   "outputs": [],
   "source": []
  }
 ],
 "metadata": {
  "kernelspec": {
   "display_name": "Python 3",
   "language": "python",
   "name": "python3"
  },
  "language_info": {
   "codemirror_mode": {
    "name": "ipython",
    "version": 3
   },
   "file_extension": ".py",
   "mimetype": "text/x-python",
   "name": "python",
   "nbconvert_exporter": "python",
   "pygments_lexer": "ipython3",
   "version": "3.8.8"
  }
 },
 "nbformat": 4,
 "nbformat_minor": 4
}
