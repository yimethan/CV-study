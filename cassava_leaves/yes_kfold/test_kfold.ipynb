{
 "cells": [
  {
   "cell_type": "code",
   "execution_count": 1,
   "metadata": {
    "_cell_guid": "b1076dfc-b9ad-4769-8c92-a6c4dae69d19",
    "_uuid": "8f2839f25d086af736a60e9eeb907d3b93b6e0e5",
    "execution": {
     "iopub.execute_input": "2022-05-18T03:27:30.410528Z",
     "iopub.status.busy": "2022-05-18T03:27:30.409827Z",
     "iopub.status.idle": "2022-05-18T03:27:36.719001Z",
     "shell.execute_reply": "2022-05-18T03:27:36.718252Z",
     "shell.execute_reply.started": "2022-05-18T03:27:30.410414Z"
    }
   },
   "outputs": [],
   "source": [
    "import tensorflow as tf\n",
    "import keras\n",
    "from keras.models import Sequential, Model, load_model\n",
    "from keras import layers, applications, optimizers\n",
    "from keras.layers import Dropout, Flatten, Dense, GlobalAveragePooling2D\n",
    "from keras.preprocessing.image import ImageDataGenerator, load_img\n",
    "from tensorflow.keras.backend import clear_session\n",
    "from tensorflow.keras.applications import EfficientNetB3\n",
    "from keras.callbacks import EarlyStopping, ModelCheckpoint, ReduceLROnPlateau\n",
    "from sklearn.metrics import classification_report\n",
    "\n",
    "import numpy as np\n",
    "import pandas as pd\n",
    "import matplotlib.pyplot as plt\n",
    "import os"
   ]
  },
  {
   "cell_type": "code",
   "execution_count": 2,
   "metadata": {
    "execution": {
     "iopub.execute_input": "2022-05-18T03:27:36.720888Z",
     "iopub.status.busy": "2022-05-18T03:27:36.720629Z",
     "iopub.status.idle": "2022-05-18T03:27:36.749688Z",
     "shell.execute_reply": "2022-05-18T03:27:36.749069Z",
     "shell.execute_reply.started": "2022-05-18T03:27:36.720853Z"
    }
   },
   "outputs": [],
   "source": [
    "train = pd.read_csv('../input/cassava-leaf-disease-classification/train.csv')\n",
    "train_path = '../input/cassava-leaf-disease-classification/train_images'\n",
    "\n",
    "train_path_second = '../input/more-cassava-disease/train/train/train'"
   ]
  },
  {
   "cell_type": "code",
   "execution_count": 3,
   "metadata": {
    "execution": {
     "iopub.execute_input": "2022-05-18T03:27:36.751275Z",
     "iopub.status.busy": "2022-05-18T03:27:36.751027Z",
     "iopub.status.idle": "2022-05-18T03:27:37.066358Z",
     "shell.execute_reply": "2022-05-18T03:27:37.065620Z",
     "shell.execute_reply.started": "2022-05-18T03:27:36.751242Z"
    }
   },
   "outputs": [],
   "source": [
    "second_id = []\n",
    "second_label = []\n",
    "\n",
    "for img in os.listdir(os.path.join(train_path_second, 'cbb')):\n",
    "    second_id.append('/cbb/'+img)\n",
    "    second_label.append('0')\n",
    "    \n",
    "for img in os.listdir(os.path.join(train_path_second, 'cbsd')):\n",
    "    second_id.append('/cbsd/'+img)\n",
    "    second_label.append('1')\n",
    "    \n",
    "for img in os.listdir(os.path.join(train_path_second, 'cgm')):\n",
    "    second_id.append('/cgm/'+img)\n",
    "    second_label.append('2')\n",
    "    \n",
    "for img in os.listdir(os.path.join(train_path_second, 'cmd')):\n",
    "    second_id.append('/cmd/'+img)\n",
    "    second_label.append('3')\n",
    "    \n",
    "for img in os.listdir(os.path.join(train_path_second, 'healthy')):\n",
    "    second_id.append('/healthy/'+img)\n",
    "    second_label.append('4')"
   ]
  },
  {
   "cell_type": "code",
   "execution_count": 4,
   "metadata": {
    "execution": {
     "iopub.execute_input": "2022-05-18T03:27:37.068573Z",
     "iopub.status.busy": "2022-05-18T03:27:37.068378Z",
     "iopub.status.idle": "2022-05-18T03:27:37.089433Z",
     "shell.execute_reply": "2022-05-18T03:27:37.088794Z",
     "shell.execute_reply.started": "2022-05-18T03:27:37.068549Z"
    }
   },
   "outputs": [],
   "source": [
    "train_second = pd.DataFrame({'image_id':second_id, 'label':second_label})\n",
    "\n",
    "train_second.head()"
   ]
  },
  {
   "cell_type": "code",
   "execution_count": 5,
   "metadata": {
    "execution": {
     "iopub.execute_input": "2022-05-18T03:27:37.091312Z",
     "iopub.status.busy": "2022-05-18T03:27:37.091056Z",
     "iopub.status.idle": "2022-05-18T03:27:37.094921Z",
     "shell.execute_reply": "2022-05-18T03:27:37.093944Z",
     "shell.execute_reply.started": "2022-05-18T03:27:37.091275Z"
    }
   },
   "outputs": [],
   "source": [
    "del second_id\n",
    "del second_label"
   ]
  },
  {
   "cell_type": "code",
   "execution_count": 6,
   "metadata": {
    "execution": {
     "iopub.execute_input": "2022-05-18T03:27:37.096745Z",
     "iopub.status.busy": "2022-05-18T03:27:37.096407Z",
     "iopub.status.idle": "2022-05-18T03:27:37.158341Z",
     "shell.execute_reply": "2022-05-18T03:27:37.157632Z",
     "shell.execute_reply.started": "2022-05-18T03:27:37.096708Z"
    }
   },
   "outputs": [],
   "source": [
    "def image_path_first(image):\n",
    "    return os.path.join(train_path,image)\n",
    "\n",
    "def image_path_second(image):\n",
    "    return os.path.join(train_path_second, image)\n",
    "\n",
    "train['image_id'] = train['image_id'].apply(image_path_first)\n",
    "train_second['image_id'] = train_second['image_id'].apply(image_path_second)"
   ]
  },
  {
   "cell_type": "code",
   "execution_count": 7,
   "metadata": {
    "execution": {
     "iopub.execute_input": "2022-05-18T03:27:37.161266Z",
     "iopub.status.busy": "2022-05-18T03:27:37.160497Z",
     "iopub.status.idle": "2022-05-18T03:27:37.186414Z",
     "shell.execute_reply": "2022-05-18T03:27:37.185709Z",
     "shell.execute_reply.started": "2022-05-18T03:27:37.161226Z"
    }
   },
   "outputs": [],
   "source": [
    "train['label'] = train['label'].astype('str')"
   ]
  },
  {
   "cell_type": "code",
   "execution_count": 8,
   "metadata": {
    "execution": {
     "iopub.execute_input": "2022-05-18T03:27:37.188020Z",
     "iopub.status.busy": "2022-05-18T03:27:37.187757Z",
     "iopub.status.idle": "2022-05-18T03:27:37.196255Z",
     "shell.execute_reply": "2022-05-18T03:27:37.195608Z",
     "shell.execute_reply.started": "2022-05-18T03:27:37.187985Z"
    }
   },
   "outputs": [],
   "source": [
    "# combine dataframe to train\n",
    "\n",
    "combined_train = pd.concat([train, train_second], ignore_index=True)"
   ]
  },
  {
   "cell_type": "code",
   "execution_count": 9,
   "metadata": {
    "execution": {
     "iopub.execute_input": "2022-05-18T03:27:37.198601Z",
     "iopub.status.busy": "2022-05-18T03:27:37.198341Z",
     "iopub.status.idle": "2022-05-18T03:27:37.205978Z",
     "shell.execute_reply": "2022-05-18T03:27:37.205361Z",
     "shell.execute_reply.started": "2022-05-18T03:27:37.198567Z"
    }
   },
   "outputs": [],
   "source": [
    "del train\n",
    "del train_second\n",
    "\n",
    "train = combined_train\n",
    "\n",
    "del combined_train\n",
    "del train_path\n",
    "del train_path_second"
   ]
  },
  {
   "cell_type": "code",
   "execution_count": 10,
   "metadata": {
    "execution": {
     "iopub.execute_input": "2022-05-18T03:27:37.209884Z",
     "iopub.status.busy": "2022-05-18T03:27:37.209642Z",
     "iopub.status.idle": "2022-05-18T03:27:37.226831Z",
     "shell.execute_reply": "2022-05-18T03:27:37.226133Z",
     "shell.execute_reply.started": "2022-05-18T03:27:37.209860Z"
    }
   },
   "outputs": [],
   "source": [
    "from sklearn.model_selection import StratifiedKFold\n",
    "\n",
    "SKF = StratifiedKFold(n_splits=5, random_state=42, shuffle=True)"
   ]
  },
  {
   "cell_type": "code",
   "execution_count": 11,
   "metadata": {
    "execution": {
     "iopub.execute_input": "2022-05-18T03:27:37.228257Z",
     "iopub.status.busy": "2022-05-18T03:27:37.227932Z",
     "iopub.status.idle": "2022-05-18T03:27:37.234132Z",
     "shell.execute_reply": "2022-05-18T03:27:37.233140Z",
     "shell.execute_reply.started": "2022-05-18T03:27:37.228219Z"
    }
   },
   "outputs": [],
   "source": [
    "train_gen = ImageDataGenerator(preprocessing_function = tf.keras.applications.efficientnet.preprocess_input,\n",
    "                                horizontal_flip=True, vertical_flip=True, fill_mode='nearest', brightness_range=[0.7, 1.3],\n",
    "                                rotation_range=270, zoom_range=0.2, shear_range=10, width_shift_range=0.2, height_shift_range=0.2,\n",
    "                                rescale = 1./255)\n",
    "\n",
    "val_gen = ImageDataGenerator(rescale=1./255)"
   ]
  },
  {
   "cell_type": "code",
   "execution_count": 18,
   "metadata": {
    "execution": {
     "iopub.execute_input": "2022-05-18T03:27:37.235941Z",
     "iopub.status.busy": "2022-05-18T03:27:37.235372Z",
     "iopub.status.idle": "2022-05-18T03:27:37.244046Z",
     "shell.execute_reply": "2022-05-18T03:27:37.243032Z",
     "shell.execute_reply.started": "2022-05-18T03:27:37.235883Z"
    }
   },
   "outputs": [],
   "source": [
    "def build_efficientnet_b3():\n",
    "    model = Sequential()\n",
    "    model.add(EfficientNetB3(input_shape=(300,300,3), include_top=False, weights='imagenet'))\n",
    "    model.add(GlobalAveragePooling2D())\n",
    "    model.add(Dense(256, activation='relu'))\n",
    "    model.add(Dropout(0.5))\n",
    "    model.add(Dense(5, activation='softmax'))\n",
    "    \n",
    "    return model"
   ]
  },
  {
   "cell_type": "code",
   "execution_count": 13,
   "metadata": {
    "execution": {
     "iopub.execute_input": "2022-05-18T03:27:37.245813Z",
     "iopub.status.busy": "2022-05-18T03:27:37.245492Z",
     "iopub.status.idle": "2022-05-18T03:27:37.316907Z",
     "shell.execute_reply": "2022-05-18T03:27:37.316274Z",
     "shell.execute_reply.started": "2022-05-18T03:27:37.245766Z"
    }
   },
   "outputs": [],
   "source": [
    "train_idx, val_idx = [], []\n",
    "\n",
    "for i in SKF.split(train, train['label']):\n",
    "    train_idx, val_idx = i"
   ]
  },
  {
   "cell_type": "code",
   "execution_count": 14,
   "metadata": {
    "execution": {
     "iopub.execute_input": "2022-05-18T03:27:37.319303Z",
     "iopub.status.busy": "2022-05-18T03:27:37.318880Z",
     "iopub.status.idle": "2022-05-18T07:16:28.338745Z",
     "shell.execute_reply": "2022-05-18T07:16:28.338007Z",
     "shell.execute_reply.started": "2022-05-18T03:27:37.319269Z"
    }
   },
   "outputs": [],
   "source": [
    "training_data = train.iloc[train_idx]\n",
    "validation_data = train.iloc[val_idx]\n",
    "    \n",
    "train_generator = train_gen.flow_from_dataframe(dataframe=training_data, directory=None, x_col='image_id', y_col='label',\n",
    "                                                batch_size=16, seed=1, shuffle=True,\n",
    "                                                class_mode='categorical', target_size=(300,300))\n",
    "\n",
    "validation_generator = val_gen.flow_from_dataframe(dataframe=validation_data, directory=None, x_col='image_id', y_col='label',\n",
    "                                                   batch_size=16, seed=1, shuffle=False,\n",
    "                                                   class_mode='categorical', target_size=(300,300))\n",
    "del train\n",
    "del train_gen\n",
    "del val_gen\n",
    "del training_data\n",
    "del validation_data\n",
    "del train_idx\n",
    "del val_idx\n",
    "    \n",
    "print('Fold num: 5')\n",
    "print('Train length:', len(train_generator))\n",
    "print('Val length:', len(validation_generator))\n",
    "    \n",
    "# build model\n",
    "model = build_efficientnet_b3()\n",
    "    \n",
    "# compile\n",
    "model.compile(loss='categorical_crossentropy', optimizer=tf.keras.optimizers.Adam(learning_rate=1e-3), metrics=['accuracy'])\n",
    "    \n",
    "# callbacks   \n",
    "early_stopping = EarlyStopping(monitor='val_loss', mode='min', verbose=1, patience=3, restore_best_weights=True)\n",
    "model_checkpoint = ModelCheckpoint('./k_folds_model/checkpoint_5.h5', monitor='val_loss', mode='min', verbose=1, save_best_only=True)\n",
    "reduce_lr = ReduceLROnPlateau(monitor='val_loss', mode='min', factor=0.2, patience=1, min_lr=0, verbose=1)\n",
    "    \n",
    "# fit\n",
    "history = model.fit(train_generator, epochs=30, validation_data=validation_generator, verbose=1,\n",
    "                    callbacks=[early_stopping, model_checkpoint, reduce_lr])\n",
    "                        \n",
    "# save model\n",
    "model.save('./k_folds_model/5.h5')\n",
    "    \n",
    "clear_session()"
   ]
  },
  {
   "cell_type": "code",
   "execution_count": 21,
   "metadata": {
    "execution": {
     "iopub.execute_input": "2022-05-18T07:28:37.988454Z",
     "iopub.status.busy": "2022-05-18T07:28:37.987991Z",
     "iopub.status.idle": "2022-05-18T07:28:37.993672Z",
     "shell.execute_reply": "2022-05-18T07:28:37.992999Z",
     "shell.execute_reply.started": "2022-05-18T07:28:37.988418Z"
    }
   },
   "outputs": [],
   "source": [
    "print((0.8684 + 0.8697 + 0.8724 + 0.8798 + 0.8708) / 5)"
   ]
  },
  {
   "cell_type": "code",
   "execution_count": 7,
   "metadata": {
    "execution": {
     "iopub.execute_input": "2022-05-18T07:38:59.598627Z",
     "iopub.status.busy": "2022-05-18T07:38:59.598377Z",
     "iopub.status.idle": "2022-05-18T07:38:59.609023Z",
     "shell.execute_reply": "2022-05-18T07:38:59.608255Z",
     "shell.execute_reply.started": "2022-05-18T07:38:59.598599Z"
    }
   },
   "outputs": [],
   "source": [
    "test = pd.read_csv('../input/cassava-disease/sample_submission_file.csv')"
   ]
  },
  {
   "cell_type": "code",
   "execution_count": 8,
   "metadata": {
    "execution": {
     "iopub.execute_input": "2022-05-18T07:39:00.086511Z",
     "iopub.status.busy": "2022-05-18T07:39:00.085810Z",
     "iopub.status.idle": "2022-05-18T07:39:00.103733Z",
     "shell.execute_reply": "2022-05-18T07:39:00.103048Z",
     "shell.execute_reply.started": "2022-05-18T07:39:00.086472Z"
    }
   },
   "outputs": [
    {
     "data": {
      "text/html": [
       "<div>\n",
       "<style scoped>\n",
       "    .dataframe tbody tr th:only-of-type {\n",
       "        vertical-align: middle;\n",
       "    }\n",
       "\n",
       "    .dataframe tbody tr th {\n",
       "        vertical-align: top;\n",
       "    }\n",
       "\n",
       "    .dataframe thead th {\n",
       "        text-align: right;\n",
       "    }\n",
       "</style>\n",
       "<table border=\"1\" class=\"dataframe\">\n",
       "  <thead>\n",
       "    <tr style=\"text-align: right;\">\n",
       "      <th></th>\n",
       "      <th>label</th>\n",
       "      <th>image_id</th>\n",
       "    </tr>\n",
       "  </thead>\n",
       "  <tbody>\n",
       "    <tr>\n",
       "      <th>3769</th>\n",
       "      <td>cbb</td>\n",
       "      <td>../input/cassava-disease/test/test/0\\test-img-...</td>\n",
       "    </tr>\n",
       "    <tr>\n",
       "      <th>3770</th>\n",
       "      <td>cgm</td>\n",
       "      <td>../input/cassava-disease/test/test/0\\test-img-...</td>\n",
       "    </tr>\n",
       "    <tr>\n",
       "      <th>3771</th>\n",
       "      <td>healthy</td>\n",
       "      <td>../input/cassava-disease/test/test/0\\test-img-...</td>\n",
       "    </tr>\n",
       "    <tr>\n",
       "      <th>3772</th>\n",
       "      <td>cbb</td>\n",
       "      <td>../input/cassava-disease/test/test/0\\test-img-...</td>\n",
       "    </tr>\n",
       "    <tr>\n",
       "      <th>3773</th>\n",
       "      <td>healthy</td>\n",
       "      <td>../input/cassava-disease/test/test/0\\test-img-...</td>\n",
       "    </tr>\n",
       "  </tbody>\n",
       "</table>\n",
       "</div>"
      ],
      "text/plain": [
       "        label                                           image_id\n",
       "3769      cbb  ../input/cassava-disease/test/test/0\\test-img-...\n",
       "3770      cgm  ../input/cassava-disease/test/test/0\\test-img-...\n",
       "3771  healthy  ../input/cassava-disease/test/test/0\\test-img-...\n",
       "3772      cbb  ../input/cassava-disease/test/test/0\\test-img-...\n",
       "3773  healthy  ../input/cassava-disease/test/test/0\\test-img-..."
      ]
     },
     "execution_count": 8,
     "metadata": {},
     "output_type": "execute_result"
    }
   ],
   "source": [
    "test_path = '../input/cassava-disease/test/test/0'\n",
    "\n",
    "def test_image_path(image):\n",
    "    return os.path.join(test_path, image)\n",
    "\n",
    "test['image_id'] = test['image_id'].apply(test_image_path)\n",
    "\n",
    "test.tail()"
   ]
  },
  {
   "cell_type": "code",
   "execution_count": 9,
   "metadata": {
    "execution": {
     "iopub.execute_input": "2022-05-18T07:39:01.278000Z",
     "iopub.status.busy": "2022-05-18T07:39:01.277621Z",
     "iopub.status.idle": "2022-05-18T07:39:01.287559Z",
     "shell.execute_reply": "2022-05-18T07:39:01.286791Z",
     "shell.execute_reply.started": "2022-05-18T07:39:01.277966Z"
    }
   },
   "outputs": [],
   "source": [
    "test['label'].replace('cbb', '0', inplace=True)\n",
    "test['label'].replace('cbsd', '1', inplace=True)\n",
    "test['label'].replace('cgm', '2', inplace=True)\n",
    "test['label'].replace('cmd', '3', inplace=True)\n",
    "test['label'].replace('healthy', '4', inplace=True)"
   ]
  },
  {
   "cell_type": "code",
   "execution_count": 10,
   "metadata": {
    "execution": {
     "iopub.execute_input": "2022-05-18T07:39:02.102523Z",
     "iopub.status.busy": "2022-05-18T07:39:02.101758Z",
     "iopub.status.idle": "2022-05-18T07:39:02.112821Z",
     "shell.execute_reply": "2022-05-18T07:39:02.112083Z",
     "shell.execute_reply.started": "2022-05-18T07:39:02.102481Z"
    }
   },
   "outputs": [
    {
     "data": {
      "text/html": [
       "<div>\n",
       "<style scoped>\n",
       "    .dataframe tbody tr th:only-of-type {\n",
       "        vertical-align: middle;\n",
       "    }\n",
       "\n",
       "    .dataframe tbody tr th {\n",
       "        vertical-align: top;\n",
       "    }\n",
       "\n",
       "    .dataframe thead th {\n",
       "        text-align: right;\n",
       "    }\n",
       "</style>\n",
       "<table border=\"1\" class=\"dataframe\">\n",
       "  <thead>\n",
       "    <tr style=\"text-align: right;\">\n",
       "      <th></th>\n",
       "      <th>image_id</th>\n",
       "      <th>label</th>\n",
       "    </tr>\n",
       "  </thead>\n",
       "  <tbody>\n",
       "    <tr>\n",
       "      <th>3769</th>\n",
       "      <td>../input/cassava-disease/test/test/0\\test-img-...</td>\n",
       "      <td>0</td>\n",
       "    </tr>\n",
       "    <tr>\n",
       "      <th>3770</th>\n",
       "      <td>../input/cassava-disease/test/test/0\\test-img-...</td>\n",
       "      <td>2</td>\n",
       "    </tr>\n",
       "    <tr>\n",
       "      <th>3771</th>\n",
       "      <td>../input/cassava-disease/test/test/0\\test-img-...</td>\n",
       "      <td>4</td>\n",
       "    </tr>\n",
       "    <tr>\n",
       "      <th>3772</th>\n",
       "      <td>../input/cassava-disease/test/test/0\\test-img-...</td>\n",
       "      <td>0</td>\n",
       "    </tr>\n",
       "    <tr>\n",
       "      <th>3773</th>\n",
       "      <td>../input/cassava-disease/test/test/0\\test-img-...</td>\n",
       "      <td>4</td>\n",
       "    </tr>\n",
       "  </tbody>\n",
       "</table>\n",
       "</div>"
      ],
      "text/plain": [
       "                                               image_id label\n",
       "3769  ../input/cassava-disease/test/test/0\\test-img-...     0\n",
       "3770  ../input/cassava-disease/test/test/0\\test-img-...     2\n",
       "3771  ../input/cassava-disease/test/test/0\\test-img-...     4\n",
       "3772  ../input/cassava-disease/test/test/0\\test-img-...     0\n",
       "3773  ../input/cassava-disease/test/test/0\\test-img-...     4"
      ]
     },
     "execution_count": 10,
     "metadata": {},
     "output_type": "execute_result"
    }
   ],
   "source": [
    "test = test[['image_id', 'label']]\n",
    "\n",
    "test.tail()"
   ]
  },
  {
   "cell_type": "code",
   "execution_count": 11,
   "metadata": {
    "execution": {
     "iopub.execute_input": "2022-05-18T07:39:03.168374Z",
     "iopub.status.busy": "2022-05-18T07:39:03.167658Z",
     "iopub.status.idle": "2022-05-18T07:39:03.173439Z",
     "shell.execute_reply": "2022-05-18T07:39:03.172603Z",
     "shell.execute_reply.started": "2022-05-18T07:39:03.168323Z"
    }
   },
   "outputs": [
    {
     "name": "stdout",
     "output_type": "stream",
     "text": [
      "../input/cassava-disease/test/test/0\\test-img-0.jpg\n"
     ]
    }
   ],
   "source": [
    "print(test['image_id'][0])"
   ]
  },
  {
   "cell_type": "code",
   "execution_count": 12,
   "metadata": {
    "execution": {
     "iopub.execute_input": "2022-05-18T07:39:04.740456Z",
     "iopub.status.busy": "2022-05-18T07:39:04.740149Z",
     "iopub.status.idle": "2022-05-18T07:39:04.745982Z",
     "shell.execute_reply": "2022-05-18T07:39:04.745131Z",
     "shell.execute_reply.started": "2022-05-18T07:39:04.740422Z"
    }
   },
   "outputs": [],
   "source": [
    "val_gen = ImageDataGenerator(rescale=1./255)"
   ]
  },
  {
   "cell_type": "code",
   "execution_count": 14,
   "metadata": {
    "execution": {
     "iopub.execute_input": "2022-05-18T07:48:46.640670Z",
     "iopub.status.busy": "2022-05-18T07:48:46.640417Z",
     "iopub.status.idle": "2022-05-18T07:48:48.063327Z",
     "shell.execute_reply": "2022-05-18T07:48:48.062603Z",
     "shell.execute_reply.started": "2022-05-18T07:48:46.640641Z"
    }
   },
   "outputs": [
    {
     "name": "stdout",
     "output_type": "stream",
     "text": [
      "Found 3774 validated image filenames belonging to 5 classes.\n"
     ]
    }
   ],
   "source": [
    "test_generator = val_gen.flow_from_dataframe(dataframe=test, directory=None, x_col='image_id', y_col='label',\n",
    "                                              preprocessing_function=tf.keras.applications.efficientnet.preprocess_input,\n",
    "                                              class_mode='categorical', target_size=(300,300), shuffle=False, seed=1)"
   ]
  },
  {
   "cell_type": "code",
   "execution_count": 19,
   "metadata": {
    "execution": {
     "iopub.execute_input": "2022-05-18T07:48:49.521516Z",
     "iopub.status.busy": "2022-05-18T07:48:49.520838Z",
     "iopub.status.idle": "2022-05-18T07:48:53.819146Z",
     "shell.execute_reply": "2022-05-18T07:48:53.818374Z",
     "shell.execute_reply.started": "2022-05-18T07:48:49.521482Z"
    }
   },
   "outputs": [],
   "source": [
    "model = build_efficientnet_b3()\n",
    "\n",
    "model.load_weights('./k_folds_model/checkpoint_5.h5')"
   ]
  },
  {
   "cell_type": "code",
   "execution_count": 20,
   "metadata": {
    "execution": {
     "iopub.execute_input": "2022-05-18T07:48:53.822700Z",
     "iopub.status.busy": "2022-05-18T07:48:53.821916Z",
     "iopub.status.idle": "2022-05-18T07:49:33.591084Z",
     "shell.execute_reply": "2022-05-18T07:49:33.589013Z",
     "shell.execute_reply.started": "2022-05-18T07:48:53.822661Z"
    }
   },
   "outputs": [
    {
     "name": "stdout",
     "output_type": "stream",
     "text": [
      "              precision    recall  f1-score   support\n",
      "\n",
      "         CBB       0.22      0.06      0.10       753\n",
      "        CBSD       0.20      0.18      0.19       731\n",
      "         CGM       0.19      0.17      0.18       706\n",
      "         CMD       0.20      0.41      0.27       800\n",
      "     Healthy       0.19      0.16      0.17       784\n",
      "\n",
      "    accuracy                           0.20      3774\n",
      "   macro avg       0.20      0.20      0.18      3774\n",
      "weighted avg       0.20      0.20      0.18      3774\n",
      "\n"
     ]
    }
   ],
   "source": [
    "output_5 = np.argmax(model.predict(test_generator), axis=1)\n",
    "\n",
    "report = classification_report(test_generator.classes, output_5, target_names=['CBB', 'CBSD', 'CGM', 'CMD', 'Healthy'])\n",
    "print(report)"
   ]
  },
  {
   "cell_type": "code",
   "execution_count": 24,
   "metadata": {
    "execution": {
     "iopub.execute_input": "2022-05-18T07:49:33.592968Z",
     "iopub.status.busy": "2022-05-18T07:49:33.592748Z",
     "iopub.status.idle": "2022-05-18T07:49:40.073215Z",
     "shell.execute_reply": "2022-05-18T07:49:40.072490Z",
     "shell.execute_reply.started": "2022-05-18T07:49:33.592938Z"
    }
   },
   "outputs": [],
   "source": [
    "clear_session()\n",
    "\n",
    "model_1 = load_model('./k_folds_model/checkpoint_1.h5')"
   ]
  },
  {
   "cell_type": "code",
   "execution_count": 25,
   "metadata": {
    "execution": {
     "iopub.execute_input": "2022-05-18T07:49:40.076302Z",
     "iopub.status.busy": "2022-05-18T07:49:40.075788Z",
     "iopub.status.idle": "2022-05-18T07:50:20.897821Z",
     "shell.execute_reply": "2022-05-18T07:50:20.894854Z",
     "shell.execute_reply.started": "2022-05-18T07:49:40.076264Z"
    }
   },
   "outputs": [
    {
     "name": "stdout",
     "output_type": "stream",
     "text": [
      "              precision    recall  f1-score   support\n",
      "\n",
      "         CBB       0.22      0.07      0.10       753\n",
      "        CBSD       0.20      0.18      0.19       731\n",
      "         CGM       0.18      0.18      0.18       706\n",
      "         CMD       0.21      0.37      0.26       800\n",
      "     Healthy       0.19      0.18      0.18       784\n",
      "\n",
      "    accuracy                           0.20      3774\n",
      "   macro avg       0.20      0.19      0.18      3774\n",
      "weighted avg       0.20      0.20      0.18      3774\n",
      "\n"
     ]
    }
   ],
   "source": [
    "output_1 = np.argmax(model_1.predict(test_generator), axis=1)\n",
    "\n",
    "report = classification_report(test_generator.classes, output_1, target_names=['CBB', 'CBSD', 'CGM', 'CMD', 'Healthy'])\n",
    "print(report)"
   ]
  },
  {
   "cell_type": "code",
   "execution_count": 26,
   "metadata": {
    "execution": {
     "iopub.execute_input": "2022-05-18T07:50:20.900239Z",
     "iopub.status.busy": "2022-05-18T07:50:20.899913Z",
     "iopub.status.idle": "2022-05-18T07:50:27.321944Z",
     "shell.execute_reply": "2022-05-18T07:50:27.321200Z",
     "shell.execute_reply.started": "2022-05-18T07:50:20.900200Z"
    }
   },
   "outputs": [],
   "source": [
    "clear_session()\n",
    "\n",
    "model_2 = load_model('./k_folds_model/checkpoint_2.h5')"
   ]
  },
  {
   "cell_type": "code",
   "execution_count": 27,
   "metadata": {
    "execution": {
     "iopub.execute_input": "2022-05-18T07:50:27.324533Z",
     "iopub.status.busy": "2022-05-18T07:50:27.324292Z",
     "iopub.status.idle": "2022-05-18T07:51:06.976133Z",
     "shell.execute_reply": "2022-05-18T07:51:06.973467Z",
     "shell.execute_reply.started": "2022-05-18T07:50:27.324502Z"
    }
   },
   "outputs": [
    {
     "name": "stdout",
     "output_type": "stream",
     "text": [
      "              precision    recall  f1-score   support\n",
      "\n",
      "         CBB       0.24      0.07      0.11       753\n",
      "        CBSD       0.19      0.16      0.18       731\n",
      "         CGM       0.18      0.16      0.17       706\n",
      "         CMD       0.20      0.37      0.26       800\n",
      "     Healthy       0.21      0.22      0.21       784\n",
      "\n",
      "    accuracy                           0.20      3774\n",
      "   macro avg       0.20      0.20      0.18      3774\n",
      "weighted avg       0.20      0.20      0.19      3774\n",
      "\n"
     ]
    }
   ],
   "source": [
    "output_2 = np.argmax(model_2.predict(test_generator), axis=1)\n",
    "\n",
    "report = classification_report(test_generator.classes, output_2, target_names=['CBB', 'CBSD', 'CGM', 'CMD', 'Healthy'])\n",
    "print(report)"
   ]
  },
  {
   "cell_type": "code",
   "execution_count": 28,
   "metadata": {
    "execution": {
     "iopub.execute_input": "2022-05-18T07:51:06.977832Z",
     "iopub.status.busy": "2022-05-18T07:51:06.977422Z",
     "iopub.status.idle": "2022-05-18T07:51:13.366677Z",
     "shell.execute_reply": "2022-05-18T07:51:13.365944Z",
     "shell.execute_reply.started": "2022-05-18T07:51:06.977787Z"
    }
   },
   "outputs": [],
   "source": [
    "clear_session()\n",
    "\n",
    "model_3 = load_model('./k_folds_model/checkpoint_3.h5')"
   ]
  },
  {
   "cell_type": "code",
   "execution_count": 29,
   "metadata": {
    "execution": {
     "iopub.execute_input": "2022-05-18T07:51:13.368925Z",
     "iopub.status.busy": "2022-05-18T07:51:13.368646Z",
     "iopub.status.idle": "2022-05-18T07:51:55.696441Z",
     "shell.execute_reply": "2022-05-18T07:51:55.695590Z",
     "shell.execute_reply.started": "2022-05-18T07:51:13.368875Z"
    }
   },
   "outputs": [
    {
     "name": "stdout",
     "output_type": "stream",
     "text": [
      "              precision    recall  f1-score   support\n",
      "\n",
      "         CBB       0.19      0.06      0.09       753\n",
      "        CBSD       0.20      0.18      0.19       731\n",
      "         CGM       0.18      0.15      0.16       706\n",
      "         CMD       0.20      0.42      0.27       800\n",
      "     Healthy       0.20      0.17      0.18       784\n",
      "\n",
      "    accuracy                           0.20      3774\n",
      "   macro avg       0.20      0.19      0.18      3774\n",
      "weighted avg       0.20      0.20      0.18      3774\n",
      "\n"
     ]
    }
   ],
   "source": [
    "output_3 = np.argmax(model_3.predict(test_generator), axis=1)\n",
    "\n",
    "report = classification_report(test_generator.classes, output_3, target_names=['CBB', 'CBSD', 'CGM', 'CMD', 'Healthy'])\n",
    "print(report)"
   ]
  },
  {
   "cell_type": "code",
   "execution_count": 30,
   "metadata": {
    "execution": {
     "iopub.execute_input": "2022-05-18T07:51:55.698421Z",
     "iopub.status.busy": "2022-05-18T07:51:55.697961Z",
     "iopub.status.idle": "2022-05-18T07:52:03.144989Z",
     "shell.execute_reply": "2022-05-18T07:52:03.144250Z",
     "shell.execute_reply.started": "2022-05-18T07:51:55.698375Z"
    }
   },
   "outputs": [],
   "source": [
    "clear_session()\n",
    "\n",
    "model_4 = load_model('./k_folds_model/checkpoint_4.h5')"
   ]
  },
  {
   "cell_type": "code",
   "execution_count": 31,
   "metadata": {
    "execution": {
     "iopub.execute_input": "2022-05-18T07:52:03.147502Z",
     "iopub.status.busy": "2022-05-18T07:52:03.147271Z",
     "iopub.status.idle": "2022-05-18T07:52:41.986291Z",
     "shell.execute_reply": "2022-05-18T07:52:41.985568Z",
     "shell.execute_reply.started": "2022-05-18T07:52:03.147466Z"
    }
   },
   "outputs": [
    {
     "name": "stdout",
     "output_type": "stream",
     "text": [
      "              precision    recall  f1-score   support\n",
      "\n",
      "         CBB       0.24      0.09      0.13       753\n",
      "        CBSD       0.20      0.17      0.19       731\n",
      "         CGM       0.18      0.18      0.18       706\n",
      "         CMD       0.20      0.38      0.27       800\n",
      "     Healthy       0.20      0.18      0.19       784\n",
      "\n",
      "    accuracy                           0.20      3774\n",
      "   macro avg       0.21      0.20      0.19      3774\n",
      "weighted avg       0.21      0.20      0.19      3774\n",
      "\n"
     ]
    }
   ],
   "source": [
    "output_4 = np.argmax(model_4.predict(test_generator), axis=1)\n",
    "\n",
    "report = classification_report(test_generator.classes, output_4, target_names=['CBB', 'CBSD', 'CGM', 'CMD', 'Healthy'])\n",
    "print(report)"
   ]
  }
 ],
 "metadata": {
  "kernelspec": {
   "display_name": "Python 3",
   "language": "python",
   "name": "python3"
  },
  "language_info": {
   "codemirror_mode": {
    "name": "ipython",
    "version": 3
   },
   "file_extension": ".py",
   "mimetype": "text/x-python",
   "name": "python",
   "nbconvert_exporter": "python",
   "pygments_lexer": "ipython3",
   "version": "3.8.8"
  }
 },
 "nbformat": 4,
 "nbformat_minor": 4
}
