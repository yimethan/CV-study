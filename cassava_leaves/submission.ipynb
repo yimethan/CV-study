{
 "cells": [
  {
   "cell_type": "code",
   "execution_count": 1,
   "id": "76e7c653",
   "metadata": {
    "_cell_guid": "b1076dfc-b9ad-4769-8c92-a6c4dae69d19",
    "_uuid": "8f2839f25d086af736a60e9eeb907d3b93b6e0e5",
    "execution": {
     "iopub.execute_input": "2022-05-23T04:15:15.460281Z",
     "iopub.status.busy": "2022-05-23T04:15:15.459897Z",
     "iopub.status.idle": "2022-05-23T04:15:20.893144Z",
     "shell.execute_reply": "2022-05-23T04:15:20.892406Z"
    },
    "papermill": {
     "duration": 5.448195,
     "end_time": "2022-05-23T04:15:20.895376",
     "exception": false,
     "start_time": "2022-05-23T04:15:15.447181",
     "status": "completed"
    },
    "tags": []
   },
   "outputs": [],
   "source": [
    "import tensorflow as tf\n",
    "import keras\n",
    "import numpy as np\n",
    "import pandas as pd\n",
    "import os\n",
    "\n",
    "from keras.models import load_model\n",
    "from keras.preprocessing.image import load_img, img_to_array, smart_resize"
   ]
  },
  {
   "cell_type": "code",
   "execution_count": 2,
   "id": "86c299f5",
   "metadata": {
    "execution": {
     "iopub.execute_input": "2022-05-23T04:15:20.916761Z",
     "iopub.status.busy": "2022-05-23T04:15:20.916517Z",
     "iopub.status.idle": "2022-05-23T04:15:30.427287Z",
     "shell.execute_reply": "2022-05-23T04:15:30.426520Z"
    },
    "papermill": {
     "duration": 9.525306,
     "end_time": "2022-05-23T04:15:30.430898",
     "exception": false,
     "start_time": "2022-05-23T04:15:20.905592",
     "status": "completed"
    },
    "tags": []
   },
   "outputs": [
    {
     "name": "stderr",
     "output_type": "stream",
     "text": [
      "2022-05-23 04:15:21.042481: I tensorflow/stream_executor/cuda/cuda_gpu_executor.cc:937] successful NUMA node read from SysFS had negative value (-1), but there must be at least one NUMA node, so returning NUMA node zero\n",
      "2022-05-23 04:15:21.174578: I tensorflow/stream_executor/cuda/cuda_gpu_executor.cc:937] successful NUMA node read from SysFS had negative value (-1), but there must be at least one NUMA node, so returning NUMA node zero\n",
      "2022-05-23 04:15:21.175432: I tensorflow/stream_executor/cuda/cuda_gpu_executor.cc:937] successful NUMA node read from SysFS had negative value (-1), but there must be at least one NUMA node, so returning NUMA node zero\n",
      "2022-05-23 04:15:21.176623: I tensorflow/core/platform/cpu_feature_guard.cc:142] This TensorFlow binary is optimized with oneAPI Deep Neural Network Library (oneDNN) to use the following CPU instructions in performance-critical operations:  AVX2 AVX512F FMA\n",
      "To enable them in other operations, rebuild TensorFlow with the appropriate compiler flags.\n",
      "2022-05-23 04:15:21.176962: I tensorflow/stream_executor/cuda/cuda_gpu_executor.cc:937] successful NUMA node read from SysFS had negative value (-1), but there must be at least one NUMA node, so returning NUMA node zero\n",
      "2022-05-23 04:15:21.177723: I tensorflow/stream_executor/cuda/cuda_gpu_executor.cc:937] successful NUMA node read from SysFS had negative value (-1), but there must be at least one NUMA node, so returning NUMA node zero\n",
      "2022-05-23 04:15:21.178352: I tensorflow/stream_executor/cuda/cuda_gpu_executor.cc:937] successful NUMA node read from SysFS had negative value (-1), but there must be at least one NUMA node, so returning NUMA node zero\n",
      "2022-05-23 04:15:23.469159: I tensorflow/stream_executor/cuda/cuda_gpu_executor.cc:937] successful NUMA node read from SysFS had negative value (-1), but there must be at least one NUMA node, so returning NUMA node zero\n",
      "2022-05-23 04:15:23.470016: I tensorflow/stream_executor/cuda/cuda_gpu_executor.cc:937] successful NUMA node read from SysFS had negative value (-1), but there must be at least one NUMA node, so returning NUMA node zero\n",
      "2022-05-23 04:15:23.470702: I tensorflow/stream_executor/cuda/cuda_gpu_executor.cc:937] successful NUMA node read from SysFS had negative value (-1), but there must be at least one NUMA node, so returning NUMA node zero\n",
      "2022-05-23 04:15:23.472061: I tensorflow/core/common_runtime/gpu/gpu_device.cc:1510] Created device /job:localhost/replica:0/task:0/device:GPU:0 with 15403 MB memory:  -> device: 0, name: Tesla P100-PCIE-16GB, pci bus id: 0000:00:04.0, compute capability: 6.0\n"
     ]
    }
   ],
   "source": [
    "model_1 = load_model('../input/effnetb3/checkpoint_1.h5')"
   ]
  },
  {
   "cell_type": "code",
   "execution_count": 3,
   "id": "66f2ca52",
   "metadata": {
    "execution": {
     "iopub.execute_input": "2022-05-23T04:15:30.453652Z",
     "iopub.status.busy": "2022-05-23T04:15:30.453401Z",
     "iopub.status.idle": "2022-05-23T04:15:36.578979Z",
     "shell.execute_reply": "2022-05-23T04:15:36.578238Z"
    },
    "papermill": {
     "duration": 6.139165,
     "end_time": "2022-05-23T04:15:36.580994",
     "exception": false,
     "start_time": "2022-05-23T04:15:30.441829",
     "status": "completed"
    },
    "tags": []
   },
   "outputs": [],
   "source": [
    "model_2 = load_model('../input/effnetb3/checkpoint_2.h5')"
   ]
  },
  {
   "cell_type": "code",
   "execution_count": 4,
   "id": "799b8b66",
   "metadata": {
    "execution": {
     "iopub.execute_input": "2022-05-23T04:15:36.604665Z",
     "iopub.status.busy": "2022-05-23T04:15:36.604011Z",
     "iopub.status.idle": "2022-05-23T04:15:42.630755Z",
     "shell.execute_reply": "2022-05-23T04:15:42.630010Z"
    },
    "papermill": {
     "duration": 6.040654,
     "end_time": "2022-05-23T04:15:42.633180",
     "exception": false,
     "start_time": "2022-05-23T04:15:36.592526",
     "status": "completed"
    },
    "tags": []
   },
   "outputs": [],
   "source": [
    "model_3 = load_model('../input/effnetb3/checkpoint_3.h5')"
   ]
  },
  {
   "cell_type": "code",
   "execution_count": 5,
   "id": "507f1900",
   "metadata": {
    "execution": {
     "iopub.execute_input": "2022-05-23T04:15:42.656981Z",
     "iopub.status.busy": "2022-05-23T04:15:42.656318Z",
     "iopub.status.idle": "2022-05-23T04:15:48.765927Z",
     "shell.execute_reply": "2022-05-23T04:15:48.764998Z"
    },
    "papermill": {
     "duration": 6.1247,
     "end_time": "2022-05-23T04:15:48.769192",
     "exception": false,
     "start_time": "2022-05-23T04:15:42.644492",
     "status": "completed"
    },
    "tags": []
   },
   "outputs": [],
   "source": [
    "model_4 = load_model('../input/effnetb3/checkpoint_4.h5')"
   ]
  },
  {
   "cell_type": "code",
   "execution_count": 6,
   "id": "ac7aa8cc",
   "metadata": {
    "execution": {
     "iopub.execute_input": "2022-05-23T04:15:48.793312Z",
     "iopub.status.busy": "2022-05-23T04:15:48.793081Z",
     "iopub.status.idle": "2022-05-23T04:15:54.760018Z",
     "shell.execute_reply": "2022-05-23T04:15:54.758617Z"
    },
    "papermill": {
     "duration": 5.983493,
     "end_time": "2022-05-23T04:15:54.764851",
     "exception": false,
     "start_time": "2022-05-23T04:15:48.781358",
     "status": "completed"
    },
    "tags": []
   },
   "outputs": [],
   "source": [
    "model_5 = load_model('../input/effnetb3/checkpoint_5.h5')"
   ]
  },
  {
   "cell_type": "code",
   "execution_count": 7,
   "id": "9102eb12",
   "metadata": {
    "execution": {
     "iopub.execute_input": "2022-05-23T04:15:54.792139Z",
     "iopub.status.busy": "2022-05-23T04:15:54.791882Z",
     "iopub.status.idle": "2022-05-23T04:16:11.550573Z",
     "shell.execute_reply": "2022-05-23T04:16:11.549745Z"
    },
    "papermill": {
     "duration": 16.773773,
     "end_time": "2022-05-23T04:16:11.553662",
     "exception": false,
     "start_time": "2022-05-23T04:15:54.779889",
     "status": "completed"
    },
    "tags": []
   },
   "outputs": [
    {
     "name": "stderr",
     "output_type": "stream",
     "text": [
      "2022-05-23 04:15:54.946830: I tensorflow/compiler/mlir/mlir_graph_optimization_pass.cc:185] None of the MLIR Optimization Passes are enabled (registered 2)\n",
      "2022-05-23 04:15:57.672311: I tensorflow/stream_executor/cuda/cuda_dnn.cc:369] Loaded cuDNN version 8005\n"
     ]
    }
   ],
   "source": [
    "filenames = os.listdir('../input/cassava-leaf-disease-classification/test_images')\n",
    "\n",
    "prediction = []\n",
    "\n",
    "for image in filenames:\n",
    "    img = load_img('../input/cassava-leaf-disease-classification/test_images/'+image)\n",
    "    img = img_to_array(img)\n",
    "    img = smart_resize(img, (300, 300))\n",
    "    img = tf.reshape(img, (-1, 300, 300, 3))\n",
    "    img = img / 255.\n",
    "    pred_1 = model_1.predict(img)\n",
    "    pred_2 = model_2.predict(img)\n",
    "    pred_3 = model_3.predict(img)\n",
    "    pred_4 = model_4.predict(img)\n",
    "    pred_5 = model_5.predict(img)\n",
    "    pred = (pred_1 + pred_2 + pred_3 + pred_4 + pred_5) * 0.2\n",
    "    prediction.append(np.argmax(pred))"
   ]
  },
  {
   "cell_type": "code",
   "execution_count": 8,
   "id": "ee6dddff",
   "metadata": {
    "execution": {
     "iopub.execute_input": "2022-05-23T04:16:11.579363Z",
     "iopub.status.busy": "2022-05-23T04:16:11.579078Z",
     "iopub.status.idle": "2022-05-23T04:16:12.083094Z",
     "shell.execute_reply": "2022-05-23T04:16:12.082100Z"
    },
    "papermill": {
     "duration": 0.520077,
     "end_time": "2022-05-23T04:16:12.085939",
     "exception": false,
     "start_time": "2022-05-23T04:16:11.565862",
     "status": "completed"
    },
    "tags": []
   },
   "outputs": [],
   "source": [
    "tf.keras.backend.clear_session()\n",
    "del model_1\n",
    "del model_2\n",
    "del model_3\n",
    "del model_4\n",
    "del model_5"
   ]
  },
  {
   "cell_type": "code",
   "execution_count": 9,
   "id": "009f6b7d",
   "metadata": {
    "execution": {
     "iopub.execute_input": "2022-05-23T04:16:12.123906Z",
     "iopub.status.busy": "2022-05-23T04:16:12.123009Z",
     "iopub.status.idle": "2022-05-23T04:16:12.135083Z",
     "shell.execute_reply": "2022-05-23T04:16:12.134205Z"
    },
    "papermill": {
     "duration": 0.033379,
     "end_time": "2022-05-23T04:16:12.137044",
     "exception": false,
     "start_time": "2022-05-23T04:16:12.103665",
     "status": "completed"
    },
    "tags": []
   },
   "outputs": [],
   "source": [
    "my_submission = pd.DataFrame({'image_id': filenames, 'label': prediction})\n",
    "my_submission.to_csv('submission.csv', index=False)"
   ]
  },
  {
   "cell_type": "code",
   "execution_count": 10,
   "id": "ebe24d61",
   "metadata": {
    "execution": {
     "iopub.execute_input": "2022-05-23T04:16:12.176363Z",
     "iopub.status.busy": "2022-05-23T04:16:12.175903Z",
     "iopub.status.idle": "2022-05-23T04:16:12.197543Z",
     "shell.execute_reply": "2022-05-23T04:16:12.196852Z"
    },
    "papermill": {
     "duration": 0.045398,
     "end_time": "2022-05-23T04:16:12.200011",
     "exception": false,
     "start_time": "2022-05-23T04:16:12.154613",
     "status": "completed"
    },
    "tags": []
   },
   "outputs": [
    {
     "data": {
      "text/html": [
       "<div>\n",
       "<style scoped>\n",
       "    .dataframe tbody tr th:only-of-type {\n",
       "        vertical-align: middle;\n",
       "    }\n",
       "\n",
       "    .dataframe tbody tr th {\n",
       "        vertical-align: top;\n",
       "    }\n",
       "\n",
       "    .dataframe thead th {\n",
       "        text-align: right;\n",
       "    }\n",
       "</style>\n",
       "<table border=\"1\" class=\"dataframe\">\n",
       "  <thead>\n",
       "    <tr style=\"text-align: right;\">\n",
       "      <th></th>\n",
       "      <th>image_id</th>\n",
       "      <th>label</th>\n",
       "    </tr>\n",
       "  </thead>\n",
       "  <tbody>\n",
       "    <tr>\n",
       "      <th>0</th>\n",
       "      <td>2216849948.jpg</td>\n",
       "      <td>3</td>\n",
       "    </tr>\n",
       "  </tbody>\n",
       "</table>\n",
       "</div>"
      ],
      "text/plain": [
       "         image_id  label\n",
       "0  2216849948.jpg      3"
      ]
     },
     "execution_count": 10,
     "metadata": {},
     "output_type": "execute_result"
    }
   ],
   "source": [
    "my_submission.head()"
   ]
  },
  {
   "cell_type": "code",
   "execution_count": null,
   "id": "fa953ea1",
   "metadata": {
    "papermill": {
     "duration": 0.018737,
     "end_time": "2022-05-23T04:16:12.238402",
     "exception": false,
     "start_time": "2022-05-23T04:16:12.219665",
     "status": "completed"
    },
    "tags": []
   },
   "outputs": [],
   "source": []
  }
 ],
 "metadata": {
  "kernelspec": {
   "display_name": "Python 3",
   "language": "python",
   "name": "python3"
  },
  "language_info": {
   "codemirror_mode": {
    "name": "ipython",
    "version": 3
   },
   "file_extension": ".py",
   "mimetype": "text/x-python",
   "name": "python",
   "nbconvert_exporter": "python",
   "pygments_lexer": "ipython3",
   "version": "3.7.12"
  },
  "papermill": {
   "default_parameters": {},
   "duration": 68.32025,
   "end_time": "2022-05-23T04:16:15.480917",
   "environment_variables": {},
   "exception": null,
   "input_path": "__notebook__.ipynb",
   "output_path": "__notebook__.ipynb",
   "parameters": {},
   "start_time": "2022-05-23T04:15:07.160667",
   "version": "2.3.4"
  }
 },
 "nbformat": 4,
 "nbformat_minor": 5
}
