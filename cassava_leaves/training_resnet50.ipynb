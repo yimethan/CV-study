{
 "cells": [
  {
   "cell_type": "code",
   "execution_count": 1,
   "metadata": {
    "_cell_guid": "b1076dfc-b9ad-4769-8c92-a6c4dae69d19",
    "_uuid": "8f2839f25d086af736a60e9eeb907d3b93b6e0e5",
    "execution": {
     "iopub.execute_input": "2022-05-08T04:13:41.742736Z",
     "iopub.status.busy": "2022-05-08T04:13:41.741911Z",
     "iopub.status.idle": "2022-05-08T04:13:47.164743Z",
     "shell.execute_reply": "2022-05-08T04:13:47.164016Z",
     "shell.execute_reply.started": "2022-05-08T04:13:41.742633Z"
    }
   },
   "outputs": [],
   "source": [
    "import tensorflow as tf\n",
    "import keras\n",
    "from keras.models import Sequential, Model\n",
    "from keras import layers, applications, optimizers\n",
    "from keras.layers import Dropout, Flatten, Dense, GlobalAveragePooling2D, BatchNormalization\n",
    "from keras.preprocessing.image import ImageDataGenerator\n",
    "from tensorflow.keras.applications import ResNet50\n",
    "\n",
    "import numpy as np\n",
    "import pandas as pd\n",
    "import matplotlib.pyplot as plt\n",
    "import os"
   ]
  },
  {
   "cell_type": "code",
   "execution_count": 2,
   "metadata": {
    "execution": {
     "iopub.execute_input": "2022-05-08T04:13:47.166699Z",
     "iopub.status.busy": "2022-05-08T04:13:47.166440Z",
     "iopub.status.idle": "2022-05-08T04:13:47.171840Z",
     "shell.execute_reply": "2022-05-08T04:13:47.171131Z",
     "shell.execute_reply.started": "2022-05-08T04:13:47.166665Z"
    }
   },
   "outputs": [],
   "source": [
    "image_size = 350\n",
    "batch_size = 16\n",
    "save_model_filename = 'resnet_(1).h5'"
   ]
  },
  {
   "cell_type": "code",
   "execution_count": 3,
   "metadata": {
    "execution": {
     "iopub.execute_input": "2022-05-08T04:13:47.173585Z",
     "iopub.status.busy": "2022-05-08T04:13:47.173310Z",
     "iopub.status.idle": "2022-05-08T04:13:47.211285Z",
     "shell.execute_reply": "2022-05-08T04:13:47.210666Z",
     "shell.execute_reply.started": "2022-05-08T04:13:47.173547Z"
    }
   },
   "outputs": [],
   "source": [
    "train = pd.read_csv('../input/cassava-leaf-disease-classification/train.csv')\n",
    "train_path = '../input/cassava-leaf-disease-classification/train_images'"
   ]
  },
  {
   "cell_type": "code",
   "execution_count": 4,
   "metadata": {
    "execution": {
     "iopub.execute_input": "2022-05-08T04:13:47.213506Z",
     "iopub.status.busy": "2022-05-08T04:13:47.213259Z",
     "iopub.status.idle": "2022-05-08T04:13:47.262727Z",
     "shell.execute_reply": "2022-05-08T04:13:47.262119Z",
     "shell.execute_reply.started": "2022-05-08T04:13:47.213472Z"
    }
   },
   "outputs": [],
   "source": [
    "def image_path(image):\n",
    "    return os.path.join(train_path,image)\n",
    "\n",
    "train['image_id'] = train['image_id'].apply(image_path)"
   ]
  },
  {
   "cell_type": "code",
   "execution_count": 5,
   "metadata": {
    "execution": {
     "iopub.execute_input": "2022-05-08T04:13:47.264008Z",
     "iopub.status.busy": "2022-05-08T04:13:47.263708Z",
     "iopub.status.idle": "2022-05-08T04:13:47.288860Z",
     "shell.execute_reply": "2022-05-08T04:13:47.288111Z",
     "shell.execute_reply.started": "2022-05-08T04:13:47.263972Z"
    }
   },
   "outputs": [],
   "source": [
    "train['label'] = train['label'].astype('str')"
   ]
  },
  {
   "cell_type": "code",
   "execution_count": 6,
   "metadata": {
    "execution": {
     "iopub.execute_input": "2022-05-08T04:13:47.290559Z",
     "iopub.status.busy": "2022-05-08T04:13:47.290182Z",
     "iopub.status.idle": "2022-05-08T04:13:47.297720Z",
     "shell.execute_reply": "2022-05-08T04:13:47.296743Z",
     "shell.execute_reply.started": "2022-05-08T04:13:47.290501Z"
    }
   },
   "outputs": [],
   "source": [
    "image_gen = ImageDataGenerator(preprocessing_function = tf.keras.applications.resnet50.preprocess_input,\n",
    "                                horizontal_flip=True, vertical_flip=True, fill_mode='nearest', brightness_range=[0.7, 1.3],\n",
    "                                rotation_range=270, zoom_range=0.2, shear_range=10, width_shift_range=0.2, height_shift_range=0.2,\n",
    "                                validation_split=0.2, rescale = 1./255)\n",
    "\n",
    "test_gen = ImageDataGenerator(rescale=1./255)"
   ]
  },
  {
   "cell_type": "code",
   "execution_count": 7,
   "metadata": {
    "execution": {
     "iopub.execute_input": "2022-05-08T04:13:47.299515Z",
     "iopub.status.busy": "2022-05-08T04:13:47.299212Z",
     "iopub.status.idle": "2022-05-08T04:14:31.242939Z",
     "shell.execute_reply": "2022-05-08T04:14:31.242205Z",
     "shell.execute_reply.started": "2022-05-08T04:13:47.299478Z"
    }
   },
   "outputs": [
    {
     "name": "stdout",
     "output_type": "stream",
     "text": [
      "Found 17118 validated image filenames belonging to 5 classes.\n",
      "Found 4279 validated image filenames belonging to 5 classes.\n"
     ]
    }
   ],
   "source": [
    "train_generator = image_gen.flow_from_dataframe(dataframe=train, directory=None, x_col='image_id', y_col='label',\n",
    "                                                subset='training', batch_size=batch_size, seed=1,\n",
    "                                                shuffle=True, class_mode='categorical', target_size=(image_size,image_size))\n",
    "\n",
    "validation_generator = image_gen.flow_from_dataframe(dataframe=train, directory=None, x_col='image_id', y_col='label',\n",
    "                                                   subset='validation', batch_size=batch_size, seed=1,\n",
    "                                                   shuffle=False, class_mode='categorical', target_size=(image_size,image_size))"
   ]
  },
  {
   "cell_type": "code",
   "execution_count": 8,
   "metadata": {
    "execution": {
     "iopub.execute_input": "2022-05-08T04:14:31.244455Z",
     "iopub.status.busy": "2022-05-08T04:14:31.244043Z",
     "iopub.status.idle": "2022-05-08T04:14:31.251411Z",
     "shell.execute_reply": "2022-05-08T04:14:31.250572Z",
     "shell.execute_reply.started": "2022-05-08T04:14:31.244416Z"
    }
   },
   "outputs": [],
   "source": [
    "def build_resnet50():\n",
    "    model = Sequential()\n",
    "    model.add(ResNet50(input_shape=(image_size,image_size,3), include_top=False, weights='imagenet'))\n",
    "    model.add(GlobalAveragePooling2D())\n",
    "    model.add(Dense(128, activation='relu'))\n",
    "    model.add(BatchNormalization())\n",
    "    model.add(Dense(32, activation='relu'))\n",
    "    model.add(BatchNormalization())\n",
    "    model.add(Dropout(0.3))\n",
    "    model.add(Dense(5, activation='softmax'))\n",
    "    \n",
    "    return model"
   ]
  },
  {
   "cell_type": "code",
   "execution_count": 9,
   "metadata": {
    "execution": {
     "iopub.execute_input": "2022-05-08T04:14:31.253247Z",
     "iopub.status.busy": "2022-05-08T04:14:31.252979Z",
     "iopub.status.idle": "2022-05-08T04:14:37.401335Z",
     "shell.execute_reply": "2022-05-08T04:14:37.400635Z",
     "shell.execute_reply.started": "2022-05-08T04:14:31.253211Z"
    }
   },
   "outputs": [
    {
     "name": "stdout",
     "output_type": "stream",
     "text": [
      "Model: \"sequential\"\n",
      "_________________________________________________________________\n",
      "Layer (type)                 Output Shape              Param #   \n",
      "=================================================================\n",
      "resnet50 (Functional)        (None, 11, 11, 2048)      23587712  \n",
      "_________________________________________________________________\n",
      "global_average_pooling2d (Gl (None, 2048)              0         \n",
      "_________________________________________________________________\n",
      "dense (Dense)                (None, 128)               262272    \n",
      "_________________________________________________________________\n",
      "batch_normalization (BatchNo (None, 128)               512       \n",
      "_________________________________________________________________\n",
      "dense_1 (Dense)              (None, 32)                4128      \n",
      "_________________________________________________________________\n",
      "batch_normalization_1 (Batch (None, 32)                128       \n",
      "_________________________________________________________________\n",
      "dropout (Dropout)            (None, 32)                0         \n",
      "_________________________________________________________________\n",
      "dense_2 (Dense)              (None, 5)                 165       \n",
      "=================================================================\n",
      "Total params: 23,854,917\n",
      "Trainable params: 23,801,477\n",
      "Non-trainable params: 53,440\n",
      "_________________________________________________________________\n"
     ]
    }
   ],
   "source": [
    "model = build_resnet50()\n",
    "model.summary()"
   ]
  },
  {
   "cell_type": "code",
   "execution_count": 10,
   "metadata": {
    "execution": {
     "iopub.execute_input": "2022-05-08T04:14:37.405432Z",
     "iopub.status.busy": "2022-05-08T04:14:37.405240Z",
     "iopub.status.idle": "2022-05-08T04:14:37.423441Z",
     "shell.execute_reply": "2022-05-08T04:14:37.422802Z",
     "shell.execute_reply.started": "2022-05-08T04:14:37.405407Z"
    }
   },
   "outputs": [],
   "source": [
    "model.compile(\n",
    "    loss='categorical_crossentropy',\n",
    "    optimizer=tf.keras.optimizers.Adam(learning_rate=1e-3),\n",
    "    # optimizer=tf.keras.optimizers.SGD(learning_rate=0.1, momentum=0.9),\n",
    "    metrics=['accuracy']\n",
    ")"
   ]
  },
  {
   "cell_type": "code",
   "execution_count": 11,
   "metadata": {
    "execution": {
     "iopub.execute_input": "2022-05-08T04:14:37.424990Z",
     "iopub.status.busy": "2022-05-08T04:14:37.424754Z",
     "iopub.status.idle": "2022-05-08T04:14:37.432755Z",
     "shell.execute_reply": "2022-05-08T04:14:37.432037Z",
     "shell.execute_reply.started": "2022-05-08T04:14:37.424957Z"
    }
   },
   "outputs": [],
   "source": [
    "from keras.callbacks import EarlyStopping, ModelCheckpoint, ReduceLROnPlateau\n",
    "\n",
    "early_stopping = EarlyStopping(monitor='val_loss', mode='min', verbose=1, patience=3, restore_best_weights=True)\n",
    "model_checkpoint = ModelCheckpoint(save_model_filename, monitor='val_loss', mode='min', verbose=1, save_best_only=True)\n",
    "reduce_lr = ReduceLROnPlateau(monitor='val_loss', mode='min', factor=0.1, patience=1, min_lr=0, verbose=1)"
   ]
  },
  {
   "cell_type": "code",
   "execution_count": 12,
   "metadata": {
    "execution": {
     "iopub.execute_input": "2022-05-08T04:14:37.434280Z",
     "iopub.status.busy": "2022-05-08T04:14:37.434024Z",
     "iopub.status.idle": "2022-05-08T04:14:38.228147Z",
     "shell.execute_reply": "2022-05-08T04:14:38.227463Z",
     "shell.execute_reply.started": "2022-05-08T04:14:37.434245Z"
    }
   },
   "outputs": [
    {
     "name": "stderr",
     "output_type": "stream",
     "text": [
      "C:\\Users\\pomat\\anaconda3\\lib\\site-packages\\seaborn\\_decorators.py:36: FutureWarning: Pass the following variable as a keyword arg: x. From version 0.12, the only valid positional argument will be `data`, and passing other arguments without an explicit keyword will result in an error or misinterpretation.\n",
      "  warnings.warn(\n"
     ]
    },
    {
     "data": {
      "image/png": "[encoded data removed]",
      "text/plain": [
       "<Figure size 432x288 with 1 Axes>"
      ]
     },
     "metadata": {
      "needs_background": "light"
     },
     "output_type": "display_data"
    }
   ],
   "source": [
    "import seaborn as sns\n",
    "\n",
    "sns.countplot(train['label'])\n",
    "plt.title('Count of disease types')\n",
    "plt.grid()\n",
    "plt.show()"
   ]
  },
  {
   "cell_type": "code",
   "execution_count": 13,
   "metadata": {
    "execution": {
     "iopub.execute_input": "2022-05-08T04:14:38.230078Z",
     "iopub.status.busy": "2022-05-08T04:14:38.229605Z",
     "iopub.status.idle": "2022-05-08T10:50:58.603952Z",
     "shell.execute_reply": "2022-05-08T10:50:58.603200Z",
     "shell.execute_reply.started": "2022-05-08T04:14:38.230039Z"
    }
   },
   "outputs": [
    {
     "name": "stdout",
     "output_type": "stream",
     "text": [
      "Epoch 1/30\n",
      "   2/1070 [..............................] - ETA: 1:55 - loss: 2.3994 - accuracy: 0.2812WARNING:tensorflow:Callbacks method `on_train_batch_end` is slow compared to the batch time (batch time: 0.0858s vs `on_train_batch_end` time: 0.1287s). Check your callbacks.\n",
      "1070/1070 [==============================] - ETA: 0s - loss: 1.3015 - accuracy: 0.5633\n",
      "Epoch 00001: val_loss improved from inf to 1.14754, saving model to resnet_(1).h5\n",
      "1070/1070 [==============================] - 620s 580ms/step - loss: 1.3015 - accuracy: 0.5633 - val_loss: 1.1475 - val_accuracy: 0.6202\n",
      "Epoch 2/30\n",
      "1070/1070 [==============================] - ETA: 0s - loss: 1.0722 - accuracy: 0.6154\n",
      "Epoch 00002: val_loss improved from 1.14754 to 1.07329, saving model to resnet_(1).h5\n",
      "1070/1070 [==============================] - 539s 503ms/step - loss: 1.0722 - accuracy: 0.6154 - val_loss: 1.0733 - val_accuracy: 0.6291\n",
      "Epoch 3/30\n",
      "1070/1070 [==============================] - ETA: 0s - loss: 0.9810 - accuracy: 0.6362\n",
      "Epoch 00003: val_loss did not improve from 1.07329\n",
      "\n",
      "Epoch 00003: ReduceLROnPlateau reducing learning rate to 0.00010000000474974513.\n",
      "1070/1070 [==============================] - 530s 496ms/step - loss: 0.9810 - accuracy: 0.6362 - val_loss: 1.5702 - val_accuracy: 0.5485\n",
      "Epoch 4/30\n",
      "1070/1070 [==============================] - ETA: 0s - loss: 0.8863 - accuracy: 0.6626\n",
      "Epoch 00004: val_loss improved from 1.07329 to 0.83707, saving model to resnet_(1).h5\n",
      "1070/1070 [==============================] - 528s 493ms/step - loss: 0.8863 - accuracy: 0.6626 - val_loss: 0.8371 - val_accuracy: 0.6752\n",
      "Epoch 5/30\n",
      "1070/1070 [==============================] - ETA: 0s - loss: 0.8467 - accuracy: 0.6781\n",
      "Epoch 00005: val_loss improved from 0.83707 to 0.80471, saving model to resnet_(1).h5\n",
      "1070/1070 [==============================] - 523s 489ms/step - loss: 0.8467 - accuracy: 0.6781 - val_loss: 0.8047 - val_accuracy: 0.6974\n",
      "Epoch 6/30\n",
      "1070/1070 [==============================] - ETA: 0s - loss: 0.8164 - accuracy: 0.6885\n",
      "Epoch 00006: val_loss improved from 0.80471 to 0.76023, saving model to resnet_(1).h5\n",
      "1070/1070 [==============================] - 525s 490ms/step - loss: 0.8164 - accuracy: 0.6885 - val_loss: 0.7602 - val_accuracy: 0.7086\n",
      "Epoch 7/30\n",
      "1070/1070 [==============================] - ETA: 0s - loss: 0.7994 - accuracy: 0.6939\n",
      "Epoch 00007: val_loss improved from 0.76023 to 0.74117, saving model to resnet_(1).h5\n",
      "1070/1070 [==============================] - 528s 494ms/step - loss: 0.7994 - accuracy: 0.6939 - val_loss: 0.7412 - val_accuracy: 0.7186\n",
      "Epoch 8/30\n",
      "1070/1070 [==============================] - ETA: 0s - loss: 0.7690 - accuracy: 0.7122\n",
      "Epoch 00008: val_loss improved from 0.74117 to 0.72803, saving model to resnet_(1).h5\n",
      "1070/1070 [==============================] - 526s 492ms/step - loss: 0.7690 - accuracy: 0.7122 - val_loss: 0.7280 - val_accuracy: 0.7245\n",
      "Epoch 9/30\n",
      "1070/1070 [==============================] - ETA: 0s - loss: 0.7538 - accuracy: 0.7202\n",
      "Epoch 00009: val_loss improved from 0.72803 to 0.68400, saving model to resnet_(1).h5\n",
      "1070/1070 [==============================] - 524s 490ms/step - loss: 0.7538 - accuracy: 0.7202 - val_loss: 0.6840 - val_accuracy: 0.7586\n",
      "Epoch 10/30\n",
      "1070/1070 [==============================] - ETA: 0s - loss: 0.7223 - accuracy: 0.7380\n",
      "Epoch 00010: val_loss improved from 0.68400 to 0.66690, saving model to resnet_(1).h5\n",
      "1070/1070 [==============================] - 529s 494ms/step - loss: 0.7223 - accuracy: 0.7380 - val_loss: 0.6669 - val_accuracy: 0.7612\n",
      "Epoch 11/30\n",
      "1070/1070 [==============================] - ETA: 0s - loss: 0.7044 - accuracy: 0.7461\n",
      "Epoch 00011: val_loss improved from 0.66690 to 0.63320, saving model to resnet_(1).h5\n",
      "1070/1070 [==============================] - 534s 499ms/step - loss: 0.7044 - accuracy: 0.7461 - val_loss: 0.6332 - val_accuracy: 0.7712\n",
      "Epoch 12/30\n",
      "1070/1070 [==============================] - ETA: 0s - loss: 0.6868 - accuracy: 0.7556\n",
      "Epoch 00012: val_loss improved from 0.63320 to 0.62002, saving model to resnet_(1).h5\n",
      "1070/1070 [==============================] - 540s 504ms/step - loss: 0.6868 - accuracy: 0.7556 - val_loss: 0.6200 - val_accuracy: 0.7738\n",
      "Epoch 13/30\n",
      "1070/1070 [==============================] - ETA: 0s - loss: 0.6710 - accuracy: 0.7611\n",
      "Epoch 00013: val_loss did not improve from 0.62002\n",
      "\n",
      "Epoch 00013: ReduceLROnPlateau reducing learning rate to 1.0000000474974514e-05.\n",
      "1070/1070 [==============================] - 526s 492ms/step - loss: 0.6710 - accuracy: 0.7611 - val_loss: 0.6283 - val_accuracy: 0.7876\n",
      "Epoch 14/30\n",
      "1070/1070 [==============================] - ETA: 0s - loss: 0.6332 - accuracy: 0.7743\n",
      "Epoch 00014: val_loss improved from 0.62002 to 0.55840, saving model to resnet_(1).h5\n",
      "1070/1070 [==============================] - 523s 489ms/step - loss: 0.6332 - accuracy: 0.7743 - val_loss: 0.5584 - val_accuracy: 0.8074\n",
      "Epoch 15/30\n",
      "1070/1070 [==============================] - ETA: 0s - loss: 0.6272 - accuracy: 0.7804\n",
      "Epoch 00015: val_loss improved from 0.55840 to 0.55690, saving model to resnet_(1).h5\n",
      "1070/1070 [==============================] - 524s 489ms/step - loss: 0.6272 - accuracy: 0.7804 - val_loss: 0.5569 - val_accuracy: 0.7983\n",
      "Epoch 16/30\n",
      "1070/1070 [==============================] - ETA: 0s - loss: 0.6128 - accuracy: 0.7842\n",
      "Epoch 00016: val_loss improved from 0.55690 to 0.55310, saving model to resnet_(1).h5\n",
      "1070/1070 [==============================] - 537s 502ms/step - loss: 0.6128 - accuracy: 0.7842 - val_loss: 0.5531 - val_accuracy: 0.8072\n",
      "Epoch 17/30\n",
      "1070/1070 [==============================] - ETA: 0s - loss: 0.6188 - accuracy: 0.7830\n",
      "Epoch 00017: val_loss improved from 0.55310 to 0.54731, saving model to resnet_(1).h5\n",
      "1070/1070 [==============================] - 536s 501ms/step - loss: 0.6188 - accuracy: 0.7830 - val_loss: 0.5473 - val_accuracy: 0.8072\n",
      "Epoch 18/30\n",
      "1070/1070 [==============================] - ETA: 0s - loss: 0.6107 - accuracy: 0.7858\n",
      "Epoch 00018: val_loss did not improve from 0.54731\n",
      "\n",
      "Epoch 00018: ReduceLROnPlateau reducing learning rate to 1.0000000656873453e-06.\n",
      "1070/1070 [==============================] - 528s 493ms/step - loss: 0.6107 - accuracy: 0.7858 - val_loss: 0.5486 - val_accuracy: 0.8081\n",
      "Epoch 19/30\n",
      "1070/1070 [==============================] - ETA: 0s - loss: 0.6054 - accuracy: 0.7882\n",
      "Epoch 00019: val_loss improved from 0.54731 to 0.53822, saving model to resnet_(1).h5\n",
      "1070/1070 [==============================] - 528s 493ms/step - loss: 0.6054 - accuracy: 0.7882 - val_loss: 0.5382 - val_accuracy: 0.8077\n",
      "Epoch 20/30\n",
      "1070/1070 [==============================] - ETA: 0s - loss: 0.5987 - accuracy: 0.7921\n",
      "Epoch 00020: val_loss improved from 0.53822 to 0.53781, saving model to resnet_(1).h5\n",
      "1070/1070 [==============================] - 527s 493ms/step - loss: 0.5987 - accuracy: 0.7921 - val_loss: 0.5378 - val_accuracy: 0.8128\n",
      "Epoch 21/30\n",
      "1070/1070 [==============================] - ETA: 0s - loss: 0.6040 - accuracy: 0.7887\n",
      "Epoch 00021: val_loss did not improve from 0.53781\n",
      "\n",
      "Epoch 00021: ReduceLROnPlateau reducing learning rate to 1.0000001111620805e-07.\n",
      "1070/1070 [==============================] - 529s 495ms/step - loss: 0.6040 - accuracy: 0.7887 - val_loss: 0.5405 - val_accuracy: 0.8107\n",
      "Epoch 22/30\n",
      "1070/1070 [==============================] - ETA: 0s - loss: 0.6034 - accuracy: 0.7870\n",
      "Epoch 00022: val_loss did not improve from 0.53781\n",
      "\n",
      "Epoch 00022: ReduceLROnPlateau reducing learning rate to 1.000000082740371e-08.\n",
      "1070/1070 [==============================] - 533s 498ms/step - loss: 0.6034 - accuracy: 0.7870 - val_loss: 0.5392 - val_accuracy: 0.8116\n",
      "Epoch 23/30\n",
      "1070/1070 [==============================] - ETA: 0s - loss: 0.5985 - accuracy: 0.7923Restoring model weights from the end of the best epoch.\n",
      "\n",
      "Epoch 00023: val_loss did not improve from 0.53781\n",
      "\n",
      "Epoch 00023: ReduceLROnPlateau reducing learning rate to 1.000000082740371e-09.\n",
      "1070/1070 [==============================] - 532s 497ms/step - loss: 0.5985 - accuracy: 0.7923 - val_loss: 0.5391 - val_accuracy: 0.8088\n",
      "Epoch 00023: early stopping\n"
     ]
    }
   ],
   "source": [
    "epoch = 30\n",
    "\n",
    "history = model.fit(\n",
    "    train_generator,\n",
    "    epochs=epoch,\n",
    "    validation_data=validation_generator,\n",
    "    verbose=1,\n",
    "    callbacks=[early_stopping, model_checkpoint, reduce_lr]\n",
    ")"
   ]
  },
  {
   "cell_type": "code",
   "execution_count": 14,
   "metadata": {
    "execution": {
     "iopub.execute_input": "2022-05-08T10:50:58.605371Z",
     "iopub.status.busy": "2022-05-08T10:50:58.605132Z",
     "iopub.status.idle": "2022-05-08T10:50:58.867840Z",
     "shell.execute_reply": "2022-05-08T10:50:58.867108Z",
     "shell.execute_reply.started": "2022-05-08T10:50:58.605336Z"
    }
   },
   "outputs": [
    {
     "name": "stdout",
     "output_type": "stream",
     "text": [
      "train loss: 0.5984734892845154\n",
      "train accuracy: 0.792323887348175\n",
      "dev loss: 0.5391316413879395\n",
      "dev accuracy: 0.8088338375091553\n"
     ]
    },
    {
     "data": {
      "image/png": "[encoded data removed]",
      "text/plain": [
       "<Figure size 1080x360 with 2 Axes>"
      ]
     },
     "metadata": {
      "needs_background": "light"
     },
     "output_type": "display_data"
    }
   ],
   "source": [
    "print('train loss:', history.history['loss'][-1])\n",
    "print('train accuracy:', history.history['accuracy'][-1])\n",
    "\n",
    "print('dev loss:', history.history['val_loss'][-1])\n",
    "print('dev accuracy:', history.history['val_accuracy'][-1])\n",
    "\n",
    "results = pd.DataFrame(history.history)\n",
    "\n",
    "fig, axs = plt.subplots(1,2,figsize=(15,5))\n",
    "\n",
    "axs[0].plot(results[['loss', 'val_loss']])\n",
    "axs[0].set_title('Model Loss')\n",
    "\n",
    "axs[1].plot(results[['accuracy', 'val_accuracy']])\n",
    "axs[1].set_title('Model Accuracy')\n",
    "\n",
    "plt.show()"
   ]
  },
  {
   "cell_type": "code",
   "execution_count": 15,
   "metadata": {
    "execution": {
     "iopub.execute_input": "2022-05-08T10:50:58.870577Z",
     "iopub.status.busy": "2022-05-08T10:50:58.870155Z",
     "iopub.status.idle": "2022-05-08T10:53:30.118263Z",
     "shell.execute_reply": "2022-05-08T10:53:30.117573Z",
     "shell.execute_reply.started": "2022-05-08T10:50:58.870536Z"
    },
    "scrolled": true
   },
   "outputs": [
    {
     "name": "stdout",
     "output_type": "stream",
     "text": [
      "              precision    recall  f1-score   support\n",
      "\n",
      "         CBB       0.47      0.39      0.43       200\n",
      "        CBSD       0.72      0.61      0.66       436\n",
      "         CGM       0.77      0.54      0.63       495\n",
      "         CMD       0.91      0.95      0.93      2638\n",
      "     Healthy       0.55      0.70      0.62       510\n",
      "\n",
      "    accuracy                           0.81      4279\n",
      "   macro avg       0.68      0.64      0.65      4279\n",
      "weighted avg       0.81      0.81      0.81      4279\n",
      "\n"
     ]
    }
   ],
   "source": [
    "pred = model.predict(validation_generator)\n",
    "predictions = np.argmax(pred, axis=1)\n",
    "actual = validation_generator.classes\n",
    "\n",
    "from sklearn.metrics import classification_report\n",
    "\n",
    "report = classification_report(actual, predictions, target_names=['CBB', 'CBSD', 'CGM', 'CMD', 'Healthy'])\n",
    "print(report)"
   ]
  },
  {
   "cell_type": "code",
   "execution_count": 16,
   "metadata": {
    "execution": {
     "iopub.execute_input": "2022-05-08T10:53:30.119702Z",
     "iopub.status.busy": "2022-05-08T10:53:30.119415Z",
     "iopub.status.idle": "2022-05-08T10:53:30.130277Z",
     "shell.execute_reply": "2022-05-08T10:53:30.129353Z",
     "shell.execute_reply.started": "2022-05-08T10:53:30.119662Z"
    }
   },
   "outputs": [],
   "source": [
    "test = pd.read_csv('../input/cassava-leaf-disease-classification/sample_submission.csv')"
   ]
  },
  {
   "cell_type": "code",
   "execution_count": 17,
   "metadata": {
    "execution": {
     "iopub.execute_input": "2022-05-08T10:53:30.132543Z",
     "iopub.status.busy": "2022-05-08T10:53:30.131436Z",
     "iopub.status.idle": "2022-05-08T10:53:30.139242Z",
     "shell.execute_reply": "2022-05-08T10:53:30.138534Z",
     "shell.execute_reply.started": "2022-05-08T10:53:30.132482Z"
    }
   },
   "outputs": [],
   "source": [
    "test_path = '../input/cassava-leaf-disease-classification/test_images'\n",
    "\n",
    "def test_image_path(image):\n",
    "    return os.path.join(test_path,image)\n",
    "\n",
    "test['image_id'] = test['image_id'].apply(test_image_path)\n",
    "\n",
    "test['label'] = test['label'].astype('str')"
   ]
  },
  {
   "cell_type": "code",
   "execution_count": 18,
   "metadata": {
    "execution": {
     "iopub.execute_input": "2022-05-08T10:53:30.141294Z",
     "iopub.status.busy": "2022-05-08T10:53:30.140700Z",
     "iopub.status.idle": "2022-05-08T10:53:30.156795Z",
     "shell.execute_reply": "2022-05-08T10:53:30.156171Z",
     "shell.execute_reply.started": "2022-05-08T10:53:30.141256Z"
    }
   },
   "outputs": [
    {
     "name": "stdout",
     "output_type": "stream",
     "text": [
      "Found 1 validated image filenames belonging to 1 classes.\n"
     ]
    }
   ],
   "source": [
    "test_generator = test_gen.flow_from_dataframe(dataframe=test, directory=None, x_col='image_id', y_col='label',\n",
    "                                              preprocessing_function=applications.resnet50.preprocess_input,\n",
    "                                              class_mode='categorical', target_size=(image_size,image_size))"
   ]
  },
  {
   "cell_type": "code",
   "execution_count": 19,
   "metadata": {
    "execution": {
     "iopub.execute_input": "2022-05-08T10:53:30.158574Z",
     "iopub.status.busy": "2022-05-08T10:53:30.157879Z",
     "iopub.status.idle": "2022-05-08T10:53:30.468147Z",
     "shell.execute_reply": "2022-05-08T10:53:30.467298Z",
     "shell.execute_reply.started": "2022-05-08T10:53:30.158531Z"
    }
   },
   "outputs": [],
   "source": [
    "output = model.predict(test_generator)"
   ]
  },
  {
   "cell_type": "code",
   "execution_count": 20,
   "metadata": {
    "execution": {
     "iopub.execute_input": "2022-05-08T10:53:30.469904Z",
     "iopub.status.busy": "2022-05-08T10:53:30.469680Z",
     "iopub.status.idle": "2022-05-08T10:53:30.480233Z",
     "shell.execute_reply": "2022-05-08T10:53:30.479546Z",
     "shell.execute_reply.started": "2022-05-08T10:53:30.469872Z"
    }
   },
   "outputs": [],
   "source": [
    "submission = pd.DataFrame()\n",
    "submission['image_id'] = list(os.listdir(test_path))\n",
    "submission['label'] = np.argmax(output, axis=1)\n",
    "submission.to_csv(\"submission.csv\", index=False)"
   ]
  },
  {
   "cell_type": "code",
   "execution_count": 21,
   "metadata": {
    "execution": {
     "iopub.execute_input": "2022-05-08T10:53:30.481768Z",
     "iopub.status.busy": "2022-05-08T10:53:30.481491Z",
     "iopub.status.idle": "2022-05-08T10:53:30.492875Z",
     "shell.execute_reply": "2022-05-08T10:53:30.492236Z",
     "shell.execute_reply.started": "2022-05-08T10:53:30.481729Z"
    }
   },
   "outputs": [
    {
     "data": {
      "text/html": [
       "<div>\n",
       "<style scoped>\n",
       "    .dataframe tbody tr th:only-of-type {\n",
       "        vertical-align: middle;\n",
       "    }\n",
       "\n",
       "    .dataframe tbody tr th {\n",
       "        vertical-align: top;\n",
       "    }\n",
       "\n",
       "    .dataframe thead th {\n",
       "        text-align: right;\n",
       "    }\n",
       "</style>\n",
       "<table border=\"1\" class=\"dataframe\">\n",
       "  <thead>\n",
       "    <tr style=\"text-align: right;\">\n",
       "      <th></th>\n",
       "      <th>image_id</th>\n",
       "      <th>label</th>\n",
       "    </tr>\n",
       "  </thead>\n",
       "  <tbody>\n",
       "    <tr>\n",
       "      <th>0</th>\n",
       "      <td>2216849948.jpg</td>\n",
       "      <td>2</td>\n",
       "    </tr>\n",
       "  </tbody>\n",
       "</table>\n",
       "</div>"
      ],
      "text/plain": [
       "         image_id  label\n",
       "0  2216849948.jpg      2"
      ]
     },
     "execution_count": 21,
     "metadata": {},
     "output_type": "execute_result"
    }
   ],
   "source": [
    "submission.head()"
   ]
  },
  {
   "cell_type": "code",
   "execution_count": 22,
   "metadata": {
    "execution": {
     "iopub.execute_input": "2022-05-08T10:53:30.494419Z",
     "iopub.status.busy": "2022-05-08T10:53:30.494054Z",
     "iopub.status.idle": "2022-05-08T10:53:31.519114Z",
     "shell.execute_reply": "2022-05-08T10:53:31.518372Z",
     "shell.execute_reply.started": "2022-05-08T10:53:30.494386Z"
    }
   },
   "outputs": [],
   "source": [
    "model.save('model_final.h5')"
   ]
  },
  {
   "cell_type": "code",
   "execution_count": 23,
   "metadata": {},
   "outputs": [],
   "source": [
    "model.save_weights('model_weights')"
   ]
  },
  {
   "cell_type": "code",
   "execution_count": null,
   "metadata": {},
   "outputs": [],
   "source": []
  }
 ],
 "metadata": {
  "kernelspec": {
   "display_name": "Python 3",
   "language": "python",
   "name": "python3"
  },
  "language_info": {
   "codemirror_mode": {
    "name": "ipython",
    "version": 3
   },
   "file_extension": ".py",
   "mimetype": "text/x-python",
   "name": "python",
   "nbconvert_exporter": "python",
   "pygments_lexer": "ipython3",
   "version": "3.8.8"
  }
 },
 "nbformat": 4,
 "nbformat_minor": 4
}
