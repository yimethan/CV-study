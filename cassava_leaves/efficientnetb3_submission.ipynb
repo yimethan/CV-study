{
 "cells": [
  {
   "cell_type": "code",
   "execution_count": 1,
   "metadata": {
    "_cell_guid": "b1076dfc-b9ad-4769-8c92-a6c4dae69d19",
    "_uuid": "8f2839f25d086af736a60e9eeb907d3b93b6e0e5",
    "execution": {
     "iopub.execute_input": "2022-05-06T18:10:40.159696Z",
     "iopub.status.busy": "2022-05-06T18:10:40.159437Z",
     "iopub.status.idle": "2022-05-06T18:10:40.166397Z",
     "shell.execute_reply": "2022-05-06T18:10:40.165181Z",
     "shell.execute_reply.started": "2022-05-06T18:10:40.159669Z"
    }
   },
   "outputs": [
    {
     "ename": "ModuleNotFoundError",
     "evalue": "No module named 'tensorflow_addons'",
     "output_type": "error",
     "traceback": [
      "\u001b[1;31m---------------------------------------------------------------------------\u001b[0m",
      "\u001b[1;31mModuleNotFoundError\u001b[0m                       Traceback (most recent call last)",
      "\u001b[1;32m<ipython-input-1-46bdecdfa1e8>\u001b[0m in \u001b[0;36m<module>\u001b[1;34m\u001b[0m\n\u001b[0;32m     17\u001b[0m \u001b[1;32mfrom\u001b[0m \u001b[0mtensorflow\u001b[0m\u001b[1;33m.\u001b[0m\u001b[0mkeras\u001b[0m \u001b[1;32mimport\u001b[0m \u001b[0mlayers\u001b[0m\u001b[1;33m\u001b[0m\u001b[1;33m\u001b[0m\u001b[0m\n\u001b[0;32m     18\u001b[0m \u001b[1;32mfrom\u001b[0m \u001b[0mtensorflow\u001b[0m\u001b[1;33m.\u001b[0m\u001b[0mkeras\u001b[0m\u001b[1;33m.\u001b[0m\u001b[0mlayers\u001b[0m\u001b[1;33m.\u001b[0m\u001b[0mexperimental\u001b[0m\u001b[1;33m.\u001b[0m\u001b[0mpreprocessing\u001b[0m \u001b[1;32mimport\u001b[0m \u001b[0mRandomCrop\u001b[0m\u001b[1;33m,\u001b[0m\u001b[0mCenterCrop\u001b[0m\u001b[1;33m,\u001b[0m \u001b[0mRandomRotation\u001b[0m\u001b[1;33m\u001b[0m\u001b[1;33m\u001b[0m\u001b[0m\n\u001b[1;32m---> 19\u001b[1;33m \u001b[1;32mimport\u001b[0m \u001b[0mtensorflow_addons\u001b[0m \u001b[1;32mas\u001b[0m \u001b[0mtfa\u001b[0m\u001b[1;33m\u001b[0m\u001b[1;33m\u001b[0m\u001b[0m\n\u001b[0m\u001b[0;32m     20\u001b[0m \u001b[1;33m\u001b[0m\u001b[0m\n\u001b[0;32m     21\u001b[0m \u001b[1;32mfrom\u001b[0m \u001b[0msklearn\u001b[0m\u001b[1;33m.\u001b[0m\u001b[0mutils\u001b[0m \u001b[1;32mimport\u001b[0m \u001b[0mshuffle\u001b[0m\u001b[1;33m\u001b[0m\u001b[1;33m\u001b[0m\u001b[0m\n",
      "\u001b[1;31mModuleNotFoundError\u001b[0m: No module named 'tensorflow_addons'"
     ]
    }
   ],
   "source": [
    "import tensorflow as tf\n",
    "import keras\n",
    "\n",
    "import numpy as np\n",
    "import pandas as pd\n",
    "import os\n",
    "\n",
    "import numpy as np \n",
    "import pandas as pd \n",
    "from PIL import Image\n",
    "from tqdm import tqdm\n",
    "import random\n",
    "import warnings\n",
    "warnings.filterwarnings('ignore')\n",
    "\n",
    "from tensorflow.keras.preprocessing.image import ImageDataGenerator\n",
    "from tensorflow.keras import layers\n",
    "from tensorflow.keras.layers.experimental.preprocessing import RandomCrop,CenterCrop, RandomRotation\n",
    "import tensorflow_addons as tfa\n",
    "\n",
    "from sklearn.utils import shuffle"
   ]
  },
  {
   "cell_type": "code",
   "execution_count": null,
   "metadata": {
    "execution": {
     "iopub.execute_input": "2022-05-06T18:10:40.171292Z",
     "iopub.status.busy": "2022-05-06T18:10:40.170892Z",
     "iopub.status.idle": "2022-05-06T18:10:40.178296Z",
     "shell.execute_reply": "2022-05-06T18:10:40.177655Z",
     "shell.execute_reply.started": "2022-05-06T18:10:40.171264Z"
    }
   },
   "outputs": [],
   "source": [
    "image_size = 350"
   ]
  },
  {
   "cell_type": "code",
   "execution_count": null,
   "metadata": {
    "execution": {
     "iopub.execute_input": "2022-05-06T18:10:40.183780Z",
     "iopub.status.busy": "2022-05-06T18:10:40.183565Z",
     "iopub.status.idle": "2022-05-06T18:10:47.883539Z",
     "shell.execute_reply": "2022-05-06T18:10:47.882753Z",
     "shell.execute_reply.started": "2022-05-06T18:10:40.183726Z"
    }
   },
   "outputs": [],
   "source": [
    "model = tf.keras.models.load_model('effnet_(2).h5')\n",
    "model.load_weights('effnet_(2).h5')"
   ]
  },
  {
   "cell_type": "code",
   "execution_count": null,
   "metadata": {
    "execution": {
     "iopub.execute_input": "2022-05-06T18:10:47.885994Z",
     "iopub.status.busy": "2022-05-06T18:10:47.885733Z",
     "iopub.status.idle": "2022-05-06T18:10:47.889503Z",
     "shell.execute_reply": "2022-05-06T18:10:47.888729Z",
     "shell.execute_reply.started": "2022-05-06T18:10:47.885960Z"
    }
   },
   "outputs": [],
   "source": [
    "TEST_PATH = '../input/cassava-leaf-disease-classification/test_tfrecords/'"
   ]
  },
  {
   "cell_type": "code",
   "execution_count": null,
   "metadata": {
    "execution": {
     "iopub.execute_input": "2022-05-06T18:10:47.891293Z",
     "iopub.status.busy": "2022-05-06T18:10:47.890869Z",
     "iopub.status.idle": "2022-05-06T18:10:47.899523Z",
     "shell.execute_reply": "2022-05-06T18:10:47.898842Z",
     "shell.execute_reply.started": "2022-05-06T18:10:47.891259Z"
    }
   },
   "outputs": [],
   "source": [
    "AUTO = tf.data.experimental.AUTOTUNE\n",
    "BATCH_SIZE = 32\n",
    "IMAGE_SIZE = [512, 512]"
   ]
  },
  {
   "cell_type": "code",
   "execution_count": null,
   "metadata": {
    "execution": {
     "iopub.execute_input": "2022-05-06T18:10:47.902490Z",
     "iopub.status.busy": "2022-05-06T18:10:47.902174Z",
     "iopub.status.idle": "2022-05-06T18:10:47.911330Z",
     "shell.execute_reply": "2022-05-06T18:10:47.910472Z",
     "shell.execute_reply.started": "2022-05-06T18:10:47.902454Z"
    }
   },
   "outputs": [],
   "source": [
    "def _parse_function(proto):\n",
    "    # feature_description needs to be defined since datasets use graph-execution\n",
    "    # - its used to build their shape and type signature\n",
    "    feature_description = {\n",
    "        'image': tf.io.FixedLenFeature([], tf.string, default_value=''),\n",
    "        'image_name': tf.io.FixedLenFeature([], tf.string, default_value=''),\n",
    "        'target': tf.io.FixedLenFeature([], tf.int64, default_value=-1)\n",
    "    }\n",
    "\n",
    "    parsed_features = tf.io.parse_single_example(proto, feature_description)\n",
    "    image = tf.image.decode_jpeg(parsed_features['image'], channels=3)\n",
    "    image = tf.cast(image, tf.float32) # :: [0.0, 255.0]\n",
    "    image = tf.reshape(image, [*IMAGE_SIZE, 3])\n",
    "    target = tf.one_hot(parsed_features['target'], depth=5)\n",
    "    image_id = parsed_features['image_name']\n",
    "    return image, target, image_id"
   ]
  },
  {
   "cell_type": "code",
   "execution_count": null,
   "metadata": {
    "execution": {
     "iopub.execute_input": "2022-05-06T18:10:47.912979Z",
     "iopub.status.busy": "2022-05-06T18:10:47.912386Z",
     "iopub.status.idle": "2022-05-06T18:10:47.922836Z",
     "shell.execute_reply": "2022-05-06T18:10:47.922158Z",
     "shell.execute_reply.started": "2022-05-06T18:10:47.912945Z"
    }
   },
   "outputs": [],
   "source": [
    "def _preprocess_fn(image, label, image_id):\n",
    "    image = image / 255.0\n",
    "    image = tf.image.resize(image, (image_size, image_size))\n",
    "    label = tf.concat([label, [0]], axis=0)\n",
    "    return image, label, image_id"
   ]
  },
  {
   "cell_type": "code",
   "execution_count": null,
   "metadata": {
    "execution": {
     "iopub.execute_input": "2022-05-06T18:10:47.925849Z",
     "iopub.status.busy": "2022-05-06T18:10:47.925025Z",
     "iopub.status.idle": "2022-05-06T18:10:47.931652Z",
     "shell.execute_reply": "2022-05-06T18:10:47.930903Z",
     "shell.execute_reply.started": "2022-05-06T18:10:47.925815Z"
    }
   },
   "outputs": [],
   "source": [
    "def load_dataset(tfrecords_fnames):\n",
    "    raw_ds = tf.data.TFRecordDataset(tfrecords_fnames, num_parallel_reads=AUTO)\n",
    "    parsed_ds = raw_ds.map(_parse_function, num_parallel_calls=AUTO)\n",
    "    parsed_ds = parsed_ds.map(_preprocess_fn, num_parallel_calls=AUTO)\n",
    "    return parsed_ds"
   ]
  },
  {
   "cell_type": "code",
   "execution_count": null,
   "metadata": {
    "execution": {
     "iopub.execute_input": "2022-05-06T18:10:47.933659Z",
     "iopub.status.busy": "2022-05-06T18:10:47.932929Z",
     "iopub.status.idle": "2022-05-06T18:10:47.940440Z",
     "shell.execute_reply": "2022-05-06T18:10:47.939728Z",
     "shell.execute_reply.started": "2022-05-06T18:10:47.933622Z"
    }
   },
   "outputs": [],
   "source": [
    "def build_valid_ds(valid_fnames):\n",
    "    ds = load_dataset(valid_fnames)\n",
    "    ds = ds.batch(BATCH_SIZE).prefetch(AUTO)\n",
    "    return ds"
   ]
  },
  {
   "cell_type": "code",
   "execution_count": null,
   "metadata": {
    "execution": {
     "iopub.execute_input": "2022-05-06T18:10:47.941976Z",
     "iopub.status.busy": "2022-05-06T18:10:47.941671Z",
     "iopub.status.idle": "2022-05-06T18:10:47.949931Z",
     "shell.execute_reply": "2022-05-06T18:10:47.949229Z",
     "shell.execute_reply.started": "2022-05-06T18:10:47.941944Z"
    }
   },
   "outputs": [],
   "source": [
    "TEST_PATH = '../input/cassava-leaf-disease-classification/test_tfrecords/'\n",
    "valid_fnames = [TEST_PATH + fname for fname in os.listdir(TEST_PATH)]"
   ]
  },
  {
   "cell_type": "code",
   "execution_count": null,
   "metadata": {
    "execution": {
     "iopub.execute_input": "2022-05-06T18:10:47.951634Z",
     "iopub.status.busy": "2022-05-06T18:10:47.950676Z",
     "iopub.status.idle": "2022-05-06T18:10:47.991853Z",
     "shell.execute_reply": "2022-05-06T18:10:47.991182Z",
     "shell.execute_reply.started": "2022-05-06T18:10:47.951603Z"
    }
   },
   "outputs": [],
   "source": [
    "test_ds = build_valid_ds(valid_fnames)"
   ]
  },
  {
   "cell_type": "code",
   "execution_count": null,
   "metadata": {
    "execution": {
     "iopub.execute_input": "2022-05-06T18:10:47.996311Z",
     "iopub.status.busy": "2022-05-06T18:10:47.995800Z",
     "iopub.status.idle": "2022-05-06T18:10:49.819100Z",
     "shell.execute_reply": "2022-05-06T18:10:49.818377Z",
     "shell.execute_reply.started": "2022-05-06T18:10:47.996282Z"
    }
   },
   "outputs": [],
   "source": [
    "preds = model.predict(test_ds)\n",
    "labels = tf.argmax(preds, axis=-1)\n",
    "labels = labels.numpy()"
   ]
  },
  {
   "cell_type": "code",
   "execution_count": null,
   "metadata": {
    "execution": {
     "iopub.execute_input": "2022-05-06T18:10:49.823250Z",
     "iopub.status.busy": "2022-05-06T18:10:49.821988Z",
     "iopub.status.idle": "2022-05-06T18:10:49.866759Z",
     "shell.execute_reply": "2022-05-06T18:10:49.866079Z",
     "shell.execute_reply.started": "2022-05-06T18:10:49.822590Z"
    }
   },
   "outputs": [],
   "source": [
    "names = []\n",
    "for item in test_ds:\n",
    "    names.append(item[2].numpy())\n",
    "names = np.concatenate(names)\n",
    "names = [name.decode() for name in names]"
   ]
  },
  {
   "cell_type": "code",
   "execution_count": null,
   "metadata": {
    "execution": {
     "iopub.execute_input": "2022-05-06T18:10:49.868149Z",
     "iopub.status.busy": "2022-05-06T18:10:49.867921Z",
     "iopub.status.idle": "2022-05-06T18:10:49.875013Z",
     "shell.execute_reply": "2022-05-06T18:10:49.874153Z",
     "shell.execute_reply.started": "2022-05-06T18:10:49.868118Z"
    }
   },
   "outputs": [],
   "source": [
    "submission_df = pd.DataFrame({'image_id':names, 'label':labels})\n",
    "submission_df.to_csv(\"submission.csv\", index=False)"
   ]
  },
  {
   "cell_type": "code",
   "execution_count": null,
   "metadata": {
    "execution": {
     "iopub.execute_input": "2022-05-06T18:10:49.876924Z",
     "iopub.status.busy": "2022-05-06T18:10:49.876659Z",
     "iopub.status.idle": "2022-05-06T18:10:49.888911Z",
     "shell.execute_reply": "2022-05-06T18:10:49.888233Z",
     "shell.execute_reply.started": "2022-05-06T18:10:49.876889Z"
    }
   },
   "outputs": [],
   "source": [
    "submission_df.head()"
   ]
  },
  {
   "cell_type": "code",
   "execution_count": null,
   "metadata": {},
   "outputs": [],
   "source": []
  }
 ],
 "metadata": {
  "kernelspec": {
   "display_name": "Python 3",
   "language": "python",
   "name": "python3"
  },
  "language_info": {
   "codemirror_mode": {
    "name": "ipython",
    "version": 3
   },
   "file_extension": ".py",
   "mimetype": "text/x-python",
   "name": "python",
   "nbconvert_exporter": "python",
   "pygments_lexer": "ipython3",
   "version": "3.8.8"
  }
 },
 "nbformat": 4,
 "nbformat_minor": 4
}
